{
  "cells": [
    {
      "cell_type": "markdown",
      "metadata": {
        "id": "view-in-github",
        "colab_type": "text"
      },
      "source": [
        "<a href=\"https://colab.research.google.com/github/spindouken/atlas-machine_learning/blob/main/reinforcement_learning/deep_q_learning/Deep_Q_Learning.ipynb\" target=\"_parent\"><img src=\"https://colab.research.google.com/assets/colab-badge.svg\" alt=\"Open In Colab\"/></a>"
      ]
    },
    {
      "cell_type": "markdown",
      "source": [
        "This project was finalized 1/10/2024.<br>\n",
        "Author: Mason Counts\n",
        "\n",
        "Resources:<br>\n",
        "https://www.cs.toronto.edu/~vmnih/docs/dqn.pdf<br>\n",
        "https://gymnasium.farama.org/environments/atari/breakout/#breakout<br>\n",
        "https://gymnasium.farama.org/api/wrappers/<br>\n",
        "https://gymnasium.farama.org/api/env/<br>"
      ],
      "metadata": {
        "id": "dw-6_0ApRSKp"
      }
    },
    {
      "cell_type": "markdown",
      "source": [
        "# **DEEP Q-LEARNING WITH A DEEP Q-NETWORK (DQN)**"
      ],
      "metadata": {
        "id": "bJqpxySsQi7t"
      }
    },
    {
      "cell_type": "markdown",
      "source": [
        "#### environment set-up"
      ],
      "metadata": {
        "id": "zOG6wSyN11Gs"
      }
    },
    {
      "cell_type": "code",
      "execution_count": null,
      "metadata": {
        "id": "uc2hxNXRny0K"
      },
      "outputs": [],
      "source": [
        "import os\n",
        "import tensorflow as tf\n",
        "if tf.__version__!='2.11.0':\n",
        "  !pip install tensorflow==2.11.0 --quiet\n",
        "  os.kill(os.getpid(), 9)"
      ]
    },
    {
      "cell_type": "code",
      "execution_count": null,
      "metadata": {
        "colab": {
          "base_uri": "https://localhost:8080/"
        },
        "id": "ZnHvObXoSK3f",
        "outputId": "be290d93-099e-48e1-9c40-216f2d17b92d"
      },
      "outputs": [
        {
          "output_type": "stream",
          "name": "stdout",
          "text": [
            "Requirement already satisfied: gym[atari] in /usr/local/lib/python3.10/dist-packages (0.25.2)\n",
            "Requirement already satisfied: numpy>=1.18.0 in /usr/local/lib/python3.10/dist-packages (from gym[atari]) (1.23.5)\n",
            "Requirement already satisfied: cloudpickle>=1.2.0 in /usr/local/lib/python3.10/dist-packages (from gym[atari]) (2.2.1)\n",
            "Requirement already satisfied: gym-notices>=0.0.4 in /usr/local/lib/python3.10/dist-packages (from gym[atari]) (0.0.8)\n",
            "Requirement already satisfied: ale-py~=0.7.5 in /usr/local/lib/python3.10/dist-packages (from gym[atari]) (0.7.5)\n",
            "Requirement already satisfied: importlib-resources in /usr/local/lib/python3.10/dist-packages (from ale-py~=0.7.5->gym[atari]) (6.1.1)\n"
          ]
        }
      ],
      "source": [
        "# gym[atari] now has ale-py integrated\n",
        "!pip install gym[atari]"
      ]
    },
    {
      "cell_type": "code",
      "execution_count": null,
      "metadata": {
        "colab": {
          "base_uri": "https://localhost:8080/"
        },
        "id": "74x2HjKfl_y-",
        "outputId": "2874e855-5c83-4f2e-de96-dca6033bf027"
      },
      "outputs": [
        {
          "output_type": "stream",
          "name": "stdout",
          "text": [
            "Requirement already satisfied: gym[accept-rom-license] in /usr/local/lib/python3.10/dist-packages (0.25.2)\n",
            "Requirement already satisfied: numpy>=1.18.0 in /usr/local/lib/python3.10/dist-packages (from gym[accept-rom-license]) (1.23.5)\n",
            "Requirement already satisfied: cloudpickle>=1.2.0 in /usr/local/lib/python3.10/dist-packages (from gym[accept-rom-license]) (2.2.1)\n",
            "Requirement already satisfied: gym-notices>=0.0.4 in /usr/local/lib/python3.10/dist-packages (from gym[accept-rom-license]) (0.0.8)\n",
            "Requirement already satisfied: autorom[accept-rom-license]~=0.4.2 in /usr/local/lib/python3.10/dist-packages (from gym[accept-rom-license]) (0.4.2)\n",
            "Requirement already satisfied: click in /usr/local/lib/python3.10/dist-packages (from autorom[accept-rom-license]~=0.4.2->gym[accept-rom-license]) (8.1.7)\n",
            "Requirement already satisfied: requests in /usr/local/lib/python3.10/dist-packages (from autorom[accept-rom-license]~=0.4.2->gym[accept-rom-license]) (2.31.0)\n",
            "Requirement already satisfied: tqdm in /usr/local/lib/python3.10/dist-packages (from autorom[accept-rom-license]~=0.4.2->gym[accept-rom-license]) (4.66.1)\n",
            "Requirement already satisfied: AutoROM.accept-rom-license in /usr/local/lib/python3.10/dist-packages (from autorom[accept-rom-license]~=0.4.2->gym[accept-rom-license]) (0.6.1)\n",
            "Requirement already satisfied: charset-normalizer<4,>=2 in /usr/local/lib/python3.10/dist-packages (from requests->autorom[accept-rom-license]~=0.4.2->gym[accept-rom-license]) (3.3.2)\n",
            "Requirement already satisfied: idna<4,>=2.5 in /usr/local/lib/python3.10/dist-packages (from requests->autorom[accept-rom-license]~=0.4.2->gym[accept-rom-license]) (3.6)\n",
            "Requirement already satisfied: urllib3<3,>=1.21.1 in /usr/local/lib/python3.10/dist-packages (from requests->autorom[accept-rom-license]~=0.4.2->gym[accept-rom-license]) (2.0.7)\n",
            "Requirement already satisfied: certifi>=2017.4.17 in /usr/local/lib/python3.10/dist-packages (from requests->autorom[accept-rom-license]~=0.4.2->gym[accept-rom-license]) (2023.11.17)\n"
          ]
        }
      ],
      "source": [
        "pip install gym[accept-rom-license]"
      ]
    },
    {
      "cell_type": "code",
      "execution_count": null,
      "metadata": {
        "colab": {
          "base_uri": "https://localhost:8080/"
        },
        "id": "1Kp0m6NFnnMj",
        "outputId": "299f376a-88aa-4228-ab24-27550ada4604"
      },
      "outputs": [
        {
          "output_type": "stream",
          "name": "stdout",
          "text": [
            "\u001b[?25l     \u001b[90m━━━━━━━━━━━━━━━━━━━━━━━━━━━━━━━━━━━━━━━━\u001b[0m \u001b[32m0.0/52.1 kB\u001b[0m \u001b[31m?\u001b[0m eta \u001b[36m-:--:--\u001b[0m\r\u001b[2K     \u001b[91m━━━━━━━━━━━━━━━━━━━━━━━━━━━━━━━\u001b[0m\u001b[90m╺\u001b[0m\u001b[90m━━━━━━━━\u001b[0m \u001b[32m41.0/52.1 kB\u001b[0m \u001b[31m989.8 kB/s\u001b[0m eta \u001b[36m0:00:01\u001b[0m\r\u001b[2K     \u001b[90m━━━━━━━━━━━━━━━━━━━━━━━━━━━━━━━━━━━━━━━━\u001b[0m \u001b[32m52.1/52.1 kB\u001b[0m \u001b[31m879.0 kB/s\u001b[0m eta \u001b[36m0:00:00\u001b[0m\n",
            "\u001b[?25h"
          ]
        }
      ],
      "source": [
        "pip install keras-rl2 --quiet"
      ]
    },
    {
      "cell_type": "code",
      "execution_count": null,
      "metadata": {
        "colab": {
          "base_uri": "https://localhost:8080/"
        },
        "id": "W3i-VzcRnHOP",
        "outputId": "a7032fb9-5612-4026-f7e3-dcbe29976f26"
      },
      "outputs": [
        {
          "output_type": "stream",
          "name": "stdout",
          "text": [
            "Mounted at /content/drive\n"
          ]
        }
      ],
      "source": [
        "from google.colab import drive\n",
        "drive.mount('/content/drive')"
      ]
    },
    {
      "cell_type": "markdown",
      "source": [
        "#### ***make gym env***"
      ],
      "metadata": {
        "id": "3bU9-3eK16B0"
      }
    },
    {
      "cell_type": "code",
      "execution_count": null,
      "metadata": {
        "colab": {
          "base_uri": "https://localhost:8080/"
        },
        "id": "8IY3D45tTIx-",
        "outputId": "0590c3bb-c6d2-448d-98eb-be9ea2728ba8"
      },
      "outputs": [
        {
          "output_type": "stream",
          "name": "stderr",
          "text": [
            "/usr/local/lib/python3.10/dist-packages/gym/core.py:317: DeprecationWarning: \u001b[33mWARN: Initializing wrapper in old step API which returns one bool instead of two. It is recommended to set `new_step_api=True` to use new step API. This will be the default behaviour in future.\u001b[0m\n",
            "  deprecation(\n",
            "/usr/local/lib/python3.10/dist-packages/gym/wrappers/step_api_compatibility.py:39: DeprecationWarning: \u001b[33mWARN: Initializing environment in old step API which returns one bool instead of two. It is recommended to set `new_step_api=True` to use new step API. This will be the default behaviour in future.\u001b[0m\n",
            "  deprecation(\n"
          ]
        }
      ],
      "source": [
        "# this is the format suggested by ALE dev blog post\n",
        "import gym\n",
        "\n",
        "env = gym.make('ALE/Breakout-v5',\n",
        "    obs_type='rgb',                   # ram | rgb | grayscale\n",
        "    frameskip=4,                      # frame skip\n",
        "    mode=None,                        # game mode, see Machado et al. 2018\n",
        "    difficulty=None,                  # game difficulty, see Machado et al. 2018\n",
        "    repeat_action_probability=0.25,   # Sticky action probability\n",
        "    full_action_space=False,          # Use all actions\n",
        "    render_mode='rgb_array',          # None | human | rgb_array\n",
        ")\n",
        "\n",
        "# \"The one keyword argument of note is render_mode.\n",
        "#   To realize the benefits of natively rendering with SDL we must supply the render mode when constructing the environment.\n",
        "#    We highly discourage using env.render().\""
      ]
    },
    {
      "cell_type": "markdown",
      "source": [
        "#### we do a little environment analysis.. is gud"
      ],
      "metadata": {
        "id": "EbN-81kC1_4q"
      }
    },
    {
      "cell_type": "code",
      "source": [
        "env.unwrapped.get_action_meanings()"
      ],
      "metadata": {
        "colab": {
          "base_uri": "https://localhost:8080/"
        },
        "id": "cBN1dV_7HbS8",
        "outputId": "bae837e4-d7af-4f40-8812-80a6b66adf93"
      },
      "execution_count": null,
      "outputs": [
        {
          "output_type": "execute_result",
          "data": {
            "text/plain": [
              "['NOOP', 'FIRE', 'RIGHT', 'LEFT']"
            ]
          },
          "metadata": {},
          "execution_count": 5
        }
      ]
    },
    {
      "cell_type": "code",
      "execution_count": null,
      "metadata": {
        "colab": {
          "base_uri": "https://localhost:8080/"
        },
        "id": "QBRQA7vavL_z",
        "outputId": "12077db3-526f-4591-e5f1-156d0c84281e"
      },
      "outputs": [
        {
          "output_type": "stream",
          "name": "stdout",
          "text": [
            "Initial Observation Type: <class 'numpy.ndarray'>\n",
            "Initial Observation Shape: (210, 160, 3)\n"
          ]
        }
      ],
      "source": [
        "# Test the environment to see the observation\n",
        "initial_observation = env.reset()\n",
        "\n",
        "print(f\"Initial Observation Type: {type(initial_observation)}\")\n",
        "print(f\"Initial Observation Shape: {initial_observation.shape if hasattr(initial_observation, 'shape') else 'No shape attribute'}\")\n"
      ]
    },
    {
      "cell_type": "code",
      "execution_count": null,
      "metadata": {
        "colab": {
          "base_uri": "https://localhost:8080/"
        },
        "id": "ZvF9FvHSvSTy",
        "outputId": "fb6b9c7c-2760-4514-a814-adce9af8da13"
      },
      "outputs": [
        {
          "output_type": "stream",
          "name": "stdout",
          "text": [
            "Contents of the initial observation tuple: [[[0 0 0]\n",
            "  [0 0 0]\n",
            "  [0 0 0]\n",
            "  ...\n",
            "  [0 0 0]\n",
            "  [0 0 0]\n",
            "  [0 0 0]]\n",
            "\n",
            " [[0 0 0]\n",
            "  [0 0 0]\n",
            "  [0 0 0]\n",
            "  ...\n",
            "  [0 0 0]\n",
            "  [0 0 0]\n",
            "  [0 0 0]]\n",
            "\n",
            " [[0 0 0]\n",
            "  [0 0 0]\n",
            "  [0 0 0]\n",
            "  ...\n",
            "  [0 0 0]\n",
            "  [0 0 0]\n",
            "  [0 0 0]]\n",
            "\n",
            " ...\n",
            "\n",
            " [[0 0 0]\n",
            "  [0 0 0]\n",
            "  [0 0 0]\n",
            "  ...\n",
            "  [0 0 0]\n",
            "  [0 0 0]\n",
            "  [0 0 0]]\n",
            "\n",
            " [[0 0 0]\n",
            "  [0 0 0]\n",
            "  [0 0 0]\n",
            "  ...\n",
            "  [0 0 0]\n",
            "  [0 0 0]\n",
            "  [0 0 0]]\n",
            "\n",
            " [[0 0 0]\n",
            "  [0 0 0]\n",
            "  [0 0 0]\n",
            "  ...\n",
            "  [0 0 0]\n",
            "  [0 0 0]\n",
            "  [0 0 0]]]\n"
          ]
        }
      ],
      "source": [
        "print(f\"Contents of the initial observation tuple: {initial_observation}\")"
      ]
    },
    {
      "cell_type": "code",
      "source": [
        "# Print action space details\n",
        "print(f\"Action Space: {env.action_space}\")\n",
        "print(f\"Sample Action: {env.action_space.sample()}\")"
      ],
      "metadata": {
        "colab": {
          "base_uri": "https://localhost:8080/"
        },
        "id": "A0Mnk8gAe1WQ",
        "outputId": "ea63b8fa-71c9-45a5-8cbc-e432f39ebd4a"
      },
      "execution_count": null,
      "outputs": [
        {
          "output_type": "stream",
          "name": "stdout",
          "text": [
            "Action Space: Discrete(4)\n",
            "Sample Action: 1\n"
          ]
        }
      ]
    },
    {
      "cell_type": "code",
      "source": [
        "# Print observation space details\n",
        "print(f\"Observation Space: {env.observation_space}\")\n",
        "print(f\"Sample Observation: {env.observation_space.sample()}\")"
      ],
      "metadata": {
        "colab": {
          "base_uri": "https://localhost:8080/"
        },
        "id": "x9L7k0kke7nF",
        "outputId": "9f276b99-66d2-4278-cf08-3242d495486d"
      },
      "execution_count": null,
      "outputs": [
        {
          "output_type": "stream",
          "name": "stdout",
          "text": [
            "Observation Space: Box(0, 255, (210, 160, 3), uint8)\n",
            "Sample Observation: [[[221  46 189]\n",
            "  [130 197  36]\n",
            "  [ 73  55 175]\n",
            "  ...\n",
            "  [ 88 205 169]\n",
            "  [157 105 217]\n",
            "  [ 44  70 204]]\n",
            "\n",
            " [[ 46 243 231]\n",
            "  [252  61 199]\n",
            "  [ 35 235  54]\n",
            "  ...\n",
            "  [ 91  88 251]\n",
            "  [ 97 220 178]\n",
            "  [ 11  69 142]]\n",
            "\n",
            " [[202  46 200]\n",
            "  [ 70  93  78]\n",
            "  [228   0  35]\n",
            "  ...\n",
            "  [116 188 183]\n",
            "  [ 29 124 115]\n",
            "  [112 239 121]]\n",
            "\n",
            " ...\n",
            "\n",
            " [[138 133 247]\n",
            "  [ 97 187 180]\n",
            "  [179 218  51]\n",
            "  ...\n",
            "  [186 247 156]\n",
            "  [123  81  15]\n",
            "  [ 72  56 112]]\n",
            "\n",
            " [[206 217 238]\n",
            "  [138 171 153]\n",
            "  [240  60  84]\n",
            "  ...\n",
            "  [ 24 191   6]\n",
            "  [186 254 210]\n",
            "  [ 57  87  87]]\n",
            "\n",
            " [[114 249 104]\n",
            "  [236  32 130]\n",
            "  [166  11  22]\n",
            "  ...\n",
            "  [ 57  97  75]\n",
            "  [190 219   9]\n",
            "  [  9 245  47]]]\n"
          ]
        }
      ]
    },
    {
      "cell_type": "code",
      "source": [
        "# Perform a sample action to see the next state, reward, done, info, and possibly truncated\n",
        "action = env.action_space.sample()\n",
        "result = env.step(action)\n",
        "\n",
        "# Check the length of the result to handle both old and new step API formats\n",
        "if len(result) == 4:\n",
        "    next_state, reward, done, info = result\n",
        "    truncated = None  # Old API does not return 'truncated'\n",
        "else:\n",
        "    next_state, reward, done, truncated, info = result\n",
        "\n",
        "# Print details of the step\n",
        "print(f\"Next State Type: {type(next_state)}\")\n",
        "print(f\"Next State Shape: {next_state.shape if hasattr(next_state, 'shape') else 'No shape attribute'}\")\n",
        "print(f\"Reward: {reward}\")\n",
        "print(f\"Done: {done}\")\n",
        "print(f\"Truncated: {truncated}\")\n",
        "print(f\"Info: {info}\")"
      ],
      "metadata": {
        "colab": {
          "base_uri": "https://localhost:8080/"
        },
        "id": "zEJwysOje-GK",
        "outputId": "75c6dfda-f3b4-4ac0-8dc6-87d6d28250bb"
      },
      "execution_count": null,
      "outputs": [
        {
          "output_type": "stream",
          "name": "stdout",
          "text": [
            "Next State Type: <class 'numpy.ndarray'>\n",
            "Next State Shape: (210, 160, 3)\n",
            "Reward: 0.0\n",
            "Done: False\n",
            "Truncated: None\n",
            "Info: {'lives': 5, 'episode_frame_number': 4, 'frame_number': 4, 'rgb': array([[[0, 0, 0],\n",
            "        [0, 0, 0],\n",
            "        [0, 0, 0],\n",
            "        ...,\n",
            "        [0, 0, 0],\n",
            "        [0, 0, 0],\n",
            "        [0, 0, 0]],\n",
            "\n",
            "       [[0, 0, 0],\n",
            "        [0, 0, 0],\n",
            "        [0, 0, 0],\n",
            "        ...,\n",
            "        [0, 0, 0],\n",
            "        [0, 0, 0],\n",
            "        [0, 0, 0]],\n",
            "\n",
            "       [[0, 0, 0],\n",
            "        [0, 0, 0],\n",
            "        [0, 0, 0],\n",
            "        ...,\n",
            "        [0, 0, 0],\n",
            "        [0, 0, 0],\n",
            "        [0, 0, 0]],\n",
            "\n",
            "       ...,\n",
            "\n",
            "       [[0, 0, 0],\n",
            "        [0, 0, 0],\n",
            "        [0, 0, 0],\n",
            "        ...,\n",
            "        [0, 0, 0],\n",
            "        [0, 0, 0],\n",
            "        [0, 0, 0]],\n",
            "\n",
            "       [[0, 0, 0],\n",
            "        [0, 0, 0],\n",
            "        [0, 0, 0],\n",
            "        ...,\n",
            "        [0, 0, 0],\n",
            "        [0, 0, 0],\n",
            "        [0, 0, 0]],\n",
            "\n",
            "       [[0, 0, 0],\n",
            "        [0, 0, 0],\n",
            "        [0, 0, 0],\n",
            "        ...,\n",
            "        [0, 0, 0],\n",
            "        [0, 0, 0],\n",
            "        [0, 0, 0]]], dtype=uint8)}\n"
          ]
        },
        {
          "output_type": "stream",
          "name": "stderr",
          "text": [
            "/usr/local/lib/python3.10/dist-packages/gym/utils/passive_env_checker.py:227: DeprecationWarning: \u001b[33mWARN: Core environment is written in old step API which returns one bool instead of two. It is recommended to rewrite the environment with new step API. \u001b[0m\n",
            "  logger.deprecation(\n"
          ]
        }
      ]
    },
    {
      "cell_type": "markdown",
      "source": [
        "#### **Imports and hyperparameters**"
      ],
      "metadata": {
        "id": "qbxicK9I2Iwk"
      }
    },
    {
      "cell_type": "code",
      "execution_count": null,
      "metadata": {
        "id": "R57nmok8we6B"
      },
      "outputs": [],
      "source": [
        "import gym\n",
        "import ale_py\n",
        "import tensorflow as tf\n",
        "from tensorflow.keras.models import Sequential\n",
        "from tensorflow.keras.layers import Dense, Flatten, Convolution2D, Activation, Permute\n",
        "from tensorflow.keras.optimizers.legacy import Adam\n",
        "from rl.agents.dqn import DQNAgent\n",
        "from rl.policy import LinearAnnealedPolicy, EpsGreedyQPolicy\n",
        "from rl.memory import SequentialMemory\n",
        "from rl.callbacks import ModelIntervalCheckpoint, FileLogger\n",
        "from PIL import Image\n",
        "import numpy as np\n",
        "from rl.core import Processor\n",
        "import matplotlib as plt"
      ]
    },
    {
      "cell_type": "code",
      "execution_count": null,
      "metadata": {
        "colab": {
          "base_uri": "https://localhost:8080/"
        },
        "id": "dsksnWbHXzjD",
        "outputId": "a14bdd23-e5e3-4a1c-e2a3-fba97715f670"
      },
      "outputs": [
        {
          "output_type": "execute_result",
          "data": {
            "text/plain": [
              "(693650678, 2973253328)"
            ]
          },
          "metadata": {},
          "execution_count": 8
        }
      ],
      "source": [
        "np.random.seed(123)\n",
        "env.seed(123)"
      ]
    },
    {
      "cell_type": "code",
      "execution_count": null,
      "metadata": {
        "id": "8GHJRwYqwqfO"
      },
      "outputs": [],
      "source": [
        "# Hyperparameters\n",
        "DQN_CONFIG = {\n",
        "    'learning_rate': 1e-4,\n",
        "    'training_steps': 60000,  # total number of steps to train for (including warmup)\n",
        "    'input_shape': (84, 84),\n",
        "    'memory_limit': 1000000,\n",
        "    'window_length': 4,\n",
        "    'nb_steps_warmup': 40000,  # number of steps to take before training begins\n",
        "    'target_model_update': 20000,\n",
        "    'enable_dueling_network': False,\n",
        "    'dueling_type': None,\n",
        "    # epsilon greedy action selection parameters below (policy)\n",
        "    'eps_max': 1.0,\n",
        "    'eps_min': 0.1,\n",
        "    'eps_test': 0.05,\n",
        "    'eps_nb_steps': 40000\n",
        "}"
      ]
    },
    {
      "cell_type": "markdown",
      "source": [
        "#### **the code that does the preprocessing, indicates the policy, implements the DQN agent, and does the learnin and stuff**"
      ],
      "metadata": {
        "id": "7BhQRGjK2TmF"
      }
    },
    {
      "cell_type": "code",
      "execution_count": null,
      "metadata": {
        "id": "5SVQISxj0nj8"
      },
      "outputs": [],
      "source": [
        "class AtariProcessor(Processor):\n",
        "    def process_observation(self, observation):\n",
        "        assert observation.ndim == 3  # (height, width, channel)\n",
        "        img = Image.fromarray(observation)\n",
        "        img = img.resize(DQN_CONFIG['input_shape']).convert('L')  # resize and convert to grayscale\n",
        "        processed_observation = np.array(img)\n",
        "        assert processed_observation.shape == DQN_CONFIG['input_shape']\n",
        "        return processed_observation.astype('uint8')  # saves storage in experience memory\n",
        "\n",
        "    def process_state_batch(self, batch):\n",
        "        processed_batch = batch.astype('float32') / 255.\n",
        "        return processed_batch\n",
        "\n",
        "    def process_reward(self, reward):\n",
        "        return np.clip(reward, -1., 1.)\n",
        "\n",
        "    def process_info(self, info):\n",
        "        \"\"\"\n",
        "        filter out non-scalar values from the info dictionary\n",
        "        \"\"\"\n",
        "        scalar_info = {k: v for k, v in info.items() if np.isscalar(v)}\n",
        "        return scalar_info"
      ]
    },
    {
      "cell_type": "code",
      "execution_count": null,
      "metadata": {
        "colab": {
          "base_uri": "https://localhost:8080/"
        },
        "id": "2vX5coDmUPjH",
        "outputId": "8b4e74ab-51c1-4510-e23f-da78e0c6f1ba"
      },
      "outputs": [
        {
          "output_type": "stream",
          "name": "stdout",
          "text": [
            "Model: \"sequential_1\"\n",
            "_________________________________________________________________\n",
            " Layer (type)                Output Shape              Param #   \n",
            "=================================================================\n",
            " permute_1 (Permute)         (None, 84, 84, 4)         0         \n",
            "                                                                 \n",
            " conv2d_3 (Conv2D)           (None, 20, 20, 32)        8224      \n",
            "                                                                 \n",
            " activation_5 (Activation)   (None, 20, 20, 32)        0         \n",
            "                                                                 \n",
            " conv2d_4 (Conv2D)           (None, 9, 9, 64)          32832     \n",
            "                                                                 \n",
            " activation_6 (Activation)   (None, 9, 9, 64)          0         \n",
            "                                                                 \n",
            " conv2d_5 (Conv2D)           (None, 7, 7, 64)          36928     \n",
            "                                                                 \n",
            " activation_7 (Activation)   (None, 7, 7, 64)          0         \n",
            "                                                                 \n",
            " flatten_1 (Flatten)         (None, 3136)              0         \n",
            "                                                                 \n",
            " dense_3 (Dense)             (None, 512)               1606144   \n",
            "                                                                 \n",
            " activation_8 (Activation)   (None, 512)               0         \n",
            "                                                                 \n",
            " dense_4 (Dense)             (None, 4)                 2052      \n",
            "                                                                 \n",
            " activation_9 (Activation)   (None, 4)                 0         \n",
            "                                                                 \n",
            "=================================================================\n",
            "Total params: 1,686,180\n",
            "Trainable params: 1,686,180\n",
            "Non-trainable params: 0\n",
            "_________________________________________________________________\n",
            "None\n"
          ]
        }
      ],
      "source": [
        "nb_actions = env.action_space.n\n",
        "\n",
        "# this is the same model that was described by Mnih et al. (2015) in\n",
        "#   in Playing Atari with Deep Reinforcement Learning\n",
        "#   http://www.cs.toronto.edu/~vmnih/docs/dqn.pdf\n",
        "input_shape = (DQN_CONFIG['window_length'],) + DQN_CONFIG['input_shape']\n",
        "\n",
        "model = Sequential()\n",
        "# (width, height, channels)\n",
        "model.add(Permute((2, 3, 1), input_shape=input_shape))\n",
        "\n",
        "model.add(Convolution2D(32, (8, 8), strides=(4, 4)))\n",
        "model.add(Activation('relu'))\n",
        "model.add(Convolution2D(64, (4, 4), strides=(2, 2)))\n",
        "model.add(Activation('relu'))\n",
        "model.add(Convolution2D(64, (3, 3), strides=(1, 1)))\n",
        "model.add(Activation('relu'))\n",
        "model.add(Flatten())\n",
        "model.add(Dense(512))\n",
        "model.add(Activation('relu'))\n",
        "model.add(Dense(nb_actions))\n",
        "model.add(Activation('linear'))\n",
        "print(model.summary())\n"
      ]
    },
    {
      "cell_type": "code",
      "execution_count": null,
      "metadata": {
        "id": "TJ6CfTRYwcoU"
      },
      "outputs": [],
      "source": [
        "# configure and compile the DQN agent with the model, sequential memory,\n",
        "#  a linear annealed greedy eps greedy q policy with decay, and Adam learning rate.\n",
        "\n",
        "memory = SequentialMemory(limit=DQN_CONFIG['memory_limit'], window_length=DQN_CONFIG['window_length'])\n",
        "\n",
        "policy = LinearAnnealedPolicy(EpsGreedyQPolicy(), attr='eps', value_max=DQN_CONFIG['eps_max'],\n",
        "                              value_min=DQN_CONFIG['eps_min'], value_test=DQN_CONFIG['eps_test'],\n",
        "                              nb_steps=DQN_CONFIG['eps_nb_steps'])\n",
        "\n",
        "dqn = DQNAgent(model=model, nb_actions=env.action_space.n, memory=memory, nb_steps_warmup=DQN_CONFIG['nb_steps_warmup'],\n",
        "               enable_dueling_network=DQN_CONFIG['enable_dueling_network'], dueling_type=DQN_CONFIG['dueling_type'],\n",
        "               target_model_update=DQN_CONFIG['target_model_update'], policy=policy,\n",
        "               processor=AtariProcessor())\n",
        "\n",
        "dqn.compile(Adam(learning_rate=DQN_CONFIG['learning_rate']), metrics=['mae'])\n"
      ]
    },
    {
      "cell_type": "code",
      "execution_count": null,
      "metadata": {
        "id": "lPmZFNLHwkyF",
        "colab": {
          "base_uri": "https://localhost:8080/"
        },
        "outputId": "7d2322cb-32bb-4fc1-e248-bce415c1fb6d"
      },
      "outputs": [
        {
          "output_type": "stream",
          "name": "stdout",
          "text": [
            "Processed Observation Shape: (84, 84)\n",
            "Next Observation: [[[0 0 0]\n",
            "  [0 0 0]\n",
            "  [0 0 0]\n",
            "  ...\n",
            "  [0 0 0]\n",
            "  [0 0 0]\n",
            "  [0 0 0]]\n",
            "\n",
            " [[0 0 0]\n",
            "  [0 0 0]\n",
            "  [0 0 0]\n",
            "  ...\n",
            "  [0 0 0]\n",
            "  [0 0 0]\n",
            "  [0 0 0]]\n",
            "\n",
            " [[0 0 0]\n",
            "  [0 0 0]\n",
            "  [0 0 0]\n",
            "  ...\n",
            "  [0 0 0]\n",
            "  [0 0 0]\n",
            "  [0 0 0]]\n",
            "\n",
            " ...\n",
            "\n",
            " [[0 0 0]\n",
            "  [0 0 0]\n",
            "  [0 0 0]\n",
            "  ...\n",
            "  [0 0 0]\n",
            "  [0 0 0]\n",
            "  [0 0 0]]\n",
            "\n",
            " [[0 0 0]\n",
            "  [0 0 0]\n",
            "  [0 0 0]\n",
            "  ...\n",
            "  [0 0 0]\n",
            "  [0 0 0]\n",
            "  [0 0 0]]\n",
            "\n",
            " [[0 0 0]\n",
            "  [0 0 0]\n",
            "  [0 0 0]\n",
            "  ...\n",
            "  [0 0 0]\n",
            "  [0 0 0]\n",
            "  [0 0 0]]], Reward: 0.0, Done: False, Info: {'lives': 5, 'episode_frame_number': 4, 'frame_number': 4, 'rgb': array([[[0, 0, 0],\n",
            "        [0, 0, 0],\n",
            "        [0, 0, 0],\n",
            "        ...,\n",
            "        [0, 0, 0],\n",
            "        [0, 0, 0],\n",
            "        [0, 0, 0]],\n",
            "\n",
            "       [[0, 0, 0],\n",
            "        [0, 0, 0],\n",
            "        [0, 0, 0],\n",
            "        ...,\n",
            "        [0, 0, 0],\n",
            "        [0, 0, 0],\n",
            "        [0, 0, 0]],\n",
            "\n",
            "       [[0, 0, 0],\n",
            "        [0, 0, 0],\n",
            "        [0, 0, 0],\n",
            "        ...,\n",
            "        [0, 0, 0],\n",
            "        [0, 0, 0],\n",
            "        [0, 0, 0]],\n",
            "\n",
            "       ...,\n",
            "\n",
            "       [[0, 0, 0],\n",
            "        [0, 0, 0],\n",
            "        [0, 0, 0],\n",
            "        ...,\n",
            "        [0, 0, 0],\n",
            "        [0, 0, 0],\n",
            "        [0, 0, 0]],\n",
            "\n",
            "       [[0, 0, 0],\n",
            "        [0, 0, 0],\n",
            "        [0, 0, 0],\n",
            "        ...,\n",
            "        [0, 0, 0],\n",
            "        [0, 0, 0],\n",
            "        [0, 0, 0]],\n",
            "\n",
            "       [[0, 0, 0],\n",
            "        [0, 0, 0],\n",
            "        [0, 0, 0],\n",
            "        ...,\n",
            "        [0, 0, 0],\n",
            "        [0, 0, 0],\n",
            "        [0, 0, 0]]], dtype=uint8)}\n"
          ]
        },
        {
          "output_type": "stream",
          "name": "stderr",
          "text": [
            "/usr/local/lib/python3.10/dist-packages/gym/utils/passive_env_checker.py:227: DeprecationWarning: \u001b[33mWARN: Core environment is written in old step API which returns one bool instead of two. It is recommended to rewrite the environment with new step API. \u001b[0m\n",
            "  logger.deprecation(\n"
          ]
        }
      ],
      "source": [
        "# check new obervation space\n",
        "observation = env.reset()\n",
        "processed_observation = dqn.processor.process_observation(observation)\n",
        "print(f\"Processed Observation Shape: {processed_observation.shape}\")\n",
        "\n",
        "# run a single step to test\n",
        "action = env.action_space.sample()\n",
        "observation, reward, done, info = env.step(action)\n",
        "print(f\"Next Observation: {observation}, Reward: {reward}, Done: {done}, Info: {info}\")\n"
      ]
    },
    {
      "cell_type": "code",
      "execution_count": null,
      "metadata": {
        "colab": {
          "base_uri": "https://localhost:8080/"
        },
        "id": "BbRl8OX0zYAp",
        "outputId": "f15c6cdc-a8f1-488b-ca75-511ab702144c"
      },
      "outputs": [
        {
          "output_type": "stream",
          "name": "stdout",
          "text": [
            "Training for 60000 steps ...\n"
          ]
        },
        {
          "output_type": "stream",
          "name": "stderr",
          "text": [
            "/usr/local/lib/python3.10/dist-packages/keras/engine/training_v1.py:2357: UserWarning: `Model.state_updates` will be removed in a future version. This property should not be used in TensorFlow 2.0, as `updates` are applied automatically.\n",
            "  updates=self.state_updates,\n"
          ]
        },
        {
          "output_type": "stream",
          "name": "stdout",
          "text": [
            "   173/60000: episode: 1, duration: 2.590s, episode steps: 173, steps per second:  67, episode reward:  1.000, mean reward:  0.006 [ 0.000,  1.000], mean action: 1.520 [0.000, 3.000],  loss: --, mae: --, mean_q: --, mean_eps: --\n",
            "   451/60000: episode: 2, duration: 2.809s, episode steps: 278, steps per second:  99, episode reward:  3.000, mean reward:  0.011 [ 0.000,  1.000], mean action: 1.518 [0.000, 3.000],  loss: --, mae: --, mean_q: --, mean_eps: --\n",
            "   678/60000: episode: 3, duration: 1.877s, episode steps: 227, steps per second: 121, episode reward:  2.000, mean reward:  0.009 [ 0.000,  1.000], mean action: 1.520 [0.000, 3.000],  loss: --, mae: --, mean_q: --, mean_eps: --\n",
            "   931/60000: episode: 4, duration: 2.147s, episode steps: 253, steps per second: 118, episode reward:  3.000, mean reward:  0.012 [ 0.000,  1.000], mean action: 1.482 [0.000, 3.000],  loss: --, mae: --, mean_q: --, mean_eps: --\n",
            "  1076/60000: episode: 5, duration: 1.139s, episode steps: 145, steps per second: 127, episode reward:  0.000, mean reward:  0.000 [ 0.000,  0.000], mean action: 1.262 [0.000, 3.000],  loss: --, mae: --, mean_q: --, mean_eps: --\n",
            "  1256/60000: episode: 6, duration: 1.498s, episode steps: 180, steps per second: 120, episode reward:  1.000, mean reward:  0.006 [ 0.000,  1.000], mean action: 1.372 [0.000, 3.000],  loss: --, mae: --, mean_q: --, mean_eps: --\n",
            "  1417/60000: episode: 7, duration: 2.040s, episode steps: 161, steps per second:  79, episode reward:  1.000, mean reward:  0.006 [ 0.000,  1.000], mean action: 1.596 [0.000, 3.000],  loss: --, mae: --, mean_q: --, mean_eps: --\n",
            "  1556/60000: episode: 8, duration: 1.383s, episode steps: 139, steps per second: 101, episode reward:  0.000, mean reward:  0.000 [ 0.000,  0.000], mean action: 1.345 [0.000, 3.000],  loss: --, mae: --, mean_q: --, mean_eps: --\n",
            "  1773/60000: episode: 9, duration: 2.588s, episode steps: 217, steps per second:  84, episode reward:  2.000, mean reward:  0.009 [ 0.000,  1.000], mean action: 1.498 [0.000, 3.000],  loss: --, mae: --, mean_q: --, mean_eps: --\n",
            "  2100/60000: episode: 10, duration: 3.564s, episode steps: 327, steps per second:  92, episode reward:  5.000, mean reward:  0.015 [ 0.000,  1.000], mean action: 1.584 [0.000, 3.000],  loss: --, mae: --, mean_q: --, mean_eps: --\n",
            "  2287/60000: episode: 11, duration: 1.525s, episode steps: 187, steps per second: 123, episode reward:  1.000, mean reward:  0.005 [ 0.000,  1.000], mean action: 1.310 [0.000, 3.000],  loss: --, mae: --, mean_q: --, mean_eps: --\n",
            "  2442/60000: episode: 12, duration: 1.285s, episode steps: 155, steps per second: 121, episode reward:  1.000, mean reward:  0.006 [ 0.000,  1.000], mean action: 1.613 [0.000, 3.000],  loss: --, mae: --, mean_q: --, mean_eps: --\n",
            "  2660/60000: episode: 13, duration: 1.652s, episode steps: 218, steps per second: 132, episode reward:  2.000, mean reward:  0.009 [ 0.000,  1.000], mean action: 1.385 [0.000, 3.000],  loss: --, mae: --, mean_q: --, mean_eps: --\n",
            "  2836/60000: episode: 14, duration: 1.485s, episode steps: 176, steps per second: 119, episode reward:  1.000, mean reward:  0.006 [ 0.000,  1.000], mean action: 1.523 [0.000, 3.000],  loss: --, mae: --, mean_q: --, mean_eps: --\n",
            "  3019/60000: episode: 15, duration: 1.537s, episode steps: 183, steps per second: 119, episode reward:  1.000, mean reward:  0.005 [ 0.000,  1.000], mean action: 1.388 [0.000, 3.000],  loss: --, mae: --, mean_q: --, mean_eps: --\n",
            "  3267/60000: episode: 16, duration: 2.209s, episode steps: 248, steps per second: 112, episode reward:  3.000, mean reward:  0.012 [ 0.000,  1.000], mean action: 1.500 [0.000, 3.000],  loss: --, mae: --, mean_q: --, mean_eps: --\n",
            "  3427/60000: episode: 17, duration: 1.876s, episode steps: 160, steps per second:  85, episode reward:  1.000, mean reward:  0.006 [ 0.000,  1.000], mean action: 1.494 [0.000, 3.000],  loss: --, mae: --, mean_q: --, mean_eps: --\n",
            "  3572/60000: episode: 18, duration: 1.825s, episode steps: 145, steps per second:  79, episode reward:  0.000, mean reward:  0.000 [ 0.000,  0.000], mean action: 1.421 [0.000, 3.000],  loss: --, mae: --, mean_q: --, mean_eps: --\n",
            "  3708/60000: episode: 19, duration: 1.420s, episode steps: 136, steps per second:  96, episode reward:  0.000, mean reward:  0.000 [ 0.000,  0.000], mean action: 1.338 [0.000, 3.000],  loss: --, mae: --, mean_q: --, mean_eps: --\n",
            "  3895/60000: episode: 20, duration: 1.386s, episode steps: 187, steps per second: 135, episode reward:  2.000, mean reward:  0.011 [ 0.000,  1.000], mean action: 1.390 [0.000, 3.000],  loss: --, mae: --, mean_q: --, mean_eps: --\n",
            "  4072/60000: episode: 21, duration: 1.530s, episode steps: 177, steps per second: 116, episode reward:  1.000, mean reward:  0.006 [ 0.000,  1.000], mean action: 1.492 [0.000, 3.000],  loss: --, mae: --, mean_q: --, mean_eps: --\n",
            "  4284/60000: episode: 22, duration: 1.568s, episode steps: 212, steps per second: 135, episode reward:  2.000, mean reward:  0.009 [ 0.000,  1.000], mean action: 1.358 [0.000, 3.000],  loss: --, mae: --, mean_q: --, mean_eps: --\n",
            "  4418/60000: episode: 23, duration: 1.061s, episode steps: 134, steps per second: 126, episode reward:  0.000, mean reward:  0.000 [ 0.000,  0.000], mean action: 1.410 [0.000, 3.000],  loss: --, mae: --, mean_q: --, mean_eps: --\n",
            "  4565/60000: episode: 24, duration: 1.087s, episode steps: 147, steps per second: 135, episode reward:  0.000, mean reward:  0.000 [ 0.000,  0.000], mean action: 1.510 [0.000, 3.000],  loss: --, mae: --, mean_q: --, mean_eps: --\n",
            "  4694/60000: episode: 25, duration: 0.942s, episode steps: 129, steps per second: 137, episode reward:  0.000, mean reward:  0.000 [ 0.000,  0.000], mean action: 1.481 [0.000, 3.000],  loss: --, mae: --, mean_q: --, mean_eps: --\n",
            "  4822/60000: episode: 26, duration: 1.108s, episode steps: 128, steps per second: 116, episode reward:  0.000, mean reward:  0.000 [ 0.000,  0.000], mean action: 1.297 [0.000, 3.000],  loss: --, mae: --, mean_q: --, mean_eps: --\n",
            "  5082/60000: episode: 27, duration: 2.666s, episode steps: 260, steps per second:  98, episode reward:  3.000, mean reward:  0.012 [ 0.000,  1.000], mean action: 1.365 [0.000, 3.000],  loss: --, mae: --, mean_q: --, mean_eps: --\n",
            "  5210/60000: episode: 28, duration: 1.592s, episode steps: 128, steps per second:  80, episode reward:  0.000, mean reward:  0.000 [ 0.000,  0.000], mean action: 1.328 [0.000, 3.000],  loss: --, mae: --, mean_q: --, mean_eps: --\n",
            "  5447/60000: episode: 29, duration: 2.600s, episode steps: 237, steps per second:  91, episode reward:  2.000, mean reward:  0.008 [ 0.000,  1.000], mean action: 1.359 [0.000, 3.000],  loss: --, mae: --, mean_q: --, mean_eps: --\n",
            "  5731/60000: episode: 30, duration: 2.457s, episode steps: 284, steps per second: 116, episode reward:  4.000, mean reward:  0.014 [ 0.000,  1.000], mean action: 1.366 [0.000, 3.000],  loss: --, mae: --, mean_q: --, mean_eps: --\n",
            "  5924/60000: episode: 31, duration: 1.664s, episode steps: 193, steps per second: 116, episode reward:  2.000, mean reward:  0.010 [ 0.000,  1.000], mean action: 1.404 [0.000, 3.000],  loss: --, mae: --, mean_q: --, mean_eps: --\n",
            "  6137/60000: episode: 32, duration: 1.575s, episode steps: 213, steps per second: 135, episode reward:  2.000, mean reward:  0.009 [ 0.000,  1.000], mean action: 1.254 [0.000, 3.000],  loss: --, mae: --, mean_q: --, mean_eps: --\n",
            "  6277/60000: episode: 33, duration: 1.237s, episode steps: 140, steps per second: 113, episode reward:  0.000, mean reward:  0.000 [ 0.000,  0.000], mean action: 1.243 [0.000, 3.000],  loss: --, mae: --, mean_q: --, mean_eps: --\n",
            "  6572/60000: episode: 34, duration: 2.501s, episode steps: 295, steps per second: 118, episode reward:  4.000, mean reward:  0.014 [ 0.000,  1.000], mean action: 1.305 [0.000, 3.000],  loss: --, mae: --, mean_q: --, mean_eps: --\n",
            "  6710/60000: episode: 35, duration: 1.549s, episode steps: 138, steps per second:  89, episode reward:  0.000, mean reward:  0.000 [ 0.000,  0.000], mean action: 1.181 [0.000, 3.000],  loss: --, mae: --, mean_q: --, mean_eps: --\n",
            "  6847/60000: episode: 36, duration: 1.607s, episode steps: 137, steps per second:  85, episode reward:  0.000, mean reward:  0.000 [ 0.000,  0.000], mean action: 1.102 [0.000, 3.000],  loss: --, mae: --, mean_q: --, mean_eps: --\n",
            "  7006/60000: episode: 37, duration: 1.951s, episode steps: 159, steps per second:  81, episode reward:  1.000, mean reward:  0.006 [ 0.000,  1.000], mean action: 1.220 [0.000, 3.000],  loss: --, mae: --, mean_q: --, mean_eps: --\n",
            "  7141/60000: episode: 38, duration: 1.186s, episode steps: 135, steps per second: 114, episode reward:  0.000, mean reward:  0.000 [ 0.000,  0.000], mean action: 1.200 [0.000, 3.000],  loss: --, mae: --, mean_q: --, mean_eps: --\n",
            "  7306/60000: episode: 39, duration: 1.282s, episode steps: 165, steps per second: 129, episode reward:  0.000, mean reward:  0.000 [ 0.000,  0.000], mean action: 1.242 [0.000, 3.000],  loss: --, mae: --, mean_q: --, mean_eps: --\n",
            "  7519/60000: episode: 40, duration: 1.582s, episode steps: 213, steps per second: 135, episode reward:  2.000, mean reward:  0.009 [ 0.000,  1.000], mean action: 1.296 [0.000, 3.000],  loss: --, mae: --, mean_q: --, mean_eps: --\n",
            "  7654/60000: episode: 41, duration: 0.967s, episode steps: 135, steps per second: 140, episode reward:  0.000, mean reward:  0.000 [ 0.000,  0.000], mean action: 1.222 [0.000, 3.000],  loss: --, mae: --, mean_q: --, mean_eps: --\n",
            "  7787/60000: episode: 42, duration: 1.066s, episode steps: 133, steps per second: 125, episode reward:  0.000, mean reward:  0.000 [ 0.000,  0.000], mean action: 1.143 [0.000, 3.000],  loss: --, mae: --, mean_q: --, mean_eps: --\n",
            "  8105/60000: episode: 43, duration: 2.676s, episode steps: 318, steps per second: 119, episode reward:  4.000, mean reward:  0.013 [ 0.000,  1.000], mean action: 1.346 [0.000, 3.000],  loss: --, mae: --, mean_q: --, mean_eps: --\n",
            "  8360/60000: episode: 44, duration: 2.354s, episode steps: 255, steps per second: 108, episode reward:  3.000, mean reward:  0.012 [ 0.000,  1.000], mean action: 1.231 [0.000, 3.000],  loss: --, mae: --, mean_q: --, mean_eps: --\n",
            "  8496/60000: episode: 45, duration: 1.718s, episode steps: 136, steps per second:  79, episode reward:  0.000, mean reward:  0.000 [ 0.000,  0.000], mean action: 1.213 [0.000, 3.000],  loss: --, mae: --, mean_q: --, mean_eps: --\n",
            "  8630/60000: episode: 46, duration: 1.714s, episode steps: 134, steps per second:  78, episode reward:  0.000, mean reward:  0.000 [ 0.000,  0.000], mean action: 1.194 [0.000, 3.000],  loss: --, mae: --, mean_q: --, mean_eps: --\n",
            "  8761/60000: episode: 47, duration: 1.473s, episode steps: 131, steps per second:  89, episode reward:  0.000, mean reward:  0.000 [ 0.000,  0.000], mean action: 1.160 [0.000, 3.000],  loss: --, mae: --, mean_q: --, mean_eps: --\n",
            "  8950/60000: episode: 48, duration: 1.495s, episode steps: 189, steps per second: 126, episode reward:  1.000, mean reward:  0.005 [ 0.000,  1.000], mean action: 1.122 [0.000, 3.000],  loss: --, mae: --, mean_q: --, mean_eps: --\n",
            "  9164/60000: episode: 49, duration: 1.752s, episode steps: 214, steps per second: 122, episode reward:  2.000, mean reward:  0.009 [ 0.000,  1.000], mean action: 1.299 [0.000, 3.000],  loss: --, mae: --, mean_q: --, mean_eps: --\n",
            "  9394/60000: episode: 50, duration: 1.780s, episode steps: 230, steps per second: 129, episode reward:  2.000, mean reward:  0.009 [ 0.000,  1.000], mean action: 1.200 [0.000, 3.000],  loss: --, mae: --, mean_q: --, mean_eps: --\n",
            "  9581/60000: episode: 51, duration: 1.566s, episode steps: 187, steps per second: 119, episode reward:  1.000, mean reward:  0.005 [ 0.000,  1.000], mean action: 1.219 [0.000, 3.000],  loss: --, mae: --, mean_q: --, mean_eps: --\n",
            "  9752/60000: episode: 52, duration: 1.388s, episode steps: 171, steps per second: 123, episode reward:  1.000, mean reward:  0.006 [ 0.000,  1.000], mean action: 1.392 [0.000, 3.000],  loss: --, mae: --, mean_q: --, mean_eps: --\n",
            "  9984/60000: episode: 53, duration: 1.750s, episode steps: 232, steps per second: 133, episode reward:  2.000, mean reward:  0.009 [ 0.000,  1.000], mean action: 1.250 [0.000, 3.000],  loss: --, mae: --, mean_q: --, mean_eps: --\n",
            " 10152/60000: episode: 54, duration: 1.948s, episode steps: 168, steps per second:  86, episode reward:  0.000, mean reward:  0.000 [ 0.000,  0.000], mean action: 1.196 [0.000, 3.000],  loss: --, mae: --, mean_q: --, mean_eps: --\n",
            " 10361/60000: episode: 55, duration: 2.285s, episode steps: 209, steps per second:  91, episode reward:  1.000, mean reward:  0.005 [ 0.000,  1.000], mean action: 1.167 [0.000, 3.000],  loss: --, mae: --, mean_q: --, mean_eps: --\n",
            " 10527/60000: episode: 56, duration: 1.690s, episode steps: 166, steps per second:  98, episode reward:  1.000, mean reward:  0.006 [ 0.000,  1.000], mean action: 1.217 [0.000, 3.000],  loss: --, mae: --, mean_q: --, mean_eps: --\n",
            " 10713/60000: episode: 57, duration: 1.463s, episode steps: 186, steps per second: 127, episode reward:  1.000, mean reward:  0.005 [ 0.000,  1.000], mean action: 1.043 [0.000, 3.000],  loss: --, mae: --, mean_q: --, mean_eps: --\n",
            " 11019/60000: episode: 58, duration: 2.236s, episode steps: 306, steps per second: 137, episode reward:  4.000, mean reward:  0.013 [ 0.000,  1.000], mean action: 1.389 [0.000, 3.000],  loss: --, mae: --, mean_q: --, mean_eps: --\n",
            " 11257/60000: episode: 59, duration: 1.949s, episode steps: 238, steps per second: 122, episode reward:  2.000, mean reward:  0.008 [ 0.000,  1.000], mean action: 1.181 [0.000, 3.000],  loss: --, mae: --, mean_q: --, mean_eps: --\n",
            " 11415/60000: episode: 60, duration: 1.365s, episode steps: 158, steps per second: 116, episode reward:  1.000, mean reward:  0.006 [ 0.000,  1.000], mean action: 1.089 [0.000, 3.000],  loss: --, mae: --, mean_q: --, mean_eps: --\n",
            " 11646/60000: episode: 61, duration: 1.838s, episode steps: 231, steps per second: 126, episode reward:  2.000, mean reward:  0.009 [ 0.000,  1.000], mean action: 1.065 [0.000, 3.000],  loss: --, mae: --, mean_q: --, mean_eps: --\n",
            " 11858/60000: episode: 62, duration: 2.220s, episode steps: 212, steps per second:  96, episode reward:  2.000, mean reward:  0.009 [ 0.000,  1.000], mean action: 1.042 [0.000, 3.000],  loss: --, mae: --, mean_q: --, mean_eps: --\n",
            " 12055/60000: episode: 63, duration: 2.260s, episode steps: 197, steps per second:  87, episode reward:  2.000, mean reward:  0.010 [ 0.000,  1.000], mean action: 1.096 [0.000, 3.000],  loss: --, mae: --, mean_q: --, mean_eps: --\n",
            " 12260/60000: episode: 64, duration: 2.149s, episode steps: 205, steps per second:  95, episode reward:  2.000, mean reward:  0.010 [ 0.000,  1.000], mean action: 1.215 [0.000, 3.000],  loss: --, mae: --, mean_q: --, mean_eps: --\n",
            " 12460/60000: episode: 65, duration: 1.660s, episode steps: 200, steps per second: 120, episode reward:  1.000, mean reward:  0.005 [ 0.000,  1.000], mean action: 1.330 [0.000, 3.000],  loss: --, mae: --, mean_q: --, mean_eps: --\n",
            " 12622/60000: episode: 66, duration: 1.194s, episode steps: 162, steps per second: 136, episode reward:  0.000, mean reward:  0.000 [ 0.000,  0.000], mean action: 1.259 [0.000, 3.000],  loss: --, mae: --, mean_q: --, mean_eps: --\n",
            " 12854/60000: episode: 67, duration: 1.702s, episode steps: 232, steps per second: 136, episode reward:  2.000, mean reward:  0.009 [ 0.000,  1.000], mean action: 1.116 [0.000, 3.000],  loss: --, mae: --, mean_q: --, mean_eps: --\n",
            " 13037/60000: episode: 68, duration: 1.518s, episode steps: 183, steps per second: 121, episode reward:  1.000, mean reward:  0.005 [ 0.000,  1.000], mean action: 1.055 [0.000, 3.000],  loss: --, mae: --, mean_q: --, mean_eps: --\n",
            " 13233/60000: episode: 69, duration: 1.642s, episode steps: 196, steps per second: 119, episode reward:  2.000, mean reward:  0.010 [ 0.000,  1.000], mean action: 1.066 [0.000, 3.000],  loss: --, mae: --, mean_q: --, mean_eps: --\n",
            " 13391/60000: episode: 70, duration: 1.194s, episode steps: 158, steps per second: 132, episode reward:  0.000, mean reward:  0.000 [ 0.000,  0.000], mean action: 1.013 [0.000, 3.000],  loss: --, mae: --, mean_q: --, mean_eps: --\n",
            " 13667/60000: episode: 71, duration: 2.645s, episode steps: 276, steps per second: 104, episode reward:  4.000, mean reward:  0.014 [ 0.000,  1.000], mean action: 0.946 [0.000, 3.000],  loss: --, mae: --, mean_q: --, mean_eps: --\n",
            " 13836/60000: episode: 72, duration: 1.838s, episode steps: 169, steps per second:  92, episode reward:  0.000, mean reward:  0.000 [ 0.000,  0.000], mean action: 1.047 [0.000, 3.000],  loss: --, mae: --, mean_q: --, mean_eps: --\n",
            " 13969/60000: episode: 73, duration: 1.632s, episode steps: 133, steps per second:  81, episode reward:  0.000, mean reward:  0.000 [ 0.000,  0.000], mean action: 1.098 [0.000, 3.000],  loss: --, mae: --, mean_q: --, mean_eps: --\n",
            " 14151/60000: episode: 74, duration: 1.437s, episode steps: 182, steps per second: 127, episode reward:  1.000, mean reward:  0.005 [ 0.000,  1.000], mean action: 1.110 [0.000, 3.000],  loss: --, mae: --, mean_q: --, mean_eps: --\n",
            " 14341/60000: episode: 75, duration: 1.585s, episode steps: 190, steps per second: 120, episode reward:  1.000, mean reward:  0.005 [ 0.000,  1.000], mean action: 1.289 [0.000, 3.000],  loss: --, mae: --, mean_q: --, mean_eps: --\n",
            " 14468/60000: episode: 76, duration: 1.135s, episode steps: 127, steps per second: 112, episode reward:  0.000, mean reward:  0.000 [ 0.000,  0.000], mean action: 1.087 [0.000, 3.000],  loss: --, mae: --, mean_q: --, mean_eps: --\n",
            " 14659/60000: episode: 77, duration: 1.595s, episode steps: 191, steps per second: 120, episode reward:  1.000, mean reward:  0.005 [ 0.000,  1.000], mean action: 1.110 [0.000, 3.000],  loss: --, mae: --, mean_q: --, mean_eps: --\n",
            " 14890/60000: episode: 78, duration: 1.789s, episode steps: 231, steps per second: 129, episode reward:  2.000, mean reward:  0.009 [ 0.000,  1.000], mean action: 1.100 [0.000, 3.000],  loss: --, mae: --, mean_q: --, mean_eps: --\n",
            " 15034/60000: episode: 79, duration: 1.196s, episode steps: 144, steps per second: 120, episode reward:  0.000, mean reward:  0.000 [ 0.000,  0.000], mean action: 0.833 [0.000, 3.000],  loss: --, mae: --, mean_q: --, mean_eps: --\n",
            " 15185/60000: episode: 80, duration: 1.138s, episode steps: 151, steps per second: 133, episode reward:  0.000, mean reward:  0.000 [ 0.000,  0.000], mean action: 1.020 [0.000, 3.000],  loss: --, mae: --, mean_q: --, mean_eps: --\n",
            " 15398/60000: episode: 81, duration: 2.498s, episode steps: 213, steps per second:  85, episode reward:  2.000, mean reward:  0.009 [ 0.000,  1.000], mean action: 1.310 [0.000, 3.000],  loss: --, mae: --, mean_q: --, mean_eps: --\n",
            " 15543/60000: episode: 82, duration: 1.796s, episode steps: 145, steps per second:  81, episode reward:  0.000, mean reward:  0.000 [ 0.000,  0.000], mean action: 0.938 [0.000, 3.000],  loss: --, mae: --, mean_q: --, mean_eps: --\n",
            " 15689/60000: episode: 83, duration: 1.543s, episode steps: 146, steps per second:  95, episode reward:  0.000, mean reward:  0.000 [ 0.000,  0.000], mean action: 0.938 [0.000, 3.000],  loss: --, mae: --, mean_q: --, mean_eps: --\n",
            " 16063/60000: episode: 84, duration: 2.832s, episode steps: 374, steps per second: 132, episode reward:  5.000, mean reward:  0.013 [ 0.000,  1.000], mean action: 1.348 [0.000, 3.000],  loss: --, mae: --, mean_q: --, mean_eps: --\n",
            " 16344/60000: episode: 85, duration: 2.244s, episode steps: 281, steps per second: 125, episode reward:  3.000, mean reward:  0.011 [ 0.000,  1.000], mean action: 1.032 [0.000, 3.000],  loss: --, mae: --, mean_q: --, mean_eps: --\n",
            " 16656/60000: episode: 86, duration: 2.556s, episode steps: 312, steps per second: 122, episode reward:  5.000, mean reward:  0.016 [ 0.000,  1.000], mean action: 1.141 [0.000, 3.000],  loss: --, mae: --, mean_q: --, mean_eps: --\n",
            " 16834/60000: episode: 87, duration: 1.544s, episode steps: 178, steps per second: 115, episode reward:  1.000, mean reward:  0.006 [ 0.000,  1.000], mean action: 0.888 [0.000, 3.000],  loss: --, mae: --, mean_q: --, mean_eps: --\n",
            " 17007/60000: episode: 88, duration: 1.900s, episode steps: 173, steps per second:  91, episode reward:  1.000, mean reward:  0.006 [ 0.000,  1.000], mean action: 0.884 [0.000, 3.000],  loss: --, mae: --, mean_q: --, mean_eps: --\n",
            " 17273/60000: episode: 89, duration: 3.135s, episode steps: 266, steps per second:  85, episode reward:  3.000, mean reward:  0.011 [ 0.000,  1.000], mean action: 0.861 [0.000, 3.000],  loss: --, mae: --, mean_q: --, mean_eps: --\n",
            " 17581/60000: episode: 90, duration: 2.576s, episode steps: 308, steps per second: 120, episode reward:  4.000, mean reward:  0.013 [ 0.000,  1.000], mean action: 1.065 [0.000, 3.000],  loss: --, mae: --, mean_q: --, mean_eps: --\n",
            " 17812/60000: episode: 91, duration: 1.864s, episode steps: 231, steps per second: 124, episode reward:  3.000, mean reward:  0.013 [ 0.000,  1.000], mean action: 1.299 [0.000, 3.000],  loss: --, mae: --, mean_q: --, mean_eps: --\n",
            " 17955/60000: episode: 92, duration: 1.041s, episode steps: 143, steps per second: 137, episode reward:  0.000, mean reward:  0.000 [ 0.000,  0.000], mean action: 0.951 [0.000, 3.000],  loss: --, mae: --, mean_q: --, mean_eps: --\n",
            " 18126/60000: episode: 93, duration: 1.451s, episode steps: 171, steps per second: 118, episode reward:  1.000, mean reward:  0.006 [ 0.000,  1.000], mean action: 0.825 [0.000, 3.000],  loss: --, mae: --, mean_q: --, mean_eps: --\n",
            " 18286/60000: episode: 94, duration: 1.183s, episode steps: 160, steps per second: 135, episode reward:  1.000, mean reward:  0.006 [ 0.000,  1.000], mean action: 1.050 [0.000, 3.000],  loss: --, mae: --, mean_q: --, mean_eps: --\n",
            " 18489/60000: episode: 95, duration: 1.709s, episode steps: 203, steps per second: 119, episode reward:  1.000, mean reward:  0.005 [ 0.000,  1.000], mean action: 0.970 [0.000, 3.000],  loss: --, mae: --, mean_q: --, mean_eps: --\n",
            " 18624/60000: episode: 96, duration: 1.146s, episode steps: 135, steps per second: 118, episode reward:  0.000, mean reward:  0.000 [ 0.000,  0.000], mean action: 0.830 [0.000, 3.000],  loss: --, mae: --, mean_q: --, mean_eps: --\n",
            " 18866/60000: episode: 97, duration: 2.907s, episode steps: 242, steps per second:  83, episode reward:  2.000, mean reward:  0.008 [ 0.000,  1.000], mean action: 1.025 [0.000, 3.000],  loss: --, mae: --, mean_q: --, mean_eps: --\n",
            " 19012/60000: episode: 98, duration: 1.863s, episode steps: 146, steps per second:  78, episode reward:  0.000, mean reward:  0.000 [ 0.000,  0.000], mean action: 0.781 [0.000, 3.000],  loss: --, mae: --, mean_q: --, mean_eps: --\n",
            " 19173/60000: episode: 99, duration: 1.616s, episode steps: 161, steps per second: 100, episode reward:  0.000, mean reward:  0.000 [ 0.000,  0.000], mean action: 0.857 [0.000, 3.000],  loss: --, mae: --, mean_q: --, mean_eps: --\n",
            " 19475/60000: episode: 100, duration: 2.488s, episode steps: 302, steps per second: 121, episode reward:  5.000, mean reward:  0.017 [ 0.000,  1.000], mean action: 1.404 [0.000, 3.000],  loss: --, mae: --, mean_q: --, mean_eps: --\n",
            " 19666/60000: episode: 101, duration: 1.637s, episode steps: 191, steps per second: 117, episode reward:  1.000, mean reward:  0.005 [ 0.000,  1.000], mean action: 1.173 [0.000, 3.000],  loss: --, mae: --, mean_q: --, mean_eps: --\n",
            " 19835/60000: episode: 102, duration: 1.414s, episode steps: 169, steps per second: 120, episode reward:  1.000, mean reward:  0.006 [ 0.000,  1.000], mean action: 1.195 [0.000, 3.000],  loss: --, mae: --, mean_q: --, mean_eps: --\n",
            " 20049/60000: episode: 103, duration: 1.856s, episode steps: 214, steps per second: 115, episode reward:  1.000, mean reward:  0.005 [ 0.000,  1.000], mean action: 0.888 [0.000, 3.000],  loss: --, mae: --, mean_q: --, mean_eps: --\n",
            " 20318/60000: episode: 104, duration: 2.302s, episode steps: 269, steps per second: 117, episode reward:  2.000, mean reward:  0.007 [ 0.000,  1.000], mean action: 0.784 [0.000, 3.000],  loss: --, mae: --, mean_q: --, mean_eps: --\n",
            " 20462/60000: episode: 105, duration: 1.638s, episode steps: 144, steps per second:  88, episode reward:  0.000, mean reward:  0.000 [ 0.000,  0.000], mean action: 0.778 [0.000, 3.000],  loss: --, mae: --, mean_q: --, mean_eps: --\n",
            " 20624/60000: episode: 106, duration: 2.032s, episode steps: 162, steps per second:  80, episode reward:  0.000, mean reward:  0.000 [ 0.000,  0.000], mean action: 0.704 [0.000, 3.000],  loss: --, mae: --, mean_q: --, mean_eps: --\n",
            " 20812/60000: episode: 107, duration: 1.978s, episode steps: 188, steps per second:  95, episode reward:  1.000, mean reward:  0.005 [ 0.000,  1.000], mean action: 0.665 [0.000, 3.000],  loss: --, mae: --, mean_q: --, mean_eps: --\n",
            " 20949/60000: episode: 108, duration: 1.131s, episode steps: 137, steps per second: 121, episode reward:  0.000, mean reward:  0.000 [ 0.000,  0.000], mean action: 0.788 [0.000, 3.000],  loss: --, mae: --, mean_q: --, mean_eps: --\n",
            " 21180/60000: episode: 109, duration: 1.888s, episode steps: 231, steps per second: 122, episode reward:  1.000, mean reward:  0.004 [ 0.000,  1.000], mean action: 0.905 [0.000, 3.000],  loss: --, mae: --, mean_q: --, mean_eps: --\n",
            " 21373/60000: episode: 110, duration: 1.562s, episode steps: 193, steps per second: 124, episode reward:  0.000, mean reward:  0.000 [ 0.000,  0.000], mean action: 0.663 [0.000, 3.000],  loss: --, mae: --, mean_q: --, mean_eps: --\n",
            " 21530/60000: episode: 111, duration: 1.339s, episode steps: 157, steps per second: 117, episode reward:  0.000, mean reward:  0.000 [ 0.000,  0.000], mean action: 0.828 [0.000, 3.000],  loss: --, mae: --, mean_q: --, mean_eps: --\n",
            " 21763/60000: episode: 112, duration: 1.689s, episode steps: 233, steps per second: 138, episode reward:  2.000, mean reward:  0.009 [ 0.000,  1.000], mean action: 1.116 [0.000, 3.000],  loss: --, mae: --, mean_q: --, mean_eps: --\n",
            " 21940/60000: episode: 113, duration: 1.311s, episode steps: 177, steps per second: 135, episode reward:  1.000, mean reward:  0.006 [ 0.000,  1.000], mean action: 0.949 [0.000, 3.000],  loss: --, mae: --, mean_q: --, mean_eps: --\n",
            " 22120/60000: episode: 114, duration: 1.928s, episode steps: 180, steps per second:  93, episode reward:  1.000, mean reward:  0.006 [ 0.000,  1.000], mean action: 0.794 [0.000, 3.000],  loss: --, mae: --, mean_q: --, mean_eps: --\n",
            " 22341/60000: episode: 115, duration: 2.636s, episode steps: 221, steps per second:  84, episode reward:  2.000, mean reward:  0.009 [ 0.000,  1.000], mean action: 0.941 [0.000, 3.000],  loss: --, mae: --, mean_q: --, mean_eps: --\n",
            " 22516/60000: episode: 116, duration: 1.872s, episode steps: 175, steps per second:  94, episode reward:  0.000, mean reward:  0.000 [ 0.000,  0.000], mean action: 0.726 [0.000, 3.000],  loss: --, mae: --, mean_q: --, mean_eps: --\n",
            " 22650/60000: episode: 117, duration: 1.150s, episode steps: 134, steps per second: 117, episode reward:  0.000, mean reward:  0.000 [ 0.000,  0.000], mean action: 0.799 [0.000, 3.000],  loss: --, mae: --, mean_q: --, mean_eps: --\n",
            " 22856/60000: episode: 118, duration: 1.696s, episode steps: 206, steps per second: 121, episode reward:  1.000, mean reward:  0.005 [ 0.000,  1.000], mean action: 0.762 [0.000, 3.000],  loss: --, mae: --, mean_q: --, mean_eps: --\n",
            " 23000/60000: episode: 119, duration: 1.102s, episode steps: 144, steps per second: 131, episode reward:  0.000, mean reward:  0.000 [ 0.000,  0.000], mean action: 0.875 [0.000, 3.000],  loss: --, mae: --, mean_q: --, mean_eps: --\n",
            " 23251/60000: episode: 120, duration: 1.939s, episode steps: 251, steps per second: 129, episode reward:  2.000, mean reward:  0.008 [ 0.000,  1.000], mean action: 0.757 [0.000, 3.000],  loss: --, mae: --, mean_q: --, mean_eps: --\n",
            " 23447/60000: episode: 121, duration: 1.539s, episode steps: 196, steps per second: 127, episode reward:  0.000, mean reward:  0.000 [ 0.000,  0.000], mean action: 0.735 [0.000, 3.000],  loss: --, mae: --, mean_q: --, mean_eps: --\n",
            " 23685/60000: episode: 122, duration: 1.812s, episode steps: 238, steps per second: 131, episode reward:  2.000, mean reward:  0.008 [ 0.000,  1.000], mean action: 0.824 [0.000, 3.000],  loss: --, mae: --, mean_q: --, mean_eps: --\n",
            " 23859/60000: episode: 123, duration: 1.987s, episode steps: 174, steps per second:  88, episode reward:  1.000, mean reward:  0.006 [ 0.000,  1.000], mean action: 0.701 [0.000, 3.000],  loss: --, mae: --, mean_q: --, mean_eps: --\n",
            " 24129/60000: episode: 124, duration: 3.299s, episode steps: 270, steps per second:  82, episode reward:  3.000, mean reward:  0.011 [ 0.000,  1.000], mean action: 1.159 [0.000, 3.000],  loss: --, mae: --, mean_q: --, mean_eps: --\n",
            " 24311/60000: episode: 125, duration: 1.719s, episode steps: 182, steps per second: 106, episode reward:  0.000, mean reward:  0.000 [ 0.000,  0.000], mean action: 0.648 [0.000, 3.000],  loss: --, mae: --, mean_q: --, mean_eps: --\n",
            " 24487/60000: episode: 126, duration: 1.362s, episode steps: 176, steps per second: 129, episode reward:  0.000, mean reward:  0.000 [ 0.000,  0.000], mean action: 0.562 [0.000, 3.000],  loss: --, mae: --, mean_q: --, mean_eps: --\n",
            " 24651/60000: episode: 127, duration: 1.357s, episode steps: 164, steps per second: 121, episode reward:  0.000, mean reward:  0.000 [ 0.000,  0.000], mean action: 0.646 [0.000, 3.000],  loss: --, mae: --, mean_q: --, mean_eps: --\n",
            " 25002/60000: episode: 128, duration: 2.855s, episode steps: 351, steps per second: 123, episode reward:  5.000, mean reward:  0.014 [ 0.000,  1.000], mean action: 1.100 [0.000, 3.000],  loss: --, mae: --, mean_q: --, mean_eps: --\n",
            " 25147/60000: episode: 129, duration: 1.182s, episode steps: 145, steps per second: 123, episode reward:  0.000, mean reward:  0.000 [ 0.000,  0.000], mean action: 0.634 [0.000, 3.000],  loss: --, mae: --, mean_q: --, mean_eps: --\n",
            " 25284/60000: episode: 130, duration: 1.046s, episode steps: 137, steps per second: 131, episode reward:  0.000, mean reward:  0.000 [ 0.000,  0.000], mean action: 0.693 [0.000, 3.000],  loss: --, mae: --, mean_q: --, mean_eps: --\n",
            " 25511/60000: episode: 131, duration: 1.937s, episode steps: 227, steps per second: 117, episode reward:  1.000, mean reward:  0.004 [ 0.000,  1.000], mean action: 0.608 [0.000, 3.000],  loss: --, mae: --, mean_q: --, mean_eps: --\n",
            " 25648/60000: episode: 132, duration: 1.531s, episode steps: 137, steps per second:  90, episode reward:  0.000, mean reward:  0.000 [ 0.000,  0.000], mean action: 0.577 [0.000, 3.000],  loss: --, mae: --, mean_q: --, mean_eps: --\n",
            " 25836/60000: episode: 133, duration: 2.085s, episode steps: 188, steps per second:  90, episode reward:  1.000, mean reward:  0.005 [ 0.000,  1.000], mean action: 0.755 [0.000, 3.000],  loss: --, mae: --, mean_q: --, mean_eps: --\n",
            " 26044/60000: episode: 134, duration: 1.865s, episode steps: 208, steps per second: 112, episode reward:  1.000, mean reward:  0.005 [ 0.000,  1.000], mean action: 0.683 [0.000, 3.000],  loss: --, mae: --, mean_q: --, mean_eps: --\n",
            " 26315/60000: episode: 135, duration: 2.182s, episode steps: 271, steps per second: 124, episode reward:  2.000, mean reward:  0.007 [ 0.000,  1.000], mean action: 0.683 [0.000, 3.000],  loss: --, mae: --, mean_q: --, mean_eps: --\n",
            " 26485/60000: episode: 136, duration: 1.418s, episode steps: 170, steps per second: 120, episode reward:  0.000, mean reward:  0.000 [ 0.000,  0.000], mean action: 0.671 [0.000, 3.000],  loss: --, mae: --, mean_q: --, mean_eps: --\n",
            " 26767/60000: episode: 137, duration: 2.223s, episode steps: 282, steps per second: 127, episode reward:  3.000, mean reward:  0.011 [ 0.000,  1.000], mean action: 0.656 [0.000, 3.000],  loss: --, mae: --, mean_q: --, mean_eps: --\n",
            " 26932/60000: episode: 138, duration: 1.362s, episode steps: 165, steps per second: 121, episode reward:  0.000, mean reward:  0.000 [ 0.000,  0.000], mean action: 0.497 [0.000, 3.000],  loss: --, mae: --, mean_q: --, mean_eps: --\n",
            " 27200/60000: episode: 139, duration: 2.302s, episode steps: 268, steps per second: 116, episode reward:  2.000, mean reward:  0.007 [ 0.000,  1.000], mean action: 0.593 [0.000, 3.000],  loss: --, mae: --, mean_q: --, mean_eps: --\n",
            " 27362/60000: episode: 140, duration: 1.956s, episode steps: 162, steps per second:  83, episode reward:  0.000, mean reward:  0.000 [ 0.000,  0.000], mean action: 0.691 [0.000, 3.000],  loss: --, mae: --, mean_q: --, mean_eps: --\n",
            " 27493/60000: episode: 141, duration: 1.698s, episode steps: 131, steps per second:  77, episode reward:  0.000, mean reward:  0.000 [ 0.000,  0.000], mean action: 0.481 [0.000, 3.000],  loss: --, mae: --, mean_q: --, mean_eps: --\n",
            " 27667/60000: episode: 142, duration: 2.026s, episode steps: 174, steps per second:  86, episode reward:  0.000, mean reward:  0.000 [ 0.000,  0.000], mean action: 0.586 [0.000, 3.000],  loss: --, mae: --, mean_q: --, mean_eps: --\n",
            " 27825/60000: episode: 143, duration: 1.287s, episode steps: 158, steps per second: 123, episode reward:  0.000, mean reward:  0.000 [ 0.000,  0.000], mean action: 0.532 [0.000, 3.000],  loss: --, mae: --, mean_q: --, mean_eps: --\n",
            " 27963/60000: episode: 144, duration: 1.225s, episode steps: 138, steps per second: 113, episode reward:  0.000, mean reward:  0.000 [ 0.000,  0.000], mean action: 0.500 [0.000, 3.000],  loss: --, mae: --, mean_q: --, mean_eps: --\n",
            " 28130/60000: episode: 145, duration: 1.317s, episode steps: 167, steps per second: 127, episode reward:  0.000, mean reward:  0.000 [ 0.000,  0.000], mean action: 0.461 [0.000, 3.000],  loss: --, mae: --, mean_q: --, mean_eps: --\n",
            " 28296/60000: episode: 146, duration: 1.411s, episode steps: 166, steps per second: 118, episode reward:  0.000, mean reward:  0.000 [ 0.000,  0.000], mean action: 0.578 [0.000, 3.000],  loss: --, mae: --, mean_q: --, mean_eps: --\n",
            " 28567/60000: episode: 147, duration: 2.127s, episode steps: 271, steps per second: 127, episode reward:  2.000, mean reward:  0.007 [ 0.000,  1.000], mean action: 0.852 [0.000, 3.000],  loss: --, mae: --, mean_q: --, mean_eps: --\n",
            " 28815/60000: episode: 148, duration: 1.895s, episode steps: 248, steps per second: 131, episode reward:  2.000, mean reward:  0.008 [ 0.000,  1.000], mean action: 0.734 [0.000, 3.000],  loss: --, mae: --, mean_q: --, mean_eps: --\n",
            " 29007/60000: episode: 149, duration: 2.017s, episode steps: 192, steps per second:  95, episode reward:  1.000, mean reward:  0.005 [ 0.000,  1.000], mean action: 0.714 [0.000, 3.000],  loss: --, mae: --, mean_q: --, mean_eps: --\n",
            " 29203/60000: episode: 150, duration: 2.261s, episode steps: 196, steps per second:  87, episode reward:  0.000, mean reward:  0.000 [ 0.000,  0.000], mean action: 0.423 [0.000, 3.000],  loss: --, mae: --, mean_q: --, mean_eps: --\n",
            " 29443/60000: episode: 151, duration: 2.412s, episode steps: 240, steps per second: 100, episode reward:  2.000, mean reward:  0.008 [ 0.000,  1.000], mean action: 0.812 [0.000, 3.000],  loss: --, mae: --, mean_q: --, mean_eps: --\n",
            " 29653/60000: episode: 152, duration: 1.744s, episode steps: 210, steps per second: 120, episode reward:  2.000, mean reward:  0.010 [ 0.000,  1.000], mean action: 0.614 [0.000, 3.000],  loss: --, mae: --, mean_q: --, mean_eps: --\n",
            " 29828/60000: episode: 153, duration: 1.281s, episode steps: 175, steps per second: 137, episode reward:  0.000, mean reward:  0.000 [ 0.000,  0.000], mean action: 0.531 [0.000, 3.000],  loss: --, mae: --, mean_q: --, mean_eps: --\n",
            " 29973/60000: episode: 154, duration: 1.072s, episode steps: 145, steps per second: 135, episode reward:  0.000, mean reward:  0.000 [ 0.000,  0.000], mean action: 0.662 [0.000, 3.000],  loss: --, mae: --, mean_q: --, mean_eps: --\n",
            " 30177/60000: episode: 155, duration: 1.631s, episode steps: 204, steps per second: 125, episode reward:  0.000, mean reward:  0.000 [ 0.000,  0.000], mean action: 0.500 [0.000, 3.000],  loss: --, mae: --, mean_q: --, mean_eps: --\n",
            " 30446/60000: episode: 156, duration: 1.972s, episode steps: 269, steps per second: 136, episode reward:  0.000, mean reward:  0.000 [ 0.000,  0.000], mean action: 0.543 [0.000, 3.000],  loss: --, mae: --, mean_q: --, mean_eps: --\n",
            " 30674/60000: episode: 157, duration: 2.149s, episode steps: 228, steps per second: 106, episode reward:  2.000, mean reward:  0.009 [ 0.000,  1.000], mean action: 0.693 [0.000, 3.000],  loss: --, mae: --, mean_q: --, mean_eps: --\n",
            " 30886/60000: episode: 158, duration: 2.396s, episode steps: 212, steps per second:  88, episode reward:  2.000, mean reward:  0.009 [ 0.000,  1.000], mean action: 0.939 [0.000, 3.000],  loss: --, mae: --, mean_q: --, mean_eps: --\n",
            " 31103/60000: episode: 159, duration: 2.506s, episode steps: 217, steps per second:  87, episode reward:  1.000, mean reward:  0.005 [ 0.000,  1.000], mean action: 0.396 [0.000, 3.000],  loss: --, mae: --, mean_q: --, mean_eps: --\n",
            " 31286/60000: episode: 160, duration: 1.498s, episode steps: 183, steps per second: 122, episode reward:  0.000, mean reward:  0.000 [ 0.000,  0.000], mean action: 0.426 [0.000, 3.000],  loss: --, mae: --, mean_q: --, mean_eps: --\n",
            " 31485/60000: episode: 161, duration: 1.671s, episode steps: 199, steps per second: 119, episode reward:  1.000, mean reward:  0.005 [ 0.000,  1.000], mean action: 0.492 [0.000, 3.000],  loss: --, mae: --, mean_q: --, mean_eps: --\n",
            " 31656/60000: episode: 162, duration: 1.543s, episode steps: 171, steps per second: 111, episode reward:  0.000, mean reward:  0.000 [ 0.000,  0.000], mean action: 0.310 [0.000, 3.000],  loss: --, mae: --, mean_q: --, mean_eps: --\n",
            " 31865/60000: episode: 163, duration: 1.555s, episode steps: 209, steps per second: 134, episode reward:  0.000, mean reward:  0.000 [ 0.000,  0.000], mean action: 0.426 [0.000, 3.000],  loss: --, mae: --, mean_q: --, mean_eps: --\n",
            " 32040/60000: episode: 164, duration: 1.488s, episode steps: 175, steps per second: 118, episode reward:  0.000, mean reward:  0.000 [ 0.000,  0.000], mean action: 0.297 [0.000, 3.000],  loss: --, mae: --, mean_q: --, mean_eps: --\n",
            " 32299/60000: episode: 165, duration: 2.101s, episode steps: 259, steps per second: 123, episode reward:  1.000, mean reward:  0.004 [ 0.000,  1.000], mean action: 0.479 [0.000, 3.000],  loss: --, mae: --, mean_q: --, mean_eps: --\n",
            " 32665/60000: episode: 166, duration: 4.408s, episode steps: 366, steps per second:  83, episode reward:  2.000, mean reward:  0.005 [ 0.000,  1.000], mean action: 0.557 [0.000, 3.000],  loss: --, mae: --, mean_q: --, mean_eps: --\n",
            " 32876/60000: episode: 167, duration: 1.947s, episode steps: 211, steps per second: 108, episode reward:  0.000, mean reward:  0.000 [ 0.000,  0.000], mean action: 0.346 [0.000, 3.000],  loss: --, mae: --, mean_q: --, mean_eps: --\n",
            " 33152/60000: episode: 168, duration: 2.042s, episode steps: 276, steps per second: 135, episode reward:  3.000, mean reward:  0.011 [ 0.000,  1.000], mean action: 0.801 [0.000, 3.000],  loss: --, mae: --, mean_q: --, mean_eps: --\n",
            " 33332/60000: episode: 169, duration: 1.512s, episode steps: 180, steps per second: 119, episode reward:  0.000, mean reward:  0.000 [ 0.000,  0.000], mean action: 0.267 [0.000, 3.000],  loss: --, mae: --, mean_q: --, mean_eps: --\n",
            " 33573/60000: episode: 170, duration: 1.845s, episode steps: 241, steps per second: 131, episode reward:  3.000, mean reward:  0.012 [ 0.000,  1.000], mean action: 0.535 [0.000, 3.000],  loss: --, mae: --, mean_q: --, mean_eps: --\n",
            " 33886/60000: episode: 171, duration: 2.575s, episode steps: 313, steps per second: 122, episode reward:  2.000, mean reward:  0.006 [ 0.000,  1.000], mean action: 0.534 [0.000, 3.000],  loss: --, mae: --, mean_q: --, mean_eps: --\n",
            " 34126/60000: episode: 172, duration: 2.157s, episode steps: 240, steps per second: 111, episode reward:  2.000, mean reward:  0.008 [ 0.000,  1.000], mean action: 0.383 [0.000, 3.000],  loss: --, mae: --, mean_q: --, mean_eps: --\n",
            " 34455/60000: episode: 173, duration: 3.827s, episode steps: 329, steps per second:  86, episode reward:  2.000, mean reward:  0.006 [ 0.000,  1.000], mean action: 0.626 [0.000, 3.000],  loss: --, mae: --, mean_q: --, mean_eps: --\n",
            " 34684/60000: episode: 174, duration: 2.112s, episode steps: 229, steps per second: 108, episode reward:  0.000, mean reward:  0.000 [ 0.000,  0.000], mean action: 0.279 [0.000, 3.000],  loss: --, mae: --, mean_q: --, mean_eps: --\n",
            " 34959/60000: episode: 175, duration: 2.151s, episode steps: 275, steps per second: 128, episode reward:  2.000, mean reward:  0.007 [ 0.000,  1.000], mean action: 0.509 [0.000, 3.000],  loss: --, mae: --, mean_q: --, mean_eps: --\n",
            " 35186/60000: episode: 176, duration: 1.654s, episode steps: 227, steps per second: 137, episode reward:  1.000, mean reward:  0.004 [ 0.000,  1.000], mean action: 0.317 [0.000, 3.000],  loss: --, mae: --, mean_q: --, mean_eps: --\n",
            " 35426/60000: episode: 177, duration: 1.935s, episode steps: 240, steps per second: 124, episode reward:  0.000, mean reward:  0.000 [ 0.000,  0.000], mean action: 0.254 [0.000, 3.000],  loss: --, mae: --, mean_q: --, mean_eps: --\n",
            " 35639/60000: episode: 178, duration: 1.558s, episode steps: 213, steps per second: 137, episode reward:  0.000, mean reward:  0.000 [ 0.000,  0.000], mean action: 0.291 [0.000, 3.000],  loss: --, mae: --, mean_q: --, mean_eps: --\n",
            " 35972/60000: episode: 179, duration: 2.900s, episode steps: 333, steps per second: 115, episode reward:  5.000, mean reward:  0.015 [ 0.000,  1.000], mean action: 1.610 [0.000, 3.000],  loss: --, mae: --, mean_q: --, mean_eps: --\n",
            " 36174/60000: episode: 180, duration: 2.253s, episode steps: 202, steps per second:  90, episode reward:  0.000, mean reward:  0.000 [ 0.000,  0.000], mean action: 0.302 [0.000, 3.000],  loss: --, mae: --, mean_q: --, mean_eps: --\n",
            " 36358/60000: episode: 181, duration: 1.959s, episode steps: 184, steps per second:  94, episode reward:  0.000, mean reward:  0.000 [ 0.000,  0.000], mean action: 0.348 [0.000, 3.000],  loss: --, mae: --, mean_q: --, mean_eps: --\n",
            " 36597/60000: episode: 182, duration: 1.878s, episode steps: 239, steps per second: 127, episode reward:  0.000, mean reward:  0.000 [ 0.000,  0.000], mean action: 0.209 [0.000, 3.000],  loss: --, mae: --, mean_q: --, mean_eps: --\n",
            " 36881/60000: episode: 183, duration: 2.211s, episode steps: 284, steps per second: 128, episode reward:  0.000, mean reward:  0.000 [ 0.000,  0.000], mean action: 0.349 [0.000, 3.000],  loss: --, mae: --, mean_q: --, mean_eps: --\n",
            " 37132/60000: episode: 184, duration: 1.881s, episode steps: 251, steps per second: 133, episode reward:  1.000, mean reward:  0.004 [ 0.000,  1.000], mean action: 0.307 [0.000, 3.000],  loss: --, mae: --, mean_q: --, mean_eps: --\n",
            " 37477/60000: episode: 185, duration: 2.751s, episode steps: 345, steps per second: 125, episode reward:  0.000, mean reward:  0.000 [ 0.000,  0.000], mean action: 0.206 [0.000, 3.000],  loss: --, mae: --, mean_q: --, mean_eps: --\n",
            " 37965/60000: episode: 186, duration: 5.395s, episode steps: 488, steps per second:  90, episode reward:  6.000, mean reward:  0.012 [ 0.000,  1.000], mean action: 1.588 [0.000, 3.000],  loss: --, mae: --, mean_q: --, mean_eps: --\n",
            " 38257/60000: episode: 187, duration: 2.772s, episode steps: 292, steps per second: 105, episode reward:  0.000, mean reward:  0.000 [ 0.000,  0.000], mean action: 0.178 [0.000, 3.000],  loss: --, mae: --, mean_q: --, mean_eps: --\n",
            " 38705/60000: episode: 188, duration: 3.501s, episode steps: 448, steps per second: 128, episode reward:  1.000, mean reward:  0.002 [ 0.000,  1.000], mean action: 0.185 [0.000, 3.000],  loss: --, mae: --, mean_q: --, mean_eps: --\n",
            " 38929/60000: episode: 189, duration: 1.860s, episode steps: 224, steps per second: 120, episode reward:  0.000, mean reward:  0.000 [ 0.000,  0.000], mean action: 0.165 [0.000, 3.000],  loss: --, mae: --, mean_q: --, mean_eps: --\n",
            " 39212/60000: episode: 190, duration: 2.159s, episode steps: 283, steps per second: 131, episode reward:  0.000, mean reward:  0.000 [ 0.000,  0.000], mean action: 0.159 [0.000, 3.000],  loss: --, mae: --, mean_q: --, mean_eps: --\n",
            " 39533/60000: episode: 191, duration: 3.291s, episode steps: 321, steps per second:  98, episode reward:  3.000, mean reward:  0.009 [ 0.000,  1.000], mean action: 0.439 [0.000, 3.000],  loss: --, mae: --, mean_q: --, mean_eps: --\n",
            " 39832/60000: episode: 192, duration: 3.437s, episode steps: 299, steps per second:  87, episode reward:  0.000, mean reward:  0.000 [ 0.000,  0.000], mean action: 0.144 [0.000, 3.000],  loss: --, mae: --, mean_q: --, mean_eps: --\n"
          ]
        },
        {
          "output_type": "stream",
          "name": "stderr",
          "text": [
            "/usr/local/lib/python3.10/dist-packages/keras/engine/training_v1.py:2357: UserWarning: `Model.state_updates` will be removed in a future version. This property should not be used in TensorFlow 2.0, as `updates` are applied automatically.\n",
            "  updates=self.state_updates,\n"
          ]
        },
        {
          "output_type": "stream",
          "name": "stdout",
          "text": [
            " 40107/60000: episode: 193, duration: 29.662s, episode steps: 275, steps per second:   9, episode reward:  1.000, mean reward:  0.004 [ 0.000,  1.000], mean action: 0.593 [0.000, 3.000],  loss: 0.002629, mae: 0.043687, mean_q: 0.063893, mean_eps: 0.100000\n",
            " 40304/60000: episode: 194, duration: 51.738s, episode steps: 197, steps per second:   4, episode reward:  0.000, mean reward:  0.000 [ 0.000,  0.000], mean action: 1.335 [0.000, 3.000],  loss: 0.002820, mae: 0.043621, mean_q: 0.061571, mean_eps: 0.100000\n",
            " 40609/60000: episode: 195, duration: 77.474s, episode steps: 305, steps per second:   4, episode reward:  4.000, mean reward:  0.013 [ 0.000,  1.000], mean action: 1.456 [0.000, 3.000],  loss: 0.003167, mae: 0.044038, mean_q: 0.059911, mean_eps: 0.100000\n",
            " 40799/60000: episode: 196, duration: 48.936s, episode steps: 190, steps per second:   4, episode reward:  1.000, mean reward:  0.005 [ 0.000,  1.000], mean action: 1.547 [0.000, 3.000],  loss: 0.003092, mae: 0.045522, mean_q: 0.062697, mean_eps: 0.100000\n",
            " 41050/60000: episode: 197, duration: 63.145s, episode steps: 251, steps per second:   4, episode reward:  1.000, mean reward:  0.004 [ 0.000,  1.000], mean action: 1.681 [0.000, 3.000],  loss: 0.002408, mae: 0.044166, mean_q: 0.063480, mean_eps: 0.100000\n",
            " 41338/60000: episode: 198, duration: 71.298s, episode steps: 288, steps per second:   4, episode reward:  2.000, mean reward:  0.007 [ 0.000,  1.000], mean action: 1.347 [0.000, 3.000],  loss: 0.001698, mae: 0.042964, mean_q: 0.060096, mean_eps: 0.100000\n",
            " 41505/60000: episode: 199, duration: 43.127s, episode steps: 167, steps per second:   4, episode reward:  0.000, mean reward:  0.000 [ 0.000,  0.000], mean action: 1.150 [0.000, 3.000],  loss: 0.001425, mae: 0.042875, mean_q: 0.059957, mean_eps: 0.100000\n",
            " 41731/60000: episode: 200, duration: 56.567s, episode steps: 226, steps per second:   4, episode reward:  2.000, mean reward:  0.009 [ 0.000,  1.000], mean action: 1.416 [0.000, 3.000],  loss: 0.001194, mae: 0.041294, mean_q: 0.057257, mean_eps: 0.100000\n",
            " 41943/60000: episode: 201, duration: 55.012s, episode steps: 212, steps per second:   4, episode reward:  1.000, mean reward:  0.005 [ 0.000,  1.000], mean action: 1.679 [0.000, 3.000],  loss: 0.001158, mae: 0.042808, mean_q: 0.059205, mean_eps: 0.100000\n",
            " 42135/60000: episode: 202, duration: 48.416s, episode steps: 192, steps per second:   4, episode reward:  2.000, mean reward:  0.010 [ 0.000,  1.000], mean action: 1.193 [0.000, 3.000],  loss: 0.001584, mae: 0.044236, mean_q: 0.061121, mean_eps: 0.100000\n",
            " 42615/60000: episode: 203, duration: 116.782s, episode steps: 480, steps per second:   4, episode reward:  6.000, mean reward:  0.013 [ 0.000,  1.000], mean action: 1.354 [0.000, 3.000],  loss: 0.000962, mae: 0.042103, mean_q: 0.057422, mean_eps: 0.100000\n",
            " 43079/60000: episode: 204, duration: 113.073s, episode steps: 464, steps per second:   4, episode reward:  2.000, mean reward:  0.004 [ 0.000,  1.000], mean action: 1.211 [0.000, 3.000],  loss: 0.001341, mae: 0.043472, mean_q: 0.059111, mean_eps: 0.100000\n",
            " 43475/60000: episode: 205, duration: 97.064s, episode steps: 396, steps per second:   4, episode reward:  2.000, mean reward:  0.005 [ 0.000,  1.000], mean action: 1.871 [0.000, 3.000],  loss: 0.000886, mae: 0.041288, mean_q: 0.057005, mean_eps: 0.100000\n",
            " 43788/60000: episode: 206, duration: 78.129s, episode steps: 313, steps per second:   4, episode reward:  3.000, mean reward:  0.010 [ 0.000,  1.000], mean action: 1.214 [0.000, 3.000],  loss: 0.001010, mae: 0.042286, mean_q: 0.057774, mean_eps: 0.100000\n",
            " 44022/60000: episode: 207, duration: 59.190s, episode steps: 234, steps per second:   4, episode reward:  2.000, mean reward:  0.009 [ 0.000,  1.000], mean action: 1.201 [0.000, 3.000],  loss: 0.000578, mae: 0.040720, mean_q: 0.055653, mean_eps: 0.100000\n",
            " 44370/60000: episode: 208, duration: 85.898s, episode steps: 348, steps per second:   4, episode reward:  2.000, mean reward:  0.006 [ 0.000,  1.000], mean action: 1.379 [0.000, 3.000],  loss: 0.001014, mae: 0.043147, mean_q: 0.058632, mean_eps: 0.100000\n",
            " 44625/60000: episode: 209, duration: 65.203s, episode steps: 255, steps per second:   4, episode reward:  0.000, mean reward:  0.000 [ 0.000,  0.000], mean action: 1.631 [0.000, 3.000],  loss: 0.000948, mae: 0.042072, mean_q: 0.057441, mean_eps: 0.100000\n",
            " 44821/60000: episode: 210, duration: 52.484s, episode steps: 196, steps per second:   4, episode reward:  1.000, mean reward:  0.005 [ 0.000,  1.000], mean action: 1.408 [0.000, 3.000],  loss: 0.000910, mae: 0.040815, mean_q: 0.055416, mean_eps: 0.100000\n",
            " 45071/60000: episode: 211, duration: 61.683s, episode steps: 250, steps per second:   4, episode reward:  2.000, mean reward:  0.008 [ 0.000,  1.000], mean action: 1.364 [0.000, 3.000],  loss: 0.000966, mae: 0.042424, mean_q: 0.057475, mean_eps: 0.100000\n",
            " 45387/60000: episode: 212, duration: 78.884s, episode steps: 316, steps per second:   4, episode reward:  2.000, mean reward:  0.006 [ 0.000,  1.000], mean action: 1.560 [0.000, 3.000],  loss: 0.000706, mae: 0.041091, mean_q: 0.056141, mean_eps: 0.100000\n",
            " 45615/60000: episode: 213, duration: 57.344s, episode steps: 228, steps per second:   4, episode reward:  2.000, mean reward:  0.009 [ 0.000,  1.000], mean action: 1.294 [0.000, 3.000],  loss: 0.000709, mae: 0.041554, mean_q: 0.056432, mean_eps: 0.100000\n",
            " 45899/60000: episode: 214, duration: 73.130s, episode steps: 284, steps per second:   4, episode reward:  2.000, mean reward:  0.007 [ 0.000,  1.000], mean action: 0.838 [0.000, 3.000],  loss: 0.000788, mae: 0.041264, mean_q: 0.055987, mean_eps: 0.100000\n",
            " 46071/60000: episode: 215, duration: 42.560s, episode steps: 172, steps per second:   4, episode reward:  0.000, mean reward:  0.000 [ 0.000,  0.000], mean action: 1.285 [0.000, 3.000],  loss: 0.000488, mae: 0.041202, mean_q: 0.056414, mean_eps: 0.100000\n",
            " 46328/60000: episode: 216, duration: 65.350s, episode steps: 257, steps per second:   4, episode reward:  0.000, mean reward:  0.000 [ 0.000,  0.000], mean action: 1.696 [0.000, 3.000],  loss: 0.000832, mae: 0.042256, mean_q: 0.058724, mean_eps: 0.100000\n",
            " 46511/60000: episode: 217, duration: 46.563s, episode steps: 183, steps per second:   4, episode reward:  1.000, mean reward:  0.005 [ 0.000,  1.000], mean action: 1.503 [0.000, 3.000],  loss: 0.000298, mae: 0.041132, mean_q: 0.056071, mean_eps: 0.100000\n",
            " 46797/60000: episode: 218, duration: 73.734s, episode steps: 286, steps per second:   4, episode reward:  0.000, mean reward:  0.000 [ 0.000,  0.000], mean action: 1.843 [0.000, 3.000],  loss: 0.000489, mae: 0.040960, mean_q: 0.055958, mean_eps: 0.100000\n",
            " 47116/60000: episode: 219, duration: 80.540s, episode steps: 319, steps per second:   4, episode reward:  2.000, mean reward:  0.006 [ 0.000,  1.000], mean action: 1.577 [0.000, 3.000],  loss: 0.000585, mae: 0.042526, mean_q: 0.058452, mean_eps: 0.100000\n",
            " 47337/60000: episode: 220, duration: 55.060s, episode steps: 221, steps per second:   4, episode reward:  2.000, mean reward:  0.009 [ 0.000,  1.000], mean action: 0.611 [0.000, 3.000],  loss: 0.000431, mae: 0.040135, mean_q: 0.054750, mean_eps: 0.100000\n",
            " 47732/60000: episode: 221, duration: 101.938s, episode steps: 395, steps per second:   4, episode reward:  1.000, mean reward:  0.003 [ 0.000,  1.000], mean action: 1.453 [0.000, 3.000],  loss: 0.000472, mae: 0.040688, mean_q: 0.055834, mean_eps: 0.100000\n",
            " 47880/60000: episode: 222, duration: 36.173s, episode steps: 148, steps per second:   4, episode reward:  0.000, mean reward:  0.000 [ 0.000,  0.000], mean action: 1.230 [0.000, 3.000],  loss: 0.000790, mae: 0.041314, mean_q: 0.056236, mean_eps: 0.100000\n",
            " 48160/60000: episode: 223, duration: 70.186s, episode steps: 280, steps per second:   4, episode reward:  2.000, mean reward:  0.007 [ 0.000,  1.000], mean action: 1.118 [0.000, 3.000],  loss: 0.000604, mae: 0.040977, mean_q: 0.055826, mean_eps: 0.100000\n",
            " 48438/60000: episode: 224, duration: 70.768s, episode steps: 278, steps per second:   4, episode reward:  3.000, mean reward:  0.011 [ 0.000,  1.000], mean action: 1.489 [0.000, 3.000],  loss: 0.000859, mae: 0.042890, mean_q: 0.058396, mean_eps: 0.100000\n",
            " 48947/60000: episode: 225, duration: 128.060s, episode steps: 509, steps per second:   4, episode reward:  6.000, mean reward:  0.012 [ 0.000,  1.000], mean action: 1.949 [0.000, 3.000],  loss: 0.000220, mae: 0.040569, mean_q: 0.055396, mean_eps: 0.100000\n",
            " 49269/60000: episode: 226, duration: 79.787s, episode steps: 322, steps per second:   4, episode reward:  3.000, mean reward:  0.009 [ 0.000,  1.000], mean action: 1.019 [0.000, 3.000],  loss: 0.000552, mae: 0.041438, mean_q: 0.056114, mean_eps: 0.100000\n",
            " 49548/60000: episode: 227, duration: 67.739s, episode steps: 279, steps per second:   4, episode reward:  2.000, mean reward:  0.007 [ 0.000,  1.000], mean action: 1.283 [0.000, 3.000],  loss: 0.000241, mae: 0.040674, mean_q: 0.055395, mean_eps: 0.100000\n",
            " 49756/60000: episode: 228, duration: 50.063s, episode steps: 208, steps per second:   4, episode reward:  0.000, mean reward:  0.000 [ 0.000,  0.000], mean action: 1.553 [0.000, 3.000],  loss: 0.000472, mae: 0.041207, mean_q: 0.055879, mean_eps: 0.100000\n",
            " 49959/60000: episode: 229, duration: 48.907s, episode steps: 203, steps per second:   4, episode reward:  0.000, mean reward:  0.000 [ 0.000,  0.000], mean action: 1.232 [0.000, 3.000],  loss: 0.000506, mae: 0.041574, mean_q: 0.056504, mean_eps: 0.100000\n",
            " 50270/60000: episode: 230, duration: 75.412s, episode steps: 311, steps per second:   4, episode reward:  3.000, mean reward:  0.010 [ 0.000,  1.000], mean action: 1.289 [0.000, 3.000],  loss: 0.000383, mae: 0.041713, mean_q: 0.056665, mean_eps: 0.100000\n",
            " 50543/60000: episode: 231, duration: 65.745s, episode steps: 273, steps per second:   4, episode reward:  4.000, mean reward:  0.015 [ 0.000,  1.000], mean action: 1.264 [0.000, 3.000],  loss: 0.000582, mae: 0.042641, mean_q: 0.057465, mean_eps: 0.100000\n",
            " 50698/60000: episode: 232, duration: 38.399s, episode steps: 155, steps per second:   4, episode reward:  0.000, mean reward:  0.000 [ 0.000,  0.000], mean action: 1.310 [0.000, 3.000],  loss: 0.000194, mae: 0.040601, mean_q: 0.055248, mean_eps: 0.100000\n",
            " 50967/60000: episode: 233, duration: 64.385s, episode steps: 269, steps per second:   4, episode reward:  3.000, mean reward:  0.011 [ 0.000,  1.000], mean action: 0.569 [0.000, 3.000],  loss: 0.000326, mae: 0.040886, mean_q: 0.055315, mean_eps: 0.100000\n",
            " 51176/60000: episode: 234, duration: 49.712s, episode steps: 209, steps per second:   4, episode reward:  0.000, mean reward:  0.000 [ 0.000,  0.000], mean action: 1.287 [0.000, 3.000],  loss: 0.000331, mae: 0.040183, mean_q: 0.054422, mean_eps: 0.100000\n",
            " 51419/60000: episode: 235, duration: 59.048s, episode steps: 243, steps per second:   4, episode reward:  0.000, mean reward:  0.000 [ 0.000,  0.000], mean action: 1.440 [0.000, 3.000],  loss: 0.000445, mae: 0.040732, mean_q: 0.054961, mean_eps: 0.100000\n",
            " 51584/60000: episode: 236, duration: 40.710s, episode steps: 165, steps per second:   4, episode reward:  1.000, mean reward:  0.006 [ 0.000,  1.000], mean action: 1.491 [0.000, 3.000],  loss: 0.000073, mae: 0.039870, mean_q: 0.054053, mean_eps: 0.100000\n",
            " 51898/60000: episode: 237, duration: 77.666s, episode steps: 314, steps per second:   4, episode reward:  3.000, mean reward:  0.010 [ 0.000,  1.000], mean action: 0.914 [0.000, 3.000],  loss: 0.000268, mae: 0.040301, mean_q: 0.054726, mean_eps: 0.100000\n",
            " 52280/60000: episode: 238, duration: 93.345s, episode steps: 382, steps per second:   4, episode reward:  4.000, mean reward:  0.010 [ 0.000,  1.000], mean action: 1.560 [0.000, 3.000],  loss: 0.000250, mae: 0.040865, mean_q: 0.055125, mean_eps: 0.100000\n",
            " 52487/60000: episode: 239, duration: 50.624s, episode steps: 207, steps per second:   4, episode reward:  1.000, mean reward:  0.005 [ 0.000,  1.000], mean action: 1.184 [0.000, 3.000],  loss: 0.000305, mae: 0.040771, mean_q: 0.054877, mean_eps: 0.100000\n",
            " 52922/60000: episode: 240, duration: 105.849s, episode steps: 435, steps per second:   4, episode reward:  3.000, mean reward:  0.007 [ 0.000,  1.000], mean action: 1.205 [0.000, 3.000],  loss: 0.000308, mae: 0.041829, mean_q: 0.056272, mean_eps: 0.100000\n",
            " 53205/60000: episode: 241, duration: 68.074s, episode steps: 283, steps per second:   4, episode reward:  3.000, mean reward:  0.011 [ 0.000,  1.000], mean action: 1.551 [0.000, 3.000],  loss: 0.000301, mae: 0.042240, mean_q: 0.057294, mean_eps: 0.100000\n",
            " 53425/60000: episode: 242, duration: 52.596s, episode steps: 220, steps per second:   4, episode reward:  1.000, mean reward:  0.005 [ 0.000,  1.000], mean action: 1.232 [0.000, 3.000],  loss: 0.000133, mae: 0.040374, mean_q: 0.054971, mean_eps: 0.100000\n",
            " 53605/60000: episode: 243, duration: 44.397s, episode steps: 180, steps per second:   4, episode reward:  0.000, mean reward:  0.000 [ 0.000,  0.000], mean action: 1.350 [0.000, 3.000],  loss: 0.000178, mae: 0.040813, mean_q: 0.055063, mean_eps: 0.100000\n",
            " 53817/60000: episode: 244, duration: 51.815s, episode steps: 212, steps per second:   4, episode reward:  1.000, mean reward:  0.005 [ 0.000,  1.000], mean action: 1.726 [0.000, 3.000],  loss: 0.000194, mae: 0.041312, mean_q: 0.055977, mean_eps: 0.100000\n",
            " 54101/60000: episode: 245, duration: 70.902s, episode steps: 284, steps per second:   4, episode reward:  1.000, mean reward:  0.004 [ 0.000,  1.000], mean action: 1.630 [0.000, 3.000],  loss: 0.000158, mae: 0.040428, mean_q: 0.054300, mean_eps: 0.100000\n",
            " 54347/60000: episode: 246, duration: 58.445s, episode steps: 246, steps per second:   4, episode reward:  1.000, mean reward:  0.004 [ 0.000,  1.000], mean action: 1.760 [0.000, 3.000],  loss: 0.000219, mae: 0.040998, mean_q: 0.055336, mean_eps: 0.100000\n",
            " 54733/60000: episode: 247, duration: 91.614s, episode steps: 386, steps per second:   4, episode reward:  4.000, mean reward:  0.010 [ 0.000,  1.000], mean action: 1.676 [0.000, 3.000],  loss: 0.000228, mae: 0.041154, mean_q: 0.055632, mean_eps: 0.100000\n",
            " 54872/60000: episode: 248, duration: 33.358s, episode steps: 139, steps per second:   4, episode reward:  0.000, mean reward:  0.000 [ 0.000,  0.000], mean action: 1.338 [0.000, 3.000],  loss: 0.000075, mae: 0.039557, mean_q: 0.053411, mean_eps: 0.100000\n",
            " 55130/60000: episode: 249, duration: 61.794s, episode steps: 258, steps per second:   4, episode reward:  3.000, mean reward:  0.012 [ 0.000,  1.000], mean action: 1.120 [0.000, 3.000],  loss: 0.000167, mae: 0.042146, mean_q: 0.056830, mean_eps: 0.100000\n",
            " 55479/60000: episode: 250, duration: 84.930s, episode steps: 349, steps per second:   4, episode reward:  3.000, mean reward:  0.009 [ 0.000,  1.000], mean action: 1.352 [0.000, 3.000],  loss: 0.000143, mae: 0.041458, mean_q: 0.056023, mean_eps: 0.100000\n",
            " 55671/60000: episode: 251, duration: 46.518s, episode steps: 192, steps per second:   4, episode reward:  0.000, mean reward:  0.000 [ 0.000,  0.000], mean action: 1.333 [0.000, 3.000],  loss: 0.000245, mae: 0.042102, mean_q: 0.057048, mean_eps: 0.100000\n",
            " 56069/60000: episode: 252, duration: 95.047s, episode steps: 398, steps per second:   4, episode reward:  4.000, mean reward:  0.010 [ 0.000,  1.000], mean action: 1.661 [0.000, 3.000],  loss: 0.000182, mae: 0.041267, mean_q: 0.055609, mean_eps: 0.100000\n",
            " 56348/60000: episode: 253, duration: 67.551s, episode steps: 279, steps per second:   4, episode reward:  2.000, mean reward:  0.007 [ 0.000,  1.000], mean action: 1.394 [0.000, 3.000],  loss: 0.000129, mae: 0.040782, mean_q: 0.055121, mean_eps: 0.100000\n",
            " 56656/60000: episode: 254, duration: 72.580s, episode steps: 308, steps per second:   4, episode reward:  4.000, mean reward:  0.013 [ 0.000,  1.000], mean action: 1.643 [0.000, 3.000],  loss: 0.000104, mae: 0.040762, mean_q: 0.055228, mean_eps: 0.100000\n",
            " 57013/60000: episode: 255, duration: 88.024s, episode steps: 357, steps per second:   4, episode reward:  1.000, mean reward:  0.003 [ 0.000,  1.000], mean action: 1.218 [0.000, 3.000],  loss: 0.000062, mae: 0.039696, mean_q: 0.053799, mean_eps: 0.100000\n",
            " 57415/60000: episode: 256, duration: 98.444s, episode steps: 402, steps per second:   4, episode reward:  4.000, mean reward:  0.010 [ 0.000,  1.000], mean action: 1.381 [0.000, 3.000],  loss: 0.000064, mae: 0.040759, mean_q: 0.055104, mean_eps: 0.100000\n",
            " 57646/60000: episode: 257, duration: 58.493s, episode steps: 231, steps per second:   4, episode reward:  1.000, mean reward:  0.004 [ 0.000,  1.000], mean action: 1.273 [0.000, 3.000],  loss: 0.000184, mae: 0.041042, mean_q: 0.055091, mean_eps: 0.100000\n",
            " 57932/60000: episode: 258, duration: 69.586s, episode steps: 286, steps per second:   4, episode reward:  3.000, mean reward:  0.010 [ 0.000,  1.000], mean action: 1.318 [0.000, 3.000],  loss: 0.000098, mae: 0.039733, mean_q: 0.053958, mean_eps: 0.100000\n",
            " 58191/60000: episode: 259, duration: 64.156s, episode steps: 259, steps per second:   4, episode reward:  1.000, mean reward:  0.004 [ 0.000,  1.000], mean action: 0.807 [0.000, 3.000],  loss: 0.000029, mae: 0.039338, mean_q: 0.053182, mean_eps: 0.100000\n",
            " 58487/60000: episode: 260, duration: 73.695s, episode steps: 296, steps per second:   4, episode reward:  2.000, mean reward:  0.007 [ 0.000,  1.000], mean action: 1.831 [0.000, 3.000],  loss: 0.000066, mae: 0.041498, mean_q: 0.056126, mean_eps: 0.100000\n",
            " 58696/60000: episode: 261, duration: 50.942s, episode steps: 209, steps per second:   4, episode reward:  0.000, mean reward:  0.000 [ 0.000,  0.000], mean action: 1.316 [0.000, 3.000],  loss: 0.000070, mae: 0.039612, mean_q: 0.053496, mean_eps: 0.100000\n",
            " 58936/60000: episode: 262, duration: 60.005s, episode steps: 240, steps per second:   4, episode reward:  3.000, mean reward:  0.013 [ 0.000,  1.000], mean action: 1.717 [0.000, 3.000],  loss: 0.000139, mae: 0.039724, mean_q: 0.053465, mean_eps: 0.100000\n",
            " 59287/60000: episode: 263, duration: 85.895s, episode steps: 351, steps per second:   4, episode reward:  1.000, mean reward:  0.003 [ 0.000,  1.000], mean action: 1.530 [0.000, 3.000],  loss: 0.000105, mae: 0.040433, mean_q: 0.054657, mean_eps: 0.100000\n",
            " 59472/60000: episode: 264, duration: 45.994s, episode steps: 185, steps per second:   4, episode reward:  1.000, mean reward:  0.005 [ 0.000,  1.000], mean action: 1.530 [0.000, 3.000],  loss: 0.000147, mae: 0.040800, mean_q: 0.055093, mean_eps: 0.100000\n",
            "done, took 5195.067 seconds\n"
          ]
        }
      ],
      "source": [
        "weights_filename = '/content/drive/MyDrive/dqn/DQN_Breakout_Weights.h5'\n",
        "checkpoint_weights_filename = '/content/drive/MyDrive/dqn_breakout_weights_{step}.h5f'\n",
        "log_filename = '/content/drive/MyDrive/dqn_breakout_log.json'\n",
        "\n",
        "# callbacks interval\n",
        "interval = 50000\n",
        "\n",
        "callbacks = [ModelIntervalCheckpoint(checkpoint_weights_filename, interval=interval)]\n",
        "callbacks += [FileLogger(log_filename, interval=100)]\n",
        "\n",
        "# train\n",
        "training_steps = DQN_CONFIG['training_steps']\n",
        "dqn.fit(env, callbacks=callbacks, nb_steps=training_steps, log_interval=10000, verbose=2)\n",
        "\n",
        "# save the final weights after training completes\n",
        "dqn.save_weights(weights_filename, overwrite=True)"
      ]
    },
    {
      "cell_type": "markdown",
      "source": [
        "#### **agent play while we evaluate it and record the gameplay (*we hopes*)**"
      ],
      "metadata": {
        "id": "zRy0edhs2ZWr"
      }
    },
    {
      "cell_type": "code",
      "execution_count": null,
      "metadata": {
        "id": "fqBmcWYjP6eN"
      },
      "outputs": [],
      "source": [
        "# not yet implemented\n",
        "# purpose: for user to be able to pull the weights from this project's training\n",
        "#  to evaluate the agent and/or continue training\n",
        "!wget https://github.com/spindoken/atlasschool-machine_learning/reinforcement_learning/Deep_Q_Learning/policy.h5 -O policy.h5"
      ]
    },
    {
      "cell_type": "markdown",
      "source": [
        "code to evaluate agent without recording or rendering"
      ],
      "metadata": {
        "id": "KEeFb2CZtkWR"
      }
    },
    {
      "cell_type": "code",
      "execution_count": null,
      "metadata": {
        "colab": {
          "base_uri": "https://localhost:8080/",
          "height": 390
        },
        "id": "e_N7CzM5Vpsy",
        "outputId": "f8f94d1c-c2db-4774-a4a9-a28c73dca0c0"
      },
      "outputs": [
        {
          "output_type": "error",
          "ename": "ValueError",
          "evalue": "Layer count mismatch when loading weights from file. Model expected 5 layers, found 6 saved layers.",
          "traceback": [
            "\u001b[0;31m---------------------------------------------------------------------------\u001b[0m",
            "\u001b[0;31mValueError\u001b[0m                                Traceback (most recent call last)",
            "\u001b[0;32m<ipython-input-30-312d8379d9b3>\u001b[0m in \u001b[0;36m<cell line: 3>\u001b[0;34m()\u001b[0m\n\u001b[1;32m      1\u001b[0m \u001b[0mweights_filename\u001b[0m \u001b[0;34m=\u001b[0m \u001b[0;34m'/content/drive/MyDrive/dqn/DQN_Breakout_Weights.h5'\u001b[0m\u001b[0;34m\u001b[0m\u001b[0;34m\u001b[0m\u001b[0m\n\u001b[1;32m      2\u001b[0m \u001b[0;34m\u001b[0m\u001b[0m\n\u001b[0;32m----> 3\u001b[0;31m \u001b[0mdqn\u001b[0m\u001b[0;34m.\u001b[0m\u001b[0mload_weights\u001b[0m\u001b[0;34m(\u001b[0m\u001b[0mweights_filename\u001b[0m\u001b[0;34m)\u001b[0m\u001b[0;34m\u001b[0m\u001b[0;34m\u001b[0m\u001b[0m\n\u001b[0m\u001b[1;32m      4\u001b[0m \u001b[0;34m\u001b[0m\u001b[0m\n\u001b[1;32m      5\u001b[0m \u001b[0;31m# evaluate for 10 episodes\u001b[0m\u001b[0;34m\u001b[0m\u001b[0;34m\u001b[0m\u001b[0m\n",
            "\u001b[0;32m/usr/local/lib/python3.10/dist-packages/rl/agents/dqn.py\u001b[0m in \u001b[0;36mload_weights\u001b[0;34m(self, filepath)\u001b[0m\n\u001b[1;32m    203\u001b[0m \u001b[0;34m\u001b[0m\u001b[0m\n\u001b[1;32m    204\u001b[0m     \u001b[0;32mdef\u001b[0m \u001b[0mload_weights\u001b[0m\u001b[0;34m(\u001b[0m\u001b[0mself\u001b[0m\u001b[0;34m,\u001b[0m \u001b[0mfilepath\u001b[0m\u001b[0;34m)\u001b[0m\u001b[0;34m:\u001b[0m\u001b[0;34m\u001b[0m\u001b[0;34m\u001b[0m\u001b[0m\n\u001b[0;32m--> 205\u001b[0;31m         \u001b[0mself\u001b[0m\u001b[0;34m.\u001b[0m\u001b[0mmodel\u001b[0m\u001b[0;34m.\u001b[0m\u001b[0mload_weights\u001b[0m\u001b[0;34m(\u001b[0m\u001b[0mfilepath\u001b[0m\u001b[0;34m)\u001b[0m\u001b[0;34m\u001b[0m\u001b[0;34m\u001b[0m\u001b[0m\n\u001b[0m\u001b[1;32m    206\u001b[0m         \u001b[0mself\u001b[0m\u001b[0;34m.\u001b[0m\u001b[0mupdate_target_model_hard\u001b[0m\u001b[0;34m(\u001b[0m\u001b[0;34m)\u001b[0m\u001b[0;34m\u001b[0m\u001b[0;34m\u001b[0m\u001b[0m\n\u001b[1;32m    207\u001b[0m \u001b[0;34m\u001b[0m\u001b[0m\n",
            "\u001b[0;32m/usr/local/lib/python3.10/dist-packages/keras/engine/training_v1.py\u001b[0m in \u001b[0;36mload_weights\u001b[0;34m(self, filepath, by_name, skip_mismatch)\u001b[0m\n\u001b[1;32m    220\u001b[0m                     \u001b[0;34m\"with steps_per_run greater than 1.\"\u001b[0m\u001b[0;34m\u001b[0m\u001b[0;34m\u001b[0m\u001b[0m\n\u001b[1;32m    221\u001b[0m                 )\n\u001b[0;32m--> 222\u001b[0;31m         \u001b[0;32mreturn\u001b[0m \u001b[0msuper\u001b[0m\u001b[0;34m(\u001b[0m\u001b[0;34m)\u001b[0m\u001b[0;34m.\u001b[0m\u001b[0mload_weights\u001b[0m\u001b[0;34m(\u001b[0m\u001b[0mfilepath\u001b[0m\u001b[0;34m,\u001b[0m \u001b[0mby_name\u001b[0m\u001b[0;34m,\u001b[0m \u001b[0mskip_mismatch\u001b[0m\u001b[0;34m)\u001b[0m\u001b[0;34m\u001b[0m\u001b[0;34m\u001b[0m\u001b[0m\n\u001b[0m\u001b[1;32m    223\u001b[0m \u001b[0;34m\u001b[0m\u001b[0m\n\u001b[1;32m    224\u001b[0m     \u001b[0;34m@\u001b[0m\u001b[0mtf\u001b[0m\u001b[0;34m.\u001b[0m\u001b[0m__internal__\u001b[0m\u001b[0;34m.\u001b[0m\u001b[0mtracking\u001b[0m\u001b[0;34m.\u001b[0m\u001b[0mno_automatic_dependency_tracking\u001b[0m\u001b[0;34m\u001b[0m\u001b[0;34m\u001b[0m\u001b[0m\n",
            "\u001b[0;32m/usr/local/lib/python3.10/dist-packages/keras/utils/traceback_utils.py\u001b[0m in \u001b[0;36merror_handler\u001b[0;34m(*args, **kwargs)\u001b[0m\n\u001b[1;32m     68\u001b[0m             \u001b[0;31m# To get the full stack trace, call:\u001b[0m\u001b[0;34m\u001b[0m\u001b[0;34m\u001b[0m\u001b[0m\n\u001b[1;32m     69\u001b[0m             \u001b[0;31m# `tf.debugging.disable_traceback_filtering()`\u001b[0m\u001b[0;34m\u001b[0m\u001b[0;34m\u001b[0m\u001b[0m\n\u001b[0;32m---> 70\u001b[0;31m             \u001b[0;32mraise\u001b[0m \u001b[0me\u001b[0m\u001b[0;34m.\u001b[0m\u001b[0mwith_traceback\u001b[0m\u001b[0;34m(\u001b[0m\u001b[0mfiltered_tb\u001b[0m\u001b[0;34m)\u001b[0m \u001b[0;32mfrom\u001b[0m \u001b[0;32mNone\u001b[0m\u001b[0;34m\u001b[0m\u001b[0;34m\u001b[0m\u001b[0m\n\u001b[0m\u001b[1;32m     71\u001b[0m         \u001b[0;32mfinally\u001b[0m\u001b[0;34m:\u001b[0m\u001b[0;34m\u001b[0m\u001b[0;34m\u001b[0m\u001b[0m\n\u001b[1;32m     72\u001b[0m             \u001b[0;32mdel\u001b[0m \u001b[0mfiltered_tb\u001b[0m\u001b[0;34m\u001b[0m\u001b[0;34m\u001b[0m\u001b[0m\n",
            "\u001b[0;32m/usr/local/lib/python3.10/dist-packages/keras/saving/legacy/hdf5_format.py\u001b[0m in \u001b[0;36mload_weights_from_hdf5_group\u001b[0;34m(f, model)\u001b[0m\n\u001b[1;32m    810\u001b[0m     \u001b[0mlayer_names\u001b[0m \u001b[0;34m=\u001b[0m \u001b[0mfiltered_layer_names\u001b[0m\u001b[0;34m\u001b[0m\u001b[0;34m\u001b[0m\u001b[0m\n\u001b[1;32m    811\u001b[0m     \u001b[0;32mif\u001b[0m \u001b[0mlen\u001b[0m\u001b[0;34m(\u001b[0m\u001b[0mlayer_names\u001b[0m\u001b[0;34m)\u001b[0m \u001b[0;34m!=\u001b[0m \u001b[0mlen\u001b[0m\u001b[0;34m(\u001b[0m\u001b[0mfiltered_layers\u001b[0m\u001b[0;34m)\u001b[0m\u001b[0;34m:\u001b[0m\u001b[0;34m\u001b[0m\u001b[0;34m\u001b[0m\u001b[0m\n\u001b[0;32m--> 812\u001b[0;31m         raise ValueError(\n\u001b[0m\u001b[1;32m    813\u001b[0m             \u001b[0;34m\"Layer count mismatch when loading weights from file. \"\u001b[0m\u001b[0;34m\u001b[0m\u001b[0;34m\u001b[0m\u001b[0m\n\u001b[1;32m    814\u001b[0m             \u001b[0;34mf\"Model expected {len(filtered_layers)} layers, found \"\u001b[0m\u001b[0;34m\u001b[0m\u001b[0;34m\u001b[0m\u001b[0m\n",
            "\u001b[0;31mValueError\u001b[0m: Layer count mismatch when loading weights from file. Model expected 5 layers, found 6 saved layers."
          ]
        }
      ],
      "source": [
        "weights_filename = '/content/drive/MyDrive/dqn/DQN_Breakout_Weights.h5'\n",
        "\n",
        "dqn.load_weights(weights_filename)\n",
        "\n",
        "# evaluate for 10 episodes\n",
        "dqn.test(env, nb_episodes=1, visualize=False)"
      ]
    },
    {
      "cell_type": "markdown",
      "metadata": {
        "id": "Yeib1Bi4T2vR"
      },
      "source": [
        "The code below will save the AI gameplay videos to the specified folder. A Video will be saved for each AI episode.<br>\n",
        "The AI will utilize the weights filename that is specified in order to play the specified amount of episodes.\n",
        "I was not able to get test to work properly with recording. I am unsure if this is due to a bug from using an odd combination of a certain tf version and other libraries or if I didn't properly initialize the agent for testing."
      ]
    },
    {
      "cell_type": "code",
      "execution_count": null,
      "metadata": {
        "colab": {
          "base_uri": "https://localhost:8080/"
        },
        "id": "nEQeyNy_itWc",
        "outputId": "b0888a4b-c241-427f-de02-58169572945f"
      },
      "outputs": [
        {
          "output_type": "stream",
          "name": "stderr",
          "text": [
            "/usr/local/lib/python3.10/dist-packages/gym/core.py:317: DeprecationWarning: \u001b[33mWARN: Initializing wrapper in old step API which returns one bool instead of two. It is recommended to set `new_step_api=True` to use new step API. This will be the default behaviour in future.\u001b[0m\n",
            "  deprecation(\n",
            "/usr/local/lib/python3.10/dist-packages/gym/wrappers/record_video.py:78: UserWarning: \u001b[33mWARN: Overwriting existing videos at /content/drive/MyDrive/dqn/AIgameplayVODs folder (try specifying a different `video_folder` for the `RecordVideo` wrapper if this is not desired)\u001b[0m\n",
            "  logger.warn(\n"
          ]
        },
        {
          "output_type": "stream",
          "name": "stdout",
          "text": [
            "Testing for 1 episodes ...\n"
          ]
        },
        {
          "output_type": "stream",
          "name": "stderr",
          "text": [
            "/usr/local/lib/python3.10/dist-packages/gym/wrappers/monitoring/video_recorder.py:78: DeprecationWarning: \u001b[33mWARN: Recording ability for environment ALE/Breakout-v5 initialized with `render_mode=None` is marked as deprecated and will be removed in the future.\u001b[0m\n",
            "  logger.deprecation(\n",
            "/usr/local/lib/python3.10/dist-packages/gym/core.py:43: DeprecationWarning: \u001b[33mWARN: The argument mode in render method is deprecated; use render_mode during environment initialization instead.\n",
            "See here for more information: https://www.gymlibrary.ml/content/api/\u001b[0m\n",
            "  deprecation(\n",
            "/usr/local/lib/python3.10/dist-packages/gym/utils/passive_env_checker.py:297: UserWarning: \u001b[33mWARN: No render fps was declared in the environment (env.metadata['render_fps'] is None or not defined), rendering may occur at inconsistent fps.\u001b[0m\n",
            "  logger.warn(\n",
            "/usr/local/lib/python3.10/dist-packages/gym/core.py:43: DeprecationWarning: \u001b[33mWARN: The argument mode in render method is deprecated; use render_mode during environment initialization instead.\n",
            "See here for more information: https://www.gymlibrary.ml/content/api/\u001b[0m\n",
            "  deprecation(\n"
          ]
        },
        {
          "output_type": "stream",
          "name": "stdout",
          "text": [
            "Episode 1: reward: 0.000, steps: 27000\n"
          ]
        }
      ],
      "source": [
        "import gym\n",
        "from gym.wrappers import RecordEpisodeStatistics, RecordVideo\n",
        "\n",
        "# wrap environment with the RecordEpisodeStatistics wrapper\n",
        "env = RecordEpisodeStatistics(env)  # this will record the episode statistics\n",
        "\n",
        "# wrap environment with RecordVideo wrapper\n",
        "# this wrapper will record each episode of the agent playing\n",
        "env = RecordVideo(env, '/content/drive/MyDrive/dqn/AIgameplayVODs', episode_trigger=lambda episode: True)\n",
        "\n",
        "# load the trained weights\n",
        "weights_file = '/content/drive/MyDrive/dqn/DQN_Breakout_Weights.h5'\n",
        "dqn.load_weights(weights_file)\n",
        "\n",
        "# evaluate AI\n",
        "nb_episodes = 1  # number of runs for the AI to play\n",
        "dqn.test(env, nb_episodes=1, visualize=False)\n",
        "\n",
        "env.close()"
      ]
    },
    {
      "cell_type": "markdown",
      "source": [
        "code below will load a video from drive and play it in colab"
      ],
      "metadata": {
        "id": "4XK7JMTN4HvT"
      }
    },
    {
      "cell_type": "code",
      "execution_count": null,
      "metadata": {
        "id": "S7kh72gHjOle",
        "colab": {
          "resources": {
            "http://localhost:8080/content/drive/MyDrive/dqn/AIgameplayVODs/rl-video-episode-0.mp4": {
              "data": "CjwhRE9DVFlQRSBodG1sPgo8aHRtbCBsYW5nPWVuPgogIDxtZXRhIGNoYXJzZXQ9dXRmLTg+CiAgPG1ldGEgbmFtZT12aWV3cG9ydCBjb250ZW50PSJpbml0aWFsLXNjYWxlPTEsIG1pbmltdW0tc2NhbGU9MSwgd2lkdGg9ZGV2aWNlLXdpZHRoIj4KICA8dGl0bGU+RXJyb3IgNDA0IChOb3QgRm91bmQpISExPC90aXRsZT4KICA8c3R5bGU+CiAgICAqe21hcmdpbjowO3BhZGRpbmc6MH1odG1sLGNvZGV7Zm9udDoxNXB4LzIycHggYXJpYWwsc2Fucy1zZXJpZn1odG1se2JhY2tncm91bmQ6I2ZmZjtjb2xvcjojMjIyO3BhZGRpbmc6MTVweH1ib2R5e21hcmdpbjo3JSBhdXRvIDA7bWF4LXdpZHRoOjM5MHB4O21pbi1oZWlnaHQ6MTgwcHg7cGFkZGluZzozMHB4IDAgMTVweH0qID4gYm9keXtiYWNrZ3JvdW5kOnVybCgvL3d3dy5nb29nbGUuY29tL2ltYWdlcy9lcnJvcnMvcm9ib3QucG5nKSAxMDAlIDVweCBuby1yZXBlYXQ7cGFkZGluZy1yaWdodDoyMDVweH1we21hcmdpbjoxMXB4IDAgMjJweDtvdmVyZmxvdzpoaWRkZW59aW5ze2NvbG9yOiM3Nzc7dGV4dC1kZWNvcmF0aW9uOm5vbmV9YSBpbWd7Ym9yZGVyOjB9QG1lZGlhIHNjcmVlbiBhbmQgKG1heC13aWR0aDo3NzJweCl7Ym9keXtiYWNrZ3JvdW5kOm5vbmU7bWFyZ2luLXRvcDowO21heC13aWR0aDpub25lO3BhZGRpbmctcmlnaHQ6MH19I2xvZ297YmFja2dyb3VuZDp1cmwoLy93d3cuZ29vZ2xlLmNvbS9pbWFnZXMvbG9nb3MvZXJyb3JwYWdlL2Vycm9yX2xvZ28tMTUweDU0LnBuZykgbm8tcmVwZWF0O21hcmdpbi1sZWZ0Oi01cHh9QG1lZGlhIG9ubHkgc2NyZWVuIGFuZCAobWluLXJlc29sdXRpb246MTkyZHBpKXsjbG9nb3tiYWNrZ3JvdW5kOnVybCgvL3d3dy5nb29nbGUuY29tL2ltYWdlcy9sb2dvcy9lcnJvcnBhZ2UvZXJyb3JfbG9nby0xNTB4NTQtMngucG5nKSBuby1yZXBlYXQgMCUgMCUvMTAwJSAxMDAlOy1tb3otYm9yZGVyLWltYWdlOnVybCgvL3d3dy5nb29nbGUuY29tL2ltYWdlcy9sb2dvcy9lcnJvcnBhZ2UvZXJyb3JfbG9nby0xNTB4NTQtMngucG5nKSAwfX1AbWVkaWEgb25seSBzY3JlZW4gYW5kICgtd2Via2l0LW1pbi1kZXZpY2UtcGl4ZWwtcmF0aW86Mil7I2xvZ297YmFja2dyb3VuZDp1cmwoLy93d3cuZ29vZ2xlLmNvbS9pbWFnZXMvbG9nb3MvZXJyb3JwYWdlL2Vycm9yX2xvZ28tMTUweDU0LTJ4LnBuZykgbm8tcmVwZWF0Oy13ZWJraXQtYmFja2dyb3VuZC1zaXplOjEwMCUgMTAwJX19I2xvZ297ZGlzcGxheTppbmxpbmUtYmxvY2s7aGVpZ2h0OjU0cHg7d2lkdGg6MTUwcHh9CiAgPC9zdHlsZT4KICA8YSBocmVmPS8vd3d3Lmdvb2dsZS5jb20vPjxzcGFuIGlkPWxvZ28gYXJpYS1sYWJlbD1Hb29nbGU+PC9zcGFuPjwvYT4KICA8cD48Yj40MDQuPC9iPiA8aW5zPlRoYXTigJlzIGFuIGVycm9yLjwvaW5zPgogIDxwPiAgPGlucz5UaGF04oCZcyBhbGwgd2Uga25vdy48L2lucz4K",
              "ok": false,
              "headers": [
                [
                  "content-length",
                  "1449"
                ],
                [
                  "content-type",
                  "text/html; charset=utf-8"
                ]
              ],
              "status": 404,
              "status_text": ""
            }
          },
          "base_uri": "https://localhost:8080/",
          "height": 171
        },
        "outputId": "2469a30e-8275-4485-a007-83400f40682b"
      },
      "outputs": [
        {
          "output_type": "execute_result",
          "data": {
            "text/plain": [
              "<IPython.core.display.Video object>"
            ],
            "text/html": [
              "<video src=\"/content/drive/MyDrive/dqn/AIgameplayVODs/rl-video-episode-0.mp4\" controls  >\n",
              "      Your browser does not support the <code>video</code> element.\n",
              "    </video>"
            ]
          },
          "metadata": {},
          "execution_count": 21
        }
      ],
      "source": [
        "from IPython.display import HTML\n",
        "from base64 import b64encode\n",
        "\n",
        "def play_video(video_path):\n",
        "    \"\"\"\n",
        "    workaround to display a video in colab\n",
        "\n",
        "    Args:\n",
        "        video_path: Path to the video file.\n",
        "    \"\"\"\n",
        "    mp4 = open(video_path,'rb').read()\n",
        "    data_url = \"data:video/mp4;base64,\" + b64encode(mp4).decode()\n",
        "    return HTML(\"\"\"\n",
        "    <video width=400 controls>\n",
        "        <source src=\"%s\" type=\"video/mp4\">\n",
        "    </video>\n",
        "    \"\"\" % data_url)\n",
        "\n",
        "video_path = '/content/drive/MyDrive/dqn/AIgameplayVODs/rl-video-episode-0.mp4'\n",
        "play_video(video_path)\n",
        "\n"
      ]
    },
    {
      "cell_type": "markdown",
      "source": [
        "#### renderer dump\n",
        "The code below is not currently functioning as intended."
      ],
      "metadata": {
        "id": "VUcfUOr62g-W"
      }
    },
    {
      "cell_type": "code",
      "source": [
        "from rl.callbacks import Callback\n",
        "import matplotlib.pyplot as plt\n",
        "from IPython import display\n",
        "\n",
        "class Render(Callback):\n",
        "    def on_step_end(self, step, logs={}):\n",
        "        plt.clf()\n",
        "        plt.imshow(env.render(mode='rgb_array'))\n",
        "        display.display(plt.gcf())\n",
        "        display.clear_output(wait=True)"
      ],
      "metadata": {
        "id": "oZ_uZNUlEUgP"
      },
      "execution_count": null,
      "outputs": []
    },
    {
      "cell_type": "code",
      "source": [
        "dqn.test(env, nb_episodes=1, visualize=False, callbacks=[Render()])"
      ],
      "metadata": {
        "colab": {
          "base_uri": "https://localhost:8080/",
          "height": 175
        },
        "id": "hZzUk5ygErUm",
        "outputId": "36f01fd1-1cd1-43f0-cb40-946b3d938682"
      },
      "execution_count": null,
      "outputs": [
        {
          "output_type": "error",
          "ename": "NameError",
          "evalue": "name 'Render' is not defined",
          "traceback": [
            "\u001b[0;31m---------------------------------------------------------------------------\u001b[0m",
            "\u001b[0;31mNameError\u001b[0m                                 Traceback (most recent call last)",
            "\u001b[0;32m<ipython-input-47-bb45213bbe8c>\u001b[0m in \u001b[0;36m<cell line: 1>\u001b[0;34m()\u001b[0m\n\u001b[0;32m----> 1\u001b[0;31m \u001b[0mdqn\u001b[0m\u001b[0;34m.\u001b[0m\u001b[0mtest\u001b[0m\u001b[0;34m(\u001b[0m\u001b[0menv\u001b[0m\u001b[0;34m,\u001b[0m \u001b[0mnb_episodes\u001b[0m\u001b[0;34m=\u001b[0m\u001b[0;36m1\u001b[0m\u001b[0;34m,\u001b[0m \u001b[0mvisualize\u001b[0m\u001b[0;34m=\u001b[0m\u001b[0;32mFalse\u001b[0m\u001b[0;34m,\u001b[0m \u001b[0mcallbacks\u001b[0m\u001b[0;34m=\u001b[0m\u001b[0;34m[\u001b[0m\u001b[0mRender\u001b[0m\u001b[0;34m(\u001b[0m\u001b[0;34m)\u001b[0m\u001b[0;34m]\u001b[0m\u001b[0;34m)\u001b[0m\u001b[0;34m\u001b[0m\u001b[0;34m\u001b[0m\u001b[0m\n\u001b[0m",
            "\u001b[0;31mNameError\u001b[0m: name 'Render' is not defined"
          ]
        }
      ]
    },
    {
      "cell_type": "markdown",
      "source": [
        "# **DEEP Q-LEARNING WITH A  DOUBLE DUELING Q-NETWORK (DDQN)**"
      ],
      "metadata": {
        "id": "HO_nlg7vQ0hV"
      }
    },
    {
      "cell_type": "markdown",
      "source": [
        "## Full Environment Set-Up\n",
        "This is includes installs, imports, config, lr scheduler, processing, policy, dqn, and model. <br>\n",
        "Will have to run the first code block (tf version set-up) twice as it has a built in runtime reset built-in in order to reset tensorflow in environment."
      ],
      "metadata": {
        "id": "6fvDkNflaibf"
      }
    },
    {
      "cell_type": "code",
      "execution_count": null,
      "metadata": {
        "colab": {
          "base_uri": "https://localhost:8080/"
        },
        "id": "bvT5oHi5jvnT",
        "outputId": "0d26fbb1-6e00-4675-aeb3-8aa0fc8b8273"
      },
      "outputs": [
        {
          "output_type": "stream",
          "name": "stdout",
          "text": [
            "\u001b[2K     \u001b[90m━━━━━━━━━━━━━━━━━━━━━━━━━━━━━━━━━━━━━━━━\u001b[0m \u001b[32m52.1/52.1 kB\u001b[0m \u001b[31m1.3 MB/s\u001b[0m eta \u001b[36m0:00:00\u001b[0m\n",
            "\u001b[2K     \u001b[90m━━━━━━━━━━━━━━━━━━━━━━━━━━━━━━━━━━━━━━━━\u001b[0m \u001b[32m1.6/1.6 MB\u001b[0m \u001b[31m27.8 MB/s\u001b[0m eta \u001b[36m0:00:00\u001b[0m\n",
            "\u001b[2K     \u001b[90m━━━━━━━━━━━━━━━━━━━━━━━━━━━━━━━━━━━━━━━━\u001b[0m \u001b[32m434.7/434.7 kB\u001b[0m \u001b[31m31.4 MB/s\u001b[0m eta \u001b[36m0:00:00\u001b[0m\n",
            "\u001b[?25h  Installing build dependencies ... \u001b[?25l\u001b[?25hdone\n",
            "  Getting requirements to build wheel ... \u001b[?25l\u001b[?25hdone\n",
            "  Preparing metadata (pyproject.toml) ... \u001b[?25l\u001b[?25hdone\n",
            "  Building wheel for AutoROM.accept-rom-license (pyproject.toml) ... \u001b[?25l\u001b[?25hdone\n",
            "Drive already mounted at /content/drive; to attempt to forcibly remount, call drive.mount(\"/content/drive\", force_remount=True).\n"
          ]
        }
      ],
      "source": [
        "import os\n",
        "import tensorflow as tf\n",
        "# check if tf version is 2.11.0, if not: install it\n",
        "if tf.__version__ != '2.11.0':\n",
        "    !pip install tensorflow==2.11.0 --quiet\n",
        "    os.kill(os.getpid(), 9)\n",
        "\n",
        "# install all required libraries\n",
        "!pip install gym[atari] gym[accept-rom-license] keras-rl2 --quiet\n",
        "\n",
        "from google.colab import drive\n",
        "drive.mount('/content/drive')"
      ]
    },
    {
      "cell_type": "code",
      "execution_count": null,
      "metadata": {
        "colab": {
          "base_uri": "https://localhost:8080/"
        },
        "id": "Cj5vYNtCbHLq",
        "outputId": "29605e85-b338-49b5-9f88-1a9e3d3bbe77"
      },
      "outputs": [
        {
          "output_type": "stream",
          "name": "stderr",
          "text": [
            "/usr/local/lib/python3.10/dist-packages/gym/core.py:317: DeprecationWarning: \u001b[33mWARN: Initializing wrapper in old step API which returns one bool instead of two. It is recommended to set `new_step_api=True` to use new step API. This will be the default behaviour in future.\u001b[0m\n",
            "  deprecation(\n",
            "/usr/local/lib/python3.10/dist-packages/gym/wrappers/step_api_compatibility.py:39: DeprecationWarning: \u001b[33mWARN: Initializing environment in old step API which returns one bool instead of two. It is recommended to set `new_step_api=True` to use new step API. This will be the default behaviour in future.\u001b[0m\n",
            "  deprecation(\n"
          ]
        },
        {
          "output_type": "stream",
          "name": "stdout",
          "text": [
            "Model: \"model\"\n",
            "__________________________________________________________________________________________________\n",
            " Layer (type)                   Output Shape         Param #     Connected to                     \n",
            "==================================================================================================\n",
            " input_1 (InputLayer)           [(None, 4, 84, 84)]  0           []                               \n",
            "                                                                                                  \n",
            " permute (Permute)              (None, 84, 84, 4)    0           ['input_1[0][0]']                \n",
            "                                                                                                  \n",
            " conv2d (Conv2D)                (None, 20, 20, 32)   8224        ['permute[0][0]']                \n",
            "                                                                                                  \n",
            " conv2d_1 (Conv2D)              (None, 9, 9, 64)     32832       ['conv2d[0][0]']                 \n",
            "                                                                                                  \n",
            " conv2d_2 (Conv2D)              (None, 7, 7, 64)     36928       ['conv2d_1[0][0]']               \n",
            "                                                                                                  \n",
            " flatten (Flatten)              (None, 3136)         0           ['conv2d_2[0][0]']               \n",
            "                                                                                                  \n",
            " dense (Dense)                  (None, 512)          1606144     ['flatten[0][0]']                \n",
            "                                                                                                  \n",
            " dense_2 (Dense)                (None, 512)          1606144     ['flatten[0][0]']                \n",
            "                                                                                                  \n",
            " dense_1 (Dense)                (None, 1)            513         ['dense[0][0]']                  \n",
            "                                                                                                  \n",
            " dense_3 (Dense)                (None, 4)            2052        ['dense_2[0][0]']                \n",
            "                                                                                                  \n",
            " lambda (Lambda)                (None, 4)            0           ['dense_1[0][0]',                \n",
            "                                                                  'dense_3[0][0]']                \n",
            "                                                                                                  \n",
            "==================================================================================================\n",
            "Total params: 3,292,837\n",
            "Trainable params: 3,292,837\n",
            "Non-trainable params: 0\n",
            "__________________________________________________________________________________________________\n",
            "None\n"
          ]
        },
        {
          "output_type": "stream",
          "name": "stderr",
          "text": [
            "WARNING:tensorflow:From /usr/local/lib/python3.10/dist-packages/tensorflow/python/autograph/pyct/static_analysis/liveness.py:83: Analyzer.lamba_check (from tensorflow.python.autograph.pyct.static_analysis.liveness) is deprecated and will be removed after 2023-09-23.\n",
            "Instructions for updating:\n",
            "Lambda fuctions will be no more assumed to be used in the statement where they are used, or at least in the same block. https://github.com/tensorflow/tensorflow/issues/56089\n"
          ]
        }
      ],
      "source": [
        "import os\n",
        "import tensorflow as tf\n",
        "from tensorflow.keras.models import Sequential, Model\n",
        "from tensorflow.keras.layers import Dense, Flatten, Conv2D, Activation, Permute, Convolution2D, Input, Lambda\n",
        "from tensorflow.keras.optimizers.legacy import Adam\n",
        "from tensorflow.keras.optimizers.schedules import ExponentialDecay\n",
        "from rl.agents.dqn import DQNAgent\n",
        "from rl.policy import LinearAnnealedPolicy, EpsGreedyQPolicy\n",
        "from rl.memory import SequentialMemory\n",
        "from rl.callbacks import ModelIntervalCheckpoint, FileLogger\n",
        "from PIL import Image\n",
        "import numpy as np\n",
        "from rl.core import Processor\n",
        "import gym\n",
        "import ale_py\n",
        "import matplotlib.pyplot as plt\n",
        "from gym.wrappers import RecordEpisodeStatistics, RecordVideo\n",
        "\n",
        "# make the gym enviornment using rgb mode\n",
        "env = gym.make('ALE/Breakout-v5', obs_type='rgb', frameskip=4, mode=None, difficulty=None, repeat_action_probability=0.25, full_action_space=False, render_mode='rgb_array')\n",
        "\n",
        "# random seeds for reproducibility\n",
        "np.random.seed(123)\n",
        "env.seed(123)\n",
        "\n",
        "# hyperparameters for easy adjusting\n",
        "DQN_CONFIG = {\n",
        "    'initial_learning_rate': 1e-4,\n",
        "    'decay_steps': 100000,\n",
        "    'decay_rate': 0.96,\n",
        "    'staircase': True,\n",
        "    'input_shape': (84, 84),\n",
        "    'memory_limit': 1000000,\n",
        "    'window_length': 4,\n",
        "    'target_model_update': 10000,\n",
        "    'enable_dueling_network': True,\n",
        "    'dueling_type': 'avg',\n",
        "    # epsilon hyperparameters below\n",
        "    'eps_max': 1.0,\n",
        "    'eps_min': 0.1,\n",
        "    'eps_test': 0.05,\n",
        "    'eps_nb_steps': 250000,\n",
        "    # training step hyperparameters below\n",
        "    'training_steps': 500000,  # total training steps (including warmup)\n",
        "    'nb_steps_warmup': 20000  # amount of steps to warmup for\n",
        "}\n",
        "\n",
        "# preprocessing observations\n",
        "class AtariProcessor(Processor):\n",
        "    \"\"\"\n",
        "    Processor for Atari games: processes the observation from the environment.\n",
        "    \"\"\"\n",
        "    def process_observation(self, observation):\n",
        "        assert observation.ndim == 3  # (height, width, channel)\n",
        "        img = Image.fromarray(observation)\n",
        "        img = img.resize(DQN_CONFIG['input_shape']).convert('L')  # resize and convert to grayscale\n",
        "        processed_observation = np.array(img)\n",
        "        assert processed_observation.shape == DQN_CONFIG['input_shape']\n",
        "        return processed_observation.astype('uint8')  # saves storage in experience memory\n",
        "\n",
        "    def process_state_batch(self, batch):\n",
        "        processed_batch = batch.astype('float32') / 255.\n",
        "        return processed_batch\n",
        "\n",
        "    def process_reward(self, reward):\n",
        "        return np.clip(reward, -1., 1.)\n",
        "\n",
        "    def process_info(self, info):\n",
        "        \"\"\"\n",
        "        Filter out non-scalar values from the info dictionary\n",
        "        \"\"\"\n",
        "        scalar_info = {k: v for k, v in info.items() if np.isscalar(v)}\n",
        "        return scalar_info\n",
        "\n",
        "# learning rate schedule setup\n",
        "lr_schedule = ExponentialDecay(\n",
        "    initial_learning_rate=DQN_CONFIG['initial_learning_rate'],\n",
        "    decay_steps=DQN_CONFIG['decay_steps'],\n",
        "    decay_rate=DQN_CONFIG['decay_rate'],\n",
        "    staircase=DQN_CONFIG['staircase']\n",
        ")\n",
        "\n",
        "# implementing dueling DQN Model architecture\n",
        "def build_dueling_dqn_model(input_shape, nb_actions):\n",
        "    \"\"\"\n",
        "    Builds and returns a Dueling DQN model.\n",
        "    \"\"\"\n",
        "    input_layer = Input(shape=(DQN_CONFIG['window_length'],) + input_shape)\n",
        "    x = Permute((2, 3, 1))(input_layer)\n",
        "    x = Convolution2D(32, (8, 8), strides=(4, 4), activation='relu')(x)\n",
        "    x = Convolution2D(64, (4, 4), strides=(2, 2), activation='relu')(x)\n",
        "    x = Convolution2D(64, (3, 3), strides=(1, 1), activation='relu')(x)\n",
        "    x = Flatten()(x)\n",
        "\n",
        "    # Dueling streams\n",
        "    value_stream = Dense(512, activation='relu')(x)\n",
        "    value = Dense(1, activation='linear')(value_stream)\n",
        "\n",
        "    advantage_stream = Dense(512, activation='relu')(x)\n",
        "    advantages = Dense(nb_actions, activation='linear')(advantage_stream)\n",
        "\n",
        "    # combine streams\n",
        "    def aggregate_streams(args):\n",
        "        value, advantages = args\n",
        "        return value + (advantages - tf.reduce_mean(advantages, axis=1, keepdims=True))\n",
        "\n",
        "    output_layer = Lambda(aggregate_streams)([value, advantages])\n",
        "\n",
        "    return Model(inputs=input_layer, outputs=output_layer)\n",
        "\n",
        "# build dueling DQN model\n",
        "model = build_dueling_dqn_model(DQN_CONFIG['input_shape'], env.action_space.n)\n",
        "print(model.summary())\n",
        "\n",
        "# DQN agent setup\n",
        "memory = SequentialMemory(limit=DQN_CONFIG['memory_limit'], window_length=DQN_CONFIG['window_length'])\n",
        "policy = LinearAnnealedPolicy(EpsGreedyQPolicy(), attr='eps', value_max=DQN_CONFIG['eps_max'], value_min=DQN_CONFIG['eps_min'], value_test=DQN_CONFIG['eps_test'], nb_steps=DQN_CONFIG['eps_nb_steps'])\n",
        "dqn = DQNAgent(model=model, nb_actions=env.action_space.n, memory=memory, nb_steps_warmup=DQN_CONFIG['nb_steps_warmup'], enable_dueling_network=DQN_CONFIG['enable_dueling_network'], dueling_type=DQN_CONFIG['dueling_type'], target_model_update=DQN_CONFIG['target_model_update'], policy=policy, processor=AtariProcessor())\n",
        "dqn.compile(Adam(learning_rate=lr_schedule), metrics=['mae'])\n",
        "\n",
        "\n"
      ]
    },
    {
      "cell_type": "markdown",
      "source": [
        "## Initial Training"
      ],
      "metadata": {
        "id": "wC2GQKsLgNiM"
      }
    },
    {
      "cell_type": "code",
      "source": [
        "# checkpoint indicator for saving weights during training\n",
        "checkpoint_weights_filename = '/content/drive/MyDrive/dqn/BetaDDQN/dqn_weights_{step}.h5'\n",
        "callbacks = [ModelIntervalCheckpoint(checkpoint_weights_filename, interval=50000)]  # Save every 50,000 steps\n",
        "\n",
        "# train\n",
        "dqn.fit(env, nb_steps=DQN_CONFIG['training_steps'], callbacks=callbacks, verbose=2)\n",
        "\n",
        "# save final weights\n",
        "dqn.save_weights('/content/drive/MyDrive/dqn/BetaDDQN/dqn_final_weights.h5', overwrite=True)"
      ],
      "metadata": {
        "id": "wxS3gCmxyMkE"
      },
      "execution_count": null,
      "outputs": []
    },
    {
      "cell_type": "markdown",
      "source": [
        "## Evaluate Agent"
      ],
      "metadata": {
        "id": "OiN_M1PqgR5M"
      }
    },
    {
      "cell_type": "code",
      "execution_count": null,
      "metadata": {
        "id": "4rTaJQahehuj",
        "colab": {
          "base_uri": "https://localhost:8080/"
        },
        "outputId": "d6140d27-d4aa-4f6f-d2c8-3765ac7c28d1"
      },
      "outputs": [
        {
          "output_type": "stream",
          "name": "stderr",
          "text": [
            "/usr/local/lib/python3.10/dist-packages/gym/core.py:317: DeprecationWarning: \u001b[33mWARN: Initializing wrapper in old step API which returns one bool instead of two. It is recommended to set `new_step_api=True` to use new step API. This will be the default behaviour in future.\u001b[0m\n",
            "  deprecation(\n",
            "/usr/local/lib/python3.10/dist-packages/gym/wrappers/record_video.py:78: UserWarning: \u001b[33mWARN: Overwriting existing videos at /content/drive/MyDrive/dqn/BetaDDQN/dqn_evaluation_videos folder (try specifying a different `video_folder` for the `RecordVideo` wrapper if this is not desired)\u001b[0m\n",
            "  logger.warn(\n",
            "/usr/local/lib/python3.10/dist-packages/gym/wrappers/monitoring/video_recorder.py:78: DeprecationWarning: \u001b[33mWARN: Recording ability for environment ALE/Breakout-v5 initialized with `render_mode=None` is marked as deprecated and will be removed in the future.\u001b[0m\n",
            "  logger.deprecation(\n"
          ]
        },
        {
          "output_type": "stream",
          "name": "stdout",
          "text": [
            "Testing for 2 episodes ...\n"
          ]
        },
        {
          "output_type": "stream",
          "name": "stderr",
          "text": [
            "/usr/local/lib/python3.10/dist-packages/gym/core.py:43: DeprecationWarning: \u001b[33mWARN: The argument mode in render method is deprecated; use render_mode during environment initialization instead.\n",
            "See here for more information: https://www.gymlibrary.ml/content/api/\u001b[0m\n",
            "  deprecation(\n"
          ]
        },
        {
          "output_type": "stream",
          "name": "stdout",
          "text": [
            "Episode 1: reward: 0.000, steps: 27000\n"
          ]
        },
        {
          "output_type": "stream",
          "name": "stderr",
          "text": [
            "/usr/local/lib/python3.10/dist-packages/gym/wrappers/monitoring/video_recorder.py:78: DeprecationWarning: \u001b[33mWARN: Recording ability for environment ALE/Breakout-v5 initialized with `render_mode=None` is marked as deprecated and will be removed in the future.\u001b[0m\n",
            "  logger.deprecation(\n",
            "/usr/local/lib/python3.10/dist-packages/gym/core.py:43: DeprecationWarning: \u001b[33mWARN: The argument mode in render method is deprecated; use render_mode during environment initialization instead.\n",
            "See here for more information: https://www.gymlibrary.ml/content/api/\u001b[0m\n",
            "  deprecation(\n"
          ]
        },
        {
          "output_type": "stream",
          "name": "stdout",
          "text": [
            "Episode 2: reward: 0.000, steps: 27000\n",
            "Evaluation completed.\n"
          ]
        }
      ],
      "source": [
        "from gym.wrappers import RecordVideo\n",
        "\n",
        "def evaluate_agent(env, dqn_agent, nb_episodes, video_folder):\n",
        "    \"\"\"\n",
        "    test the DQN agent for a specified number of episodes and record videos\n",
        "    \"\"\"\n",
        "    # wrap the environment to record videos\n",
        "    env = RecordVideo(env, video_folder, episode_trigger=lambda episode: True)\n",
        "\n",
        "    dqn_agent.test(env, nb_episodes=nb_episodes, visualize=False)\n",
        "\n",
        "    env.close()\n",
        "\n",
        "# load weights for the agent to utilize\n",
        "weights_file = '/content/drive/MyDrive/dqn/BetaDDQN/dqn_weights_150000.h5'\n",
        "dqn.load_weights(weights_file)\n",
        "\n",
        "# test the agent\n",
        "evaluate_agent(env, dqn, nb_episodes=2, video_folder='/content/drive/MyDrive/dqn/BetaDDQN/dqn_evaluation_videos')\n",
        "\n",
        "print(\"Evaluation completed.\")\n"
      ]
    },
    {
      "cell_type": "code",
      "execution_count": null,
      "metadata": {
        "colab": {
          "base_uri": "https://localhost:8080/",
          "height": 547
        },
        "id": "VpCR7DpCemAS",
        "outputId": "9dc41d09-0eff-4b34-8310-32831dbfa107"
      },
      "outputs": [
        {
          "output_type": "execute_result",
          "data": {
            "text/plain": [
              "<IPython.core.display.HTML object>"
            ],
            "text/html": [
              "\n",
              "    <video width=400 controls>\n",
              "        <source src=\"data:video/mp4;base64,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\" type=\"video/mp4\">\n",
              "    </video>\n",
              "    "
            ]
          },
          "metadata": {},
          "execution_count": 13
        }
      ],
      "source": [
        "from IPython.display import HTML\n",
        "from base64 import b64encode\n",
        "\n",
        "def play_video(video_path):\n",
        "    \"\"\"\n",
        "    workaround to display a video in colab\n",
        "    \"\"\"\n",
        "    mp4 = open(video_path,'rb').read()\n",
        "    data_url = \"data:video/mp4;base64,\" + b64encode(mp4).decode()\n",
        "    return HTML(\"\"\"\n",
        "    <video width=400 controls>\n",
        "        <source src=\"%s\" type=\"video/mp4\">\n",
        "    </video>\n",
        "    \"\"\" % data_url)\n",
        "\n",
        "video_path = '/content/drive/MyDrive/dqn/BetaDDQN/training_videos (continued training of 150k step model)/rl-video-episode-74.mp4'\n",
        "play_video(video_path)\n"
      ]
    },
    {
      "cell_type": "code",
      "execution_count": null,
      "metadata": {
        "id": "rDbPm2ctg6EJ"
      },
      "outputs": [],
      "source": [
        "import os\n",
        "from IPython.display import HTML, display\n",
        "from base64 import b64encode\n",
        "\n",
        "def play_videos_in_sequence(folder_path, speed=1.0):\n",
        "    \"\"\"\n",
        "    play videos in sequence from a specified folder in google drive\n",
        "\n",
        "    Args:\n",
        "        folder_path: Path to the folder containing video files.\n",
        "        speed: Playback speed (1.0 is normal speed, >1.0 is faster, <1.0 is slower).\n",
        "    \"\"\"\n",
        "    # list all video files in the folder\n",
        "    video_files = sorted([file for file in os.listdir(folder_path) if file.endswith('.mp4')])\n",
        "\n",
        "    # display each video\n",
        "    for video_file in video_files:\n",
        "        video_path = os.path.join(folder_path, video_file)\n",
        "        mp4 = open(video_path, 'rb').read()\n",
        "        data_url = \"data:video/mp4;base64,\" + b64encode(mp4).decode()\n",
        "        html = HTML(\"\"\"\n",
        "        <video width=400 controls autoplay loop>\n",
        "            <source src=\"%s\" type=\"video/mp4\">\n",
        "        </video>\n",
        "        \"\"\" % data_url)\n",
        "        display(html)\n",
        "\n",
        "video_folder = '/content/drive/MyDrive/dqn/BetaDDQN/dqn_evaluation_videos/'\n",
        "play_videos_in_sequence(video_folder, speed=1.5)  # can adjust playback speed as needed\n"
      ]
    },
    {
      "cell_type": "markdown",
      "source": [
        "## Code for Training Continuation <br>\n",
        "The purpose of the code below is to load the weights and memory files from the training in order to continue training.<br>\n",
        "The code below was crafted to work with the full environmet set-up section. Meaning, some things like policy and and over config values are simly overwritten here before recompiling the dqn."
      ],
      "metadata": {
        "id": "wTDhvFRg5h7y"
      }
    },
    {
      "cell_type": "code",
      "execution_count": null,
      "metadata": {
        "id": "hnL5Bhb7RNvc"
      },
      "outputs": [],
      "source": [
        "!wget https://github.com/spindoken/atlasschool-machine_learning/reinforcement_learning/Deep_Q_Learning/policy.h5 -O policy.h5"
      ]
    },
    {
      "cell_type": "code",
      "source": [
        "from gym.wrappers import RecordVideo, TimeLimit\n",
        "\n",
        "# Function to wrap the environment\n",
        "def wrap_env_for_recording(env, video_folder, max_video_length):\n",
        "    env = TimeLimit(env, max_episode_steps=max_video_length)  # Limit the length of each episode\n",
        "    env = RecordVideo(env, video_folder, episode_trigger=lambda episode: True)  # Record every episode\n",
        "    return env\n",
        "\n",
        "# Wrap the environment\n",
        "video_folder = '/content/drive/MyDrive/dqn/BetaDDQN/300k_play_eps.2start'\n",
        "max_video_length = 1500  # Set the maximum length of video recording (in steps)\n",
        "env = wrap_env_for_recording(env, video_folder, max_video_length)"
      ],
      "metadata": {
        "colab": {
          "base_uri": "https://localhost:8080/"
        },
        "id": "pdx42gok5l6e",
        "outputId": "a9e52955-5e94-4271-d092-ff9ffee6c849"
      },
      "execution_count": null,
      "outputs": [
        {
          "output_type": "stream",
          "name": "stderr",
          "text": [
            "/usr/local/lib/python3.10/dist-packages/gym/core.py:317: DeprecationWarning: \u001b[33mWARN: Initializing wrapper in old step API which returns one bool instead of two. It is recommended to set `new_step_api=True` to use new step API. This will be the default behaviour in future.\u001b[0m\n",
            "  deprecation(\n"
          ]
        }
      ]
    },
    {
      "cell_type": "code",
      "source": [
        "import os\n",
        "import pickle\n",
        "\n",
        "# save and load replay memory (useful for retraining)\n",
        "def save_replay_memory(dqn_agent, filename):\n",
        "    with open(filename, 'wb') as f:\n",
        "        pickle.dump(dqn_agent.memory, f)\n",
        "\n",
        "def load_replay_memory(dqn_agent, filename):\n",
        "    with open(filename, 'rb') as f:\n",
        "        dqn_agent.memory = pickle.load(f)\n",
        "\n",
        "nb_steps_warmup=5000 # didn't have replay memory saved before 200k, so have to warmup a bit (around 5% of total is good)\n",
        "additional_training_steps = 100000  # total training steps to continue trainig for  (including warmup)\n",
        "\n",
        "# Adjust the epsilon parameters for continued training (assuming linear decay in epsilon-greedy strategy)\n",
        "epsilon_max_continued = 0.2  # New starting epsilon (adjust epsilon for what the value would have been at the end of the last training session.. or not, you do you)\n",
        "epsilon_min_continued = 0.1\n",
        "epsilon_test_continued = 0.05 # Test epsilon value\n",
        "\n",
        "# Set up the policy with new epsilon values\n",
        "policy = LinearAnnealedPolicy(EpsGreedyQPolicy(), attr='eps', value_max=epsilon_max_continued, value_min=epsilon_min_continued, value_test=epsilon_test_continued, nb_steps=additional_training_steps)\n",
        "\n",
        "# Reinitialize the DQN agent with warmup steps\n",
        "dqn = DQNAgent(model=model, nb_actions=env.action_space.n, memory=memory, nb_steps_warmup=nb_steps_warmup,\n",
        "               enable_dueling_network=DQN_CONFIG['enable_dueling_network'], dueling_type=DQN_CONFIG['dueling_type'],\n",
        "               target_model_update=DQN_CONFIG['target_model_update'], policy=policy, processor=AtariProcessor())\n",
        "\n",
        "# Recompile the agent\n",
        "dqn.compile(Adam(learning_rate=lr_schedule), metrics=['mae'])\n",
        "\n",
        "# Load the trained weights and memory\n",
        "memory_file = '/content/drive/MyDrive/dqn/BetaDDQN/dqn_memory(3rd_run).pkl'\n",
        "weights_file = '/content/drive/MyDrive/dqn/BetaDDQN/dqn_300k(3rd_run).h5'\n",
        "dqn.load_weights(weights_file)\n",
        "\n",
        "# Load weights and replay memory if they exist\n",
        "if os.path.exists(weights_file):\n",
        "    dqn.load_weights(weights_file)\n",
        "if os.path.exists(memory_file):\n",
        "    load_replay_memory(dqn, memory_file)\n",
        "\n",
        "# Continue training\n",
        "dqn.fit(env, nb_steps=additional_training_steps, verbose=2)\n",
        "\n",
        "# save weights and replay memory after training\n",
        "# remember to backup (and/or rename) this output weights file before continuing another training session or it will OVERWRITTEN!!!!\n",
        "new_weights_file = '/content/drive/MyDrive/dqn/BetaDDQN/dqn_new_weights.h5'\n",
        "dqn.save_weights(new_weights_file, overwrite=True)\n",
        "save_replay_memory(dqn, memory_file)\n"
      ],
      "metadata": {
        "colab": {
          "base_uri": "https://localhost:8080/"
        },
        "id": "MbY-46RF54wy",
        "outputId": "6126348f-5f02-4e05-9a6c-af47d9509e70"
      },
      "execution_count": null,
      "outputs": [
        {
          "metadata": {
            "tags": null
          },
          "name": "stdout",
          "output_type": "stream",
          "text": [
            "Training for 100000 steps ...\n"
          ]
        },
        {
          "metadata": {
            "tags": null
          },
          "name": "stderr",
          "output_type": "stream",
          "text": [
            "/usr/local/lib/python3.10/dist-packages/gym/wrappers/monitoring/video_recorder.py:78: DeprecationWarning: \u001b[33mWARN: Recording ability for environment ALE/Breakout-v5 initialized with `render_mode=None` is marked as deprecated and will be removed in the future.\u001b[0m\n",
            "  logger.deprecation(\n",
            "/usr/local/lib/python3.10/dist-packages/gym/core.py:43: DeprecationWarning: \u001b[33mWARN: The argument mode in render method is deprecated; use render_mode during environment initialization instead.\n",
            "See here for more information: https://www.gymlibrary.ml/content/api/\u001b[0m\n",
            "  deprecation(\n",
            "/usr/local/lib/python3.10/dist-packages/gym/utils/passive_env_checker.py:297: UserWarning: \u001b[33mWARN: No render fps was declared in the environment (env.metadata['render_fps'] is None or not defined), rendering may occur at inconsistent fps.\u001b[0m\n",
            "  logger.warn(\n",
            "/usr/local/lib/python3.10/dist-packages/gym/wrappers/monitoring/video_recorder.py:78: DeprecationWarning: \u001b[33mWARN: Recording ability for environment ALE/Breakout-v5 initialized with `render_mode=None` is marked as deprecated and will be removed in the future.\u001b[0m\n",
            "  logger.deprecation(\n",
            "/usr/local/lib/python3.10/dist-packages/gym/core.py:43: DeprecationWarning: \u001b[33mWARN: The argument mode in render method is deprecated; use render_mode during environment initialization instead.\n",
            "See here for more information: https://www.gymlibrary.ml/content/api/\u001b[0m\n",
            "  deprecation(\n",
            "/usr/local/lib/python3.10/dist-packages/keras/engine/training_v1.py:2357: UserWarning: `Model.state_updates` will be removed in a future version. This property should not be used in TensorFlow 2.0, as `updates` are applied automatically.\n",
            "  updates=self.state_updates,\n",
            "/usr/local/lib/python3.10/dist-packages/gym/utils/passive_env_checker.py:227: DeprecationWarning: \u001b[33mWARN: Core environment is written in old step API which returns one bool instead of two. It is recommended to rewrite the environment with new step API. \u001b[0m\n",
            "  logger.deprecation(\n",
            "/usr/local/lib/python3.10/dist-packages/gym/core.py:43: DeprecationWarning: \u001b[33mWARN: The argument mode in render method is deprecated; use render_mode during environment initialization instead.\n",
            "See here for more information: https://www.gymlibrary.ml/content/api/\u001b[0m\n",
            "  deprecation(\n"
          ]
        },
        {
          "metadata": {
            "tags": null
          },
          "name": "stdout",
          "output_type": "stream",
          "text": [
            "   728/100000: episode: 1, duration: 10.746s, episode steps: 728, steps per second:  68, episode reward: 14.000, mean reward:  0.019 [ 0.000,  1.000], mean action: 1.889 [0.000, 3.000],  loss: --, mae: --, mean_q: --, mean_eps: --\n"
          ]
        },
        {
          "metadata": {
            "tags": null
          },
          "name": "stderr",
          "output_type": "stream",
          "text": [
            "/usr/local/lib/python3.10/dist-packages/gym/wrappers/monitoring/video_recorder.py:78: DeprecationWarning: \u001b[33mWARN: Recording ability for environment ALE/Breakout-v5 initialized with `render_mode=None` is marked as deprecated and will be removed in the future.\u001b[0m\n",
            "  logger.deprecation(\n",
            "/usr/local/lib/python3.10/dist-packages/gym/core.py:43: DeprecationWarning: \u001b[33mWARN: The argument mode in render method is deprecated; use render_mode during environment initialization instead.\n",
            "See here for more information: https://www.gymlibrary.ml/content/api/\u001b[0m\n",
            "  deprecation(\n",
            "/usr/local/lib/python3.10/dist-packages/gym/wrappers/monitoring/video_recorder.py:78: DeprecationWarning: \u001b[33mWARN: Recording ability for environment ALE/Breakout-v5 initialized with `render_mode=None` is marked as deprecated and will be removed in the future.\u001b[0m\n",
            "  logger.deprecation(\n",
            "/usr/local/lib/python3.10/dist-packages/gym/core.py:43: DeprecationWarning: \u001b[33mWARN: The argument mode in render method is deprecated; use render_mode during environment initialization instead.\n",
            "See here for more information: https://www.gymlibrary.ml/content/api/\u001b[0m\n",
            "  deprecation(\n",
            "/usr/local/lib/python3.10/dist-packages/gym/core.py:43: DeprecationWarning: \u001b[33mWARN: The argument mode in render method is deprecated; use render_mode during environment initialization instead.\n",
            "See here for more information: https://www.gymlibrary.ml/content/api/\u001b[0m\n",
            "  deprecation(\n"
          ]
        },
        {
          "metadata": {
            "tags": null
          },
          "name": "stdout",
          "output_type": "stream",
          "text": [
            "  1346/100000: episode: 2, duration: 6.800s, episode steps: 618, steps per second:  91, episode reward: 13.000, mean reward:  0.021 [ 0.000,  1.000], mean action: 2.078 [0.000, 3.000],  loss: --, mae: --, mean_q: --, mean_eps: --\n"
          ]
        },
        {
          "metadata": {
            "tags": null
          },
          "name": "stderr",
          "output_type": "stream",
          "text": [
            "/usr/local/lib/python3.10/dist-packages/gym/wrappers/monitoring/video_recorder.py:78: DeprecationWarning: \u001b[33mWARN: Recording ability for environment ALE/Breakout-v5 initialized with `render_mode=None` is marked as deprecated and will be removed in the future.\u001b[0m\n",
            "  logger.deprecation(\n",
            "/usr/local/lib/python3.10/dist-packages/gym/core.py:43: DeprecationWarning: \u001b[33mWARN: The argument mode in render method is deprecated; use render_mode during environment initialization instead.\n",
            "See here for more information: https://www.gymlibrary.ml/content/api/\u001b[0m\n",
            "  deprecation(\n",
            "/usr/local/lib/python3.10/dist-packages/gym/wrappers/monitoring/video_recorder.py:78: DeprecationWarning: \u001b[33mWARN: Recording ability for environment ALE/Breakout-v5 initialized with `render_mode=None` is marked as deprecated and will be removed in the future.\u001b[0m\n",
            "  logger.deprecation(\n",
            "/usr/local/lib/python3.10/dist-packages/gym/core.py:43: DeprecationWarning: \u001b[33mWARN: The argument mode in render method is deprecated; use render_mode during environment initialization instead.\n",
            "See here for more information: https://www.gymlibrary.ml/content/api/\u001b[0m\n",
            "  deprecation(\n",
            "/usr/local/lib/python3.10/dist-packages/gym/core.py:43: DeprecationWarning: \u001b[33mWARN: The argument mode in render method is deprecated; use render_mode during environment initialization instead.\n",
            "See here for more information: https://www.gymlibrary.ml/content/api/\u001b[0m\n",
            "  deprecation(\n"
          ]
        },
        {
          "metadata": {
            "tags": null
          },
          "name": "stdout",
          "output_type": "stream",
          "text": [
            "  2070/100000: episode: 3, duration: 9.503s, episode steps: 724, steps per second:  76, episode reward: 16.000, mean reward:  0.022 [ 0.000,  1.000], mean action: 1.970 [0.000, 3.000],  loss: --, mae: --, mean_q: --, mean_eps: --\n"
          ]
        },
        {
          "metadata": {
            "tags": null
          },
          "name": "stderr",
          "output_type": "stream",
          "text": [
            "/usr/local/lib/python3.10/dist-packages/gym/wrappers/monitoring/video_recorder.py:78: DeprecationWarning: \u001b[33mWARN: Recording ability for environment ALE/Breakout-v5 initialized with `render_mode=None` is marked as deprecated and will be removed in the future.\u001b[0m\n",
            "  logger.deprecation(\n",
            "/usr/local/lib/python3.10/dist-packages/gym/core.py:43: DeprecationWarning: \u001b[33mWARN: The argument mode in render method is deprecated; use render_mode during environment initialization instead.\n",
            "See here for more information: https://www.gymlibrary.ml/content/api/\u001b[0m\n",
            "  deprecation(\n",
            "/usr/local/lib/python3.10/dist-packages/gym/wrappers/monitoring/video_recorder.py:78: DeprecationWarning: \u001b[33mWARN: Recording ability for environment ALE/Breakout-v5 initialized with `render_mode=None` is marked as deprecated and will be removed in the future.\u001b[0m\n",
            "  logger.deprecation(\n",
            "/usr/local/lib/python3.10/dist-packages/gym/core.py:43: DeprecationWarning: \u001b[33mWARN: The argument mode in render method is deprecated; use render_mode during environment initialization instead.\n",
            "See here for more information: https://www.gymlibrary.ml/content/api/\u001b[0m\n",
            "  deprecation(\n",
            "/usr/local/lib/python3.10/dist-packages/gym/core.py:43: DeprecationWarning: \u001b[33mWARN: The argument mode in render method is deprecated; use render_mode during environment initialization instead.\n",
            "See here for more information: https://www.gymlibrary.ml/content/api/\u001b[0m\n",
            "  deprecation(\n"
          ]
        },
        {
          "metadata": {
            "tags": null
          },
          "name": "stdout",
          "output_type": "stream",
          "text": [
            "  2564/100000: episode: 4, duration: 5.612s, episode steps: 494, steps per second:  88, episode reward:  7.000, mean reward:  0.014 [ 0.000,  1.000], mean action: 2.152 [0.000, 3.000],  loss: --, mae: --, mean_q: --, mean_eps: --\n"
          ]
        },
        {
          "metadata": {
            "tags": null
          },
          "name": "stderr",
          "output_type": "stream",
          "text": [
            "/usr/local/lib/python3.10/dist-packages/gym/wrappers/monitoring/video_recorder.py:78: DeprecationWarning: \u001b[33mWARN: Recording ability for environment ALE/Breakout-v5 initialized with `render_mode=None` is marked as deprecated and will be removed in the future.\u001b[0m\n",
            "  logger.deprecation(\n",
            "/usr/local/lib/python3.10/dist-packages/gym/core.py:43: DeprecationWarning: \u001b[33mWARN: The argument mode in render method is deprecated; use render_mode during environment initialization instead.\n",
            "See here for more information: https://www.gymlibrary.ml/content/api/\u001b[0m\n",
            "  deprecation(\n",
            "/usr/local/lib/python3.10/dist-packages/gym/wrappers/monitoring/video_recorder.py:78: DeprecationWarning: \u001b[33mWARN: Recording ability for environment ALE/Breakout-v5 initialized with `render_mode=None` is marked as deprecated and will be removed in the future.\u001b[0m\n",
            "  logger.deprecation(\n",
            "/usr/local/lib/python3.10/dist-packages/gym/core.py:43: DeprecationWarning: \u001b[33mWARN: The argument mode in render method is deprecated; use render_mode during environment initialization instead.\n",
            "See here for more information: https://www.gymlibrary.ml/content/api/\u001b[0m\n",
            "  deprecation(\n",
            "/usr/local/lib/python3.10/dist-packages/gym/core.py:43: DeprecationWarning: \u001b[33mWARN: The argument mode in render method is deprecated; use render_mode during environment initialization instead.\n",
            "See here for more information: https://www.gymlibrary.ml/content/api/\u001b[0m\n",
            "  deprecation(\n"
          ]
        },
        {
          "metadata": {
            "tags": null
          },
          "name": "stdout",
          "output_type": "stream",
          "text": [
            "  3042/100000: episode: 5, duration: 7.328s, episode steps: 478, steps per second:  65, episode reward:  8.000, mean reward:  0.017 [ 0.000,  1.000], mean action: 2.038 [0.000, 3.000],  loss: --, mae: --, mean_q: --, mean_eps: --\n"
          ]
        },
        {
          "metadata": {
            "tags": null
          },
          "name": "stderr",
          "output_type": "stream",
          "text": [
            "/usr/local/lib/python3.10/dist-packages/gym/wrappers/monitoring/video_recorder.py:78: DeprecationWarning: \u001b[33mWARN: Recording ability for environment ALE/Breakout-v5 initialized with `render_mode=None` is marked as deprecated and will be removed in the future.\u001b[0m\n",
            "  logger.deprecation(\n",
            "/usr/local/lib/python3.10/dist-packages/gym/core.py:43: DeprecationWarning: \u001b[33mWARN: The argument mode in render method is deprecated; use render_mode during environment initialization instead.\n",
            "See here for more information: https://www.gymlibrary.ml/content/api/\u001b[0m\n",
            "  deprecation(\n",
            "/usr/local/lib/python3.10/dist-packages/gym/wrappers/monitoring/video_recorder.py:78: DeprecationWarning: \u001b[33mWARN: Recording ability for environment ALE/Breakout-v5 initialized with `render_mode=None` is marked as deprecated and will be removed in the future.\u001b[0m\n",
            "  logger.deprecation(\n",
            "/usr/local/lib/python3.10/dist-packages/gym/core.py:43: DeprecationWarning: \u001b[33mWARN: The argument mode in render method is deprecated; use render_mode during environment initialization instead.\n",
            "See here for more information: https://www.gymlibrary.ml/content/api/\u001b[0m\n",
            "  deprecation(\n",
            "/usr/local/lib/python3.10/dist-packages/gym/core.py:43: DeprecationWarning: \u001b[33mWARN: The argument mode in render method is deprecated; use render_mode during environment initialization instead.\n",
            "See here for more information: https://www.gymlibrary.ml/content/api/\u001b[0m\n",
            "  deprecation(\n"
          ]
        },
        {
          "metadata": {
            "tags": null
          },
          "name": "stdout",
          "output_type": "stream",
          "text": [
            "  3481/100000: episode: 6, duration: 4.759s, episode steps: 439, steps per second:  92, episode reward:  5.000, mean reward:  0.011 [ 0.000,  1.000], mean action: 2.262 [0.000, 3.000],  loss: --, mae: --, mean_q: --, mean_eps: --\n"
          ]
        },
        {
          "metadata": {
            "tags": null
          },
          "name": "stderr",
          "output_type": "stream",
          "text": [
            "/usr/local/lib/python3.10/dist-packages/gym/wrappers/monitoring/video_recorder.py:78: DeprecationWarning: \u001b[33mWARN: Recording ability for environment ALE/Breakout-v5 initialized with `render_mode=None` is marked as deprecated and will be removed in the future.\u001b[0m\n",
            "  logger.deprecation(\n",
            "/usr/local/lib/python3.10/dist-packages/gym/core.py:43: DeprecationWarning: \u001b[33mWARN: The argument mode in render method is deprecated; use render_mode during environment initialization instead.\n",
            "See here for more information: https://www.gymlibrary.ml/content/api/\u001b[0m\n",
            "  deprecation(\n",
            "/usr/local/lib/python3.10/dist-packages/gym/wrappers/monitoring/video_recorder.py:78: DeprecationWarning: \u001b[33mWARN: Recording ability for environment ALE/Breakout-v5 initialized with `render_mode=None` is marked as deprecated and will be removed in the future.\u001b[0m\n",
            "  logger.deprecation(\n",
            "/usr/local/lib/python3.10/dist-packages/gym/core.py:43: DeprecationWarning: \u001b[33mWARN: The argument mode in render method is deprecated; use render_mode during environment initialization instead.\n",
            "See here for more information: https://www.gymlibrary.ml/content/api/\u001b[0m\n",
            "  deprecation(\n",
            "/usr/local/lib/python3.10/dist-packages/gym/core.py:43: DeprecationWarning: \u001b[33mWARN: The argument mode in render method is deprecated; use render_mode during environment initialization instead.\n",
            "See here for more information: https://www.gymlibrary.ml/content/api/\u001b[0m\n",
            "  deprecation(\n"
          ]
        },
        {
          "metadata": {
            "tags": null
          },
          "name": "stdout",
          "output_type": "stream",
          "text": [
            "  4188/100000: episode: 7, duration: 9.487s, episode steps: 707, steps per second:  75, episode reward: 14.000, mean reward:  0.020 [ 0.000,  1.000], mean action: 1.885 [0.000, 3.000],  loss: --, mae: --, mean_q: --, mean_eps: --\n"
          ]
        },
        {
          "metadata": {
            "tags": null
          },
          "name": "stderr",
          "output_type": "stream",
          "text": [
            "/usr/local/lib/python3.10/dist-packages/gym/wrappers/monitoring/video_recorder.py:78: DeprecationWarning: \u001b[33mWARN: Recording ability for environment ALE/Breakout-v5 initialized with `render_mode=None` is marked as deprecated and will be removed in the future.\u001b[0m\n",
            "  logger.deprecation(\n",
            "/usr/local/lib/python3.10/dist-packages/gym/core.py:43: DeprecationWarning: \u001b[33mWARN: The argument mode in render method is deprecated; use render_mode during environment initialization instead.\n",
            "See here for more information: https://www.gymlibrary.ml/content/api/\u001b[0m\n",
            "  deprecation(\n",
            "/usr/local/lib/python3.10/dist-packages/gym/wrappers/monitoring/video_recorder.py:78: DeprecationWarning: \u001b[33mWARN: Recording ability for environment ALE/Breakout-v5 initialized with `render_mode=None` is marked as deprecated and will be removed in the future.\u001b[0m\n",
            "  logger.deprecation(\n",
            "/usr/local/lib/python3.10/dist-packages/gym/core.py:43: DeprecationWarning: \u001b[33mWARN: The argument mode in render method is deprecated; use render_mode during environment initialization instead.\n",
            "See here for more information: https://www.gymlibrary.ml/content/api/\u001b[0m\n",
            "  deprecation(\n",
            "/usr/local/lib/python3.10/dist-packages/gym/core.py:43: DeprecationWarning: \u001b[33mWARN: The argument mode in render method is deprecated; use render_mode during environment initialization instead.\n",
            "See here for more information: https://www.gymlibrary.ml/content/api/\u001b[0m\n",
            "  deprecation(\n"
          ]
        },
        {
          "metadata": {
            "tags": null
          },
          "name": "stdout",
          "output_type": "stream",
          "text": [
            "  4581/100000: episode: 8, duration: 4.883s, episode steps: 393, steps per second:  80, episode reward:  6.000, mean reward:  0.015 [ 0.000,  1.000], mean action: 1.911 [0.000, 3.000],  loss: --, mae: --, mean_q: --, mean_eps: --\n"
          ]
        },
        {
          "metadata": {
            "tags": null
          },
          "name": "stderr",
          "output_type": "stream",
          "text": [
            "/usr/local/lib/python3.10/dist-packages/gym/wrappers/monitoring/video_recorder.py:78: DeprecationWarning: \u001b[33mWARN: Recording ability for environment ALE/Breakout-v5 initialized with `render_mode=None` is marked as deprecated and will be removed in the future.\u001b[0m\n",
            "  logger.deprecation(\n",
            "/usr/local/lib/python3.10/dist-packages/gym/core.py:43: DeprecationWarning: \u001b[33mWARN: The argument mode in render method is deprecated; use render_mode during environment initialization instead.\n",
            "See here for more information: https://www.gymlibrary.ml/content/api/\u001b[0m\n",
            "  deprecation(\n",
            "/usr/local/lib/python3.10/dist-packages/gym/wrappers/monitoring/video_recorder.py:78: DeprecationWarning: \u001b[33mWARN: Recording ability for environment ALE/Breakout-v5 initialized with `render_mode=None` is marked as deprecated and will be removed in the future.\u001b[0m\n",
            "  logger.deprecation(\n",
            "/usr/local/lib/python3.10/dist-packages/gym/core.py:43: DeprecationWarning: \u001b[33mWARN: The argument mode in render method is deprecated; use render_mode during environment initialization instead.\n",
            "See here for more information: https://www.gymlibrary.ml/content/api/\u001b[0m\n",
            "  deprecation(\n",
            "/usr/local/lib/python3.10/dist-packages/gym/core.py:43: DeprecationWarning: \u001b[33mWARN: The argument mode in render method is deprecated; use render_mode during environment initialization instead.\n",
            "See here for more information: https://www.gymlibrary.ml/content/api/\u001b[0m\n",
            "  deprecation(\n",
            "/usr/local/lib/python3.10/dist-packages/keras/engine/training_v1.py:2357: UserWarning: `Model.state_updates` will be removed in a future version. This property should not be used in TensorFlow 2.0, as `updates` are applied automatically.\n",
            "  updates=self.state_updates,\n"
          ]
        },
        {
          "metadata": {
            "tags": null
          },
          "name": "stdout",
          "output_type": "stream",
          "text": [
            "  5093/100000: episode: 9, duration: 28.077s, episode steps: 512, steps per second:  18, episode reward:  7.000, mean reward:  0.014 [ 0.000,  1.000], mean action: 2.033 [0.000, 3.000],  loss: 0.009379, mae: 0.418895, mean_q: 0.569104, mean_eps: 0.194953\n"
          ]
        },
        {
          "metadata": {
            "tags": null
          },
          "name": "stderr",
          "output_type": "stream",
          "text": [
            "/usr/local/lib/python3.10/dist-packages/gym/wrappers/monitoring/video_recorder.py:78: DeprecationWarning: \u001b[33mWARN: Recording ability for environment ALE/Breakout-v5 initialized with `render_mode=None` is marked as deprecated and will be removed in the future.\u001b[0m\n",
            "  logger.deprecation(\n",
            "/usr/local/lib/python3.10/dist-packages/gym/core.py:43: DeprecationWarning: \u001b[33mWARN: The argument mode in render method is deprecated; use render_mode during environment initialization instead.\n",
            "See here for more information: https://www.gymlibrary.ml/content/api/\u001b[0m\n",
            "  deprecation(\n",
            "/usr/local/lib/python3.10/dist-packages/gym/wrappers/monitoring/video_recorder.py:78: DeprecationWarning: \u001b[33mWARN: Recording ability for environment ALE/Breakout-v5 initialized with `render_mode=None` is marked as deprecated and will be removed in the future.\u001b[0m\n",
            "  logger.deprecation(\n",
            "/usr/local/lib/python3.10/dist-packages/gym/core.py:43: DeprecationWarning: \u001b[33mWARN: The argument mode in render method is deprecated; use render_mode during environment initialization instead.\n",
            "See here for more information: https://www.gymlibrary.ml/content/api/\u001b[0m\n",
            "  deprecation(\n",
            "/usr/local/lib/python3.10/dist-packages/gym/core.py:43: DeprecationWarning: \u001b[33mWARN: The argument mode in render method is deprecated; use render_mode during environment initialization instead.\n",
            "See here for more information: https://www.gymlibrary.ml/content/api/\u001b[0m\n",
            "  deprecation(\n"
          ]
        },
        {
          "metadata": {
            "tags": null
          },
          "name": "stdout",
          "output_type": "stream",
          "text": [
            "  5663/100000: episode: 10, duration: 133.660s, episode steps: 570, steps per second:   4, episode reward: 10.000, mean reward:  0.018 [ 0.000,  1.000], mean action: 1.926 [0.000, 3.000],  loss: 0.004011, mae: 0.424337, mean_q: 0.580501, mean_eps: 0.194623\n"
          ]
        },
        {
          "metadata": {
            "tags": null
          },
          "name": "stderr",
          "output_type": "stream",
          "text": [
            "/usr/local/lib/python3.10/dist-packages/gym/wrappers/monitoring/video_recorder.py:78: DeprecationWarning: \u001b[33mWARN: Recording ability for environment ALE/Breakout-v5 initialized with `render_mode=None` is marked as deprecated and will be removed in the future.\u001b[0m\n",
            "  logger.deprecation(\n",
            "/usr/local/lib/python3.10/dist-packages/gym/core.py:43: DeprecationWarning: \u001b[33mWARN: The argument mode in render method is deprecated; use render_mode during environment initialization instead.\n",
            "See here for more information: https://www.gymlibrary.ml/content/api/\u001b[0m\n",
            "  deprecation(\n",
            "/usr/local/lib/python3.10/dist-packages/gym/wrappers/monitoring/video_recorder.py:78: DeprecationWarning: \u001b[33mWARN: Recording ability for environment ALE/Breakout-v5 initialized with `render_mode=None` is marked as deprecated and will be removed in the future.\u001b[0m\n",
            "  logger.deprecation(\n",
            "/usr/local/lib/python3.10/dist-packages/gym/core.py:43: DeprecationWarning: \u001b[33mWARN: The argument mode in render method is deprecated; use render_mode during environment initialization instead.\n",
            "See here for more information: https://www.gymlibrary.ml/content/api/\u001b[0m\n",
            "  deprecation(\n",
            "/usr/local/lib/python3.10/dist-packages/gym/core.py:43: DeprecationWarning: \u001b[33mWARN: The argument mode in render method is deprecated; use render_mode during environment initialization instead.\n",
            "See here for more information: https://www.gymlibrary.ml/content/api/\u001b[0m\n",
            "  deprecation(\n"
          ]
        },
        {
          "metadata": {
            "tags": null
          },
          "name": "stdout",
          "output_type": "stream",
          "text": [
            "  6251/100000: episode: 11, duration: 134.980s, episode steps: 588, steps per second:   4, episode reward: 13.000, mean reward:  0.022 [ 0.000,  1.000], mean action: 1.813 [0.000, 3.000],  loss: 0.003115, mae: 0.418181, mean_q: 0.575242, mean_eps: 0.194044\n"
          ]
        },
        {
          "metadata": {
            "tags": null
          },
          "name": "stderr",
          "output_type": "stream",
          "text": [
            "/usr/local/lib/python3.10/dist-packages/gym/wrappers/monitoring/video_recorder.py:78: DeprecationWarning: \u001b[33mWARN: Recording ability for environment ALE/Breakout-v5 initialized with `render_mode=None` is marked as deprecated and will be removed in the future.\u001b[0m\n",
            "  logger.deprecation(\n",
            "/usr/local/lib/python3.10/dist-packages/gym/core.py:43: DeprecationWarning: \u001b[33mWARN: The argument mode in render method is deprecated; use render_mode during environment initialization instead.\n",
            "See here for more information: https://www.gymlibrary.ml/content/api/\u001b[0m\n",
            "  deprecation(\n",
            "/usr/local/lib/python3.10/dist-packages/gym/wrappers/monitoring/video_recorder.py:78: DeprecationWarning: \u001b[33mWARN: Recording ability for environment ALE/Breakout-v5 initialized with `render_mode=None` is marked as deprecated and will be removed in the future.\u001b[0m\n",
            "  logger.deprecation(\n",
            "/usr/local/lib/python3.10/dist-packages/gym/core.py:43: DeprecationWarning: \u001b[33mWARN: The argument mode in render method is deprecated; use render_mode during environment initialization instead.\n",
            "See here for more information: https://www.gymlibrary.ml/content/api/\u001b[0m\n",
            "  deprecation(\n",
            "/usr/local/lib/python3.10/dist-packages/gym/core.py:43: DeprecationWarning: \u001b[33mWARN: The argument mode in render method is deprecated; use render_mode during environment initialization instead.\n",
            "See here for more information: https://www.gymlibrary.ml/content/api/\u001b[0m\n",
            "  deprecation(\n"
          ]
        },
        {
          "metadata": {
            "tags": null
          },
          "name": "stdout",
          "output_type": "stream",
          "text": [
            "  6651/100000: episode: 12, duration: 97.328s, episode steps: 400, steps per second:   4, episode reward:  5.000, mean reward:  0.013 [ 0.000,  1.000], mean action: 2.000 [0.000, 3.000],  loss: 0.002640, mae: 0.414959, mean_q: 0.571806, mean_eps: 0.193550\n"
          ]
        },
        {
          "metadata": {
            "tags": null
          },
          "name": "stderr",
          "output_type": "stream",
          "text": [
            "/usr/local/lib/python3.10/dist-packages/gym/wrappers/monitoring/video_recorder.py:78: DeprecationWarning: \u001b[33mWARN: Recording ability for environment ALE/Breakout-v5 initialized with `render_mode=None` is marked as deprecated and will be removed in the future.\u001b[0m\n",
            "  logger.deprecation(\n",
            "/usr/local/lib/python3.10/dist-packages/gym/core.py:43: DeprecationWarning: \u001b[33mWARN: The argument mode in render method is deprecated; use render_mode during environment initialization instead.\n",
            "See here for more information: https://www.gymlibrary.ml/content/api/\u001b[0m\n",
            "  deprecation(\n",
            "/usr/local/lib/python3.10/dist-packages/gym/wrappers/monitoring/video_recorder.py:78: DeprecationWarning: \u001b[33mWARN: Recording ability for environment ALE/Breakout-v5 initialized with `render_mode=None` is marked as deprecated and will be removed in the future.\u001b[0m\n",
            "  logger.deprecation(\n",
            "/usr/local/lib/python3.10/dist-packages/gym/core.py:43: DeprecationWarning: \u001b[33mWARN: The argument mode in render method is deprecated; use render_mode during environment initialization instead.\n",
            "See here for more information: https://www.gymlibrary.ml/content/api/\u001b[0m\n",
            "  deprecation(\n",
            "/usr/local/lib/python3.10/dist-packages/gym/core.py:43: DeprecationWarning: \u001b[33mWARN: The argument mode in render method is deprecated; use render_mode during environment initialization instead.\n",
            "See here for more information: https://www.gymlibrary.ml/content/api/\u001b[0m\n",
            "  deprecation(\n"
          ]
        },
        {
          "metadata": {
            "tags": null
          },
          "name": "stdout",
          "output_type": "stream",
          "text": [
            "  7047/100000: episode: 13, duration: 97.410s, episode steps: 396, steps per second:   4, episode reward:  6.000, mean reward:  0.015 [ 0.000,  1.000], mean action: 1.977 [0.000, 3.000],  loss: 0.002605, mae: 0.415605, mean_q: 0.571546, mean_eps: 0.193152\n"
          ]
        },
        {
          "metadata": {
            "tags": null
          },
          "name": "stderr",
          "output_type": "stream",
          "text": [
            "/usr/local/lib/python3.10/dist-packages/gym/wrappers/monitoring/video_recorder.py:78: DeprecationWarning: \u001b[33mWARN: Recording ability for environment ALE/Breakout-v5 initialized with `render_mode=None` is marked as deprecated and will be removed in the future.\u001b[0m\n",
            "  logger.deprecation(\n",
            "/usr/local/lib/python3.10/dist-packages/gym/core.py:43: DeprecationWarning: \u001b[33mWARN: The argument mode in render method is deprecated; use render_mode during environment initialization instead.\n",
            "See here for more information: https://www.gymlibrary.ml/content/api/\u001b[0m\n",
            "  deprecation(\n",
            "/usr/local/lib/python3.10/dist-packages/gym/wrappers/monitoring/video_recorder.py:78: DeprecationWarning: \u001b[33mWARN: Recording ability for environment ALE/Breakout-v5 initialized with `render_mode=None` is marked as deprecated and will be removed in the future.\u001b[0m\n",
            "  logger.deprecation(\n",
            "/usr/local/lib/python3.10/dist-packages/gym/core.py:43: DeprecationWarning: \u001b[33mWARN: The argument mode in render method is deprecated; use render_mode during environment initialization instead.\n",
            "See here for more information: https://www.gymlibrary.ml/content/api/\u001b[0m\n",
            "  deprecation(\n",
            "/usr/local/lib/python3.10/dist-packages/gym/core.py:43: DeprecationWarning: \u001b[33mWARN: The argument mode in render method is deprecated; use render_mode during environment initialization instead.\n",
            "See here for more information: https://www.gymlibrary.ml/content/api/\u001b[0m\n",
            "  deprecation(\n"
          ]
        },
        {
          "metadata": {
            "tags": null
          },
          "name": "stdout",
          "output_type": "stream",
          "text": [
            "  7609/100000: episode: 14, duration: 133.517s, episode steps: 562, steps per second:   4, episode reward: 11.000, mean reward:  0.020 [ 0.000,  1.000], mean action: 2.034 [0.000, 3.000],  loss: 0.002699, mae: 0.414358, mean_q: 0.571194, mean_eps: 0.192673\n"
          ]
        },
        {
          "metadata": {
            "tags": null
          },
          "name": "stderr",
          "output_type": "stream",
          "text": [
            "/usr/local/lib/python3.10/dist-packages/gym/wrappers/monitoring/video_recorder.py:78: DeprecationWarning: \u001b[33mWARN: Recording ability for environment ALE/Breakout-v5 initialized with `render_mode=None` is marked as deprecated and will be removed in the future.\u001b[0m\n",
            "  logger.deprecation(\n",
            "/usr/local/lib/python3.10/dist-packages/gym/core.py:43: DeprecationWarning: \u001b[33mWARN: The argument mode in render method is deprecated; use render_mode during environment initialization instead.\n",
            "See here for more information: https://www.gymlibrary.ml/content/api/\u001b[0m\n",
            "  deprecation(\n",
            "/usr/local/lib/python3.10/dist-packages/gym/wrappers/monitoring/video_recorder.py:78: DeprecationWarning: \u001b[33mWARN: Recording ability for environment ALE/Breakout-v5 initialized with `render_mode=None` is marked as deprecated and will be removed in the future.\u001b[0m\n",
            "  logger.deprecation(\n",
            "/usr/local/lib/python3.10/dist-packages/gym/core.py:43: DeprecationWarning: \u001b[33mWARN: The argument mode in render method is deprecated; use render_mode during environment initialization instead.\n",
            "See here for more information: https://www.gymlibrary.ml/content/api/\u001b[0m\n",
            "  deprecation(\n",
            "/usr/local/lib/python3.10/dist-packages/gym/core.py:43: DeprecationWarning: \u001b[33mWARN: The argument mode in render method is deprecated; use render_mode during environment initialization instead.\n",
            "See here for more information: https://www.gymlibrary.ml/content/api/\u001b[0m\n",
            "  deprecation(\n"
          ]
        },
        {
          "metadata": {
            "tags": null
          },
          "name": "stdout",
          "output_type": "stream",
          "text": [
            "  8256/100000: episode: 15, duration: 150.750s, episode steps: 647, steps per second:   4, episode reward: 12.000, mean reward:  0.019 [ 0.000,  1.000], mean action: 1.773 [0.000, 3.000],  loss: 0.002651, mae: 0.421371, mean_q: 0.580629, mean_eps: 0.192068\n"
          ]
        },
        {
          "metadata": {
            "tags": null
          },
          "name": "stderr",
          "output_type": "stream",
          "text": [
            "/usr/local/lib/python3.10/dist-packages/gym/wrappers/monitoring/video_recorder.py:78: DeprecationWarning: \u001b[33mWARN: Recording ability for environment ALE/Breakout-v5 initialized with `render_mode=None` is marked as deprecated and will be removed in the future.\u001b[0m\n",
            "  logger.deprecation(\n",
            "/usr/local/lib/python3.10/dist-packages/gym/core.py:43: DeprecationWarning: \u001b[33mWARN: The argument mode in render method is deprecated; use render_mode during environment initialization instead.\n",
            "See here for more information: https://www.gymlibrary.ml/content/api/\u001b[0m\n",
            "  deprecation(\n",
            "/usr/local/lib/python3.10/dist-packages/gym/wrappers/monitoring/video_recorder.py:78: DeprecationWarning: \u001b[33mWARN: Recording ability for environment ALE/Breakout-v5 initialized with `render_mode=None` is marked as deprecated and will be removed in the future.\u001b[0m\n",
            "  logger.deprecation(\n",
            "/usr/local/lib/python3.10/dist-packages/gym/core.py:43: DeprecationWarning: \u001b[33mWARN: The argument mode in render method is deprecated; use render_mode during environment initialization instead.\n",
            "See here for more information: https://www.gymlibrary.ml/content/api/\u001b[0m\n",
            "  deprecation(\n",
            "/usr/local/lib/python3.10/dist-packages/gym/core.py:43: DeprecationWarning: \u001b[33mWARN: The argument mode in render method is deprecated; use render_mode during environment initialization instead.\n",
            "See here for more information: https://www.gymlibrary.ml/content/api/\u001b[0m\n",
            "  deprecation(\n"
          ]
        },
        {
          "metadata": {
            "tags": null
          },
          "name": "stdout",
          "output_type": "stream",
          "text": [
            "  8724/100000: episode: 16, duration: 104.271s, episode steps: 468, steps per second:   4, episode reward:  9.000, mean reward:  0.019 [ 0.000,  1.000], mean action: 2.124 [0.000, 3.000],  loss: 0.002518, mae: 0.420155, mean_q: 0.580454, mean_eps: 0.191511\n"
          ]
        },
        {
          "metadata": {
            "tags": null
          },
          "name": "stderr",
          "output_type": "stream",
          "text": [
            "/usr/local/lib/python3.10/dist-packages/gym/wrappers/monitoring/video_recorder.py:78: DeprecationWarning: \u001b[33mWARN: Recording ability for environment ALE/Breakout-v5 initialized with `render_mode=None` is marked as deprecated and will be removed in the future.\u001b[0m\n",
            "  logger.deprecation(\n",
            "/usr/local/lib/python3.10/dist-packages/gym/core.py:43: DeprecationWarning: \u001b[33mWARN: The argument mode in render method is deprecated; use render_mode during environment initialization instead.\n",
            "See here for more information: https://www.gymlibrary.ml/content/api/\u001b[0m\n",
            "  deprecation(\n",
            "/usr/local/lib/python3.10/dist-packages/gym/wrappers/monitoring/video_recorder.py:78: DeprecationWarning: \u001b[33mWARN: Recording ability for environment ALE/Breakout-v5 initialized with `render_mode=None` is marked as deprecated and will be removed in the future.\u001b[0m\n",
            "  logger.deprecation(\n",
            "/usr/local/lib/python3.10/dist-packages/gym/core.py:43: DeprecationWarning: \u001b[33mWARN: The argument mode in render method is deprecated; use render_mode during environment initialization instead.\n",
            "See here for more information: https://www.gymlibrary.ml/content/api/\u001b[0m\n",
            "  deprecation(\n",
            "/usr/local/lib/python3.10/dist-packages/gym/core.py:43: DeprecationWarning: \u001b[33mWARN: The argument mode in render method is deprecated; use render_mode during environment initialization instead.\n",
            "See here for more information: https://www.gymlibrary.ml/content/api/\u001b[0m\n",
            "  deprecation(\n"
          ]
        },
        {
          "metadata": {
            "tags": null
          },
          "name": "stdout",
          "output_type": "stream",
          "text": [
            "  9269/100000: episode: 17, duration: 122.638s, episode steps: 545, steps per second:   4, episode reward: 10.000, mean reward:  0.018 [ 0.000,  1.000], mean action: 1.897 [0.000, 3.000],  loss: 0.002492, mae: 0.424940, mean_q: 0.585524, mean_eps: 0.191004\n"
          ]
        },
        {
          "metadata": {
            "tags": null
          },
          "name": "stderr",
          "output_type": "stream",
          "text": [
            "/usr/local/lib/python3.10/dist-packages/gym/wrappers/monitoring/video_recorder.py:78: DeprecationWarning: \u001b[33mWARN: Recording ability for environment ALE/Breakout-v5 initialized with `render_mode=None` is marked as deprecated and will be removed in the future.\u001b[0m\n",
            "  logger.deprecation(\n",
            "/usr/local/lib/python3.10/dist-packages/gym/core.py:43: DeprecationWarning: \u001b[33mWARN: The argument mode in render method is deprecated; use render_mode during environment initialization instead.\n",
            "See here for more information: https://www.gymlibrary.ml/content/api/\u001b[0m\n",
            "  deprecation(\n",
            "/usr/local/lib/python3.10/dist-packages/gym/wrappers/monitoring/video_recorder.py:78: DeprecationWarning: \u001b[33mWARN: Recording ability for environment ALE/Breakout-v5 initialized with `render_mode=None` is marked as deprecated and will be removed in the future.\u001b[0m\n",
            "  logger.deprecation(\n",
            "/usr/local/lib/python3.10/dist-packages/gym/core.py:43: DeprecationWarning: \u001b[33mWARN: The argument mode in render method is deprecated; use render_mode during environment initialization instead.\n",
            "See here for more information: https://www.gymlibrary.ml/content/api/\u001b[0m\n",
            "  deprecation(\n",
            "/usr/local/lib/python3.10/dist-packages/gym/core.py:43: DeprecationWarning: \u001b[33mWARN: The argument mode in render method is deprecated; use render_mode during environment initialization instead.\n",
            "See here for more information: https://www.gymlibrary.ml/content/api/\u001b[0m\n",
            "  deprecation(\n"
          ]
        },
        {
          "metadata": {
            "tags": null
          },
          "name": "stdout",
          "output_type": "stream",
          "text": [
            " 10007/100000: episode: 18, duration: 166.902s, episode steps: 738, steps per second:   4, episode reward: 16.000, mean reward:  0.022 [ 0.000,  1.000], mean action: 1.717 [0.000, 3.000],  loss: 0.002426, mae: 0.416226, mean_q: 0.573266, mean_eps: 0.190363\n"
          ]
        },
        {
          "metadata": {
            "tags": null
          },
          "name": "stderr",
          "output_type": "stream",
          "text": [
            "/usr/local/lib/python3.10/dist-packages/gym/wrappers/monitoring/video_recorder.py:78: DeprecationWarning: \u001b[33mWARN: Recording ability for environment ALE/Breakout-v5 initialized with `render_mode=None` is marked as deprecated and will be removed in the future.\u001b[0m\n",
            "  logger.deprecation(\n",
            "/usr/local/lib/python3.10/dist-packages/gym/core.py:43: DeprecationWarning: \u001b[33mWARN: The argument mode in render method is deprecated; use render_mode during environment initialization instead.\n",
            "See here for more information: https://www.gymlibrary.ml/content/api/\u001b[0m\n",
            "  deprecation(\n",
            "/usr/local/lib/python3.10/dist-packages/gym/wrappers/monitoring/video_recorder.py:78: DeprecationWarning: \u001b[33mWARN: Recording ability for environment ALE/Breakout-v5 initialized with `render_mode=None` is marked as deprecated and will be removed in the future.\u001b[0m\n",
            "  logger.deprecation(\n",
            "/usr/local/lib/python3.10/dist-packages/gym/core.py:43: DeprecationWarning: \u001b[33mWARN: The argument mode in render method is deprecated; use render_mode during environment initialization instead.\n",
            "See here for more information: https://www.gymlibrary.ml/content/api/\u001b[0m\n",
            "  deprecation(\n",
            "/usr/local/lib/python3.10/dist-packages/gym/core.py:43: DeprecationWarning: \u001b[33mWARN: The argument mode in render method is deprecated; use render_mode during environment initialization instead.\n",
            "See here for more information: https://www.gymlibrary.ml/content/api/\u001b[0m\n",
            "  deprecation(\n"
          ]
        },
        {
          "metadata": {
            "tags": null
          },
          "name": "stdout",
          "output_type": "stream",
          "text": [
            " 10565/100000: episode: 19, duration: 125.736s, episode steps: 558, steps per second:   4, episode reward:  8.000, mean reward:  0.014 [ 0.000,  1.000], mean action: 1.900 [0.000, 3.000],  loss: 0.004178, mae: 0.446971, mean_q: 0.609804, mean_eps: 0.189715\n"
          ]
        },
        {
          "metadata": {
            "tags": null
          },
          "name": "stderr",
          "output_type": "stream",
          "text": [
            "/usr/local/lib/python3.10/dist-packages/gym/wrappers/monitoring/video_recorder.py:78: DeprecationWarning: \u001b[33mWARN: Recording ability for environment ALE/Breakout-v5 initialized with `render_mode=None` is marked as deprecated and will be removed in the future.\u001b[0m\n",
            "  logger.deprecation(\n",
            "/usr/local/lib/python3.10/dist-packages/gym/core.py:43: DeprecationWarning: \u001b[33mWARN: The argument mode in render method is deprecated; use render_mode during environment initialization instead.\n",
            "See here for more information: https://www.gymlibrary.ml/content/api/\u001b[0m\n",
            "  deprecation(\n",
            "/usr/local/lib/python3.10/dist-packages/gym/wrappers/monitoring/video_recorder.py:78: DeprecationWarning: \u001b[33mWARN: Recording ability for environment ALE/Breakout-v5 initialized with `render_mode=None` is marked as deprecated and will be removed in the future.\u001b[0m\n",
            "  logger.deprecation(\n",
            "/usr/local/lib/python3.10/dist-packages/gym/core.py:43: DeprecationWarning: \u001b[33mWARN: The argument mode in render method is deprecated; use render_mode during environment initialization instead.\n",
            "See here for more information: https://www.gymlibrary.ml/content/api/\u001b[0m\n",
            "  deprecation(\n",
            "/usr/local/lib/python3.10/dist-packages/gym/core.py:43: DeprecationWarning: \u001b[33mWARN: The argument mode in render method is deprecated; use render_mode during environment initialization instead.\n",
            "See here for more information: https://www.gymlibrary.ml/content/api/\u001b[0m\n",
            "  deprecation(\n"
          ]
        },
        {
          "metadata": {
            "tags": null
          },
          "name": "stdout",
          "output_type": "stream",
          "text": [
            " 11098/100000: episode: 20, duration: 125.370s, episode steps: 533, steps per second:   4, episode reward:  8.000, mean reward:  0.015 [ 0.000,  1.000], mean action: 1.612 [0.000, 3.000],  loss: 0.002696, mae: 0.445126, mean_q: 0.610571, mean_eps: 0.189169\n"
          ]
        },
        {
          "metadata": {
            "tags": null
          },
          "name": "stderr",
          "output_type": "stream",
          "text": [
            "/usr/local/lib/python3.10/dist-packages/gym/wrappers/monitoring/video_recorder.py:78: DeprecationWarning: \u001b[33mWARN: Recording ability for environment ALE/Breakout-v5 initialized with `render_mode=None` is marked as deprecated and will be removed in the future.\u001b[0m\n",
            "  logger.deprecation(\n",
            "/usr/local/lib/python3.10/dist-packages/gym/core.py:43: DeprecationWarning: \u001b[33mWARN: The argument mode in render method is deprecated; use render_mode during environment initialization instead.\n",
            "See here for more information: https://www.gymlibrary.ml/content/api/\u001b[0m\n",
            "  deprecation(\n",
            "/usr/local/lib/python3.10/dist-packages/gym/wrappers/monitoring/video_recorder.py:78: DeprecationWarning: \u001b[33mWARN: Recording ability for environment ALE/Breakout-v5 initialized with `render_mode=None` is marked as deprecated and will be removed in the future.\u001b[0m\n",
            "  logger.deprecation(\n",
            "/usr/local/lib/python3.10/dist-packages/gym/core.py:43: DeprecationWarning: \u001b[33mWARN: The argument mode in render method is deprecated; use render_mode during environment initialization instead.\n",
            "See here for more information: https://www.gymlibrary.ml/content/api/\u001b[0m\n",
            "  deprecation(\n",
            "/usr/local/lib/python3.10/dist-packages/gym/core.py:43: DeprecationWarning: \u001b[33mWARN: The argument mode in render method is deprecated; use render_mode during environment initialization instead.\n",
            "See here for more information: https://www.gymlibrary.ml/content/api/\u001b[0m\n",
            "  deprecation(\n"
          ]
        },
        {
          "metadata": {
            "tags": null
          },
          "name": "stdout",
          "output_type": "stream",
          "text": [
            " 11663/100000: episode: 21, duration: 137.418s, episode steps: 565, steps per second:   4, episode reward: 12.000, mean reward:  0.021 [ 0.000,  1.000], mean action: 1.943 [0.000, 3.000],  loss: 0.002655, mae: 0.445782, mean_q: 0.611824, mean_eps: 0.188620\n"
          ]
        },
        {
          "metadata": {
            "tags": null
          },
          "name": "stderr",
          "output_type": "stream",
          "text": [
            "/usr/local/lib/python3.10/dist-packages/gym/wrappers/monitoring/video_recorder.py:78: DeprecationWarning: \u001b[33mWARN: Recording ability for environment ALE/Breakout-v5 initialized with `render_mode=None` is marked as deprecated and will be removed in the future.\u001b[0m\n",
            "  logger.deprecation(\n",
            "/usr/local/lib/python3.10/dist-packages/gym/core.py:43: DeprecationWarning: \u001b[33mWARN: The argument mode in render method is deprecated; use render_mode during environment initialization instead.\n",
            "See here for more information: https://www.gymlibrary.ml/content/api/\u001b[0m\n",
            "  deprecation(\n",
            "/usr/local/lib/python3.10/dist-packages/gym/wrappers/monitoring/video_recorder.py:78: DeprecationWarning: \u001b[33mWARN: Recording ability for environment ALE/Breakout-v5 initialized with `render_mode=None` is marked as deprecated and will be removed in the future.\u001b[0m\n",
            "  logger.deprecation(\n",
            "/usr/local/lib/python3.10/dist-packages/gym/core.py:43: DeprecationWarning: \u001b[33mWARN: The argument mode in render method is deprecated; use render_mode during environment initialization instead.\n",
            "See here for more information: https://www.gymlibrary.ml/content/api/\u001b[0m\n",
            "  deprecation(\n",
            "/usr/local/lib/python3.10/dist-packages/gym/core.py:43: DeprecationWarning: \u001b[33mWARN: The argument mode in render method is deprecated; use render_mode during environment initialization instead.\n",
            "See here for more information: https://www.gymlibrary.ml/content/api/\u001b[0m\n",
            "  deprecation(\n"
          ]
        },
        {
          "metadata": {
            "tags": null
          },
          "name": "stdout",
          "output_type": "stream",
          "text": [
            " 12181/100000: episode: 22, duration: 120.880s, episode steps: 518, steps per second:   4, episode reward: 12.000, mean reward:  0.023 [ 0.000,  1.000], mean action: 1.817 [0.000, 3.000],  loss: 0.002326, mae: 0.447805, mean_q: 0.615568, mean_eps: 0.188079\n"
          ]
        },
        {
          "metadata": {
            "tags": null
          },
          "name": "stderr",
          "output_type": "stream",
          "text": [
            "/usr/local/lib/python3.10/dist-packages/gym/wrappers/monitoring/video_recorder.py:78: DeprecationWarning: \u001b[33mWARN: Recording ability for environment ALE/Breakout-v5 initialized with `render_mode=None` is marked as deprecated and will be removed in the future.\u001b[0m\n",
            "  logger.deprecation(\n",
            "/usr/local/lib/python3.10/dist-packages/gym/core.py:43: DeprecationWarning: \u001b[33mWARN: The argument mode in render method is deprecated; use render_mode during environment initialization instead.\n",
            "See here for more information: https://www.gymlibrary.ml/content/api/\u001b[0m\n",
            "  deprecation(\n",
            "/usr/local/lib/python3.10/dist-packages/gym/wrappers/monitoring/video_recorder.py:78: DeprecationWarning: \u001b[33mWARN: Recording ability for environment ALE/Breakout-v5 initialized with `render_mode=None` is marked as deprecated and will be removed in the future.\u001b[0m\n",
            "  logger.deprecation(\n",
            "/usr/local/lib/python3.10/dist-packages/gym/core.py:43: DeprecationWarning: \u001b[33mWARN: The argument mode in render method is deprecated; use render_mode during environment initialization instead.\n",
            "See here for more information: https://www.gymlibrary.ml/content/api/\u001b[0m\n",
            "  deprecation(\n",
            "/usr/local/lib/python3.10/dist-packages/gym/core.py:43: DeprecationWarning: \u001b[33mWARN: The argument mode in render method is deprecated; use render_mode during environment initialization instead.\n",
            "See here for more information: https://www.gymlibrary.ml/content/api/\u001b[0m\n",
            "  deprecation(\n"
          ]
        },
        {
          "metadata": {
            "tags": null
          },
          "name": "stdout",
          "output_type": "stream",
          "text": [
            " 12741/100000: episode: 23, duration: 127.822s, episode steps: 560, steps per second:   4, episode reward: 12.000, mean reward:  0.021 [ 0.000,  1.000], mean action: 1.809 [0.000, 3.000],  loss: 0.002403, mae: 0.441664, mean_q: 0.607093, mean_eps: 0.187539\n"
          ]
        },
        {
          "metadata": {
            "tags": null
          },
          "name": "stderr",
          "output_type": "stream",
          "text": [
            "/usr/local/lib/python3.10/dist-packages/gym/wrappers/monitoring/video_recorder.py:78: DeprecationWarning: \u001b[33mWARN: Recording ability for environment ALE/Breakout-v5 initialized with `render_mode=None` is marked as deprecated and will be removed in the future.\u001b[0m\n",
            "  logger.deprecation(\n",
            "/usr/local/lib/python3.10/dist-packages/gym/core.py:43: DeprecationWarning: \u001b[33mWARN: The argument mode in render method is deprecated; use render_mode during environment initialization instead.\n",
            "See here for more information: https://www.gymlibrary.ml/content/api/\u001b[0m\n",
            "  deprecation(\n",
            "/usr/local/lib/python3.10/dist-packages/gym/wrappers/monitoring/video_recorder.py:78: DeprecationWarning: \u001b[33mWARN: Recording ability for environment ALE/Breakout-v5 initialized with `render_mode=None` is marked as deprecated and will be removed in the future.\u001b[0m\n",
            "  logger.deprecation(\n",
            "/usr/local/lib/python3.10/dist-packages/gym/core.py:43: DeprecationWarning: \u001b[33mWARN: The argument mode in render method is deprecated; use render_mode during environment initialization instead.\n",
            "See here for more information: https://www.gymlibrary.ml/content/api/\u001b[0m\n",
            "  deprecation(\n",
            "/usr/local/lib/python3.10/dist-packages/gym/core.py:43: DeprecationWarning: \u001b[33mWARN: The argument mode in render method is deprecated; use render_mode during environment initialization instead.\n",
            "See here for more information: https://www.gymlibrary.ml/content/api/\u001b[0m\n",
            "  deprecation(\n"
          ]
        },
        {
          "metadata": {
            "tags": null
          },
          "name": "stdout",
          "output_type": "stream",
          "text": [
            " 13453/100000: episode: 24, duration: 162.783s, episode steps: 712, steps per second:   4, episode reward: 15.000, mean reward:  0.021 [ 0.000,  1.000], mean action: 1.937 [0.000, 3.000],  loss: 0.002187, mae: 0.444274, mean_q: 0.610418, mean_eps: 0.186904\n"
          ]
        },
        {
          "metadata": {
            "tags": null
          },
          "name": "stderr",
          "output_type": "stream",
          "text": [
            "/usr/local/lib/python3.10/dist-packages/gym/wrappers/monitoring/video_recorder.py:78: DeprecationWarning: \u001b[33mWARN: Recording ability for environment ALE/Breakout-v5 initialized with `render_mode=None` is marked as deprecated and will be removed in the future.\u001b[0m\n",
            "  logger.deprecation(\n",
            "/usr/local/lib/python3.10/dist-packages/gym/core.py:43: DeprecationWarning: \u001b[33mWARN: The argument mode in render method is deprecated; use render_mode during environment initialization instead.\n",
            "See here for more information: https://www.gymlibrary.ml/content/api/\u001b[0m\n",
            "  deprecation(\n",
            "/usr/local/lib/python3.10/dist-packages/gym/wrappers/monitoring/video_recorder.py:78: DeprecationWarning: \u001b[33mWARN: Recording ability for environment ALE/Breakout-v5 initialized with `render_mode=None` is marked as deprecated and will be removed in the future.\u001b[0m\n",
            "  logger.deprecation(\n",
            "/usr/local/lib/python3.10/dist-packages/gym/core.py:43: DeprecationWarning: \u001b[33mWARN: The argument mode in render method is deprecated; use render_mode during environment initialization instead.\n",
            "See here for more information: https://www.gymlibrary.ml/content/api/\u001b[0m\n",
            "  deprecation(\n",
            "/usr/local/lib/python3.10/dist-packages/gym/core.py:43: DeprecationWarning: \u001b[33mWARN: The argument mode in render method is deprecated; use render_mode during environment initialization instead.\n",
            "See here for more information: https://www.gymlibrary.ml/content/api/\u001b[0m\n",
            "  deprecation(\n"
          ]
        },
        {
          "metadata": {
            "tags": null
          },
          "name": "stdout",
          "output_type": "stream",
          "text": [
            " 14069/100000: episode: 25, duration: 140.034s, episode steps: 616, steps per second:   4, episode reward: 13.000, mean reward:  0.021 [ 0.000,  1.000], mean action: 1.779 [0.000, 3.000],  loss: 0.002347, mae: 0.442982, mean_q: 0.608110, mean_eps: 0.186240\n"
          ]
        },
        {
          "metadata": {
            "tags": null
          },
          "name": "stderr",
          "output_type": "stream",
          "text": [
            "/usr/local/lib/python3.10/dist-packages/gym/wrappers/monitoring/video_recorder.py:78: DeprecationWarning: \u001b[33mWARN: Recording ability for environment ALE/Breakout-v5 initialized with `render_mode=None` is marked as deprecated and will be removed in the future.\u001b[0m\n",
            "  logger.deprecation(\n",
            "/usr/local/lib/python3.10/dist-packages/gym/core.py:43: DeprecationWarning: \u001b[33mWARN: The argument mode in render method is deprecated; use render_mode during environment initialization instead.\n",
            "See here for more information: https://www.gymlibrary.ml/content/api/\u001b[0m\n",
            "  deprecation(\n",
            "/usr/local/lib/python3.10/dist-packages/gym/wrappers/monitoring/video_recorder.py:78: DeprecationWarning: \u001b[33mWARN: Recording ability for environment ALE/Breakout-v5 initialized with `render_mode=None` is marked as deprecated and will be removed in the future.\u001b[0m\n",
            "  logger.deprecation(\n",
            "/usr/local/lib/python3.10/dist-packages/gym/core.py:43: DeprecationWarning: \u001b[33mWARN: The argument mode in render method is deprecated; use render_mode during environment initialization instead.\n",
            "See here for more information: https://www.gymlibrary.ml/content/api/\u001b[0m\n",
            "  deprecation(\n",
            "/usr/local/lib/python3.10/dist-packages/gym/core.py:43: DeprecationWarning: \u001b[33mWARN: The argument mode in render method is deprecated; use render_mode during environment initialization instead.\n",
            "See here for more information: https://www.gymlibrary.ml/content/api/\u001b[0m\n",
            "  deprecation(\n"
          ]
        },
        {
          "metadata": {
            "tags": null
          },
          "name": "stdout",
          "output_type": "stream",
          "text": [
            " 14804/100000: episode: 26, duration: 168.526s, episode steps: 735, steps per second:   4, episode reward: 14.000, mean reward:  0.019 [ 0.000,  1.000], mean action: 1.793 [0.000, 3.000],  loss: 0.002186, mae: 0.444948, mean_q: 0.612186, mean_eps: 0.185564\n"
          ]
        },
        {
          "metadata": {
            "tags": null
          },
          "name": "stderr",
          "output_type": "stream",
          "text": [
            "/usr/local/lib/python3.10/dist-packages/gym/wrappers/monitoring/video_recorder.py:78: DeprecationWarning: \u001b[33mWARN: Recording ability for environment ALE/Breakout-v5 initialized with `render_mode=None` is marked as deprecated and will be removed in the future.\u001b[0m\n",
            "  logger.deprecation(\n",
            "/usr/local/lib/python3.10/dist-packages/gym/core.py:43: DeprecationWarning: \u001b[33mWARN: The argument mode in render method is deprecated; use render_mode during environment initialization instead.\n",
            "See here for more information: https://www.gymlibrary.ml/content/api/\u001b[0m\n",
            "  deprecation(\n",
            "/usr/local/lib/python3.10/dist-packages/gym/wrappers/monitoring/video_recorder.py:78: DeprecationWarning: \u001b[33mWARN: Recording ability for environment ALE/Breakout-v5 initialized with `render_mode=None` is marked as deprecated and will be removed in the future.\u001b[0m\n",
            "  logger.deprecation(\n",
            "/usr/local/lib/python3.10/dist-packages/gym/core.py:43: DeprecationWarning: \u001b[33mWARN: The argument mode in render method is deprecated; use render_mode during environment initialization instead.\n",
            "See here for more information: https://www.gymlibrary.ml/content/api/\u001b[0m\n",
            "  deprecation(\n",
            "/usr/local/lib/python3.10/dist-packages/gym/core.py:43: DeprecationWarning: \u001b[33mWARN: The argument mode in render method is deprecated; use render_mode during environment initialization instead.\n",
            "See here for more information: https://www.gymlibrary.ml/content/api/\u001b[0m\n",
            "  deprecation(\n"
          ]
        },
        {
          "metadata": {
            "tags": null
          },
          "name": "stdout",
          "output_type": "stream",
          "text": [
            " 15523/100000: episode: 27, duration: 167.553s, episode steps: 719, steps per second:   4, episode reward: 14.000, mean reward:  0.019 [ 0.000,  1.000], mean action: 1.894 [0.000, 3.000],  loss: 0.002153, mae: 0.445041, mean_q: 0.611979, mean_eps: 0.184837\n"
          ]
        },
        {
          "metadata": {
            "tags": null
          },
          "name": "stderr",
          "output_type": "stream",
          "text": [
            "/usr/local/lib/python3.10/dist-packages/gym/wrappers/monitoring/video_recorder.py:78: DeprecationWarning: \u001b[33mWARN: Recording ability for environment ALE/Breakout-v5 initialized with `render_mode=None` is marked as deprecated and will be removed in the future.\u001b[0m\n",
            "  logger.deprecation(\n",
            "/usr/local/lib/python3.10/dist-packages/gym/core.py:43: DeprecationWarning: \u001b[33mWARN: The argument mode in render method is deprecated; use render_mode during environment initialization instead.\n",
            "See here for more information: https://www.gymlibrary.ml/content/api/\u001b[0m\n",
            "  deprecation(\n",
            "/usr/local/lib/python3.10/dist-packages/gym/wrappers/monitoring/video_recorder.py:78: DeprecationWarning: \u001b[33mWARN: Recording ability for environment ALE/Breakout-v5 initialized with `render_mode=None` is marked as deprecated and will be removed in the future.\u001b[0m\n",
            "  logger.deprecation(\n",
            "/usr/local/lib/python3.10/dist-packages/gym/core.py:43: DeprecationWarning: \u001b[33mWARN: The argument mode in render method is deprecated; use render_mode during environment initialization instead.\n",
            "See here for more information: https://www.gymlibrary.ml/content/api/\u001b[0m\n",
            "  deprecation(\n",
            "/usr/local/lib/python3.10/dist-packages/gym/core.py:43: DeprecationWarning: \u001b[33mWARN: The argument mode in render method is deprecated; use render_mode during environment initialization instead.\n",
            "See here for more information: https://www.gymlibrary.ml/content/api/\u001b[0m\n",
            "  deprecation(\n"
          ]
        },
        {
          "metadata": {
            "tags": null
          },
          "name": "stdout",
          "output_type": "stream",
          "text": [
            " 16267/100000: episode: 28, duration: 172.704s, episode steps: 744, steps per second:   4, episode reward: 15.000, mean reward:  0.020 [ 0.000,  1.000], mean action: 1.870 [0.000, 3.000],  loss: 0.002021, mae: 0.441513, mean_q: 0.608774, mean_eps: 0.184106\n"
          ]
        },
        {
          "metadata": {
            "tags": null
          },
          "name": "stderr",
          "output_type": "stream",
          "text": [
            "/usr/local/lib/python3.10/dist-packages/gym/wrappers/monitoring/video_recorder.py:78: DeprecationWarning: \u001b[33mWARN: Recording ability for environment ALE/Breakout-v5 initialized with `render_mode=None` is marked as deprecated and will be removed in the future.\u001b[0m\n",
            "  logger.deprecation(\n",
            "/usr/local/lib/python3.10/dist-packages/gym/core.py:43: DeprecationWarning: \u001b[33mWARN: The argument mode in render method is deprecated; use render_mode during environment initialization instead.\n",
            "See here for more information: https://www.gymlibrary.ml/content/api/\u001b[0m\n",
            "  deprecation(\n",
            "/usr/local/lib/python3.10/dist-packages/gym/wrappers/monitoring/video_recorder.py:78: DeprecationWarning: \u001b[33mWARN: Recording ability for environment ALE/Breakout-v5 initialized with `render_mode=None` is marked as deprecated and will be removed in the future.\u001b[0m\n",
            "  logger.deprecation(\n",
            "/usr/local/lib/python3.10/dist-packages/gym/core.py:43: DeprecationWarning: \u001b[33mWARN: The argument mode in render method is deprecated; use render_mode during environment initialization instead.\n",
            "See here for more information: https://www.gymlibrary.ml/content/api/\u001b[0m\n",
            "  deprecation(\n",
            "/usr/local/lib/python3.10/dist-packages/gym/core.py:43: DeprecationWarning: \u001b[33mWARN: The argument mode in render method is deprecated; use render_mode during environment initialization instead.\n",
            "See here for more information: https://www.gymlibrary.ml/content/api/\u001b[0m\n",
            "  deprecation(\n"
          ]
        },
        {
          "metadata": {
            "tags": null
          },
          "name": "stdout",
          "output_type": "stream",
          "text": [
            " 16715/100000: episode: 29, duration: 103.895s, episode steps: 448, steps per second:   4, episode reward:  7.000, mean reward:  0.016 [ 0.000,  1.000], mean action: 1.958 [0.000, 3.000],  loss: 0.002140, mae: 0.446099, mean_q: 0.613811, mean_eps: 0.183510\n"
          ]
        },
        {
          "metadata": {
            "tags": null
          },
          "name": "stderr",
          "output_type": "stream",
          "text": [
            "/usr/local/lib/python3.10/dist-packages/gym/wrappers/monitoring/video_recorder.py:78: DeprecationWarning: \u001b[33mWARN: Recording ability for environment ALE/Breakout-v5 initialized with `render_mode=None` is marked as deprecated and will be removed in the future.\u001b[0m\n",
            "  logger.deprecation(\n",
            "/usr/local/lib/python3.10/dist-packages/gym/core.py:43: DeprecationWarning: \u001b[33mWARN: The argument mode in render method is deprecated; use render_mode during environment initialization instead.\n",
            "See here for more information: https://www.gymlibrary.ml/content/api/\u001b[0m\n",
            "  deprecation(\n",
            "/usr/local/lib/python3.10/dist-packages/gym/wrappers/monitoring/video_recorder.py:78: DeprecationWarning: \u001b[33mWARN: Recording ability for environment ALE/Breakout-v5 initialized with `render_mode=None` is marked as deprecated and will be removed in the future.\u001b[0m\n",
            "  logger.deprecation(\n",
            "/usr/local/lib/python3.10/dist-packages/gym/core.py:43: DeprecationWarning: \u001b[33mWARN: The argument mode in render method is deprecated; use render_mode during environment initialization instead.\n",
            "See here for more information: https://www.gymlibrary.ml/content/api/\u001b[0m\n",
            "  deprecation(\n",
            "/usr/local/lib/python3.10/dist-packages/gym/core.py:43: DeprecationWarning: \u001b[33mWARN: The argument mode in render method is deprecated; use render_mode during environment initialization instead.\n",
            "See here for more information: https://www.gymlibrary.ml/content/api/\u001b[0m\n",
            "  deprecation(\n"
          ]
        },
        {
          "metadata": {
            "tags": null
          },
          "name": "stdout",
          "output_type": "stream",
          "text": [
            " 17536/100000: episode: 30, duration: 189.972s, episode steps: 821, steps per second:   4, episode reward: 17.000, mean reward:  0.021 [ 0.000,  1.000], mean action: 1.853 [0.000, 3.000],  loss: 0.001938, mae: 0.443658, mean_q: 0.610744, mean_eps: 0.182875\n"
          ]
        },
        {
          "metadata": {
            "tags": null
          },
          "name": "stderr",
          "output_type": "stream",
          "text": [
            "/usr/local/lib/python3.10/dist-packages/gym/wrappers/monitoring/video_recorder.py:78: DeprecationWarning: \u001b[33mWARN: Recording ability for environment ALE/Breakout-v5 initialized with `render_mode=None` is marked as deprecated and will be removed in the future.\u001b[0m\n",
            "  logger.deprecation(\n",
            "/usr/local/lib/python3.10/dist-packages/gym/core.py:43: DeprecationWarning: \u001b[33mWARN: The argument mode in render method is deprecated; use render_mode during environment initialization instead.\n",
            "See here for more information: https://www.gymlibrary.ml/content/api/\u001b[0m\n",
            "  deprecation(\n",
            "/usr/local/lib/python3.10/dist-packages/gym/wrappers/monitoring/video_recorder.py:78: DeprecationWarning: \u001b[33mWARN: Recording ability for environment ALE/Breakout-v5 initialized with `render_mode=None` is marked as deprecated and will be removed in the future.\u001b[0m\n",
            "  logger.deprecation(\n",
            "/usr/local/lib/python3.10/dist-packages/gym/core.py:43: DeprecationWarning: \u001b[33mWARN: The argument mode in render method is deprecated; use render_mode during environment initialization instead.\n",
            "See here for more information: https://www.gymlibrary.ml/content/api/\u001b[0m\n",
            "  deprecation(\n",
            "/usr/local/lib/python3.10/dist-packages/gym/core.py:43: DeprecationWarning: \u001b[33mWARN: The argument mode in render method is deprecated; use render_mode during environment initialization instead.\n",
            "See here for more information: https://www.gymlibrary.ml/content/api/\u001b[0m\n",
            "  deprecation(\n"
          ]
        },
        {
          "metadata": {
            "tags": null
          },
          "name": "stdout",
          "output_type": "stream",
          "text": [
            " 18100/100000: episode: 31, duration: 129.027s, episode steps: 564, steps per second:   4, episode reward:  9.000, mean reward:  0.016 [ 0.000,  1.000], mean action: 1.959 [0.000, 3.000],  loss: 0.002162, mae: 0.449044, mean_q: 0.617332, mean_eps: 0.182182\n"
          ]
        },
        {
          "metadata": {
            "tags": null
          },
          "name": "stderr",
          "output_type": "stream",
          "text": [
            "/usr/local/lib/python3.10/dist-packages/gym/wrappers/monitoring/video_recorder.py:78: DeprecationWarning: \u001b[33mWARN: Recording ability for environment ALE/Breakout-v5 initialized with `render_mode=None` is marked as deprecated and will be removed in the future.\u001b[0m\n",
            "  logger.deprecation(\n",
            "/usr/local/lib/python3.10/dist-packages/gym/core.py:43: DeprecationWarning: \u001b[33mWARN: The argument mode in render method is deprecated; use render_mode during environment initialization instead.\n",
            "See here for more information: https://www.gymlibrary.ml/content/api/\u001b[0m\n",
            "  deprecation(\n",
            "/usr/local/lib/python3.10/dist-packages/gym/wrappers/monitoring/video_recorder.py:78: DeprecationWarning: \u001b[33mWARN: Recording ability for environment ALE/Breakout-v5 initialized with `render_mode=None` is marked as deprecated and will be removed in the future.\u001b[0m\n",
            "  logger.deprecation(\n",
            "/usr/local/lib/python3.10/dist-packages/gym/core.py:43: DeprecationWarning: \u001b[33mWARN: The argument mode in render method is deprecated; use render_mode during environment initialization instead.\n",
            "See here for more information: https://www.gymlibrary.ml/content/api/\u001b[0m\n",
            "  deprecation(\n",
            "/usr/local/lib/python3.10/dist-packages/gym/core.py:43: DeprecationWarning: \u001b[33mWARN: The argument mode in render method is deprecated; use render_mode during environment initialization instead.\n",
            "See here for more information: https://www.gymlibrary.ml/content/api/\u001b[0m\n",
            "  deprecation(\n"
          ]
        },
        {
          "metadata": {
            "tags": null
          },
          "name": "stdout",
          "output_type": "stream",
          "text": [
            " 18791/100000: episode: 32, duration: 162.047s, episode steps: 691, steps per second:   4, episode reward: 13.000, mean reward:  0.019 [ 0.000,  1.000], mean action: 1.909 [0.000, 3.000],  loss: 0.002144, mae: 0.445980, mean_q: 0.612778, mean_eps: 0.181555\n"
          ]
        },
        {
          "metadata": {
            "tags": null
          },
          "name": "stderr",
          "output_type": "stream",
          "text": [
            "/usr/local/lib/python3.10/dist-packages/gym/wrappers/monitoring/video_recorder.py:78: DeprecationWarning: \u001b[33mWARN: Recording ability for environment ALE/Breakout-v5 initialized with `render_mode=None` is marked as deprecated and will be removed in the future.\u001b[0m\n",
            "  logger.deprecation(\n",
            "/usr/local/lib/python3.10/dist-packages/gym/core.py:43: DeprecationWarning: \u001b[33mWARN: The argument mode in render method is deprecated; use render_mode during environment initialization instead.\n",
            "See here for more information: https://www.gymlibrary.ml/content/api/\u001b[0m\n",
            "  deprecation(\n",
            "/usr/local/lib/python3.10/dist-packages/gym/wrappers/monitoring/video_recorder.py:78: DeprecationWarning: \u001b[33mWARN: Recording ability for environment ALE/Breakout-v5 initialized with `render_mode=None` is marked as deprecated and will be removed in the future.\u001b[0m\n",
            "  logger.deprecation(\n",
            "/usr/local/lib/python3.10/dist-packages/gym/core.py:43: DeprecationWarning: \u001b[33mWARN: The argument mode in render method is deprecated; use render_mode during environment initialization instead.\n",
            "See here for more information: https://www.gymlibrary.ml/content/api/\u001b[0m\n",
            "  deprecation(\n",
            "/usr/local/lib/python3.10/dist-packages/gym/core.py:43: DeprecationWarning: \u001b[33mWARN: The argument mode in render method is deprecated; use render_mode during environment initialization instead.\n",
            "See here for more information: https://www.gymlibrary.ml/content/api/\u001b[0m\n",
            "  deprecation(\n"
          ]
        },
        {
          "metadata": {
            "tags": null
          },
          "name": "stdout",
          "output_type": "stream",
          "text": [
            " 19465/100000: episode: 33, duration: 148.925s, episode steps: 674, steps per second:   5, episode reward: 15.000, mean reward:  0.022 [ 0.000,  1.000], mean action: 1.843 [0.000, 3.000],  loss: 0.001901, mae: 0.443156, mean_q: 0.608647, mean_eps: 0.180873\n"
          ]
        },
        {
          "metadata": {
            "tags": null
          },
          "name": "stderr",
          "output_type": "stream",
          "text": [
            "/usr/local/lib/python3.10/dist-packages/gym/wrappers/monitoring/video_recorder.py:78: DeprecationWarning: \u001b[33mWARN: Recording ability for environment ALE/Breakout-v5 initialized with `render_mode=None` is marked as deprecated and will be removed in the future.\u001b[0m\n",
            "  logger.deprecation(\n",
            "/usr/local/lib/python3.10/dist-packages/gym/core.py:43: DeprecationWarning: \u001b[33mWARN: The argument mode in render method is deprecated; use render_mode during environment initialization instead.\n",
            "See here for more information: https://www.gymlibrary.ml/content/api/\u001b[0m\n",
            "  deprecation(\n",
            "/usr/local/lib/python3.10/dist-packages/gym/wrappers/monitoring/video_recorder.py:78: DeprecationWarning: \u001b[33mWARN: Recording ability for environment ALE/Breakout-v5 initialized with `render_mode=None` is marked as deprecated and will be removed in the future.\u001b[0m\n",
            "  logger.deprecation(\n",
            "/usr/local/lib/python3.10/dist-packages/gym/core.py:43: DeprecationWarning: \u001b[33mWARN: The argument mode in render method is deprecated; use render_mode during environment initialization instead.\n",
            "See here for more information: https://www.gymlibrary.ml/content/api/\u001b[0m\n",
            "  deprecation(\n",
            "/usr/local/lib/python3.10/dist-packages/gym/core.py:43: DeprecationWarning: \u001b[33mWARN: The argument mode in render method is deprecated; use render_mode during environment initialization instead.\n",
            "See here for more information: https://www.gymlibrary.ml/content/api/\u001b[0m\n",
            "  deprecation(\n"
          ]
        },
        {
          "metadata": {
            "tags": null
          },
          "name": "stdout",
          "output_type": "stream",
          "text": [
            " 20069/100000: episode: 34, duration: 133.415s, episode steps: 604, steps per second:   5, episode reward: 11.000, mean reward:  0.018 [ 0.000,  1.000], mean action: 1.949 [0.000, 3.000],  loss: 0.002674, mae: 0.447794, mean_q: 0.615041, mean_eps: 0.180234\n"
          ]
        },
        {
          "metadata": {
            "tags": null
          },
          "name": "stderr",
          "output_type": "stream",
          "text": [
            "/usr/local/lib/python3.10/dist-packages/gym/wrappers/monitoring/video_recorder.py:78: DeprecationWarning: \u001b[33mWARN: Recording ability for environment ALE/Breakout-v5 initialized with `render_mode=None` is marked as deprecated and will be removed in the future.\u001b[0m\n",
            "  logger.deprecation(\n",
            "/usr/local/lib/python3.10/dist-packages/gym/core.py:43: DeprecationWarning: \u001b[33mWARN: The argument mode in render method is deprecated; use render_mode during environment initialization instead.\n",
            "See here for more information: https://www.gymlibrary.ml/content/api/\u001b[0m\n",
            "  deprecation(\n",
            "/usr/local/lib/python3.10/dist-packages/gym/wrappers/monitoring/video_recorder.py:78: DeprecationWarning: \u001b[33mWARN: Recording ability for environment ALE/Breakout-v5 initialized with `render_mode=None` is marked as deprecated and will be removed in the future.\u001b[0m\n",
            "  logger.deprecation(\n",
            "/usr/local/lib/python3.10/dist-packages/gym/core.py:43: DeprecationWarning: \u001b[33mWARN: The argument mode in render method is deprecated; use render_mode during environment initialization instead.\n",
            "See here for more information: https://www.gymlibrary.ml/content/api/\u001b[0m\n",
            "  deprecation(\n",
            "/usr/local/lib/python3.10/dist-packages/gym/core.py:43: DeprecationWarning: \u001b[33mWARN: The argument mode in render method is deprecated; use render_mode during environment initialization instead.\n",
            "See here for more information: https://www.gymlibrary.ml/content/api/\u001b[0m\n",
            "  deprecation(\n"
          ]
        },
        {
          "metadata": {
            "tags": null
          },
          "name": "stdout",
          "output_type": "stream",
          "text": [
            " 20636/100000: episode: 35, duration: 122.873s, episode steps: 567, steps per second:   5, episode reward: 11.000, mean reward:  0.019 [ 0.000,  1.000], mean action: 2.009 [0.000, 3.000],  loss: 0.003270, mae: 0.471692, mean_q: 0.644214, mean_eps: 0.179648\n"
          ]
        },
        {
          "metadata": {
            "tags": null
          },
          "name": "stderr",
          "output_type": "stream",
          "text": [
            "/usr/local/lib/python3.10/dist-packages/gym/wrappers/monitoring/video_recorder.py:78: DeprecationWarning: \u001b[33mWARN: Recording ability for environment ALE/Breakout-v5 initialized with `render_mode=None` is marked as deprecated and will be removed in the future.\u001b[0m\n",
            "  logger.deprecation(\n",
            "/usr/local/lib/python3.10/dist-packages/gym/core.py:43: DeprecationWarning: \u001b[33mWARN: The argument mode in render method is deprecated; use render_mode during environment initialization instead.\n",
            "See here for more information: https://www.gymlibrary.ml/content/api/\u001b[0m\n",
            "  deprecation(\n",
            "/usr/local/lib/python3.10/dist-packages/gym/wrappers/monitoring/video_recorder.py:78: DeprecationWarning: \u001b[33mWARN: Recording ability for environment ALE/Breakout-v5 initialized with `render_mode=None` is marked as deprecated and will be removed in the future.\u001b[0m\n",
            "  logger.deprecation(\n",
            "/usr/local/lib/python3.10/dist-packages/gym/core.py:43: DeprecationWarning: \u001b[33mWARN: The argument mode in render method is deprecated; use render_mode during environment initialization instead.\n",
            "See here for more information: https://www.gymlibrary.ml/content/api/\u001b[0m\n",
            "  deprecation(\n",
            "/usr/local/lib/python3.10/dist-packages/gym/core.py:43: DeprecationWarning: \u001b[33mWARN: The argument mode in render method is deprecated; use render_mode during environment initialization instead.\n",
            "See here for more information: https://www.gymlibrary.ml/content/api/\u001b[0m\n",
            "  deprecation(\n"
          ]
        },
        {
          "metadata": {
            "tags": null
          },
          "name": "stdout",
          "output_type": "stream",
          "text": [
            " 21331/100000: episode: 36, duration: 154.285s, episode steps: 695, steps per second:   5, episode reward: 14.000, mean reward:  0.020 [ 0.000,  1.000], mean action: 2.058 [0.000, 3.000],  loss: 0.002377, mae: 0.465881, mean_q: 0.636473, mean_eps: 0.179017\n"
          ]
        },
        {
          "metadata": {
            "tags": null
          },
          "name": "stderr",
          "output_type": "stream",
          "text": [
            "/usr/local/lib/python3.10/dist-packages/gym/wrappers/monitoring/video_recorder.py:78: DeprecationWarning: \u001b[33mWARN: Recording ability for environment ALE/Breakout-v5 initialized with `render_mode=None` is marked as deprecated and will be removed in the future.\u001b[0m\n",
            "  logger.deprecation(\n",
            "/usr/local/lib/python3.10/dist-packages/gym/core.py:43: DeprecationWarning: \u001b[33mWARN: The argument mode in render method is deprecated; use render_mode during environment initialization instead.\n",
            "See here for more information: https://www.gymlibrary.ml/content/api/\u001b[0m\n",
            "  deprecation(\n",
            "/usr/local/lib/python3.10/dist-packages/gym/wrappers/monitoring/video_recorder.py:78: DeprecationWarning: \u001b[33mWARN: Recording ability for environment ALE/Breakout-v5 initialized with `render_mode=None` is marked as deprecated and will be removed in the future.\u001b[0m\n",
            "  logger.deprecation(\n",
            "/usr/local/lib/python3.10/dist-packages/gym/core.py:43: DeprecationWarning: \u001b[33mWARN: The argument mode in render method is deprecated; use render_mode during environment initialization instead.\n",
            "See here for more information: https://www.gymlibrary.ml/content/api/\u001b[0m\n",
            "  deprecation(\n",
            "/usr/local/lib/python3.10/dist-packages/gym/core.py:43: DeprecationWarning: \u001b[33mWARN: The argument mode in render method is deprecated; use render_mode during environment initialization instead.\n",
            "See here for more information: https://www.gymlibrary.ml/content/api/\u001b[0m\n",
            "  deprecation(\n"
          ]
        },
        {
          "metadata": {
            "tags": null
          },
          "name": "stdout",
          "output_type": "stream",
          "text": [
            " 22111/100000: episode: 37, duration: 174.402s, episode steps: 780, steps per second:   4, episode reward: 17.000, mean reward:  0.022 [ 0.000,  1.000], mean action: 1.897 [0.000, 3.000],  loss: 0.002198, mae: 0.466290, mean_q: 0.637573, mean_eps: 0.178280\n"
          ]
        },
        {
          "metadata": {
            "tags": null
          },
          "name": "stderr",
          "output_type": "stream",
          "text": [
            "/usr/local/lib/python3.10/dist-packages/gym/wrappers/monitoring/video_recorder.py:78: DeprecationWarning: \u001b[33mWARN: Recording ability for environment ALE/Breakout-v5 initialized with `render_mode=None` is marked as deprecated and will be removed in the future.\u001b[0m\n",
            "  logger.deprecation(\n",
            "/usr/local/lib/python3.10/dist-packages/gym/core.py:43: DeprecationWarning: \u001b[33mWARN: The argument mode in render method is deprecated; use render_mode during environment initialization instead.\n",
            "See here for more information: https://www.gymlibrary.ml/content/api/\u001b[0m\n",
            "  deprecation(\n",
            "/usr/local/lib/python3.10/dist-packages/gym/wrappers/monitoring/video_recorder.py:78: DeprecationWarning: \u001b[33mWARN: Recording ability for environment ALE/Breakout-v5 initialized with `render_mode=None` is marked as deprecated and will be removed in the future.\u001b[0m\n",
            "  logger.deprecation(\n",
            "/usr/local/lib/python3.10/dist-packages/gym/core.py:43: DeprecationWarning: \u001b[33mWARN: The argument mode in render method is deprecated; use render_mode during environment initialization instead.\n",
            "See here for more information: https://www.gymlibrary.ml/content/api/\u001b[0m\n",
            "  deprecation(\n",
            "/usr/local/lib/python3.10/dist-packages/gym/core.py:43: DeprecationWarning: \u001b[33mWARN: The argument mode in render method is deprecated; use render_mode during environment initialization instead.\n",
            "See here for more information: https://www.gymlibrary.ml/content/api/\u001b[0m\n",
            "  deprecation(\n"
          ]
        },
        {
          "metadata": {
            "tags": null
          },
          "name": "stdout",
          "output_type": "stream",
          "text": [
            " 22773/100000: episode: 38, duration: 157.490s, episode steps: 662, steps per second:   4, episode reward: 10.000, mean reward:  0.015 [ 0.000,  1.000], mean action: 2.021 [0.000, 3.000],  loss: 0.002249, mae: 0.469042, mean_q: 0.641946, mean_eps: 0.177559\n"
          ]
        },
        {
          "metadata": {
            "tags": null
          },
          "name": "stderr",
          "output_type": "stream",
          "text": [
            "/usr/local/lib/python3.10/dist-packages/gym/wrappers/monitoring/video_recorder.py:78: DeprecationWarning: \u001b[33mWARN: Recording ability for environment ALE/Breakout-v5 initialized with `render_mode=None` is marked as deprecated and will be removed in the future.\u001b[0m\n",
            "  logger.deprecation(\n",
            "/usr/local/lib/python3.10/dist-packages/gym/core.py:43: DeprecationWarning: \u001b[33mWARN: The argument mode in render method is deprecated; use render_mode during environment initialization instead.\n",
            "See here for more information: https://www.gymlibrary.ml/content/api/\u001b[0m\n",
            "  deprecation(\n",
            "/usr/local/lib/python3.10/dist-packages/gym/wrappers/monitoring/video_recorder.py:78: DeprecationWarning: \u001b[33mWARN: Recording ability for environment ALE/Breakout-v5 initialized with `render_mode=None` is marked as deprecated and will be removed in the future.\u001b[0m\n",
            "  logger.deprecation(\n",
            "/usr/local/lib/python3.10/dist-packages/gym/core.py:43: DeprecationWarning: \u001b[33mWARN: The argument mode in render method is deprecated; use render_mode during environment initialization instead.\n",
            "See here for more information: https://www.gymlibrary.ml/content/api/\u001b[0m\n",
            "  deprecation(\n",
            "/usr/local/lib/python3.10/dist-packages/gym/core.py:43: DeprecationWarning: \u001b[33mWARN: The argument mode in render method is deprecated; use render_mode during environment initialization instead.\n",
            "See here for more information: https://www.gymlibrary.ml/content/api/\u001b[0m\n",
            "  deprecation(\n"
          ]
        },
        {
          "metadata": {
            "tags": null
          },
          "name": "stdout",
          "output_type": "stream",
          "text": [
            " 23398/100000: episode: 39, duration: 145.956s, episode steps: 625, steps per second:   4, episode reward:  9.000, mean reward:  0.014 [ 0.000,  1.000], mean action: 1.994 [0.000, 3.000],  loss: 0.002005, mae: 0.464169, mean_q: 0.636467, mean_eps: 0.176915\n"
          ]
        },
        {
          "metadata": {
            "tags": null
          },
          "name": "stderr",
          "output_type": "stream",
          "text": [
            "/usr/local/lib/python3.10/dist-packages/gym/wrappers/monitoring/video_recorder.py:78: DeprecationWarning: \u001b[33mWARN: Recording ability for environment ALE/Breakout-v5 initialized with `render_mode=None` is marked as deprecated and will be removed in the future.\u001b[0m\n",
            "  logger.deprecation(\n",
            "/usr/local/lib/python3.10/dist-packages/gym/core.py:43: DeprecationWarning: \u001b[33mWARN: The argument mode in render method is deprecated; use render_mode during environment initialization instead.\n",
            "See here for more information: https://www.gymlibrary.ml/content/api/\u001b[0m\n",
            "  deprecation(\n",
            "/usr/local/lib/python3.10/dist-packages/gym/wrappers/monitoring/video_recorder.py:78: DeprecationWarning: \u001b[33mWARN: Recording ability for environment ALE/Breakout-v5 initialized with `render_mode=None` is marked as deprecated and will be removed in the future.\u001b[0m\n",
            "  logger.deprecation(\n",
            "/usr/local/lib/python3.10/dist-packages/gym/core.py:43: DeprecationWarning: \u001b[33mWARN: The argument mode in render method is deprecated; use render_mode during environment initialization instead.\n",
            "See here for more information: https://www.gymlibrary.ml/content/api/\u001b[0m\n",
            "  deprecation(\n",
            "/usr/local/lib/python3.10/dist-packages/gym/core.py:43: DeprecationWarning: \u001b[33mWARN: The argument mode in render method is deprecated; use render_mode during environment initialization instead.\n",
            "See here for more information: https://www.gymlibrary.ml/content/api/\u001b[0m\n",
            "  deprecation(\n"
          ]
        },
        {
          "metadata": {
            "tags": null
          },
          "name": "stdout",
          "output_type": "stream",
          "text": [
            " 24024/100000: episode: 40, duration: 141.288s, episode steps: 626, steps per second:   4, episode reward: 13.000, mean reward:  0.021 [ 0.000,  1.000], mean action: 1.631 [0.000, 3.000],  loss: 0.001917, mae: 0.465948, mean_q: 0.638805, mean_eps: 0.176290\n"
          ]
        },
        {
          "metadata": {
            "tags": null
          },
          "name": "stderr",
          "output_type": "stream",
          "text": [
            "/usr/local/lib/python3.10/dist-packages/gym/wrappers/monitoring/video_recorder.py:78: DeprecationWarning: \u001b[33mWARN: Recording ability for environment ALE/Breakout-v5 initialized with `render_mode=None` is marked as deprecated and will be removed in the future.\u001b[0m\n",
            "  logger.deprecation(\n",
            "/usr/local/lib/python3.10/dist-packages/gym/core.py:43: DeprecationWarning: \u001b[33mWARN: The argument mode in render method is deprecated; use render_mode during environment initialization instead.\n",
            "See here for more information: https://www.gymlibrary.ml/content/api/\u001b[0m\n",
            "  deprecation(\n",
            "/usr/local/lib/python3.10/dist-packages/gym/wrappers/monitoring/video_recorder.py:78: DeprecationWarning: \u001b[33mWARN: Recording ability for environment ALE/Breakout-v5 initialized with `render_mode=None` is marked as deprecated and will be removed in the future.\u001b[0m\n",
            "  logger.deprecation(\n",
            "/usr/local/lib/python3.10/dist-packages/gym/core.py:43: DeprecationWarning: \u001b[33mWARN: The argument mode in render method is deprecated; use render_mode during environment initialization instead.\n",
            "See here for more information: https://www.gymlibrary.ml/content/api/\u001b[0m\n",
            "  deprecation(\n",
            "/usr/local/lib/python3.10/dist-packages/gym/core.py:43: DeprecationWarning: \u001b[33mWARN: The argument mode in render method is deprecated; use render_mode during environment initialization instead.\n",
            "See here for more information: https://www.gymlibrary.ml/content/api/\u001b[0m\n",
            "  deprecation(\n"
          ]
        },
        {
          "metadata": {
            "tags": null
          },
          "name": "stdout",
          "output_type": "stream",
          "text": [
            " 24678/100000: episode: 41, duration: 144.442s, episode steps: 654, steps per second:   5, episode reward: 13.000, mean reward:  0.020 [ 0.000,  1.000], mean action: 1.873 [0.000, 3.000],  loss: 0.002008, mae: 0.465425, mean_q: 0.637583, mean_eps: 0.175650\n"
          ]
        },
        {
          "metadata": {
            "tags": null
          },
          "name": "stderr",
          "output_type": "stream",
          "text": [
            "/usr/local/lib/python3.10/dist-packages/gym/wrappers/monitoring/video_recorder.py:78: DeprecationWarning: \u001b[33mWARN: Recording ability for environment ALE/Breakout-v5 initialized with `render_mode=None` is marked as deprecated and will be removed in the future.\u001b[0m\n",
            "  logger.deprecation(\n",
            "/usr/local/lib/python3.10/dist-packages/gym/core.py:43: DeprecationWarning: \u001b[33mWARN: The argument mode in render method is deprecated; use render_mode during environment initialization instead.\n",
            "See here for more information: https://www.gymlibrary.ml/content/api/\u001b[0m\n",
            "  deprecation(\n",
            "/usr/local/lib/python3.10/dist-packages/gym/wrappers/monitoring/video_recorder.py:78: DeprecationWarning: \u001b[33mWARN: Recording ability for environment ALE/Breakout-v5 initialized with `render_mode=None` is marked as deprecated and will be removed in the future.\u001b[0m\n",
            "  logger.deprecation(\n",
            "/usr/local/lib/python3.10/dist-packages/gym/core.py:43: DeprecationWarning: \u001b[33mWARN: The argument mode in render method is deprecated; use render_mode during environment initialization instead.\n",
            "See here for more information: https://www.gymlibrary.ml/content/api/\u001b[0m\n",
            "  deprecation(\n",
            "/usr/local/lib/python3.10/dist-packages/gym/core.py:43: DeprecationWarning: \u001b[33mWARN: The argument mode in render method is deprecated; use render_mode during environment initialization instead.\n",
            "See here for more information: https://www.gymlibrary.ml/content/api/\u001b[0m\n",
            "  deprecation(\n"
          ]
        },
        {
          "metadata": {
            "tags": null
          },
          "name": "stdout",
          "output_type": "stream",
          "text": [
            " 25225/100000: episode: 42, duration: 121.959s, episode steps: 547, steps per second:   4, episode reward:  9.000, mean reward:  0.016 [ 0.000,  1.000], mean action: 2.005 [0.000, 3.000],  loss: 0.001996, mae: 0.469058, mean_q: 0.642783, mean_eps: 0.175049\n"
          ]
        },
        {
          "metadata": {
            "tags": null
          },
          "name": "stderr",
          "output_type": "stream",
          "text": [
            "/usr/local/lib/python3.10/dist-packages/gym/wrappers/monitoring/video_recorder.py:78: DeprecationWarning: \u001b[33mWARN: Recording ability for environment ALE/Breakout-v5 initialized with `render_mode=None` is marked as deprecated and will be removed in the future.\u001b[0m\n",
            "  logger.deprecation(\n",
            "/usr/local/lib/python3.10/dist-packages/gym/core.py:43: DeprecationWarning: \u001b[33mWARN: The argument mode in render method is deprecated; use render_mode during environment initialization instead.\n",
            "See here for more information: https://www.gymlibrary.ml/content/api/\u001b[0m\n",
            "  deprecation(\n",
            "/usr/local/lib/python3.10/dist-packages/gym/wrappers/monitoring/video_recorder.py:78: DeprecationWarning: \u001b[33mWARN: Recording ability for environment ALE/Breakout-v5 initialized with `render_mode=None` is marked as deprecated and will be removed in the future.\u001b[0m\n",
            "  logger.deprecation(\n",
            "/usr/local/lib/python3.10/dist-packages/gym/core.py:43: DeprecationWarning: \u001b[33mWARN: The argument mode in render method is deprecated; use render_mode during environment initialization instead.\n",
            "See here for more information: https://www.gymlibrary.ml/content/api/\u001b[0m\n",
            "  deprecation(\n",
            "/usr/local/lib/python3.10/dist-packages/gym/core.py:43: DeprecationWarning: \u001b[33mWARN: The argument mode in render method is deprecated; use render_mode during environment initialization instead.\n",
            "See here for more information: https://www.gymlibrary.ml/content/api/\u001b[0m\n",
            "  deprecation(\n"
          ]
        },
        {
          "metadata": {
            "tags": null
          },
          "name": "stdout",
          "output_type": "stream",
          "text": [
            " 25844/100000: episode: 43, duration: 137.413s, episode steps: 619, steps per second:   5, episode reward: 12.000, mean reward:  0.019 [ 0.000,  1.000], mean action: 2.052 [0.000, 3.000],  loss: 0.001972, mae: 0.467595, mean_q: 0.642410, mean_eps: 0.174466\n"
          ]
        },
        {
          "metadata": {
            "tags": null
          },
          "name": "stderr",
          "output_type": "stream",
          "text": [
            "/usr/local/lib/python3.10/dist-packages/gym/wrappers/monitoring/video_recorder.py:78: DeprecationWarning: \u001b[33mWARN: Recording ability for environment ALE/Breakout-v5 initialized with `render_mode=None` is marked as deprecated and will be removed in the future.\u001b[0m\n",
            "  logger.deprecation(\n",
            "/usr/local/lib/python3.10/dist-packages/gym/core.py:43: DeprecationWarning: \u001b[33mWARN: The argument mode in render method is deprecated; use render_mode during environment initialization instead.\n",
            "See here for more information: https://www.gymlibrary.ml/content/api/\u001b[0m\n",
            "  deprecation(\n",
            "/usr/local/lib/python3.10/dist-packages/gym/wrappers/monitoring/video_recorder.py:78: DeprecationWarning: \u001b[33mWARN: Recording ability for environment ALE/Breakout-v5 initialized with `render_mode=None` is marked as deprecated and will be removed in the future.\u001b[0m\n",
            "  logger.deprecation(\n",
            "/usr/local/lib/python3.10/dist-packages/gym/core.py:43: DeprecationWarning: \u001b[33mWARN: The argument mode in render method is deprecated; use render_mode during environment initialization instead.\n",
            "See here for more information: https://www.gymlibrary.ml/content/api/\u001b[0m\n",
            "  deprecation(\n",
            "/usr/local/lib/python3.10/dist-packages/gym/core.py:43: DeprecationWarning: \u001b[33mWARN: The argument mode in render method is deprecated; use render_mode during environment initialization instead.\n",
            "See here for more information: https://www.gymlibrary.ml/content/api/\u001b[0m\n",
            "  deprecation(\n"
          ]
        },
        {
          "metadata": {
            "tags": null
          },
          "name": "stdout",
          "output_type": "stream",
          "text": [
            " 26549/100000: episode: 44, duration: 154.745s, episode steps: 705, steps per second:   5, episode reward: 15.000, mean reward:  0.021 [ 0.000,  1.000], mean action: 2.000 [0.000, 3.000],  loss: 0.001936, mae: 0.468170, mean_q: 0.642334, mean_eps: 0.173804\n"
          ]
        },
        {
          "metadata": {
            "tags": null
          },
          "name": "stderr",
          "output_type": "stream",
          "text": [
            "/usr/local/lib/python3.10/dist-packages/gym/wrappers/monitoring/video_recorder.py:78: DeprecationWarning: \u001b[33mWARN: Recording ability for environment ALE/Breakout-v5 initialized with `render_mode=None` is marked as deprecated and will be removed in the future.\u001b[0m\n",
            "  logger.deprecation(\n",
            "/usr/local/lib/python3.10/dist-packages/gym/core.py:43: DeprecationWarning: \u001b[33mWARN: The argument mode in render method is deprecated; use render_mode during environment initialization instead.\n",
            "See here for more information: https://www.gymlibrary.ml/content/api/\u001b[0m\n",
            "  deprecation(\n",
            "/usr/local/lib/python3.10/dist-packages/gym/wrappers/monitoring/video_recorder.py:78: DeprecationWarning: \u001b[33mWARN: Recording ability for environment ALE/Breakout-v5 initialized with `render_mode=None` is marked as deprecated and will be removed in the future.\u001b[0m\n",
            "  logger.deprecation(\n",
            "/usr/local/lib/python3.10/dist-packages/gym/core.py:43: DeprecationWarning: \u001b[33mWARN: The argument mode in render method is deprecated; use render_mode during environment initialization instead.\n",
            "See here for more information: https://www.gymlibrary.ml/content/api/\u001b[0m\n",
            "  deprecation(\n",
            "/usr/local/lib/python3.10/dist-packages/gym/core.py:43: DeprecationWarning: \u001b[33mWARN: The argument mode in render method is deprecated; use render_mode during environment initialization instead.\n",
            "See here for more information: https://www.gymlibrary.ml/content/api/\u001b[0m\n",
            "  deprecation(\n"
          ]
        },
        {
          "metadata": {
            "tags": null
          },
          "name": "stdout",
          "output_type": "stream",
          "text": [
            " 27190/100000: episode: 45, duration: 143.266s, episode steps: 641, steps per second:   4, episode reward: 12.000, mean reward:  0.019 [ 0.000,  1.000], mean action: 1.966 [0.000, 3.000],  loss: 0.001933, mae: 0.473524, mean_q: 0.649670, mean_eps: 0.173131\n"
          ]
        },
        {
          "metadata": {
            "tags": null
          },
          "name": "stderr",
          "output_type": "stream",
          "text": [
            "/usr/local/lib/python3.10/dist-packages/gym/wrappers/monitoring/video_recorder.py:78: DeprecationWarning: \u001b[33mWARN: Recording ability for environment ALE/Breakout-v5 initialized with `render_mode=None` is marked as deprecated and will be removed in the future.\u001b[0m\n",
            "  logger.deprecation(\n",
            "/usr/local/lib/python3.10/dist-packages/gym/core.py:43: DeprecationWarning: \u001b[33mWARN: The argument mode in render method is deprecated; use render_mode during environment initialization instead.\n",
            "See here for more information: https://www.gymlibrary.ml/content/api/\u001b[0m\n",
            "  deprecation(\n",
            "/usr/local/lib/python3.10/dist-packages/gym/wrappers/monitoring/video_recorder.py:78: DeprecationWarning: \u001b[33mWARN: Recording ability for environment ALE/Breakout-v5 initialized with `render_mode=None` is marked as deprecated and will be removed in the future.\u001b[0m\n",
            "  logger.deprecation(\n",
            "/usr/local/lib/python3.10/dist-packages/gym/core.py:43: DeprecationWarning: \u001b[33mWARN: The argument mode in render method is deprecated; use render_mode during environment initialization instead.\n",
            "See here for more information: https://www.gymlibrary.ml/content/api/\u001b[0m\n",
            "  deprecation(\n",
            "/usr/local/lib/python3.10/dist-packages/gym/core.py:43: DeprecationWarning: \u001b[33mWARN: The argument mode in render method is deprecated; use render_mode during environment initialization instead.\n",
            "See here for more information: https://www.gymlibrary.ml/content/api/\u001b[0m\n",
            "  deprecation(\n"
          ]
        },
        {
          "metadata": {
            "tags": null
          },
          "name": "stdout",
          "output_type": "stream",
          "text": [
            " 27852/100000: episode: 46, duration: 147.603s, episode steps: 662, steps per second:   4, episode reward: 11.000, mean reward:  0.017 [ 0.000,  1.000], mean action: 2.187 [0.000, 3.000],  loss: 0.001826, mae: 0.465632, mean_q: 0.639260, mean_eps: 0.172480\n"
          ]
        },
        {
          "metadata": {
            "tags": null
          },
          "name": "stderr",
          "output_type": "stream",
          "text": [
            "/usr/local/lib/python3.10/dist-packages/gym/wrappers/monitoring/video_recorder.py:78: DeprecationWarning: \u001b[33mWARN: Recording ability for environment ALE/Breakout-v5 initialized with `render_mode=None` is marked as deprecated and will be removed in the future.\u001b[0m\n",
            "  logger.deprecation(\n",
            "/usr/local/lib/python3.10/dist-packages/gym/core.py:43: DeprecationWarning: \u001b[33mWARN: The argument mode in render method is deprecated; use render_mode during environment initialization instead.\n",
            "See here for more information: https://www.gymlibrary.ml/content/api/\u001b[0m\n",
            "  deprecation(\n",
            "/usr/local/lib/python3.10/dist-packages/gym/wrappers/monitoring/video_recorder.py:78: DeprecationWarning: \u001b[33mWARN: Recording ability for environment ALE/Breakout-v5 initialized with `render_mode=None` is marked as deprecated and will be removed in the future.\u001b[0m\n",
            "  logger.deprecation(\n",
            "/usr/local/lib/python3.10/dist-packages/gym/core.py:43: DeprecationWarning: \u001b[33mWARN: The argument mode in render method is deprecated; use render_mode during environment initialization instead.\n",
            "See here for more information: https://www.gymlibrary.ml/content/api/\u001b[0m\n",
            "  deprecation(\n",
            "/usr/local/lib/python3.10/dist-packages/gym/core.py:43: DeprecationWarning: \u001b[33mWARN: The argument mode in render method is deprecated; use render_mode during environment initialization instead.\n",
            "See here for more information: https://www.gymlibrary.ml/content/api/\u001b[0m\n",
            "  deprecation(\n"
          ]
        },
        {
          "metadata": {
            "tags": null
          },
          "name": "stdout",
          "output_type": "stream",
          "text": [
            " 28372/100000: episode: 47, duration: 116.374s, episode steps: 520, steps per second:   4, episode reward:  8.000, mean reward:  0.015 [ 0.000,  1.000], mean action: 2.171 [0.000, 3.000],  loss: 0.001934, mae: 0.466539, mean_q: 0.640827, mean_eps: 0.171889\n"
          ]
        },
        {
          "metadata": {
            "tags": null
          },
          "name": "stderr",
          "output_type": "stream",
          "text": [
            "/usr/local/lib/python3.10/dist-packages/gym/wrappers/monitoring/video_recorder.py:78: DeprecationWarning: \u001b[33mWARN: Recording ability for environment ALE/Breakout-v5 initialized with `render_mode=None` is marked as deprecated and will be removed in the future.\u001b[0m\n",
            "  logger.deprecation(\n",
            "/usr/local/lib/python3.10/dist-packages/gym/core.py:43: DeprecationWarning: \u001b[33mWARN: The argument mode in render method is deprecated; use render_mode during environment initialization instead.\n",
            "See here for more information: https://www.gymlibrary.ml/content/api/\u001b[0m\n",
            "  deprecation(\n",
            "/usr/local/lib/python3.10/dist-packages/gym/wrappers/monitoring/video_recorder.py:78: DeprecationWarning: \u001b[33mWARN: Recording ability for environment ALE/Breakout-v5 initialized with `render_mode=None` is marked as deprecated and will be removed in the future.\u001b[0m\n",
            "  logger.deprecation(\n",
            "/usr/local/lib/python3.10/dist-packages/gym/core.py:43: DeprecationWarning: \u001b[33mWARN: The argument mode in render method is deprecated; use render_mode during environment initialization instead.\n",
            "See here for more information: https://www.gymlibrary.ml/content/api/\u001b[0m\n",
            "  deprecation(\n",
            "/usr/local/lib/python3.10/dist-packages/gym/core.py:43: DeprecationWarning: \u001b[33mWARN: The argument mode in render method is deprecated; use render_mode during environment initialization instead.\n",
            "See here for more information: https://www.gymlibrary.ml/content/api/\u001b[0m\n",
            "  deprecation(\n"
          ]
        },
        {
          "metadata": {
            "tags": null
          },
          "name": "stdout",
          "output_type": "stream",
          "text": [
            " 28976/100000: episode: 48, duration: 133.291s, episode steps: 604, steps per second:   5, episode reward: 11.000, mean reward:  0.018 [ 0.000,  1.000], mean action: 1.937 [0.000, 3.000],  loss: 0.001929, mae: 0.462287, mean_q: 0.634934, mean_eps: 0.171327\n"
          ]
        },
        {
          "metadata": {
            "tags": null
          },
          "name": "stderr",
          "output_type": "stream",
          "text": [
            "/usr/local/lib/python3.10/dist-packages/gym/wrappers/monitoring/video_recorder.py:78: DeprecationWarning: \u001b[33mWARN: Recording ability for environment ALE/Breakout-v5 initialized with `render_mode=None` is marked as deprecated and will be removed in the future.\u001b[0m\n",
            "  logger.deprecation(\n",
            "/usr/local/lib/python3.10/dist-packages/gym/core.py:43: DeprecationWarning: \u001b[33mWARN: The argument mode in render method is deprecated; use render_mode during environment initialization instead.\n",
            "See here for more information: https://www.gymlibrary.ml/content/api/\u001b[0m\n",
            "  deprecation(\n",
            "/usr/local/lib/python3.10/dist-packages/gym/wrappers/monitoring/video_recorder.py:78: DeprecationWarning: \u001b[33mWARN: Recording ability for environment ALE/Breakout-v5 initialized with `render_mode=None` is marked as deprecated and will be removed in the future.\u001b[0m\n",
            "  logger.deprecation(\n",
            "/usr/local/lib/python3.10/dist-packages/gym/core.py:43: DeprecationWarning: \u001b[33mWARN: The argument mode in render method is deprecated; use render_mode during environment initialization instead.\n",
            "See here for more information: https://www.gymlibrary.ml/content/api/\u001b[0m\n",
            "  deprecation(\n",
            "/usr/local/lib/python3.10/dist-packages/gym/core.py:43: DeprecationWarning: \u001b[33mWARN: The argument mode in render method is deprecated; use render_mode during environment initialization instead.\n",
            "See here for more information: https://www.gymlibrary.ml/content/api/\u001b[0m\n",
            "  deprecation(\n"
          ]
        },
        {
          "metadata": {
            "tags": null
          },
          "name": "stdout",
          "output_type": "stream",
          "text": [
            " 29496/100000: episode: 49, duration: 115.441s, episode steps: 520, steps per second:   5, episode reward:  9.000, mean reward:  0.017 [ 0.000,  1.000], mean action: 2.115 [0.000, 3.000],  loss: 0.001811, mae: 0.464807, mean_q: 0.638905, mean_eps: 0.170764\n"
          ]
        },
        {
          "metadata": {
            "tags": null
          },
          "name": "stderr",
          "output_type": "stream",
          "text": [
            "/usr/local/lib/python3.10/dist-packages/gym/wrappers/monitoring/video_recorder.py:78: DeprecationWarning: \u001b[33mWARN: Recording ability for environment ALE/Breakout-v5 initialized with `render_mode=None` is marked as deprecated and will be removed in the future.\u001b[0m\n",
            "  logger.deprecation(\n",
            "/usr/local/lib/python3.10/dist-packages/gym/core.py:43: DeprecationWarning: \u001b[33mWARN: The argument mode in render method is deprecated; use render_mode during environment initialization instead.\n",
            "See here for more information: https://www.gymlibrary.ml/content/api/\u001b[0m\n",
            "  deprecation(\n",
            "/usr/local/lib/python3.10/dist-packages/gym/wrappers/monitoring/video_recorder.py:78: DeprecationWarning: \u001b[33mWARN: Recording ability for environment ALE/Breakout-v5 initialized with `render_mode=None` is marked as deprecated and will be removed in the future.\u001b[0m\n",
            "  logger.deprecation(\n",
            "/usr/local/lib/python3.10/dist-packages/gym/core.py:43: DeprecationWarning: \u001b[33mWARN: The argument mode in render method is deprecated; use render_mode during environment initialization instead.\n",
            "See here for more information: https://www.gymlibrary.ml/content/api/\u001b[0m\n",
            "  deprecation(\n",
            "/usr/local/lib/python3.10/dist-packages/gym/core.py:43: DeprecationWarning: \u001b[33mWARN: The argument mode in render method is deprecated; use render_mode during environment initialization instead.\n",
            "See here for more information: https://www.gymlibrary.ml/content/api/\u001b[0m\n",
            "  deprecation(\n"
          ]
        },
        {
          "metadata": {
            "tags": null
          },
          "name": "stdout",
          "output_type": "stream",
          "text": [
            " 30349/100000: episode: 50, duration: 190.357s, episode steps: 853, steps per second:   4, episode reward: 20.000, mean reward:  0.023 [ 0.000,  1.000], mean action: 1.528 [0.000, 3.000],  loss: 0.004242, mae: 0.479993, mean_q: 0.658684, mean_eps: 0.170078\n"
          ]
        },
        {
          "metadata": {
            "tags": null
          },
          "name": "stderr",
          "output_type": "stream",
          "text": [
            "/usr/local/lib/python3.10/dist-packages/gym/wrappers/monitoring/video_recorder.py:78: DeprecationWarning: \u001b[33mWARN: Recording ability for environment ALE/Breakout-v5 initialized with `render_mode=None` is marked as deprecated and will be removed in the future.\u001b[0m\n",
            "  logger.deprecation(\n",
            "/usr/local/lib/python3.10/dist-packages/gym/core.py:43: DeprecationWarning: \u001b[33mWARN: The argument mode in render method is deprecated; use render_mode during environment initialization instead.\n",
            "See here for more information: https://www.gymlibrary.ml/content/api/\u001b[0m\n",
            "  deprecation(\n",
            "/usr/local/lib/python3.10/dist-packages/gym/wrappers/monitoring/video_recorder.py:78: DeprecationWarning: \u001b[33mWARN: Recording ability for environment ALE/Breakout-v5 initialized with `render_mode=None` is marked as deprecated and will be removed in the future.\u001b[0m\n",
            "  logger.deprecation(\n",
            "/usr/local/lib/python3.10/dist-packages/gym/core.py:43: DeprecationWarning: \u001b[33mWARN: The argument mode in render method is deprecated; use render_mode during environment initialization instead.\n",
            "See here for more information: https://www.gymlibrary.ml/content/api/\u001b[0m\n",
            "  deprecation(\n",
            "/usr/local/lib/python3.10/dist-packages/gym/core.py:43: DeprecationWarning: \u001b[33mWARN: The argument mode in render method is deprecated; use render_mode during environment initialization instead.\n",
            "See here for more information: https://www.gymlibrary.ml/content/api/\u001b[0m\n",
            "  deprecation(\n"
          ]
        },
        {
          "metadata": {
            "tags": null
          },
          "name": "stdout",
          "output_type": "stream",
          "text": [
            " 30657/100000: episode: 51, duration: 71.828s, episode steps: 308, steps per second:   4, episode reward:  5.000, mean reward:  0.016 [ 0.000,  1.000], mean action: 1.390 [0.000, 3.000],  loss: 0.006896, mae: 0.505714, mean_q: 0.701635, mean_eps: 0.169497\n"
          ]
        },
        {
          "metadata": {
            "tags": null
          },
          "name": "stderr",
          "output_type": "stream",
          "text": [
            "/usr/local/lib/python3.10/dist-packages/gym/wrappers/monitoring/video_recorder.py:78: DeprecationWarning: \u001b[33mWARN: Recording ability for environment ALE/Breakout-v5 initialized with `render_mode=None` is marked as deprecated and will be removed in the future.\u001b[0m\n",
            "  logger.deprecation(\n",
            "/usr/local/lib/python3.10/dist-packages/gym/core.py:43: DeprecationWarning: \u001b[33mWARN: The argument mode in render method is deprecated; use render_mode during environment initialization instead.\n",
            "See here for more information: https://www.gymlibrary.ml/content/api/\u001b[0m\n",
            "  deprecation(\n",
            "/usr/local/lib/python3.10/dist-packages/gym/wrappers/monitoring/video_recorder.py:78: DeprecationWarning: \u001b[33mWARN: Recording ability for environment ALE/Breakout-v5 initialized with `render_mode=None` is marked as deprecated and will be removed in the future.\u001b[0m\n",
            "  logger.deprecation(\n",
            "/usr/local/lib/python3.10/dist-packages/gym/core.py:43: DeprecationWarning: \u001b[33mWARN: The argument mode in render method is deprecated; use render_mode during environment initialization instead.\n",
            "See here for more information: https://www.gymlibrary.ml/content/api/\u001b[0m\n",
            "  deprecation(\n",
            "/usr/local/lib/python3.10/dist-packages/gym/core.py:43: DeprecationWarning: \u001b[33mWARN: The argument mode in render method is deprecated; use render_mode during environment initialization instead.\n",
            "See here for more information: https://www.gymlibrary.ml/content/api/\u001b[0m\n",
            "  deprecation(\n"
          ]
        },
        {
          "metadata": {
            "tags": null
          },
          "name": "stdout",
          "output_type": "stream",
          "text": [
            " 30997/100000: episode: 52, duration: 75.154s, episode steps: 340, steps per second:   5, episode reward:  6.000, mean reward:  0.018 [ 0.000,  1.000], mean action: 1.450 [0.000, 3.000],  loss: 0.007054, mae: 0.499913, mean_q: 0.699363, mean_eps: 0.169174\n"
          ]
        },
        {
          "metadata": {
            "tags": null
          },
          "name": "stderr",
          "output_type": "stream",
          "text": [
            "/usr/local/lib/python3.10/dist-packages/gym/wrappers/monitoring/video_recorder.py:78: DeprecationWarning: \u001b[33mWARN: Recording ability for environment ALE/Breakout-v5 initialized with `render_mode=None` is marked as deprecated and will be removed in the future.\u001b[0m\n",
            "  logger.deprecation(\n",
            "/usr/local/lib/python3.10/dist-packages/gym/core.py:43: DeprecationWarning: \u001b[33mWARN: The argument mode in render method is deprecated; use render_mode during environment initialization instead.\n",
            "See here for more information: https://www.gymlibrary.ml/content/api/\u001b[0m\n",
            "  deprecation(\n",
            "/usr/local/lib/python3.10/dist-packages/gym/wrappers/monitoring/video_recorder.py:78: DeprecationWarning: \u001b[33mWARN: Recording ability for environment ALE/Breakout-v5 initialized with `render_mode=None` is marked as deprecated and will be removed in the future.\u001b[0m\n",
            "  logger.deprecation(\n",
            "/usr/local/lib/python3.10/dist-packages/gym/core.py:43: DeprecationWarning: \u001b[33mWARN: The argument mode in render method is deprecated; use render_mode during environment initialization instead.\n",
            "See here for more information: https://www.gymlibrary.ml/content/api/\u001b[0m\n",
            "  deprecation(\n",
            "/usr/local/lib/python3.10/dist-packages/gym/core.py:43: DeprecationWarning: \u001b[33mWARN: The argument mode in render method is deprecated; use render_mode during environment initialization instead.\n",
            "See here for more information: https://www.gymlibrary.ml/content/api/\u001b[0m\n",
            "  deprecation(\n"
          ]
        },
        {
          "metadata": {
            "tags": null
          },
          "name": "stdout",
          "output_type": "stream",
          "text": [
            " 31276/100000: episode: 53, duration: 61.869s, episode steps: 279, steps per second:   5, episode reward:  4.000, mean reward:  0.014 [ 0.000,  1.000], mean action: 1.520 [0.000, 3.000],  loss: 0.007038, mae: 0.502574, mean_q: 0.706375, mean_eps: 0.168864\n"
          ]
        },
        {
          "metadata": {
            "tags": null
          },
          "name": "stderr",
          "output_type": "stream",
          "text": [
            "/usr/local/lib/python3.10/dist-packages/gym/wrappers/monitoring/video_recorder.py:78: DeprecationWarning: \u001b[33mWARN: Recording ability for environment ALE/Breakout-v5 initialized with `render_mode=None` is marked as deprecated and will be removed in the future.\u001b[0m\n",
            "  logger.deprecation(\n",
            "/usr/local/lib/python3.10/dist-packages/gym/core.py:43: DeprecationWarning: \u001b[33mWARN: The argument mode in render method is deprecated; use render_mode during environment initialization instead.\n",
            "See here for more information: https://www.gymlibrary.ml/content/api/\u001b[0m\n",
            "  deprecation(\n",
            "/usr/local/lib/python3.10/dist-packages/gym/wrappers/monitoring/video_recorder.py:78: DeprecationWarning: \u001b[33mWARN: Recording ability for environment ALE/Breakout-v5 initialized with `render_mode=None` is marked as deprecated and will be removed in the future.\u001b[0m\n",
            "  logger.deprecation(\n",
            "/usr/local/lib/python3.10/dist-packages/gym/core.py:43: DeprecationWarning: \u001b[33mWARN: The argument mode in render method is deprecated; use render_mode during environment initialization instead.\n",
            "See here for more information: https://www.gymlibrary.ml/content/api/\u001b[0m\n",
            "  deprecation(\n",
            "/usr/local/lib/python3.10/dist-packages/gym/core.py:43: DeprecationWarning: \u001b[33mWARN: The argument mode in render method is deprecated; use render_mode during environment initialization instead.\n",
            "See here for more information: https://www.gymlibrary.ml/content/api/\u001b[0m\n",
            "  deprecation(\n"
          ]
        },
        {
          "metadata": {
            "tags": null
          },
          "name": "stdout",
          "output_type": "stream",
          "text": [
            " 31505/100000: episode: 54, duration: 52.702s, episode steps: 229, steps per second:   4, episode reward:  3.000, mean reward:  0.013 [ 0.000,  1.000], mean action: 1.467 [0.000, 3.000],  loss: 0.007555, mae: 0.513682, mean_q: 0.723127, mean_eps: 0.168610\n"
          ]
        },
        {
          "metadata": {
            "tags": null
          },
          "name": "stderr",
          "output_type": "stream",
          "text": [
            "/usr/local/lib/python3.10/dist-packages/gym/wrappers/monitoring/video_recorder.py:78: DeprecationWarning: \u001b[33mWARN: Recording ability for environment ALE/Breakout-v5 initialized with `render_mode=None` is marked as deprecated and will be removed in the future.\u001b[0m\n",
            "  logger.deprecation(\n",
            "/usr/local/lib/python3.10/dist-packages/gym/core.py:43: DeprecationWarning: \u001b[33mWARN: The argument mode in render method is deprecated; use render_mode during environment initialization instead.\n",
            "See here for more information: https://www.gymlibrary.ml/content/api/\u001b[0m\n",
            "  deprecation(\n",
            "/usr/local/lib/python3.10/dist-packages/gym/wrappers/monitoring/video_recorder.py:78: DeprecationWarning: \u001b[33mWARN: Recording ability for environment ALE/Breakout-v5 initialized with `render_mode=None` is marked as deprecated and will be removed in the future.\u001b[0m\n",
            "  logger.deprecation(\n",
            "/usr/local/lib/python3.10/dist-packages/gym/core.py:43: DeprecationWarning: \u001b[33mWARN: The argument mode in render method is deprecated; use render_mode during environment initialization instead.\n",
            "See here for more information: https://www.gymlibrary.ml/content/api/\u001b[0m\n",
            "  deprecation(\n",
            "/usr/local/lib/python3.10/dist-packages/gym/core.py:43: DeprecationWarning: \u001b[33mWARN: The argument mode in render method is deprecated; use render_mode during environment initialization instead.\n",
            "See here for more information: https://www.gymlibrary.ml/content/api/\u001b[0m\n",
            "  deprecation(\n"
          ]
        },
        {
          "metadata": {
            "tags": null
          },
          "name": "stdout",
          "output_type": "stream",
          "text": [
            " 31909/100000: episode: 55, duration: 90.204s, episode steps: 404, steps per second:   4, episode reward:  7.000, mean reward:  0.017 [ 0.000,  1.000], mean action: 1.517 [0.000, 3.000],  loss: 0.006362, mae: 0.501048, mean_q: 0.709759, mean_eps: 0.168294\n"
          ]
        },
        {
          "metadata": {
            "tags": null
          },
          "name": "stderr",
          "output_type": "stream",
          "text": [
            "/usr/local/lib/python3.10/dist-packages/gym/wrappers/monitoring/video_recorder.py:78: DeprecationWarning: \u001b[33mWARN: Recording ability for environment ALE/Breakout-v5 initialized with `render_mode=None` is marked as deprecated and will be removed in the future.\u001b[0m\n",
            "  logger.deprecation(\n",
            "/usr/local/lib/python3.10/dist-packages/gym/core.py:43: DeprecationWarning: \u001b[33mWARN: The argument mode in render method is deprecated; use render_mode during environment initialization instead.\n",
            "See here for more information: https://www.gymlibrary.ml/content/api/\u001b[0m\n",
            "  deprecation(\n",
            "/usr/local/lib/python3.10/dist-packages/gym/wrappers/monitoring/video_recorder.py:78: DeprecationWarning: \u001b[33mWARN: Recording ability for environment ALE/Breakout-v5 initialized with `render_mode=None` is marked as deprecated and will be removed in the future.\u001b[0m\n",
            "  logger.deprecation(\n",
            "/usr/local/lib/python3.10/dist-packages/gym/core.py:43: DeprecationWarning: \u001b[33mWARN: The argument mode in render method is deprecated; use render_mode during environment initialization instead.\n",
            "See here for more information: https://www.gymlibrary.ml/content/api/\u001b[0m\n",
            "  deprecation(\n",
            "/usr/local/lib/python3.10/dist-packages/gym/core.py:43: DeprecationWarning: \u001b[33mWARN: The argument mode in render method is deprecated; use render_mode during environment initialization instead.\n",
            "See here for more information: https://www.gymlibrary.ml/content/api/\u001b[0m\n",
            "  deprecation(\n"
          ]
        },
        {
          "metadata": {
            "tags": null
          },
          "name": "stdout",
          "output_type": "stream",
          "text": [
            " 32415/100000: episode: 56, duration: 112.639s, episode steps: 506, steps per second:   4, episode reward: 10.000, mean reward:  0.020 [ 0.000,  1.000], mean action: 1.555 [0.000, 3.000],  loss: 0.006587, mae: 0.503859, mean_q: 0.714429, mean_eps: 0.167839\n"
          ]
        },
        {
          "metadata": {
            "tags": null
          },
          "name": "stderr",
          "output_type": "stream",
          "text": [
            "/usr/local/lib/python3.10/dist-packages/gym/wrappers/monitoring/video_recorder.py:78: DeprecationWarning: \u001b[33mWARN: Recording ability for environment ALE/Breakout-v5 initialized with `render_mode=None` is marked as deprecated and will be removed in the future.\u001b[0m\n",
            "  logger.deprecation(\n",
            "/usr/local/lib/python3.10/dist-packages/gym/core.py:43: DeprecationWarning: \u001b[33mWARN: The argument mode in render method is deprecated; use render_mode during environment initialization instead.\n",
            "See here for more information: https://www.gymlibrary.ml/content/api/\u001b[0m\n",
            "  deprecation(\n",
            "/usr/local/lib/python3.10/dist-packages/gym/wrappers/monitoring/video_recorder.py:78: DeprecationWarning: \u001b[33mWARN: Recording ability for environment ALE/Breakout-v5 initialized with `render_mode=None` is marked as deprecated and will be removed in the future.\u001b[0m\n",
            "  logger.deprecation(\n",
            "/usr/local/lib/python3.10/dist-packages/gym/core.py:43: DeprecationWarning: \u001b[33mWARN: The argument mode in render method is deprecated; use render_mode during environment initialization instead.\n",
            "See here for more information: https://www.gymlibrary.ml/content/api/\u001b[0m\n",
            "  deprecation(\n",
            "/usr/local/lib/python3.10/dist-packages/gym/core.py:43: DeprecationWarning: \u001b[33mWARN: The argument mode in render method is deprecated; use render_mode during environment initialization instead.\n",
            "See here for more information: https://www.gymlibrary.ml/content/api/\u001b[0m\n",
            "  deprecation(\n"
          ]
        },
        {
          "metadata": {
            "tags": null
          },
          "name": "stdout",
          "output_type": "stream",
          "text": [
            " 32951/100000: episode: 57, duration: 118.215s, episode steps: 536, steps per second:   5, episode reward: 11.000, mean reward:  0.021 [ 0.000,  1.000], mean action: 1.392 [0.000, 3.000],  loss: 0.006447, mae: 0.502670, mean_q: 0.713369, mean_eps: 0.167318\n"
          ]
        },
        {
          "metadata": {
            "tags": null
          },
          "name": "stderr",
          "output_type": "stream",
          "text": [
            "/usr/local/lib/python3.10/dist-packages/gym/wrappers/monitoring/video_recorder.py:78: DeprecationWarning: \u001b[33mWARN: Recording ability for environment ALE/Breakout-v5 initialized with `render_mode=None` is marked as deprecated and will be removed in the future.\u001b[0m\n",
            "  logger.deprecation(\n",
            "/usr/local/lib/python3.10/dist-packages/gym/core.py:43: DeprecationWarning: \u001b[33mWARN: The argument mode in render method is deprecated; use render_mode during environment initialization instead.\n",
            "See here for more information: https://www.gymlibrary.ml/content/api/\u001b[0m\n",
            "  deprecation(\n",
            "/usr/local/lib/python3.10/dist-packages/gym/wrappers/monitoring/video_recorder.py:78: DeprecationWarning: \u001b[33mWARN: Recording ability for environment ALE/Breakout-v5 initialized with `render_mode=None` is marked as deprecated and will be removed in the future.\u001b[0m\n",
            "  logger.deprecation(\n",
            "/usr/local/lib/python3.10/dist-packages/gym/core.py:43: DeprecationWarning: \u001b[33mWARN: The argument mode in render method is deprecated; use render_mode during environment initialization instead.\n",
            "See here for more information: https://www.gymlibrary.ml/content/api/\u001b[0m\n",
            "  deprecation(\n",
            "/usr/local/lib/python3.10/dist-packages/gym/core.py:43: DeprecationWarning: \u001b[33mWARN: The argument mode in render method is deprecated; use render_mode during environment initialization instead.\n",
            "See here for more information: https://www.gymlibrary.ml/content/api/\u001b[0m\n",
            "  deprecation(\n"
          ]
        },
        {
          "metadata": {
            "tags": null
          },
          "name": "stdout",
          "output_type": "stream",
          "text": [
            " 33103/100000: episode: 58, duration: 34.017s, episode steps: 152, steps per second:   4, episode reward:  1.000, mean reward:  0.007 [ 0.000,  1.000], mean action: 1.283 [0.000, 3.000],  loss: 0.006575, mae: 0.498473, mean_q: 0.709657, mean_eps: 0.166974\n"
          ]
        },
        {
          "metadata": {
            "tags": null
          },
          "name": "stderr",
          "output_type": "stream",
          "text": [
            "/usr/local/lib/python3.10/dist-packages/gym/wrappers/monitoring/video_recorder.py:78: DeprecationWarning: \u001b[33mWARN: Recording ability for environment ALE/Breakout-v5 initialized with `render_mode=None` is marked as deprecated and will be removed in the future.\u001b[0m\n",
            "  logger.deprecation(\n",
            "/usr/local/lib/python3.10/dist-packages/gym/core.py:43: DeprecationWarning: \u001b[33mWARN: The argument mode in render method is deprecated; use render_mode during environment initialization instead.\n",
            "See here for more information: https://www.gymlibrary.ml/content/api/\u001b[0m\n",
            "  deprecation(\n",
            "/usr/local/lib/python3.10/dist-packages/gym/wrappers/monitoring/video_recorder.py:78: DeprecationWarning: \u001b[33mWARN: Recording ability for environment ALE/Breakout-v5 initialized with `render_mode=None` is marked as deprecated and will be removed in the future.\u001b[0m\n",
            "  logger.deprecation(\n",
            "/usr/local/lib/python3.10/dist-packages/gym/core.py:43: DeprecationWarning: \u001b[33mWARN: The argument mode in render method is deprecated; use render_mode during environment initialization instead.\n",
            "See here for more information: https://www.gymlibrary.ml/content/api/\u001b[0m\n",
            "  deprecation(\n",
            "/usr/local/lib/python3.10/dist-packages/gym/core.py:43: DeprecationWarning: \u001b[33mWARN: The argument mode in render method is deprecated; use render_mode during environment initialization instead.\n",
            "See here for more information: https://www.gymlibrary.ml/content/api/\u001b[0m\n",
            "  deprecation(\n"
          ]
        },
        {
          "metadata": {
            "tags": null
          },
          "name": "stdout",
          "output_type": "stream",
          "text": [
            " 33692/100000: episode: 59, duration: 134.753s, episode steps: 589, steps per second:   4, episode reward: 11.000, mean reward:  0.019 [ 0.000,  1.000], mean action: 1.433 [0.000, 3.000],  loss: 0.006221, mae: 0.510690, mean_q: 0.725189, mean_eps: 0.166603\n"
          ]
        },
        {
          "metadata": {
            "tags": null
          },
          "name": "stderr",
          "output_type": "stream",
          "text": [
            "/usr/local/lib/python3.10/dist-packages/gym/wrappers/monitoring/video_recorder.py:78: DeprecationWarning: \u001b[33mWARN: Recording ability for environment ALE/Breakout-v5 initialized with `render_mode=None` is marked as deprecated and will be removed in the future.\u001b[0m\n",
            "  logger.deprecation(\n",
            "/usr/local/lib/python3.10/dist-packages/gym/core.py:43: DeprecationWarning: \u001b[33mWARN: The argument mode in render method is deprecated; use render_mode during environment initialization instead.\n",
            "See here for more information: https://www.gymlibrary.ml/content/api/\u001b[0m\n",
            "  deprecation(\n",
            "/usr/local/lib/python3.10/dist-packages/gym/wrappers/monitoring/video_recorder.py:78: DeprecationWarning: \u001b[33mWARN: Recording ability for environment ALE/Breakout-v5 initialized with `render_mode=None` is marked as deprecated and will be removed in the future.\u001b[0m\n",
            "  logger.deprecation(\n",
            "/usr/local/lib/python3.10/dist-packages/gym/core.py:43: DeprecationWarning: \u001b[33mWARN: The argument mode in render method is deprecated; use render_mode during environment initialization instead.\n",
            "See here for more information: https://www.gymlibrary.ml/content/api/\u001b[0m\n",
            "  deprecation(\n",
            "/usr/local/lib/python3.10/dist-packages/gym/core.py:43: DeprecationWarning: \u001b[33mWARN: The argument mode in render method is deprecated; use render_mode during environment initialization instead.\n",
            "See here for more information: https://www.gymlibrary.ml/content/api/\u001b[0m\n",
            "  deprecation(\n"
          ]
        },
        {
          "metadata": {
            "tags": null
          },
          "name": "stdout",
          "output_type": "stream",
          "text": [
            " 34115/100000: episode: 60, duration: 96.507s, episode steps: 423, steps per second:   4, episode reward:  9.000, mean reward:  0.021 [ 0.000,  1.000], mean action: 1.532 [0.000, 3.000],  loss: 0.006485, mae: 0.505676, mean_q: 0.719855, mean_eps: 0.166097\n"
          ]
        },
        {
          "metadata": {
            "tags": null
          },
          "name": "stderr",
          "output_type": "stream",
          "text": [
            "/usr/local/lib/python3.10/dist-packages/gym/wrappers/monitoring/video_recorder.py:78: DeprecationWarning: \u001b[33mWARN: Recording ability for environment ALE/Breakout-v5 initialized with `render_mode=None` is marked as deprecated and will be removed in the future.\u001b[0m\n",
            "  logger.deprecation(\n",
            "/usr/local/lib/python3.10/dist-packages/gym/core.py:43: DeprecationWarning: \u001b[33mWARN: The argument mode in render method is deprecated; use render_mode during environment initialization instead.\n",
            "See here for more information: https://www.gymlibrary.ml/content/api/\u001b[0m\n",
            "  deprecation(\n",
            "/usr/local/lib/python3.10/dist-packages/gym/wrappers/monitoring/video_recorder.py:78: DeprecationWarning: \u001b[33mWARN: Recording ability for environment ALE/Breakout-v5 initialized with `render_mode=None` is marked as deprecated and will be removed in the future.\u001b[0m\n",
            "  logger.deprecation(\n",
            "/usr/local/lib/python3.10/dist-packages/gym/core.py:43: DeprecationWarning: \u001b[33mWARN: The argument mode in render method is deprecated; use render_mode during environment initialization instead.\n",
            "See here for more information: https://www.gymlibrary.ml/content/api/\u001b[0m\n",
            "  deprecation(\n",
            "/usr/local/lib/python3.10/dist-packages/gym/core.py:43: DeprecationWarning: \u001b[33mWARN: The argument mode in render method is deprecated; use render_mode during environment initialization instead.\n",
            "See here for more information: https://www.gymlibrary.ml/content/api/\u001b[0m\n",
            "  deprecation(\n"
          ]
        },
        {
          "metadata": {
            "tags": null
          },
          "name": "stdout",
          "output_type": "stream",
          "text": [
            " 34467/100000: episode: 61, duration: 77.448s, episode steps: 352, steps per second:   5, episode reward:  6.000, mean reward:  0.017 [ 0.000,  1.000], mean action: 1.415 [0.000, 3.000],  loss: 0.006039, mae: 0.502780, mean_q: 0.716523, mean_eps: 0.165710\n"
          ]
        },
        {
          "metadata": {
            "tags": null
          },
          "name": "stderr",
          "output_type": "stream",
          "text": [
            "/usr/local/lib/python3.10/dist-packages/gym/wrappers/monitoring/video_recorder.py:78: DeprecationWarning: \u001b[33mWARN: Recording ability for environment ALE/Breakout-v5 initialized with `render_mode=None` is marked as deprecated and will be removed in the future.\u001b[0m\n",
            "  logger.deprecation(\n",
            "/usr/local/lib/python3.10/dist-packages/gym/core.py:43: DeprecationWarning: \u001b[33mWARN: The argument mode in render method is deprecated; use render_mode during environment initialization instead.\n",
            "See here for more information: https://www.gymlibrary.ml/content/api/\u001b[0m\n",
            "  deprecation(\n",
            "/usr/local/lib/python3.10/dist-packages/gym/wrappers/monitoring/video_recorder.py:78: DeprecationWarning: \u001b[33mWARN: Recording ability for environment ALE/Breakout-v5 initialized with `render_mode=None` is marked as deprecated and will be removed in the future.\u001b[0m\n",
            "  logger.deprecation(\n",
            "/usr/local/lib/python3.10/dist-packages/gym/core.py:43: DeprecationWarning: \u001b[33mWARN: The argument mode in render method is deprecated; use render_mode during environment initialization instead.\n",
            "See here for more information: https://www.gymlibrary.ml/content/api/\u001b[0m\n",
            "  deprecation(\n",
            "/usr/local/lib/python3.10/dist-packages/gym/core.py:43: DeprecationWarning: \u001b[33mWARN: The argument mode in render method is deprecated; use render_mode during environment initialization instead.\n",
            "See here for more information: https://www.gymlibrary.ml/content/api/\u001b[0m\n",
            "  deprecation(\n"
          ]
        },
        {
          "metadata": {
            "tags": null
          },
          "name": "stdout",
          "output_type": "stream",
          "text": [
            " 34936/100000: episode: 62, duration: 106.967s, episode steps: 469, steps per second:   4, episode reward:  8.000, mean reward:  0.017 [ 0.000,  1.000], mean action: 1.678 [0.000, 3.000],  loss: 0.006913, mae: 0.508384, mean_q: 0.725822, mean_eps: 0.165299\n"
          ]
        },
        {
          "metadata": {
            "tags": null
          },
          "name": "stderr",
          "output_type": "stream",
          "text": [
            "/usr/local/lib/python3.10/dist-packages/gym/wrappers/monitoring/video_recorder.py:78: DeprecationWarning: \u001b[33mWARN: Recording ability for environment ALE/Breakout-v5 initialized with `render_mode=None` is marked as deprecated and will be removed in the future.\u001b[0m\n",
            "  logger.deprecation(\n",
            "/usr/local/lib/python3.10/dist-packages/gym/core.py:43: DeprecationWarning: \u001b[33mWARN: The argument mode in render method is deprecated; use render_mode during environment initialization instead.\n",
            "See here for more information: https://www.gymlibrary.ml/content/api/\u001b[0m\n",
            "  deprecation(\n",
            "/usr/local/lib/python3.10/dist-packages/gym/wrappers/monitoring/video_recorder.py:78: DeprecationWarning: \u001b[33mWARN: Recording ability for environment ALE/Breakout-v5 initialized with `render_mode=None` is marked as deprecated and will be removed in the future.\u001b[0m\n",
            "  logger.deprecation(\n",
            "/usr/local/lib/python3.10/dist-packages/gym/core.py:43: DeprecationWarning: \u001b[33mWARN: The argument mode in render method is deprecated; use render_mode during environment initialization instead.\n",
            "See here for more information: https://www.gymlibrary.ml/content/api/\u001b[0m\n",
            "  deprecation(\n",
            "/usr/local/lib/python3.10/dist-packages/gym/core.py:43: DeprecationWarning: \u001b[33mWARN: The argument mode in render method is deprecated; use render_mode during environment initialization instead.\n",
            "See here for more information: https://www.gymlibrary.ml/content/api/\u001b[0m\n",
            "  deprecation(\n"
          ]
        },
        {
          "metadata": {
            "tags": null
          },
          "name": "stdout",
          "output_type": "stream",
          "text": [
            " 35358/100000: episode: 63, duration: 94.307s, episode steps: 422, steps per second:   4, episode reward:  7.000, mean reward:  0.017 [ 0.000,  1.000], mean action: 1.637 [0.000, 3.000],  loss: 0.005873, mae: 0.502377, mean_q: 0.717804, mean_eps: 0.164854\n"
          ]
        },
        {
          "metadata": {
            "tags": null
          },
          "name": "stderr",
          "output_type": "stream",
          "text": [
            "/usr/local/lib/python3.10/dist-packages/gym/wrappers/monitoring/video_recorder.py:78: DeprecationWarning: \u001b[33mWARN: Recording ability for environment ALE/Breakout-v5 initialized with `render_mode=None` is marked as deprecated and will be removed in the future.\u001b[0m\n",
            "  logger.deprecation(\n",
            "/usr/local/lib/python3.10/dist-packages/gym/core.py:43: DeprecationWarning: \u001b[33mWARN: The argument mode in render method is deprecated; use render_mode during environment initialization instead.\n",
            "See here for more information: https://www.gymlibrary.ml/content/api/\u001b[0m\n",
            "  deprecation(\n",
            "/usr/local/lib/python3.10/dist-packages/gym/wrappers/monitoring/video_recorder.py:78: DeprecationWarning: \u001b[33mWARN: Recording ability for environment ALE/Breakout-v5 initialized with `render_mode=None` is marked as deprecated and will be removed in the future.\u001b[0m\n",
            "  logger.deprecation(\n",
            "/usr/local/lib/python3.10/dist-packages/gym/core.py:43: DeprecationWarning: \u001b[33mWARN: The argument mode in render method is deprecated; use render_mode during environment initialization instead.\n",
            "See here for more information: https://www.gymlibrary.ml/content/api/\u001b[0m\n",
            "  deprecation(\n",
            "/usr/local/lib/python3.10/dist-packages/gym/core.py:43: DeprecationWarning: \u001b[33mWARN: The argument mode in render method is deprecated; use render_mode during environment initialization instead.\n",
            "See here for more information: https://www.gymlibrary.ml/content/api/\u001b[0m\n",
            "  deprecation(\n"
          ]
        },
        {
          "metadata": {
            "tags": null
          },
          "name": "stdout",
          "output_type": "stream",
          "text": [
            " 36052/100000: episode: 64, duration: 155.895s, episode steps: 694, steps per second:   4, episode reward: 18.000, mean reward:  0.026 [ 0.000,  1.000], mean action: 1.782 [0.000, 3.000],  loss: 0.006175, mae: 0.507298, mean_q: 0.724941, mean_eps: 0.164296\n"
          ]
        },
        {
          "metadata": {
            "tags": null
          },
          "name": "stderr",
          "output_type": "stream",
          "text": [
            "/usr/local/lib/python3.10/dist-packages/gym/wrappers/monitoring/video_recorder.py:78: DeprecationWarning: \u001b[33mWARN: Recording ability for environment ALE/Breakout-v5 initialized with `render_mode=None` is marked as deprecated and will be removed in the future.\u001b[0m\n",
            "  logger.deprecation(\n",
            "/usr/local/lib/python3.10/dist-packages/gym/core.py:43: DeprecationWarning: \u001b[33mWARN: The argument mode in render method is deprecated; use render_mode during environment initialization instead.\n",
            "See here for more information: https://www.gymlibrary.ml/content/api/\u001b[0m\n",
            "  deprecation(\n",
            "/usr/local/lib/python3.10/dist-packages/gym/wrappers/monitoring/video_recorder.py:78: DeprecationWarning: \u001b[33mWARN: Recording ability for environment ALE/Breakout-v5 initialized with `render_mode=None` is marked as deprecated and will be removed in the future.\u001b[0m\n",
            "  logger.deprecation(\n",
            "/usr/local/lib/python3.10/dist-packages/gym/core.py:43: DeprecationWarning: \u001b[33mWARN: The argument mode in render method is deprecated; use render_mode during environment initialization instead.\n",
            "See here for more information: https://www.gymlibrary.ml/content/api/\u001b[0m\n",
            "  deprecation(\n",
            "/usr/local/lib/python3.10/dist-packages/gym/core.py:43: DeprecationWarning: \u001b[33mWARN: The argument mode in render method is deprecated; use render_mode during environment initialization instead.\n",
            "See here for more information: https://www.gymlibrary.ml/content/api/\u001b[0m\n",
            "  deprecation(\n"
          ]
        },
        {
          "metadata": {
            "tags": null
          },
          "name": "stdout",
          "output_type": "stream",
          "text": [
            " 36540/100000: episode: 65, duration: 108.643s, episode steps: 488, steps per second:   4, episode reward:  9.000, mean reward:  0.018 [ 0.000,  1.000], mean action: 1.535 [0.000, 3.000],  loss: 0.006002, mae: 0.503723, mean_q: 0.717617, mean_eps: 0.163705\n"
          ]
        },
        {
          "metadata": {
            "tags": null
          },
          "name": "stderr",
          "output_type": "stream",
          "text": [
            "/usr/local/lib/python3.10/dist-packages/gym/wrappers/monitoring/video_recorder.py:78: DeprecationWarning: \u001b[33mWARN: Recording ability for environment ALE/Breakout-v5 initialized with `render_mode=None` is marked as deprecated and will be removed in the future.\u001b[0m\n",
            "  logger.deprecation(\n",
            "/usr/local/lib/python3.10/dist-packages/gym/core.py:43: DeprecationWarning: \u001b[33mWARN: The argument mode in render method is deprecated; use render_mode during environment initialization instead.\n",
            "See here for more information: https://www.gymlibrary.ml/content/api/\u001b[0m\n",
            "  deprecation(\n",
            "/usr/local/lib/python3.10/dist-packages/gym/wrappers/monitoring/video_recorder.py:78: DeprecationWarning: \u001b[33mWARN: Recording ability for environment ALE/Breakout-v5 initialized with `render_mode=None` is marked as deprecated and will be removed in the future.\u001b[0m\n",
            "  logger.deprecation(\n",
            "/usr/local/lib/python3.10/dist-packages/gym/core.py:43: DeprecationWarning: \u001b[33mWARN: The argument mode in render method is deprecated; use render_mode during environment initialization instead.\n",
            "See here for more information: https://www.gymlibrary.ml/content/api/\u001b[0m\n",
            "  deprecation(\n",
            "/usr/local/lib/python3.10/dist-packages/gym/core.py:43: DeprecationWarning: \u001b[33mWARN: The argument mode in render method is deprecated; use render_mode during environment initialization instead.\n",
            "See here for more information: https://www.gymlibrary.ml/content/api/\u001b[0m\n",
            "  deprecation(\n"
          ]
        },
        {
          "metadata": {
            "tags": null
          },
          "name": "stdout",
          "output_type": "stream",
          "text": [
            " 37071/100000: episode: 66, duration: 118.015s, episode steps: 531, steps per second:   4, episode reward: 11.000, mean reward:  0.021 [ 0.000,  1.000], mean action: 1.482 [0.000, 3.000],  loss: 0.005351, mae: 0.502847, mean_q: 0.714997, mean_eps: 0.163195\n"
          ]
        },
        {
          "metadata": {
            "tags": null
          },
          "name": "stderr",
          "output_type": "stream",
          "text": [
            "/usr/local/lib/python3.10/dist-packages/gym/wrappers/monitoring/video_recorder.py:78: DeprecationWarning: \u001b[33mWARN: Recording ability for environment ALE/Breakout-v5 initialized with `render_mode=None` is marked as deprecated and will be removed in the future.\u001b[0m\n",
            "  logger.deprecation(\n",
            "/usr/local/lib/python3.10/dist-packages/gym/core.py:43: DeprecationWarning: \u001b[33mWARN: The argument mode in render method is deprecated; use render_mode during environment initialization instead.\n",
            "See here for more information: https://www.gymlibrary.ml/content/api/\u001b[0m\n",
            "  deprecation(\n",
            "/usr/local/lib/python3.10/dist-packages/gym/wrappers/monitoring/video_recorder.py:78: DeprecationWarning: \u001b[33mWARN: Recording ability for environment ALE/Breakout-v5 initialized with `render_mode=None` is marked as deprecated and will be removed in the future.\u001b[0m\n",
            "  logger.deprecation(\n",
            "/usr/local/lib/python3.10/dist-packages/gym/core.py:43: DeprecationWarning: \u001b[33mWARN: The argument mode in render method is deprecated; use render_mode during environment initialization instead.\n",
            "See here for more information: https://www.gymlibrary.ml/content/api/\u001b[0m\n",
            "  deprecation(\n",
            "/usr/local/lib/python3.10/dist-packages/gym/core.py:43: DeprecationWarning: \u001b[33mWARN: The argument mode in render method is deprecated; use render_mode during environment initialization instead.\n",
            "See here for more information: https://www.gymlibrary.ml/content/api/\u001b[0m\n",
            "  deprecation(\n"
          ]
        },
        {
          "metadata": {
            "tags": null
          },
          "name": "stdout",
          "output_type": "stream",
          "text": [
            " 37669/100000: episode: 67, duration: 132.942s, episode steps: 598, steps per second:   4, episode reward: 13.000, mean reward:  0.022 [ 0.000,  1.000], mean action: 1.732 [0.000, 3.000],  loss: 0.006006, mae: 0.505548, mean_q: 0.722193, mean_eps: 0.162631\n"
          ]
        },
        {
          "metadata": {
            "tags": null
          },
          "name": "stderr",
          "output_type": "stream",
          "text": [
            "/usr/local/lib/python3.10/dist-packages/gym/wrappers/monitoring/video_recorder.py:78: DeprecationWarning: \u001b[33mWARN: Recording ability for environment ALE/Breakout-v5 initialized with `render_mode=None` is marked as deprecated and will be removed in the future.\u001b[0m\n",
            "  logger.deprecation(\n",
            "/usr/local/lib/python3.10/dist-packages/gym/core.py:43: DeprecationWarning: \u001b[33mWARN: The argument mode in render method is deprecated; use render_mode during environment initialization instead.\n",
            "See here for more information: https://www.gymlibrary.ml/content/api/\u001b[0m\n",
            "  deprecation(\n",
            "/usr/local/lib/python3.10/dist-packages/gym/wrappers/monitoring/video_recorder.py:78: DeprecationWarning: \u001b[33mWARN: Recording ability for environment ALE/Breakout-v5 initialized with `render_mode=None` is marked as deprecated and will be removed in the future.\u001b[0m\n",
            "  logger.deprecation(\n",
            "/usr/local/lib/python3.10/dist-packages/gym/core.py:43: DeprecationWarning: \u001b[33mWARN: The argument mode in render method is deprecated; use render_mode during environment initialization instead.\n",
            "See here for more information: https://www.gymlibrary.ml/content/api/\u001b[0m\n",
            "  deprecation(\n",
            "/usr/local/lib/python3.10/dist-packages/gym/core.py:43: DeprecationWarning: \u001b[33mWARN: The argument mode in render method is deprecated; use render_mode during environment initialization instead.\n",
            "See here for more information: https://www.gymlibrary.ml/content/api/\u001b[0m\n",
            "  deprecation(\n"
          ]
        },
        {
          "metadata": {
            "tags": null
          },
          "name": "stdout",
          "output_type": "stream",
          "text": [
            " 38169/100000: episode: 68, duration: 118.541s, episode steps: 500, steps per second:   4, episode reward: 11.000, mean reward:  0.022 [ 0.000,  1.000], mean action: 1.838 [0.000, 3.000],  loss: 0.005163, mae: 0.504000, mean_q: 0.719172, mean_eps: 0.162082\n"
          ]
        },
        {
          "metadata": {
            "tags": null
          },
          "name": "stderr",
          "output_type": "stream",
          "text": [
            "/usr/local/lib/python3.10/dist-packages/gym/wrappers/monitoring/video_recorder.py:78: DeprecationWarning: \u001b[33mWARN: Recording ability for environment ALE/Breakout-v5 initialized with `render_mode=None` is marked as deprecated and will be removed in the future.\u001b[0m\n",
            "  logger.deprecation(\n",
            "/usr/local/lib/python3.10/dist-packages/gym/core.py:43: DeprecationWarning: \u001b[33mWARN: The argument mode in render method is deprecated; use render_mode during environment initialization instead.\n",
            "See here for more information: https://www.gymlibrary.ml/content/api/\u001b[0m\n",
            "  deprecation(\n",
            "/usr/local/lib/python3.10/dist-packages/gym/wrappers/monitoring/video_recorder.py:78: DeprecationWarning: \u001b[33mWARN: Recording ability for environment ALE/Breakout-v5 initialized with `render_mode=None` is marked as deprecated and will be removed in the future.\u001b[0m\n",
            "  logger.deprecation(\n",
            "/usr/local/lib/python3.10/dist-packages/gym/core.py:43: DeprecationWarning: \u001b[33mWARN: The argument mode in render method is deprecated; use render_mode during environment initialization instead.\n",
            "See here for more information: https://www.gymlibrary.ml/content/api/\u001b[0m\n",
            "  deprecation(\n",
            "/usr/local/lib/python3.10/dist-packages/gym/core.py:43: DeprecationWarning: \u001b[33mWARN: The argument mode in render method is deprecated; use render_mode during environment initialization instead.\n",
            "See here for more information: https://www.gymlibrary.ml/content/api/\u001b[0m\n",
            "  deprecation(\n"
          ]
        },
        {
          "metadata": {
            "tags": null
          },
          "name": "stdout",
          "output_type": "stream",
          "text": [
            " 38738/100000: episode: 69, duration: 137.349s, episode steps: 569, steps per second:   4, episode reward: 12.000, mean reward:  0.021 [ 0.000,  1.000], mean action: 1.717 [0.000, 3.000],  loss: 0.005208, mae: 0.505850, mean_q: 0.722039, mean_eps: 0.161547\n"
          ]
        },
        {
          "metadata": {
            "tags": null
          },
          "name": "stderr",
          "output_type": "stream",
          "text": [
            "/usr/local/lib/python3.10/dist-packages/gym/wrappers/monitoring/video_recorder.py:78: DeprecationWarning: \u001b[33mWARN: Recording ability for environment ALE/Breakout-v5 initialized with `render_mode=None` is marked as deprecated and will be removed in the future.\u001b[0m\n",
            "  logger.deprecation(\n",
            "/usr/local/lib/python3.10/dist-packages/gym/core.py:43: DeprecationWarning: \u001b[33mWARN: The argument mode in render method is deprecated; use render_mode during environment initialization instead.\n",
            "See here for more information: https://www.gymlibrary.ml/content/api/\u001b[0m\n",
            "  deprecation(\n",
            "/usr/local/lib/python3.10/dist-packages/gym/wrappers/monitoring/video_recorder.py:78: DeprecationWarning: \u001b[33mWARN: Recording ability for environment ALE/Breakout-v5 initialized with `render_mode=None` is marked as deprecated and will be removed in the future.\u001b[0m\n",
            "  logger.deprecation(\n",
            "/usr/local/lib/python3.10/dist-packages/gym/core.py:43: DeprecationWarning: \u001b[33mWARN: The argument mode in render method is deprecated; use render_mode during environment initialization instead.\n",
            "See here for more information: https://www.gymlibrary.ml/content/api/\u001b[0m\n",
            "  deprecation(\n",
            "/usr/local/lib/python3.10/dist-packages/gym/core.py:43: DeprecationWarning: \u001b[33mWARN: The argument mode in render method is deprecated; use render_mode during environment initialization instead.\n",
            "See here for more information: https://www.gymlibrary.ml/content/api/\u001b[0m\n",
            "  deprecation(\n"
          ]
        },
        {
          "metadata": {
            "tags": null
          },
          "name": "stdout",
          "output_type": "stream",
          "text": [
            " 39301/100000: episode: 70, duration: 131.153s, episode steps: 563, steps per second:   4, episode reward: 12.000, mean reward:  0.021 [ 0.000,  1.000], mean action: 1.799 [0.000, 3.000],  loss: 0.005027, mae: 0.503429, mean_q: 0.717787, mean_eps: 0.160981\n"
          ]
        },
        {
          "metadata": {
            "tags": null
          },
          "name": "stderr",
          "output_type": "stream",
          "text": [
            "/usr/local/lib/python3.10/dist-packages/gym/wrappers/monitoring/video_recorder.py:78: DeprecationWarning: \u001b[33mWARN: Recording ability for environment ALE/Breakout-v5 initialized with `render_mode=None` is marked as deprecated and will be removed in the future.\u001b[0m\n",
            "  logger.deprecation(\n",
            "/usr/local/lib/python3.10/dist-packages/gym/core.py:43: DeprecationWarning: \u001b[33mWARN: The argument mode in render method is deprecated; use render_mode during environment initialization instead.\n",
            "See here for more information: https://www.gymlibrary.ml/content/api/\u001b[0m\n",
            "  deprecation(\n",
            "/usr/local/lib/python3.10/dist-packages/gym/wrappers/monitoring/video_recorder.py:78: DeprecationWarning: \u001b[33mWARN: Recording ability for environment ALE/Breakout-v5 initialized with `render_mode=None` is marked as deprecated and will be removed in the future.\u001b[0m\n",
            "  logger.deprecation(\n",
            "/usr/local/lib/python3.10/dist-packages/gym/core.py:43: DeprecationWarning: \u001b[33mWARN: The argument mode in render method is deprecated; use render_mode during environment initialization instead.\n",
            "See here for more information: https://www.gymlibrary.ml/content/api/\u001b[0m\n",
            "  deprecation(\n",
            "/usr/local/lib/python3.10/dist-packages/gym/core.py:43: DeprecationWarning: \u001b[33mWARN: The argument mode in render method is deprecated; use render_mode during environment initialization instead.\n",
            "See here for more information: https://www.gymlibrary.ml/content/api/\u001b[0m\n",
            "  deprecation(\n"
          ]
        },
        {
          "metadata": {
            "tags": null
          },
          "name": "stdout",
          "output_type": "stream",
          "text": [
            " 39694/100000: episode: 71, duration: 87.453s, episode steps: 393, steps per second:   4, episode reward:  6.000, mean reward:  0.015 [ 0.000,  1.000], mean action: 1.618 [0.000, 3.000],  loss: 0.005496, mae: 0.506486, mean_q: 0.722067, mean_eps: 0.160503\n"
          ]
        },
        {
          "metadata": {
            "tags": null
          },
          "name": "stderr",
          "output_type": "stream",
          "text": [
            "/usr/local/lib/python3.10/dist-packages/gym/wrappers/monitoring/video_recorder.py:78: DeprecationWarning: \u001b[33mWARN: Recording ability for environment ALE/Breakout-v5 initialized with `render_mode=None` is marked as deprecated and will be removed in the future.\u001b[0m\n",
            "  logger.deprecation(\n",
            "/usr/local/lib/python3.10/dist-packages/gym/core.py:43: DeprecationWarning: \u001b[33mWARN: The argument mode in render method is deprecated; use render_mode during environment initialization instead.\n",
            "See here for more information: https://www.gymlibrary.ml/content/api/\u001b[0m\n",
            "  deprecation(\n",
            "/usr/local/lib/python3.10/dist-packages/gym/wrappers/monitoring/video_recorder.py:78: DeprecationWarning: \u001b[33mWARN: Recording ability for environment ALE/Breakout-v5 initialized with `render_mode=None` is marked as deprecated and will be removed in the future.\u001b[0m\n",
            "  logger.deprecation(\n",
            "/usr/local/lib/python3.10/dist-packages/gym/core.py:43: DeprecationWarning: \u001b[33mWARN: The argument mode in render method is deprecated; use render_mode during environment initialization instead.\n",
            "See here for more information: https://www.gymlibrary.ml/content/api/\u001b[0m\n",
            "  deprecation(\n",
            "/usr/local/lib/python3.10/dist-packages/gym/core.py:43: DeprecationWarning: \u001b[33mWARN: The argument mode in render method is deprecated; use render_mode during environment initialization instead.\n",
            "See here for more information: https://www.gymlibrary.ml/content/api/\u001b[0m\n",
            "  deprecation(\n"
          ]
        },
        {
          "metadata": {
            "tags": null
          },
          "name": "stdout",
          "output_type": "stream",
          "text": [
            " 40081/100000: episode: 72, duration: 86.028s, episode steps: 387, steps per second:   4, episode reward:  8.000, mean reward:  0.021 [ 0.000,  1.000], mean action: 1.313 [0.000, 3.000],  loss: 0.006227, mae: 0.515471, mean_q: 0.734251, mean_eps: 0.160113\n"
          ]
        },
        {
          "metadata": {
            "tags": null
          },
          "name": "stderr",
          "output_type": "stream",
          "text": [
            "/usr/local/lib/python3.10/dist-packages/gym/wrappers/monitoring/video_recorder.py:78: DeprecationWarning: \u001b[33mWARN: Recording ability for environment ALE/Breakout-v5 initialized with `render_mode=None` is marked as deprecated and will be removed in the future.\u001b[0m\n",
            "  logger.deprecation(\n",
            "/usr/local/lib/python3.10/dist-packages/gym/core.py:43: DeprecationWarning: \u001b[33mWARN: The argument mode in render method is deprecated; use render_mode during environment initialization instead.\n",
            "See here for more information: https://www.gymlibrary.ml/content/api/\u001b[0m\n",
            "  deprecation(\n",
            "/usr/local/lib/python3.10/dist-packages/gym/wrappers/monitoring/video_recorder.py:78: DeprecationWarning: \u001b[33mWARN: Recording ability for environment ALE/Breakout-v5 initialized with `render_mode=None` is marked as deprecated and will be removed in the future.\u001b[0m\n",
            "  logger.deprecation(\n",
            "/usr/local/lib/python3.10/dist-packages/gym/core.py:43: DeprecationWarning: \u001b[33mWARN: The argument mode in render method is deprecated; use render_mode during environment initialization instead.\n",
            "See here for more information: https://www.gymlibrary.ml/content/api/\u001b[0m\n",
            "  deprecation(\n",
            "/usr/local/lib/python3.10/dist-packages/gym/core.py:43: DeprecationWarning: \u001b[33mWARN: The argument mode in render method is deprecated; use render_mode during environment initialization instead.\n",
            "See here for more information: https://www.gymlibrary.ml/content/api/\u001b[0m\n",
            "  deprecation(\n"
          ]
        },
        {
          "metadata": {
            "tags": null
          },
          "name": "stdout",
          "output_type": "stream",
          "text": [
            " 40565/100000: episode: 73, duration: 107.759s, episode steps: 484, steps per second:   4, episode reward:  9.000, mean reward:  0.019 [ 0.000,  1.000], mean action: 1.583 [0.000, 3.000],  loss: 0.006358, mae: 0.564113, mean_q: 0.791314, mean_eps: 0.159677\n"
          ]
        },
        {
          "metadata": {
            "tags": null
          },
          "name": "stderr",
          "output_type": "stream",
          "text": [
            "/usr/local/lib/python3.10/dist-packages/gym/wrappers/monitoring/video_recorder.py:78: DeprecationWarning: \u001b[33mWARN: Recording ability for environment ALE/Breakout-v5 initialized with `render_mode=None` is marked as deprecated and will be removed in the future.\u001b[0m\n",
            "  logger.deprecation(\n",
            "/usr/local/lib/python3.10/dist-packages/gym/core.py:43: DeprecationWarning: \u001b[33mWARN: The argument mode in render method is deprecated; use render_mode during environment initialization instead.\n",
            "See here for more information: https://www.gymlibrary.ml/content/api/\u001b[0m\n",
            "  deprecation(\n",
            "/usr/local/lib/python3.10/dist-packages/gym/wrappers/monitoring/video_recorder.py:78: DeprecationWarning: \u001b[33mWARN: Recording ability for environment ALE/Breakout-v5 initialized with `render_mode=None` is marked as deprecated and will be removed in the future.\u001b[0m\n",
            "  logger.deprecation(\n",
            "/usr/local/lib/python3.10/dist-packages/gym/core.py:43: DeprecationWarning: \u001b[33mWARN: The argument mode in render method is deprecated; use render_mode during environment initialization instead.\n",
            "See here for more information: https://www.gymlibrary.ml/content/api/\u001b[0m\n",
            "  deprecation(\n",
            "/usr/local/lib/python3.10/dist-packages/gym/core.py:43: DeprecationWarning: \u001b[33mWARN: The argument mode in render method is deprecated; use render_mode during environment initialization instead.\n",
            "See here for more information: https://www.gymlibrary.ml/content/api/\u001b[0m\n",
            "  deprecation(\n"
          ]
        },
        {
          "metadata": {
            "tags": null
          },
          "name": "stdout",
          "output_type": "stream",
          "text": [
            " 41092/100000: episode: 74, duration: 116.775s, episode steps: 527, steps per second:   5, episode reward: 11.000, mean reward:  0.021 [ 0.000,  1.000], mean action: 1.759 [0.000, 3.000],  loss: 0.005921, mae: 0.558688, mean_q: 0.789523, mean_eps: 0.159172\n"
          ]
        },
        {
          "metadata": {
            "tags": null
          },
          "name": "stderr",
          "output_type": "stream",
          "text": [
            "/usr/local/lib/python3.10/dist-packages/gym/wrappers/monitoring/video_recorder.py:78: DeprecationWarning: \u001b[33mWARN: Recording ability for environment ALE/Breakout-v5 initialized with `render_mode=None` is marked as deprecated and will be removed in the future.\u001b[0m\n",
            "  logger.deprecation(\n",
            "/usr/local/lib/python3.10/dist-packages/gym/core.py:43: DeprecationWarning: \u001b[33mWARN: The argument mode in render method is deprecated; use render_mode during environment initialization instead.\n",
            "See here for more information: https://www.gymlibrary.ml/content/api/\u001b[0m\n",
            "  deprecation(\n",
            "/usr/local/lib/python3.10/dist-packages/gym/wrappers/monitoring/video_recorder.py:78: DeprecationWarning: \u001b[33mWARN: Recording ability for environment ALE/Breakout-v5 initialized with `render_mode=None` is marked as deprecated and will be removed in the future.\u001b[0m\n",
            "  logger.deprecation(\n",
            "/usr/local/lib/python3.10/dist-packages/gym/core.py:43: DeprecationWarning: \u001b[33mWARN: The argument mode in render method is deprecated; use render_mode during environment initialization instead.\n",
            "See here for more information: https://www.gymlibrary.ml/content/api/\u001b[0m\n",
            "  deprecation(\n",
            "/usr/local/lib/python3.10/dist-packages/gym/core.py:43: DeprecationWarning: \u001b[33mWARN: The argument mode in render method is deprecated; use render_mode during environment initialization instead.\n",
            "See here for more information: https://www.gymlibrary.ml/content/api/\u001b[0m\n",
            "  deprecation(\n"
          ]
        },
        {
          "metadata": {
            "tags": null
          },
          "name": "stdout",
          "output_type": "stream",
          "text": [
            " 41627/100000: episode: 75, duration: 120.540s, episode steps: 535, steps per second:   4, episode reward: 11.000, mean reward:  0.021 [ 0.000,  1.000], mean action: 1.703 [0.000, 3.000],  loss: 0.005490, mae: 0.558572, mean_q: 0.790453, mean_eps: 0.158641\n"
          ]
        },
        {
          "metadata": {
            "tags": null
          },
          "name": "stderr",
          "output_type": "stream",
          "text": [
            "/usr/local/lib/python3.10/dist-packages/gym/wrappers/monitoring/video_recorder.py:78: DeprecationWarning: \u001b[33mWARN: Recording ability for environment ALE/Breakout-v5 initialized with `render_mode=None` is marked as deprecated and will be removed in the future.\u001b[0m\n",
            "  logger.deprecation(\n",
            "/usr/local/lib/python3.10/dist-packages/gym/core.py:43: DeprecationWarning: \u001b[33mWARN: The argument mode in render method is deprecated; use render_mode during environment initialization instead.\n",
            "See here for more information: https://www.gymlibrary.ml/content/api/\u001b[0m\n",
            "  deprecation(\n",
            "/usr/local/lib/python3.10/dist-packages/gym/wrappers/monitoring/video_recorder.py:78: DeprecationWarning: \u001b[33mWARN: Recording ability for environment ALE/Breakout-v5 initialized with `render_mode=None` is marked as deprecated and will be removed in the future.\u001b[0m\n",
            "  logger.deprecation(\n",
            "/usr/local/lib/python3.10/dist-packages/gym/core.py:43: DeprecationWarning: \u001b[33mWARN: The argument mode in render method is deprecated; use render_mode during environment initialization instead.\n",
            "See here for more information: https://www.gymlibrary.ml/content/api/\u001b[0m\n",
            "  deprecation(\n",
            "/usr/local/lib/python3.10/dist-packages/gym/core.py:43: DeprecationWarning: \u001b[33mWARN: The argument mode in render method is deprecated; use render_mode during environment initialization instead.\n",
            "See here for more information: https://www.gymlibrary.ml/content/api/\u001b[0m\n",
            "  deprecation(\n"
          ]
        },
        {
          "metadata": {
            "tags": null
          },
          "name": "stdout",
          "output_type": "stream",
          "text": [
            " 41904/100000: episode: 76, duration: 62.737s, episode steps: 277, steps per second:   4, episode reward:  4.000, mean reward:  0.014 [ 0.000,  1.000], mean action: 1.585 [0.000, 3.000],  loss: 0.005908, mae: 0.561219, mean_q: 0.795576, mean_eps: 0.158235\n"
          ]
        },
        {
          "metadata": {
            "tags": null
          },
          "name": "stderr",
          "output_type": "stream",
          "text": [
            "/usr/local/lib/python3.10/dist-packages/gym/wrappers/monitoring/video_recorder.py:78: DeprecationWarning: \u001b[33mWARN: Recording ability for environment ALE/Breakout-v5 initialized with `render_mode=None` is marked as deprecated and will be removed in the future.\u001b[0m\n",
            "  logger.deprecation(\n",
            "/usr/local/lib/python3.10/dist-packages/gym/core.py:43: DeprecationWarning: \u001b[33mWARN: The argument mode in render method is deprecated; use render_mode during environment initialization instead.\n",
            "See here for more information: https://www.gymlibrary.ml/content/api/\u001b[0m\n",
            "  deprecation(\n",
            "/usr/local/lib/python3.10/dist-packages/gym/wrappers/monitoring/video_recorder.py:78: DeprecationWarning: \u001b[33mWARN: Recording ability for environment ALE/Breakout-v5 initialized with `render_mode=None` is marked as deprecated and will be removed in the future.\u001b[0m\n",
            "  logger.deprecation(\n",
            "/usr/local/lib/python3.10/dist-packages/gym/core.py:43: DeprecationWarning: \u001b[33mWARN: The argument mode in render method is deprecated; use render_mode during environment initialization instead.\n",
            "See here for more information: https://www.gymlibrary.ml/content/api/\u001b[0m\n",
            "  deprecation(\n",
            "/usr/local/lib/python3.10/dist-packages/gym/core.py:43: DeprecationWarning: \u001b[33mWARN: The argument mode in render method is deprecated; use render_mode during environment initialization instead.\n",
            "See here for more information: https://www.gymlibrary.ml/content/api/\u001b[0m\n",
            "  deprecation(\n"
          ]
        },
        {
          "metadata": {
            "tags": null
          },
          "name": "stdout",
          "output_type": "stream",
          "text": [
            " 42259/100000: episode: 77, duration: 79.764s, episode steps: 355, steps per second:   4, episode reward:  6.000, mean reward:  0.017 [ 0.000,  1.000], mean action: 1.549 [0.000, 3.000],  loss: 0.005190, mae: 0.552264, mean_q: 0.783839, mean_eps: 0.157919\n"
          ]
        },
        {
          "metadata": {
            "tags": null
          },
          "name": "stderr",
          "output_type": "stream",
          "text": [
            "/usr/local/lib/python3.10/dist-packages/gym/wrappers/monitoring/video_recorder.py:78: DeprecationWarning: \u001b[33mWARN: Recording ability for environment ALE/Breakout-v5 initialized with `render_mode=None` is marked as deprecated and will be removed in the future.\u001b[0m\n",
            "  logger.deprecation(\n",
            "/usr/local/lib/python3.10/dist-packages/gym/core.py:43: DeprecationWarning: \u001b[33mWARN: The argument mode in render method is deprecated; use render_mode during environment initialization instead.\n",
            "See here for more information: https://www.gymlibrary.ml/content/api/\u001b[0m\n",
            "  deprecation(\n",
            "/usr/local/lib/python3.10/dist-packages/gym/wrappers/monitoring/video_recorder.py:78: DeprecationWarning: \u001b[33mWARN: Recording ability for environment ALE/Breakout-v5 initialized with `render_mode=None` is marked as deprecated and will be removed in the future.\u001b[0m\n",
            "  logger.deprecation(\n",
            "/usr/local/lib/python3.10/dist-packages/gym/core.py:43: DeprecationWarning: \u001b[33mWARN: The argument mode in render method is deprecated; use render_mode during environment initialization instead.\n",
            "See here for more information: https://www.gymlibrary.ml/content/api/\u001b[0m\n",
            "  deprecation(\n",
            "/usr/local/lib/python3.10/dist-packages/gym/core.py:43: DeprecationWarning: \u001b[33mWARN: The argument mode in render method is deprecated; use render_mode during environment initialization instead.\n",
            "See here for more information: https://www.gymlibrary.ml/content/api/\u001b[0m\n",
            "  deprecation(\n"
          ]
        },
        {
          "metadata": {
            "tags": null
          },
          "name": "stdout",
          "output_type": "stream",
          "text": [
            " 42536/100000: episode: 78, duration: 62.412s, episode steps: 277, steps per second:   4, episode reward:  4.000, mean reward:  0.014 [ 0.000,  1.000], mean action: 1.599 [0.000, 3.000],  loss: 0.005128, mae: 0.557009, mean_q: 0.788761, mean_eps: 0.157603\n"
          ]
        },
        {
          "metadata": {
            "tags": null
          },
          "name": "stderr",
          "output_type": "stream",
          "text": [
            "/usr/local/lib/python3.10/dist-packages/gym/wrappers/monitoring/video_recorder.py:78: DeprecationWarning: \u001b[33mWARN: Recording ability for environment ALE/Breakout-v5 initialized with `render_mode=None` is marked as deprecated and will be removed in the future.\u001b[0m\n",
            "  logger.deprecation(\n",
            "/usr/local/lib/python3.10/dist-packages/gym/core.py:43: DeprecationWarning: \u001b[33mWARN: The argument mode in render method is deprecated; use render_mode during environment initialization instead.\n",
            "See here for more information: https://www.gymlibrary.ml/content/api/\u001b[0m\n",
            "  deprecation(\n",
            "/usr/local/lib/python3.10/dist-packages/gym/wrappers/monitoring/video_recorder.py:78: DeprecationWarning: \u001b[33mWARN: Recording ability for environment ALE/Breakout-v5 initialized with `render_mode=None` is marked as deprecated and will be removed in the future.\u001b[0m\n",
            "  logger.deprecation(\n",
            "/usr/local/lib/python3.10/dist-packages/gym/core.py:43: DeprecationWarning: \u001b[33mWARN: The argument mode in render method is deprecated; use render_mode during environment initialization instead.\n",
            "See here for more information: https://www.gymlibrary.ml/content/api/\u001b[0m\n",
            "  deprecation(\n",
            "/usr/local/lib/python3.10/dist-packages/gym/core.py:43: DeprecationWarning: \u001b[33mWARN: The argument mode in render method is deprecated; use render_mode during environment initialization instead.\n",
            "See here for more information: https://www.gymlibrary.ml/content/api/\u001b[0m\n",
            "  deprecation(\n"
          ]
        },
        {
          "metadata": {
            "tags": null
          },
          "name": "stdout",
          "output_type": "stream",
          "text": [
            " 42979/100000: episode: 79, duration: 100.038s, episode steps: 443, steps per second:   4, episode reward:  8.000, mean reward:  0.018 [ 0.000,  1.000], mean action: 1.634 [0.000, 3.000],  loss: 0.005440, mae: 0.555810, mean_q: 0.786271, mean_eps: 0.157243\n"
          ]
        },
        {
          "metadata": {
            "tags": null
          },
          "name": "stderr",
          "output_type": "stream",
          "text": [
            "/usr/local/lib/python3.10/dist-packages/gym/wrappers/monitoring/video_recorder.py:78: DeprecationWarning: \u001b[33mWARN: Recording ability for environment ALE/Breakout-v5 initialized with `render_mode=None` is marked as deprecated and will be removed in the future.\u001b[0m\n",
            "  logger.deprecation(\n",
            "/usr/local/lib/python3.10/dist-packages/gym/core.py:43: DeprecationWarning: \u001b[33mWARN: The argument mode in render method is deprecated; use render_mode during environment initialization instead.\n",
            "See here for more information: https://www.gymlibrary.ml/content/api/\u001b[0m\n",
            "  deprecation(\n",
            "/usr/local/lib/python3.10/dist-packages/gym/wrappers/monitoring/video_recorder.py:78: DeprecationWarning: \u001b[33mWARN: Recording ability for environment ALE/Breakout-v5 initialized with `render_mode=None` is marked as deprecated and will be removed in the future.\u001b[0m\n",
            "  logger.deprecation(\n",
            "/usr/local/lib/python3.10/dist-packages/gym/core.py:43: DeprecationWarning: \u001b[33mWARN: The argument mode in render method is deprecated; use render_mode during environment initialization instead.\n",
            "See here for more information: https://www.gymlibrary.ml/content/api/\u001b[0m\n",
            "  deprecation(\n",
            "/usr/local/lib/python3.10/dist-packages/gym/core.py:43: DeprecationWarning: \u001b[33mWARN: The argument mode in render method is deprecated; use render_mode during environment initialization instead.\n",
            "See here for more information: https://www.gymlibrary.ml/content/api/\u001b[0m\n",
            "  deprecation(\n"
          ]
        },
        {
          "metadata": {
            "tags": null
          },
          "name": "stdout",
          "output_type": "stream",
          "text": [
            " 43855/100000: episode: 80, duration: 193.583s, episode steps: 876, steps per second:   5, episode reward: 21.000, mean reward:  0.024 [ 0.000,  1.000], mean action: 1.517 [0.000, 3.000],  loss: 0.005514, mae: 0.555272, mean_q: 0.787801, mean_eps: 0.156584\n"
          ]
        },
        {
          "metadata": {
            "tags": null
          },
          "name": "stderr",
          "output_type": "stream",
          "text": [
            "/usr/local/lib/python3.10/dist-packages/gym/wrappers/monitoring/video_recorder.py:78: DeprecationWarning: \u001b[33mWARN: Recording ability for environment ALE/Breakout-v5 initialized with `render_mode=None` is marked as deprecated and will be removed in the future.\u001b[0m\n",
            "  logger.deprecation(\n",
            "/usr/local/lib/python3.10/dist-packages/gym/core.py:43: DeprecationWarning: \u001b[33mWARN: The argument mode in render method is deprecated; use render_mode during environment initialization instead.\n",
            "See here for more information: https://www.gymlibrary.ml/content/api/\u001b[0m\n",
            "  deprecation(\n",
            "/usr/local/lib/python3.10/dist-packages/gym/wrappers/monitoring/video_recorder.py:78: DeprecationWarning: \u001b[33mWARN: Recording ability for environment ALE/Breakout-v5 initialized with `render_mode=None` is marked as deprecated and will be removed in the future.\u001b[0m\n",
            "  logger.deprecation(\n",
            "/usr/local/lib/python3.10/dist-packages/gym/core.py:43: DeprecationWarning: \u001b[33mWARN: The argument mode in render method is deprecated; use render_mode during environment initialization instead.\n",
            "See here for more information: https://www.gymlibrary.ml/content/api/\u001b[0m\n",
            "  deprecation(\n",
            "/usr/local/lib/python3.10/dist-packages/gym/core.py:43: DeprecationWarning: \u001b[33mWARN: The argument mode in render method is deprecated; use render_mode during environment initialization instead.\n",
            "See here for more information: https://www.gymlibrary.ml/content/api/\u001b[0m\n",
            "  deprecation(\n"
          ]
        },
        {
          "metadata": {
            "tags": null
          },
          "name": "stdout",
          "output_type": "stream",
          "text": [
            " 44209/100000: episode: 81, duration: 81.689s, episode steps: 354, steps per second:   4, episode reward:  6.000, mean reward:  0.017 [ 0.000,  1.000], mean action: 1.520 [0.000, 3.000],  loss: 0.004747, mae: 0.558554, mean_q: 0.793898, mean_eps: 0.155969\n"
          ]
        },
        {
          "metadata": {
            "tags": null
          },
          "name": "stderr",
          "output_type": "stream",
          "text": [
            "/usr/local/lib/python3.10/dist-packages/gym/wrappers/monitoring/video_recorder.py:78: DeprecationWarning: \u001b[33mWARN: Recording ability for environment ALE/Breakout-v5 initialized with `render_mode=None` is marked as deprecated and will be removed in the future.\u001b[0m\n",
            "  logger.deprecation(\n",
            "/usr/local/lib/python3.10/dist-packages/gym/core.py:43: DeprecationWarning: \u001b[33mWARN: The argument mode in render method is deprecated; use render_mode during environment initialization instead.\n",
            "See here for more information: https://www.gymlibrary.ml/content/api/\u001b[0m\n",
            "  deprecation(\n",
            "/usr/local/lib/python3.10/dist-packages/gym/wrappers/monitoring/video_recorder.py:78: DeprecationWarning: \u001b[33mWARN: Recording ability for environment ALE/Breakout-v5 initialized with `render_mode=None` is marked as deprecated and will be removed in the future.\u001b[0m\n",
            "  logger.deprecation(\n",
            "/usr/local/lib/python3.10/dist-packages/gym/core.py:43: DeprecationWarning: \u001b[33mWARN: The argument mode in render method is deprecated; use render_mode during environment initialization instead.\n",
            "See here for more information: https://www.gymlibrary.ml/content/api/\u001b[0m\n",
            "  deprecation(\n",
            "/usr/local/lib/python3.10/dist-packages/gym/core.py:43: DeprecationWarning: \u001b[33mWARN: The argument mode in render method is deprecated; use render_mode during environment initialization instead.\n",
            "See here for more information: https://www.gymlibrary.ml/content/api/\u001b[0m\n",
            "  deprecation(\n"
          ]
        },
        {
          "metadata": {
            "tags": null
          },
          "name": "stdout",
          "output_type": "stream",
          "text": [
            " 44749/100000: episode: 82, duration: 120.089s, episode steps: 540, steps per second:   4, episode reward: 11.000, mean reward:  0.020 [ 0.000,  1.000], mean action: 1.559 [0.000, 3.000],  loss: 0.005308, mae: 0.552183, mean_q: 0.784360, mean_eps: 0.155522\n"
          ]
        },
        {
          "metadata": {
            "tags": null
          },
          "name": "stderr",
          "output_type": "stream",
          "text": [
            "/usr/local/lib/python3.10/dist-packages/gym/wrappers/monitoring/video_recorder.py:78: DeprecationWarning: \u001b[33mWARN: Recording ability for environment ALE/Breakout-v5 initialized with `render_mode=None` is marked as deprecated and will be removed in the future.\u001b[0m\n",
            "  logger.deprecation(\n",
            "/usr/local/lib/python3.10/dist-packages/gym/core.py:43: DeprecationWarning: \u001b[33mWARN: The argument mode in render method is deprecated; use render_mode during environment initialization instead.\n",
            "See here for more information: https://www.gymlibrary.ml/content/api/\u001b[0m\n",
            "  deprecation(\n",
            "/usr/local/lib/python3.10/dist-packages/gym/wrappers/monitoring/video_recorder.py:78: DeprecationWarning: \u001b[33mWARN: Recording ability for environment ALE/Breakout-v5 initialized with `render_mode=None` is marked as deprecated and will be removed in the future.\u001b[0m\n",
            "  logger.deprecation(\n",
            "/usr/local/lib/python3.10/dist-packages/gym/core.py:43: DeprecationWarning: \u001b[33mWARN: The argument mode in render method is deprecated; use render_mode during environment initialization instead.\n",
            "See here for more information: https://www.gymlibrary.ml/content/api/\u001b[0m\n",
            "  deprecation(\n",
            "/usr/local/lib/python3.10/dist-packages/gym/core.py:43: DeprecationWarning: \u001b[33mWARN: The argument mode in render method is deprecated; use render_mode during environment initialization instead.\n",
            "See here for more information: https://www.gymlibrary.ml/content/api/\u001b[0m\n",
            "  deprecation(\n"
          ]
        },
        {
          "metadata": {
            "tags": null
          },
          "name": "stdout",
          "output_type": "stream",
          "text": [
            " 45451/100000: episode: 83, duration: 155.518s, episode steps: 702, steps per second:   5, episode reward: 15.000, mean reward:  0.021 [ 0.000,  1.000], mean action: 1.701 [0.000, 3.000],  loss: 0.004965, mae: 0.553144, mean_q: 0.785638, mean_eps: 0.154901\n"
          ]
        },
        {
          "metadata": {
            "tags": null
          },
          "name": "stderr",
          "output_type": "stream",
          "text": [
            "/usr/local/lib/python3.10/dist-packages/gym/wrappers/monitoring/video_recorder.py:78: DeprecationWarning: \u001b[33mWARN: Recording ability for environment ALE/Breakout-v5 initialized with `render_mode=None` is marked as deprecated and will be removed in the future.\u001b[0m\n",
            "  logger.deprecation(\n",
            "/usr/local/lib/python3.10/dist-packages/gym/core.py:43: DeprecationWarning: \u001b[33mWARN: The argument mode in render method is deprecated; use render_mode during environment initialization instead.\n",
            "See here for more information: https://www.gymlibrary.ml/content/api/\u001b[0m\n",
            "  deprecation(\n",
            "/usr/local/lib/python3.10/dist-packages/gym/wrappers/monitoring/video_recorder.py:78: DeprecationWarning: \u001b[33mWARN: Recording ability for environment ALE/Breakout-v5 initialized with `render_mode=None` is marked as deprecated and will be removed in the future.\u001b[0m\n",
            "  logger.deprecation(\n",
            "/usr/local/lib/python3.10/dist-packages/gym/core.py:43: DeprecationWarning: \u001b[33mWARN: The argument mode in render method is deprecated; use render_mode during environment initialization instead.\n",
            "See here for more information: https://www.gymlibrary.ml/content/api/\u001b[0m\n",
            "  deprecation(\n",
            "/usr/local/lib/python3.10/dist-packages/gym/core.py:43: DeprecationWarning: \u001b[33mWARN: The argument mode in render method is deprecated; use render_mode during environment initialization instead.\n",
            "See here for more information: https://www.gymlibrary.ml/content/api/\u001b[0m\n",
            "  deprecation(\n"
          ]
        },
        {
          "metadata": {
            "tags": null
          },
          "name": "stdout",
          "output_type": "stream",
          "text": [
            " 46094/100000: episode: 84, duration: 143.654s, episode steps: 643, steps per second:   4, episode reward: 13.000, mean reward:  0.020 [ 0.000,  1.000], mean action: 1.708 [0.000, 3.000],  loss: 0.004878, mae: 0.556841, mean_q: 0.788612, mean_eps: 0.154228\n"
          ]
        },
        {
          "metadata": {
            "tags": null
          },
          "name": "stderr",
          "output_type": "stream",
          "text": [
            "/usr/local/lib/python3.10/dist-packages/gym/wrappers/monitoring/video_recorder.py:78: DeprecationWarning: \u001b[33mWARN: Recording ability for environment ALE/Breakout-v5 initialized with `render_mode=None` is marked as deprecated and will be removed in the future.\u001b[0m\n",
            "  logger.deprecation(\n",
            "/usr/local/lib/python3.10/dist-packages/gym/core.py:43: DeprecationWarning: \u001b[33mWARN: The argument mode in render method is deprecated; use render_mode during environment initialization instead.\n",
            "See here for more information: https://www.gymlibrary.ml/content/api/\u001b[0m\n",
            "  deprecation(\n",
            "/usr/local/lib/python3.10/dist-packages/gym/wrappers/monitoring/video_recorder.py:78: DeprecationWarning: \u001b[33mWARN: Recording ability for environment ALE/Breakout-v5 initialized with `render_mode=None` is marked as deprecated and will be removed in the future.\u001b[0m\n",
            "  logger.deprecation(\n",
            "/usr/local/lib/python3.10/dist-packages/gym/core.py:43: DeprecationWarning: \u001b[33mWARN: The argument mode in render method is deprecated; use render_mode during environment initialization instead.\n",
            "See here for more information: https://www.gymlibrary.ml/content/api/\u001b[0m\n",
            "  deprecation(\n",
            "/usr/local/lib/python3.10/dist-packages/gym/core.py:43: DeprecationWarning: \u001b[33mWARN: The argument mode in render method is deprecated; use render_mode during environment initialization instead.\n",
            "See here for more information: https://www.gymlibrary.ml/content/api/\u001b[0m\n",
            "  deprecation(\n"
          ]
        },
        {
          "metadata": {
            "tags": null
          },
          "name": "stdout",
          "output_type": "stream",
          "text": [
            " 46574/100000: episode: 85, duration: 105.983s, episode steps: 480, steps per second:   5, episode reward:  9.000, mean reward:  0.019 [ 0.000,  1.000], mean action: 1.627 [0.000, 3.000],  loss: 0.005202, mae: 0.557442, mean_q: 0.792328, mean_eps: 0.153667\n"
          ]
        },
        {
          "metadata": {
            "tags": null
          },
          "name": "stderr",
          "output_type": "stream",
          "text": [
            "/usr/local/lib/python3.10/dist-packages/gym/wrappers/monitoring/video_recorder.py:78: DeprecationWarning: \u001b[33mWARN: Recording ability for environment ALE/Breakout-v5 initialized with `render_mode=None` is marked as deprecated and will be removed in the future.\u001b[0m\n",
            "  logger.deprecation(\n",
            "/usr/local/lib/python3.10/dist-packages/gym/core.py:43: DeprecationWarning: \u001b[33mWARN: The argument mode in render method is deprecated; use render_mode during environment initialization instead.\n",
            "See here for more information: https://www.gymlibrary.ml/content/api/\u001b[0m\n",
            "  deprecation(\n",
            "/usr/local/lib/python3.10/dist-packages/gym/wrappers/monitoring/video_recorder.py:78: DeprecationWarning: \u001b[33mWARN: Recording ability for environment ALE/Breakout-v5 initialized with `render_mode=None` is marked as deprecated and will be removed in the future.\u001b[0m\n",
            "  logger.deprecation(\n",
            "/usr/local/lib/python3.10/dist-packages/gym/core.py:43: DeprecationWarning: \u001b[33mWARN: The argument mode in render method is deprecated; use render_mode during environment initialization instead.\n",
            "See here for more information: https://www.gymlibrary.ml/content/api/\u001b[0m\n",
            "  deprecation(\n",
            "/usr/local/lib/python3.10/dist-packages/gym/core.py:43: DeprecationWarning: \u001b[33mWARN: The argument mode in render method is deprecated; use render_mode during environment initialization instead.\n",
            "See here for more information: https://www.gymlibrary.ml/content/api/\u001b[0m\n",
            "  deprecation(\n"
          ]
        },
        {
          "metadata": {
            "tags": null
          },
          "name": "stdout",
          "output_type": "stream",
          "text": [
            " 46930/100000: episode: 86, duration: 78.415s, episode steps: 356, steps per second:   5, episode reward:  6.000, mean reward:  0.017 [ 0.000,  1.000], mean action: 1.654 [0.000, 3.000],  loss: 0.004995, mae: 0.557314, mean_q: 0.791953, mean_eps: 0.153249\n"
          ]
        },
        {
          "metadata": {
            "tags": null
          },
          "name": "stderr",
          "output_type": "stream",
          "text": [
            "/usr/local/lib/python3.10/dist-packages/gym/wrappers/monitoring/video_recorder.py:78: DeprecationWarning: \u001b[33mWARN: Recording ability for environment ALE/Breakout-v5 initialized with `render_mode=None` is marked as deprecated and will be removed in the future.\u001b[0m\n",
            "  logger.deprecation(\n",
            "/usr/local/lib/python3.10/dist-packages/gym/core.py:43: DeprecationWarning: \u001b[33mWARN: The argument mode in render method is deprecated; use render_mode during environment initialization instead.\n",
            "See here for more information: https://www.gymlibrary.ml/content/api/\u001b[0m\n",
            "  deprecation(\n",
            "/usr/local/lib/python3.10/dist-packages/gym/wrappers/monitoring/video_recorder.py:78: DeprecationWarning: \u001b[33mWARN: Recording ability for environment ALE/Breakout-v5 initialized with `render_mode=None` is marked as deprecated and will be removed in the future.\u001b[0m\n",
            "  logger.deprecation(\n",
            "/usr/local/lib/python3.10/dist-packages/gym/core.py:43: DeprecationWarning: \u001b[33mWARN: The argument mode in render method is deprecated; use render_mode during environment initialization instead.\n",
            "See here for more information: https://www.gymlibrary.ml/content/api/\u001b[0m\n",
            "  deprecation(\n",
            "/usr/local/lib/python3.10/dist-packages/gym/core.py:43: DeprecationWarning: \u001b[33mWARN: The argument mode in render method is deprecated; use render_mode during environment initialization instead.\n",
            "See here for more information: https://www.gymlibrary.ml/content/api/\u001b[0m\n",
            "  deprecation(\n"
          ]
        },
        {
          "metadata": {
            "tags": null
          },
          "name": "stdout",
          "output_type": "stream",
          "text": [
            " 47303/100000: episode: 87, duration: 83.426s, episode steps: 373, steps per second:   4, episode reward:  6.000, mean reward:  0.016 [ 0.000,  1.000], mean action: 1.678 [0.000, 3.000],  loss: 0.004952, mae: 0.554518, mean_q: 0.788055, mean_eps: 0.152884\n"
          ]
        },
        {
          "metadata": {
            "tags": null
          },
          "name": "stderr",
          "output_type": "stream",
          "text": [
            "/usr/local/lib/python3.10/dist-packages/gym/wrappers/monitoring/video_recorder.py:78: DeprecationWarning: \u001b[33mWARN: Recording ability for environment ALE/Breakout-v5 initialized with `render_mode=None` is marked as deprecated and will be removed in the future.\u001b[0m\n",
            "  logger.deprecation(\n",
            "/usr/local/lib/python3.10/dist-packages/gym/core.py:43: DeprecationWarning: \u001b[33mWARN: The argument mode in render method is deprecated; use render_mode during environment initialization instead.\n",
            "See here for more information: https://www.gymlibrary.ml/content/api/\u001b[0m\n",
            "  deprecation(\n",
            "/usr/local/lib/python3.10/dist-packages/gym/wrappers/monitoring/video_recorder.py:78: DeprecationWarning: \u001b[33mWARN: Recording ability for environment ALE/Breakout-v5 initialized with `render_mode=None` is marked as deprecated and will be removed in the future.\u001b[0m\n",
            "  logger.deprecation(\n",
            "/usr/local/lib/python3.10/dist-packages/gym/core.py:43: DeprecationWarning: \u001b[33mWARN: The argument mode in render method is deprecated; use render_mode during environment initialization instead.\n",
            "See here for more information: https://www.gymlibrary.ml/content/api/\u001b[0m\n",
            "  deprecation(\n",
            "/usr/local/lib/python3.10/dist-packages/gym/core.py:43: DeprecationWarning: \u001b[33mWARN: The argument mode in render method is deprecated; use render_mode during environment initialization instead.\n",
            "See here for more information: https://www.gymlibrary.ml/content/api/\u001b[0m\n",
            "  deprecation(\n"
          ]
        },
        {
          "metadata": {
            "tags": null
          },
          "name": "stdout",
          "output_type": "stream",
          "text": [
            " 47753/100000: episode: 88, duration: 101.592s, episode steps: 450, steps per second:   4, episode reward:  9.000, mean reward:  0.020 [ 0.000,  1.000], mean action: 1.771 [0.000, 3.000],  loss: 0.004451, mae: 0.554454, mean_q: 0.788457, mean_eps: 0.152473\n"
          ]
        },
        {
          "metadata": {
            "tags": null
          },
          "name": "stderr",
          "output_type": "stream",
          "text": [
            "/usr/local/lib/python3.10/dist-packages/gym/wrappers/monitoring/video_recorder.py:78: DeprecationWarning: \u001b[33mWARN: Recording ability for environment ALE/Breakout-v5 initialized with `render_mode=None` is marked as deprecated and will be removed in the future.\u001b[0m\n",
            "  logger.deprecation(\n",
            "/usr/local/lib/python3.10/dist-packages/gym/core.py:43: DeprecationWarning: \u001b[33mWARN: The argument mode in render method is deprecated; use render_mode during environment initialization instead.\n",
            "See here for more information: https://www.gymlibrary.ml/content/api/\u001b[0m\n",
            "  deprecation(\n",
            "/usr/local/lib/python3.10/dist-packages/gym/wrappers/monitoring/video_recorder.py:78: DeprecationWarning: \u001b[33mWARN: Recording ability for environment ALE/Breakout-v5 initialized with `render_mode=None` is marked as deprecated and will be removed in the future.\u001b[0m\n",
            "  logger.deprecation(\n",
            "/usr/local/lib/python3.10/dist-packages/gym/core.py:43: DeprecationWarning: \u001b[33mWARN: The argument mode in render method is deprecated; use render_mode during environment initialization instead.\n",
            "See here for more information: https://www.gymlibrary.ml/content/api/\u001b[0m\n",
            "  deprecation(\n",
            "/usr/local/lib/python3.10/dist-packages/gym/core.py:43: DeprecationWarning: \u001b[33mWARN: The argument mode in render method is deprecated; use render_mode during environment initialization instead.\n",
            "See here for more information: https://www.gymlibrary.ml/content/api/\u001b[0m\n",
            "  deprecation(\n"
          ]
        },
        {
          "metadata": {
            "tags": null
          },
          "name": "stdout",
          "output_type": "stream",
          "text": [
            " 48151/100000: episode: 89, duration: 89.449s, episode steps: 398, steps per second:   4, episode reward:  6.000, mean reward:  0.015 [ 0.000,  1.000], mean action: 1.663 [0.000, 3.000],  loss: 0.004904, mae: 0.554509, mean_q: 0.787415, mean_eps: 0.152049\n"
          ]
        },
        {
          "metadata": {
            "tags": null
          },
          "name": "stderr",
          "output_type": "stream",
          "text": [
            "/usr/local/lib/python3.10/dist-packages/gym/wrappers/monitoring/video_recorder.py:78: DeprecationWarning: \u001b[33mWARN: Recording ability for environment ALE/Breakout-v5 initialized with `render_mode=None` is marked as deprecated and will be removed in the future.\u001b[0m\n",
            "  logger.deprecation(\n",
            "/usr/local/lib/python3.10/dist-packages/gym/core.py:43: DeprecationWarning: \u001b[33mWARN: The argument mode in render method is deprecated; use render_mode during environment initialization instead.\n",
            "See here for more information: https://www.gymlibrary.ml/content/api/\u001b[0m\n",
            "  deprecation(\n",
            "/usr/local/lib/python3.10/dist-packages/gym/wrappers/monitoring/video_recorder.py:78: DeprecationWarning: \u001b[33mWARN: Recording ability for environment ALE/Breakout-v5 initialized with `render_mode=None` is marked as deprecated and will be removed in the future.\u001b[0m\n",
            "  logger.deprecation(\n",
            "/usr/local/lib/python3.10/dist-packages/gym/core.py:43: DeprecationWarning: \u001b[33mWARN: The argument mode in render method is deprecated; use render_mode during environment initialization instead.\n",
            "See here for more information: https://www.gymlibrary.ml/content/api/\u001b[0m\n",
            "  deprecation(\n",
            "/usr/local/lib/python3.10/dist-packages/gym/core.py:43: DeprecationWarning: \u001b[33mWARN: The argument mode in render method is deprecated; use render_mode during environment initialization instead.\n",
            "See here for more information: https://www.gymlibrary.ml/content/api/\u001b[0m\n",
            "  deprecation(\n"
          ]
        },
        {
          "metadata": {
            "tags": null
          },
          "name": "stdout",
          "output_type": "stream",
          "text": [
            " 48781/100000: episode: 90, duration: 141.147s, episode steps: 630, steps per second:   4, episode reward: 14.000, mean reward:  0.022 [ 0.000,  1.000], mean action: 1.819 [0.000, 3.000],  loss: 0.004993, mae: 0.555365, mean_q: 0.790261, mean_eps: 0.151534\n"
          ]
        },
        {
          "metadata": {
            "tags": null
          },
          "name": "stderr",
          "output_type": "stream",
          "text": [
            "/usr/local/lib/python3.10/dist-packages/gym/wrappers/monitoring/video_recorder.py:78: DeprecationWarning: \u001b[33mWARN: Recording ability for environment ALE/Breakout-v5 initialized with `render_mode=None` is marked as deprecated and will be removed in the future.\u001b[0m\n",
            "  logger.deprecation(\n",
            "/usr/local/lib/python3.10/dist-packages/gym/core.py:43: DeprecationWarning: \u001b[33mWARN: The argument mode in render method is deprecated; use render_mode during environment initialization instead.\n",
            "See here for more information: https://www.gymlibrary.ml/content/api/\u001b[0m\n",
            "  deprecation(\n",
            "/usr/local/lib/python3.10/dist-packages/gym/wrappers/monitoring/video_recorder.py:78: DeprecationWarning: \u001b[33mWARN: Recording ability for environment ALE/Breakout-v5 initialized with `render_mode=None` is marked as deprecated and will be removed in the future.\u001b[0m\n",
            "  logger.deprecation(\n",
            "/usr/local/lib/python3.10/dist-packages/gym/core.py:43: DeprecationWarning: \u001b[33mWARN: The argument mode in render method is deprecated; use render_mode during environment initialization instead.\n",
            "See here for more information: https://www.gymlibrary.ml/content/api/\u001b[0m\n",
            "  deprecation(\n",
            "/usr/local/lib/python3.10/dist-packages/gym/core.py:43: DeprecationWarning: \u001b[33mWARN: The argument mode in render method is deprecated; use render_mode during environment initialization instead.\n",
            "See here for more information: https://www.gymlibrary.ml/content/api/\u001b[0m\n",
            "  deprecation(\n"
          ]
        },
        {
          "metadata": {
            "tags": null
          },
          "name": "stdout",
          "output_type": "stream",
          "text": [
            " 49342/100000: episode: 91, duration: 125.771s, episode steps: 561, steps per second:   4, episode reward: 12.000, mean reward:  0.021 [ 0.000,  1.000], mean action: 1.380 [0.000, 3.000],  loss: 0.005115, mae: 0.557178, mean_q: 0.794069, mean_eps: 0.150939\n"
          ]
        },
        {
          "metadata": {
            "tags": null
          },
          "name": "stderr",
          "output_type": "stream",
          "text": [
            "/usr/local/lib/python3.10/dist-packages/gym/wrappers/monitoring/video_recorder.py:78: DeprecationWarning: \u001b[33mWARN: Recording ability for environment ALE/Breakout-v5 initialized with `render_mode=None` is marked as deprecated and will be removed in the future.\u001b[0m\n",
            "  logger.deprecation(\n",
            "/usr/local/lib/python3.10/dist-packages/gym/core.py:43: DeprecationWarning: \u001b[33mWARN: The argument mode in render method is deprecated; use render_mode during environment initialization instead.\n",
            "See here for more information: https://www.gymlibrary.ml/content/api/\u001b[0m\n",
            "  deprecation(\n",
            "/usr/local/lib/python3.10/dist-packages/gym/wrappers/monitoring/video_recorder.py:78: DeprecationWarning: \u001b[33mWARN: Recording ability for environment ALE/Breakout-v5 initialized with `render_mode=None` is marked as deprecated and will be removed in the future.\u001b[0m\n",
            "  logger.deprecation(\n",
            "/usr/local/lib/python3.10/dist-packages/gym/core.py:43: DeprecationWarning: \u001b[33mWARN: The argument mode in render method is deprecated; use render_mode during environment initialization instead.\n",
            "See here for more information: https://www.gymlibrary.ml/content/api/\u001b[0m\n",
            "  deprecation(\n",
            "/usr/local/lib/python3.10/dist-packages/gym/core.py:43: DeprecationWarning: \u001b[33mWARN: The argument mode in render method is deprecated; use render_mode during environment initialization instead.\n",
            "See here for more information: https://www.gymlibrary.ml/content/api/\u001b[0m\n",
            "  deprecation(\n"
          ]
        },
        {
          "metadata": {
            "tags": null
          },
          "name": "stdout",
          "output_type": "stream",
          "text": [
            " 49720/100000: episode: 92, duration: 85.453s, episode steps: 378, steps per second:   4, episode reward:  7.000, mean reward:  0.019 [ 0.000,  1.000], mean action: 1.733 [0.000, 3.000],  loss: 0.004601, mae: 0.556822, mean_q: 0.791768, mean_eps: 0.150470\n"
          ]
        },
        {
          "metadata": {
            "tags": null
          },
          "name": "stderr",
          "output_type": "stream",
          "text": [
            "/usr/local/lib/python3.10/dist-packages/gym/wrappers/monitoring/video_recorder.py:78: DeprecationWarning: \u001b[33mWARN: Recording ability for environment ALE/Breakout-v5 initialized with `render_mode=None` is marked as deprecated and will be removed in the future.\u001b[0m\n",
            "  logger.deprecation(\n",
            "/usr/local/lib/python3.10/dist-packages/gym/core.py:43: DeprecationWarning: \u001b[33mWARN: The argument mode in render method is deprecated; use render_mode during environment initialization instead.\n",
            "See here for more information: https://www.gymlibrary.ml/content/api/\u001b[0m\n",
            "  deprecation(\n",
            "/usr/local/lib/python3.10/dist-packages/gym/wrappers/monitoring/video_recorder.py:78: DeprecationWarning: \u001b[33mWARN: Recording ability for environment ALE/Breakout-v5 initialized with `render_mode=None` is marked as deprecated and will be removed in the future.\u001b[0m\n",
            "  logger.deprecation(\n",
            "/usr/local/lib/python3.10/dist-packages/gym/core.py:43: DeprecationWarning: \u001b[33mWARN: The argument mode in render method is deprecated; use render_mode during environment initialization instead.\n",
            "See here for more information: https://www.gymlibrary.ml/content/api/\u001b[0m\n",
            "  deprecation(\n",
            "/usr/local/lib/python3.10/dist-packages/gym/core.py:43: DeprecationWarning: \u001b[33mWARN: The argument mode in render method is deprecated; use render_mode during environment initialization instead.\n",
            "See here for more information: https://www.gymlibrary.ml/content/api/\u001b[0m\n",
            "  deprecation(\n"
          ]
        },
        {
          "metadata": {
            "tags": null
          },
          "name": "stdout",
          "output_type": "stream",
          "text": [
            " 50179/100000: episode: 93, duration: 102.866s, episode steps: 459, steps per second:   4, episode reward:  8.000, mean reward:  0.017 [ 0.000,  1.000], mean action: 1.634 [0.000, 3.000],  loss: 0.005484, mae: 0.577777, mean_q: 0.812788, mean_eps: 0.150051\n"
          ]
        },
        {
          "metadata": {
            "tags": null
          },
          "name": "stderr",
          "output_type": "stream",
          "text": [
            "/usr/local/lib/python3.10/dist-packages/gym/wrappers/monitoring/video_recorder.py:78: DeprecationWarning: \u001b[33mWARN: Recording ability for environment ALE/Breakout-v5 initialized with `render_mode=None` is marked as deprecated and will be removed in the future.\u001b[0m\n",
            "  logger.deprecation(\n",
            "/usr/local/lib/python3.10/dist-packages/gym/core.py:43: DeprecationWarning: \u001b[33mWARN: The argument mode in render method is deprecated; use render_mode during environment initialization instead.\n",
            "See here for more information: https://www.gymlibrary.ml/content/api/\u001b[0m\n",
            "  deprecation(\n",
            "/usr/local/lib/python3.10/dist-packages/gym/wrappers/monitoring/video_recorder.py:78: DeprecationWarning: \u001b[33mWARN: Recording ability for environment ALE/Breakout-v5 initialized with `render_mode=None` is marked as deprecated and will be removed in the future.\u001b[0m\n",
            "  logger.deprecation(\n",
            "/usr/local/lib/python3.10/dist-packages/gym/core.py:43: DeprecationWarning: \u001b[33mWARN: The argument mode in render method is deprecated; use render_mode during environment initialization instead.\n",
            "See here for more information: https://www.gymlibrary.ml/content/api/\u001b[0m\n",
            "  deprecation(\n",
            "/usr/local/lib/python3.10/dist-packages/gym/core.py:43: DeprecationWarning: \u001b[33mWARN: The argument mode in render method is deprecated; use render_mode during environment initialization instead.\n",
            "See here for more information: https://www.gymlibrary.ml/content/api/\u001b[0m\n",
            "  deprecation(\n"
          ]
        },
        {
          "metadata": {
            "tags": null
          },
          "name": "stdout",
          "output_type": "stream",
          "text": [
            " 50704/100000: episode: 94, duration: 117.027s, episode steps: 525, steps per second:   4, episode reward: 10.000, mean reward:  0.019 [ 0.000,  1.000], mean action: 1.680 [0.000, 3.000],  loss: 0.004778, mae: 0.610138, mean_q: 0.846923, mean_eps: 0.149559\n"
          ]
        },
        {
          "metadata": {
            "tags": null
          },
          "name": "stderr",
          "output_type": "stream",
          "text": [
            "/usr/local/lib/python3.10/dist-packages/gym/wrappers/monitoring/video_recorder.py:78: DeprecationWarning: \u001b[33mWARN: Recording ability for environment ALE/Breakout-v5 initialized with `render_mode=None` is marked as deprecated and will be removed in the future.\u001b[0m\n",
            "  logger.deprecation(\n",
            "/usr/local/lib/python3.10/dist-packages/gym/core.py:43: DeprecationWarning: \u001b[33mWARN: The argument mode in render method is deprecated; use render_mode during environment initialization instead.\n",
            "See here for more information: https://www.gymlibrary.ml/content/api/\u001b[0m\n",
            "  deprecation(\n",
            "/usr/local/lib/python3.10/dist-packages/gym/wrappers/monitoring/video_recorder.py:78: DeprecationWarning: \u001b[33mWARN: Recording ability for environment ALE/Breakout-v5 initialized with `render_mode=None` is marked as deprecated and will be removed in the future.\u001b[0m\n",
            "  logger.deprecation(\n",
            "/usr/local/lib/python3.10/dist-packages/gym/core.py:43: DeprecationWarning: \u001b[33mWARN: The argument mode in render method is deprecated; use render_mode during environment initialization instead.\n",
            "See here for more information: https://www.gymlibrary.ml/content/api/\u001b[0m\n",
            "  deprecation(\n",
            "/usr/local/lib/python3.10/dist-packages/gym/core.py:43: DeprecationWarning: \u001b[33mWARN: The argument mode in render method is deprecated; use render_mode during environment initialization instead.\n",
            "See here for more information: https://www.gymlibrary.ml/content/api/\u001b[0m\n",
            "  deprecation(\n"
          ]
        },
        {
          "metadata": {
            "tags": null
          },
          "name": "stdout",
          "output_type": "stream",
          "text": [
            " 50976/100000: episode: 95, duration: 61.551s, episode steps: 272, steps per second:   4, episode reward:  5.000, mean reward:  0.018 [ 0.000,  1.000], mean action: 1.757 [0.000, 3.000],  loss: 0.004749, mae: 0.606643, mean_q: 0.839826, mean_eps: 0.149161\n"
          ]
        },
        {
          "metadata": {
            "tags": null
          },
          "name": "stderr",
          "output_type": "stream",
          "text": [
            "/usr/local/lib/python3.10/dist-packages/gym/wrappers/monitoring/video_recorder.py:78: DeprecationWarning: \u001b[33mWARN: Recording ability for environment ALE/Breakout-v5 initialized with `render_mode=None` is marked as deprecated and will be removed in the future.\u001b[0m\n",
            "  logger.deprecation(\n",
            "/usr/local/lib/python3.10/dist-packages/gym/core.py:43: DeprecationWarning: \u001b[33mWARN: The argument mode in render method is deprecated; use render_mode during environment initialization instead.\n",
            "See here for more information: https://www.gymlibrary.ml/content/api/\u001b[0m\n",
            "  deprecation(\n",
            "/usr/local/lib/python3.10/dist-packages/gym/wrappers/monitoring/video_recorder.py:78: DeprecationWarning: \u001b[33mWARN: Recording ability for environment ALE/Breakout-v5 initialized with `render_mode=None` is marked as deprecated and will be removed in the future.\u001b[0m\n",
            "  logger.deprecation(\n",
            "/usr/local/lib/python3.10/dist-packages/gym/core.py:43: DeprecationWarning: \u001b[33mWARN: The argument mode in render method is deprecated; use render_mode during environment initialization instead.\n",
            "See here for more information: https://www.gymlibrary.ml/content/api/\u001b[0m\n",
            "  deprecation(\n",
            "/usr/local/lib/python3.10/dist-packages/gym/core.py:43: DeprecationWarning: \u001b[33mWARN: The argument mode in render method is deprecated; use render_mode during environment initialization instead.\n",
            "See here for more information: https://www.gymlibrary.ml/content/api/\u001b[0m\n",
            "  deprecation(\n"
          ]
        },
        {
          "metadata": {
            "tags": null
          },
          "name": "stdout",
          "output_type": "stream",
          "text": [
            " 51635/100000: episode: 96, duration: 146.581s, episode steps: 659, steps per second:   4, episode reward: 14.000, mean reward:  0.021 [ 0.000,  1.000], mean action: 1.599 [0.000, 3.000],  loss: 0.004487, mae: 0.608318, mean_q: 0.844313, mean_eps: 0.148695\n"
          ]
        },
        {
          "metadata": {
            "tags": null
          },
          "name": "stderr",
          "output_type": "stream",
          "text": [
            "/usr/local/lib/python3.10/dist-packages/gym/wrappers/monitoring/video_recorder.py:78: DeprecationWarning: \u001b[33mWARN: Recording ability for environment ALE/Breakout-v5 initialized with `render_mode=None` is marked as deprecated and will be removed in the future.\u001b[0m\n",
            "  logger.deprecation(\n",
            "/usr/local/lib/python3.10/dist-packages/gym/core.py:43: DeprecationWarning: \u001b[33mWARN: The argument mode in render method is deprecated; use render_mode during environment initialization instead.\n",
            "See here for more information: https://www.gymlibrary.ml/content/api/\u001b[0m\n",
            "  deprecation(\n",
            "/usr/local/lib/python3.10/dist-packages/gym/wrappers/monitoring/video_recorder.py:78: DeprecationWarning: \u001b[33mWARN: Recording ability for environment ALE/Breakout-v5 initialized with `render_mode=None` is marked as deprecated and will be removed in the future.\u001b[0m\n",
            "  logger.deprecation(\n",
            "/usr/local/lib/python3.10/dist-packages/gym/core.py:43: DeprecationWarning: \u001b[33mWARN: The argument mode in render method is deprecated; use render_mode during environment initialization instead.\n",
            "See here for more information: https://www.gymlibrary.ml/content/api/\u001b[0m\n",
            "  deprecation(\n",
            "/usr/local/lib/python3.10/dist-packages/gym/core.py:43: DeprecationWarning: \u001b[33mWARN: The argument mode in render method is deprecated; use render_mode during environment initialization instead.\n",
            "See here for more information: https://www.gymlibrary.ml/content/api/\u001b[0m\n",
            "  deprecation(\n"
          ]
        },
        {
          "metadata": {
            "tags": null
          },
          "name": "stdout",
          "output_type": "stream",
          "text": [
            " 52312/100000: episode: 97, duration: 150.388s, episode steps: 677, steps per second:   5, episode reward: 14.000, mean reward:  0.021 [ 0.000,  1.000], mean action: 1.919 [0.000, 3.000],  loss: 0.004233, mae: 0.607508, mean_q: 0.841767, mean_eps: 0.148027\n"
          ]
        },
        {
          "metadata": {
            "tags": null
          },
          "name": "stderr",
          "output_type": "stream",
          "text": [
            "/usr/local/lib/python3.10/dist-packages/gym/wrappers/monitoring/video_recorder.py:78: DeprecationWarning: \u001b[33mWARN: Recording ability for environment ALE/Breakout-v5 initialized with `render_mode=None` is marked as deprecated and will be removed in the future.\u001b[0m\n",
            "  logger.deprecation(\n",
            "/usr/local/lib/python3.10/dist-packages/gym/core.py:43: DeprecationWarning: \u001b[33mWARN: The argument mode in render method is deprecated; use render_mode during environment initialization instead.\n",
            "See here for more information: https://www.gymlibrary.ml/content/api/\u001b[0m\n",
            "  deprecation(\n",
            "/usr/local/lib/python3.10/dist-packages/gym/wrappers/monitoring/video_recorder.py:78: DeprecationWarning: \u001b[33mWARN: Recording ability for environment ALE/Breakout-v5 initialized with `render_mode=None` is marked as deprecated and will be removed in the future.\u001b[0m\n",
            "  logger.deprecation(\n",
            "/usr/local/lib/python3.10/dist-packages/gym/core.py:43: DeprecationWarning: \u001b[33mWARN: The argument mode in render method is deprecated; use render_mode during environment initialization instead.\n",
            "See here for more information: https://www.gymlibrary.ml/content/api/\u001b[0m\n",
            "  deprecation(\n",
            "/usr/local/lib/python3.10/dist-packages/gym/core.py:43: DeprecationWarning: \u001b[33mWARN: The argument mode in render method is deprecated; use render_mode during environment initialization instead.\n",
            "See here for more information: https://www.gymlibrary.ml/content/api/\u001b[0m\n",
            "  deprecation(\n"
          ]
        },
        {
          "metadata": {
            "tags": null
          },
          "name": "stdout",
          "output_type": "stream",
          "text": [
            " 52972/100000: episode: 98, duration: 148.959s, episode steps: 660, steps per second:   4, episode reward: 14.000, mean reward:  0.021 [ 0.000,  1.000], mean action: 1.920 [0.000, 3.000],  loss: 0.003859, mae: 0.607311, mean_q: 0.841027, mean_eps: 0.147359\n"
          ]
        },
        {
          "metadata": {
            "tags": null
          },
          "name": "stderr",
          "output_type": "stream",
          "text": [
            "/usr/local/lib/python3.10/dist-packages/gym/wrappers/monitoring/video_recorder.py:78: DeprecationWarning: \u001b[33mWARN: Recording ability for environment ALE/Breakout-v5 initialized with `render_mode=None` is marked as deprecated and will be removed in the future.\u001b[0m\n",
            "  logger.deprecation(\n",
            "/usr/local/lib/python3.10/dist-packages/gym/core.py:43: DeprecationWarning: \u001b[33mWARN: The argument mode in render method is deprecated; use render_mode during environment initialization instead.\n",
            "See here for more information: https://www.gymlibrary.ml/content/api/\u001b[0m\n",
            "  deprecation(\n",
            "/usr/local/lib/python3.10/dist-packages/gym/wrappers/monitoring/video_recorder.py:78: DeprecationWarning: \u001b[33mWARN: Recording ability for environment ALE/Breakout-v5 initialized with `render_mode=None` is marked as deprecated and will be removed in the future.\u001b[0m\n",
            "  logger.deprecation(\n",
            "/usr/local/lib/python3.10/dist-packages/gym/core.py:43: DeprecationWarning: \u001b[33mWARN: The argument mode in render method is deprecated; use render_mode during environment initialization instead.\n",
            "See here for more information: https://www.gymlibrary.ml/content/api/\u001b[0m\n",
            "  deprecation(\n",
            "/usr/local/lib/python3.10/dist-packages/gym/core.py:43: DeprecationWarning: \u001b[33mWARN: The argument mode in render method is deprecated; use render_mode during environment initialization instead.\n",
            "See here for more information: https://www.gymlibrary.ml/content/api/\u001b[0m\n",
            "  deprecation(\n"
          ]
        },
        {
          "metadata": {
            "tags": null
          },
          "name": "stdout",
          "output_type": "stream",
          "text": [
            " 53444/100000: episode: 99, duration: 109.853s, episode steps: 472, steps per second:   4, episode reward:  9.000, mean reward:  0.019 [ 0.000,  1.000], mean action: 1.860 [0.000, 3.000],  loss: 0.003948, mae: 0.601405, mean_q: 0.830526, mean_eps: 0.146793\n"
          ]
        },
        {
          "metadata": {
            "tags": null
          },
          "name": "stderr",
          "output_type": "stream",
          "text": [
            "/usr/local/lib/python3.10/dist-packages/gym/wrappers/monitoring/video_recorder.py:78: DeprecationWarning: \u001b[33mWARN: Recording ability for environment ALE/Breakout-v5 initialized with `render_mode=None` is marked as deprecated and will be removed in the future.\u001b[0m\n",
            "  logger.deprecation(\n",
            "/usr/local/lib/python3.10/dist-packages/gym/core.py:43: DeprecationWarning: \u001b[33mWARN: The argument mode in render method is deprecated; use render_mode during environment initialization instead.\n",
            "See here for more information: https://www.gymlibrary.ml/content/api/\u001b[0m\n",
            "  deprecation(\n",
            "/usr/local/lib/python3.10/dist-packages/gym/wrappers/monitoring/video_recorder.py:78: DeprecationWarning: \u001b[33mWARN: Recording ability for environment ALE/Breakout-v5 initialized with `render_mode=None` is marked as deprecated and will be removed in the future.\u001b[0m\n",
            "  logger.deprecation(\n",
            "/usr/local/lib/python3.10/dist-packages/gym/core.py:43: DeprecationWarning: \u001b[33mWARN: The argument mode in render method is deprecated; use render_mode during environment initialization instead.\n",
            "See here for more information: https://www.gymlibrary.ml/content/api/\u001b[0m\n",
            "  deprecation(\n",
            "/usr/local/lib/python3.10/dist-packages/gym/core.py:43: DeprecationWarning: \u001b[33mWARN: The argument mode in render method is deprecated; use render_mode during environment initialization instead.\n",
            "See here for more information: https://www.gymlibrary.ml/content/api/\u001b[0m\n",
            "  deprecation(\n"
          ]
        },
        {
          "metadata": {
            "tags": null
          },
          "name": "stdout",
          "output_type": "stream",
          "text": [
            " 53902/100000: episode: 100, duration: 104.954s, episode steps: 458, steps per second:   4, episode reward:  8.000, mean reward:  0.017 [ 0.000,  1.000], mean action: 1.803 [0.000, 3.000],  loss: 0.003920, mae: 0.605283, mean_q: 0.837356, mean_eps: 0.146328\n"
          ]
        },
        {
          "metadata": {
            "tags": null
          },
          "name": "stderr",
          "output_type": "stream",
          "text": [
            "/usr/local/lib/python3.10/dist-packages/gym/wrappers/monitoring/video_recorder.py:78: DeprecationWarning: \u001b[33mWARN: Recording ability for environment ALE/Breakout-v5 initialized with `render_mode=None` is marked as deprecated and will be removed in the future.\u001b[0m\n",
            "  logger.deprecation(\n",
            "/usr/local/lib/python3.10/dist-packages/gym/core.py:43: DeprecationWarning: \u001b[33mWARN: The argument mode in render method is deprecated; use render_mode during environment initialization instead.\n",
            "See here for more information: https://www.gymlibrary.ml/content/api/\u001b[0m\n",
            "  deprecation(\n",
            "/usr/local/lib/python3.10/dist-packages/gym/wrappers/monitoring/video_recorder.py:78: DeprecationWarning: \u001b[33mWARN: Recording ability for environment ALE/Breakout-v5 initialized with `render_mode=None` is marked as deprecated and will be removed in the future.\u001b[0m\n",
            "  logger.deprecation(\n",
            "/usr/local/lib/python3.10/dist-packages/gym/core.py:43: DeprecationWarning: \u001b[33mWARN: The argument mode in render method is deprecated; use render_mode during environment initialization instead.\n",
            "See here for more information: https://www.gymlibrary.ml/content/api/\u001b[0m\n",
            "  deprecation(\n",
            "/usr/local/lib/python3.10/dist-packages/gym/core.py:43: DeprecationWarning: \u001b[33mWARN: The argument mode in render method is deprecated; use render_mode during environment initialization instead.\n",
            "See here for more information: https://www.gymlibrary.ml/content/api/\u001b[0m\n",
            "  deprecation(\n"
          ]
        },
        {
          "metadata": {
            "tags": null
          },
          "name": "stdout",
          "output_type": "stream",
          "text": [
            " 54518/100000: episode: 101, duration: 147.290s, episode steps: 616, steps per second:   4, episode reward: 14.000, mean reward:  0.023 [ 0.000,  1.000], mean action: 1.779 [0.000, 3.000],  loss: 0.003935, mae: 0.603080, mean_q: 0.834526, mean_eps: 0.145791\n"
          ]
        },
        {
          "metadata": {
            "tags": null
          },
          "name": "stderr",
          "output_type": "stream",
          "text": [
            "/usr/local/lib/python3.10/dist-packages/gym/wrappers/monitoring/video_recorder.py:78: DeprecationWarning: \u001b[33mWARN: Recording ability for environment ALE/Breakout-v5 initialized with `render_mode=None` is marked as deprecated and will be removed in the future.\u001b[0m\n",
            "  logger.deprecation(\n",
            "/usr/local/lib/python3.10/dist-packages/gym/core.py:43: DeprecationWarning: \u001b[33mWARN: The argument mode in render method is deprecated; use render_mode during environment initialization instead.\n",
            "See here for more information: https://www.gymlibrary.ml/content/api/\u001b[0m\n",
            "  deprecation(\n",
            "/usr/local/lib/python3.10/dist-packages/gym/wrappers/monitoring/video_recorder.py:78: DeprecationWarning: \u001b[33mWARN: Recording ability for environment ALE/Breakout-v5 initialized with `render_mode=None` is marked as deprecated and will be removed in the future.\u001b[0m\n",
            "  logger.deprecation(\n",
            "/usr/local/lib/python3.10/dist-packages/gym/core.py:43: DeprecationWarning: \u001b[33mWARN: The argument mode in render method is deprecated; use render_mode during environment initialization instead.\n",
            "See here for more information: https://www.gymlibrary.ml/content/api/\u001b[0m\n",
            "  deprecation(\n",
            "/usr/local/lib/python3.10/dist-packages/gym/core.py:43: DeprecationWarning: \u001b[33mWARN: The argument mode in render method is deprecated; use render_mode during environment initialization instead.\n",
            "See here for more information: https://www.gymlibrary.ml/content/api/\u001b[0m\n",
            "  deprecation(\n"
          ]
        },
        {
          "metadata": {
            "tags": null
          },
          "name": "stdout",
          "output_type": "stream",
          "text": [
            " 54821/100000: episode: 102, duration: 73.849s, episode steps: 303, steps per second:   4, episode reward:  6.000, mean reward:  0.020 [ 0.000,  1.000], mean action: 1.815 [0.000, 3.000],  loss: 0.003919, mae: 0.605932, mean_q: 0.837691, mean_eps: 0.145331\n"
          ]
        },
        {
          "metadata": {
            "tags": null
          },
          "name": "stderr",
          "output_type": "stream",
          "text": [
            "/usr/local/lib/python3.10/dist-packages/gym/wrappers/monitoring/video_recorder.py:78: DeprecationWarning: \u001b[33mWARN: Recording ability for environment ALE/Breakout-v5 initialized with `render_mode=None` is marked as deprecated and will be removed in the future.\u001b[0m\n",
            "  logger.deprecation(\n",
            "/usr/local/lib/python3.10/dist-packages/gym/core.py:43: DeprecationWarning: \u001b[33mWARN: The argument mode in render method is deprecated; use render_mode during environment initialization instead.\n",
            "See here for more information: https://www.gymlibrary.ml/content/api/\u001b[0m\n",
            "  deprecation(\n",
            "/usr/local/lib/python3.10/dist-packages/gym/wrappers/monitoring/video_recorder.py:78: DeprecationWarning: \u001b[33mWARN: Recording ability for environment ALE/Breakout-v5 initialized with `render_mode=None` is marked as deprecated and will be removed in the future.\u001b[0m\n",
            "  logger.deprecation(\n",
            "/usr/local/lib/python3.10/dist-packages/gym/core.py:43: DeprecationWarning: \u001b[33mWARN: The argument mode in render method is deprecated; use render_mode during environment initialization instead.\n",
            "See here for more information: https://www.gymlibrary.ml/content/api/\u001b[0m\n",
            "  deprecation(\n",
            "/usr/local/lib/python3.10/dist-packages/gym/core.py:43: DeprecationWarning: \u001b[33mWARN: The argument mode in render method is deprecated; use render_mode during environment initialization instead.\n",
            "See here for more information: https://www.gymlibrary.ml/content/api/\u001b[0m\n",
            "  deprecation(\n"
          ]
        },
        {
          "metadata": {
            "tags": null
          },
          "name": "stdout",
          "output_type": "stream",
          "text": [
            " 55446/100000: episode: 103, duration: 144.067s, episode steps: 625, steps per second:   4, episode reward: 15.000, mean reward:  0.024 [ 0.000,  1.000], mean action: 1.710 [0.000, 3.000],  loss: 0.003965, mae: 0.607943, mean_q: 0.839932, mean_eps: 0.144867\n"
          ]
        },
        {
          "metadata": {
            "tags": null
          },
          "name": "stderr",
          "output_type": "stream",
          "text": [
            "/usr/local/lib/python3.10/dist-packages/gym/wrappers/monitoring/video_recorder.py:78: DeprecationWarning: \u001b[33mWARN: Recording ability for environment ALE/Breakout-v5 initialized with `render_mode=None` is marked as deprecated and will be removed in the future.\u001b[0m\n",
            "  logger.deprecation(\n",
            "/usr/local/lib/python3.10/dist-packages/gym/core.py:43: DeprecationWarning: \u001b[33mWARN: The argument mode in render method is deprecated; use render_mode during environment initialization instead.\n",
            "See here for more information: https://www.gymlibrary.ml/content/api/\u001b[0m\n",
            "  deprecation(\n",
            "/usr/local/lib/python3.10/dist-packages/gym/wrappers/monitoring/video_recorder.py:78: DeprecationWarning: \u001b[33mWARN: Recording ability for environment ALE/Breakout-v5 initialized with `render_mode=None` is marked as deprecated and will be removed in the future.\u001b[0m\n",
            "  logger.deprecation(\n",
            "/usr/local/lib/python3.10/dist-packages/gym/core.py:43: DeprecationWarning: \u001b[33mWARN: The argument mode in render method is deprecated; use render_mode during environment initialization instead.\n",
            "See here for more information: https://www.gymlibrary.ml/content/api/\u001b[0m\n",
            "  deprecation(\n",
            "/usr/local/lib/python3.10/dist-packages/gym/core.py:43: DeprecationWarning: \u001b[33mWARN: The argument mode in render method is deprecated; use render_mode during environment initialization instead.\n",
            "See here for more information: https://www.gymlibrary.ml/content/api/\u001b[0m\n",
            "  deprecation(\n"
          ]
        },
        {
          "metadata": {
            "tags": null
          },
          "name": "stdout",
          "output_type": "stream",
          "text": [
            " 55962/100000: episode: 104, duration: 115.975s, episode steps: 516, steps per second:   4, episode reward: 10.000, mean reward:  0.019 [ 0.000,  1.000], mean action: 1.641 [0.000, 3.000],  loss: 0.003859, mae: 0.610339, mean_q: 0.842936, mean_eps: 0.144297\n"
          ]
        },
        {
          "metadata": {
            "tags": null
          },
          "name": "stderr",
          "output_type": "stream",
          "text": [
            "/usr/local/lib/python3.10/dist-packages/gym/wrappers/monitoring/video_recorder.py:78: DeprecationWarning: \u001b[33mWARN: Recording ability for environment ALE/Breakout-v5 initialized with `render_mode=None` is marked as deprecated and will be removed in the future.\u001b[0m\n",
            "  logger.deprecation(\n",
            "/usr/local/lib/python3.10/dist-packages/gym/core.py:43: DeprecationWarning: \u001b[33mWARN: The argument mode in render method is deprecated; use render_mode during environment initialization instead.\n",
            "See here for more information: https://www.gymlibrary.ml/content/api/\u001b[0m\n",
            "  deprecation(\n",
            "/usr/local/lib/python3.10/dist-packages/gym/wrappers/monitoring/video_recorder.py:78: DeprecationWarning: \u001b[33mWARN: Recording ability for environment ALE/Breakout-v5 initialized with `render_mode=None` is marked as deprecated and will be removed in the future.\u001b[0m\n",
            "  logger.deprecation(\n",
            "/usr/local/lib/python3.10/dist-packages/gym/core.py:43: DeprecationWarning: \u001b[33mWARN: The argument mode in render method is deprecated; use render_mode during environment initialization instead.\n",
            "See here for more information: https://www.gymlibrary.ml/content/api/\u001b[0m\n",
            "  deprecation(\n",
            "/usr/local/lib/python3.10/dist-packages/gym/core.py:43: DeprecationWarning: \u001b[33mWARN: The argument mode in render method is deprecated; use render_mode during environment initialization instead.\n",
            "See here for more information: https://www.gymlibrary.ml/content/api/\u001b[0m\n",
            "  deprecation(\n"
          ]
        },
        {
          "metadata": {
            "tags": null
          },
          "name": "stdout",
          "output_type": "stream",
          "text": [
            " 56369/100000: episode: 105, duration: 92.454s, episode steps: 407, steps per second:   4, episode reward:  7.000, mean reward:  0.017 [ 0.000,  1.000], mean action: 1.899 [0.000, 3.000],  loss: 0.003988, mae: 0.603973, mean_q: 0.836302, mean_eps: 0.143835\n"
          ]
        },
        {
          "metadata": {
            "tags": null
          },
          "name": "stderr",
          "output_type": "stream",
          "text": [
            "/usr/local/lib/python3.10/dist-packages/gym/wrappers/monitoring/video_recorder.py:78: DeprecationWarning: \u001b[33mWARN: Recording ability for environment ALE/Breakout-v5 initialized with `render_mode=None` is marked as deprecated and will be removed in the future.\u001b[0m\n",
            "  logger.deprecation(\n",
            "/usr/local/lib/python3.10/dist-packages/gym/core.py:43: DeprecationWarning: \u001b[33mWARN: The argument mode in render method is deprecated; use render_mode during environment initialization instead.\n",
            "See here for more information: https://www.gymlibrary.ml/content/api/\u001b[0m\n",
            "  deprecation(\n",
            "/usr/local/lib/python3.10/dist-packages/gym/wrappers/monitoring/video_recorder.py:78: DeprecationWarning: \u001b[33mWARN: Recording ability for environment ALE/Breakout-v5 initialized with `render_mode=None` is marked as deprecated and will be removed in the future.\u001b[0m\n",
            "  logger.deprecation(\n",
            "/usr/local/lib/python3.10/dist-packages/gym/core.py:43: DeprecationWarning: \u001b[33mWARN: The argument mode in render method is deprecated; use render_mode during environment initialization instead.\n",
            "See here for more information: https://www.gymlibrary.ml/content/api/\u001b[0m\n",
            "  deprecation(\n",
            "/usr/local/lib/python3.10/dist-packages/gym/core.py:43: DeprecationWarning: \u001b[33mWARN: The argument mode in render method is deprecated; use render_mode during environment initialization instead.\n",
            "See here for more information: https://www.gymlibrary.ml/content/api/\u001b[0m\n",
            "  deprecation(\n"
          ]
        },
        {
          "metadata": {
            "tags": null
          },
          "name": "stdout",
          "output_type": "stream",
          "text": [
            " 56972/100000: episode: 106, duration: 134.103s, episode steps: 603, steps per second:   4, episode reward: 13.000, mean reward:  0.022 [ 0.000,  1.000], mean action: 1.753 [0.000, 3.000],  loss: 0.003895, mae: 0.607213, mean_q: 0.839264, mean_eps: 0.143330\n"
          ]
        },
        {
          "metadata": {
            "tags": null
          },
          "name": "stderr",
          "output_type": "stream",
          "text": [
            "/usr/local/lib/python3.10/dist-packages/gym/wrappers/monitoring/video_recorder.py:78: DeprecationWarning: \u001b[33mWARN: Recording ability for environment ALE/Breakout-v5 initialized with `render_mode=None` is marked as deprecated and will be removed in the future.\u001b[0m\n",
            "  logger.deprecation(\n",
            "/usr/local/lib/python3.10/dist-packages/gym/core.py:43: DeprecationWarning: \u001b[33mWARN: The argument mode in render method is deprecated; use render_mode during environment initialization instead.\n",
            "See here for more information: https://www.gymlibrary.ml/content/api/\u001b[0m\n",
            "  deprecation(\n",
            "/usr/local/lib/python3.10/dist-packages/gym/wrappers/monitoring/video_recorder.py:78: DeprecationWarning: \u001b[33mWARN: Recording ability for environment ALE/Breakout-v5 initialized with `render_mode=None` is marked as deprecated and will be removed in the future.\u001b[0m\n",
            "  logger.deprecation(\n",
            "/usr/local/lib/python3.10/dist-packages/gym/core.py:43: DeprecationWarning: \u001b[33mWARN: The argument mode in render method is deprecated; use render_mode during environment initialization instead.\n",
            "See here for more information: https://www.gymlibrary.ml/content/api/\u001b[0m\n",
            "  deprecation(\n",
            "/usr/local/lib/python3.10/dist-packages/gym/core.py:43: DeprecationWarning: \u001b[33mWARN: The argument mode in render method is deprecated; use render_mode during environment initialization instead.\n",
            "See here for more information: https://www.gymlibrary.ml/content/api/\u001b[0m\n",
            "  deprecation(\n"
          ]
        },
        {
          "metadata": {
            "tags": null
          },
          "name": "stdout",
          "output_type": "stream",
          "text": [
            " 57499/100000: episode: 107, duration: 118.019s, episode steps: 527, steps per second:   4, episode reward: 12.000, mean reward:  0.023 [ 0.000,  1.000], mean action: 1.740 [0.000, 3.000],  loss: 0.004021, mae: 0.606411, mean_q: 0.839391, mean_eps: 0.142765\n"
          ]
        },
        {
          "metadata": {
            "tags": null
          },
          "name": "stderr",
          "output_type": "stream",
          "text": [
            "/usr/local/lib/python3.10/dist-packages/gym/wrappers/monitoring/video_recorder.py:78: DeprecationWarning: \u001b[33mWARN: Recording ability for environment ALE/Breakout-v5 initialized with `render_mode=None` is marked as deprecated and will be removed in the future.\u001b[0m\n",
            "  logger.deprecation(\n",
            "/usr/local/lib/python3.10/dist-packages/gym/core.py:43: DeprecationWarning: \u001b[33mWARN: The argument mode in render method is deprecated; use render_mode during environment initialization instead.\n",
            "See here for more information: https://www.gymlibrary.ml/content/api/\u001b[0m\n",
            "  deprecation(\n",
            "/usr/local/lib/python3.10/dist-packages/gym/wrappers/monitoring/video_recorder.py:78: DeprecationWarning: \u001b[33mWARN: Recording ability for environment ALE/Breakout-v5 initialized with `render_mode=None` is marked as deprecated and will be removed in the future.\u001b[0m\n",
            "  logger.deprecation(\n",
            "/usr/local/lib/python3.10/dist-packages/gym/core.py:43: DeprecationWarning: \u001b[33mWARN: The argument mode in render method is deprecated; use render_mode during environment initialization instead.\n",
            "See here for more information: https://www.gymlibrary.ml/content/api/\u001b[0m\n",
            "  deprecation(\n",
            "/usr/local/lib/python3.10/dist-packages/gym/core.py:43: DeprecationWarning: \u001b[33mWARN: The argument mode in render method is deprecated; use render_mode during environment initialization instead.\n",
            "See here for more information: https://www.gymlibrary.ml/content/api/\u001b[0m\n",
            "  deprecation(\n"
          ]
        },
        {
          "metadata": {
            "tags": null
          },
          "name": "stdout",
          "output_type": "stream",
          "text": [
            " 57727/100000: episode: 108, duration: 53.345s, episode steps: 228, steps per second:   4, episode reward:  3.000, mean reward:  0.013 [ 0.000,  1.000], mean action: 1.566 [0.000, 3.000],  loss: 0.003437, mae: 0.603117, mean_q: 0.835459, mean_eps: 0.142388\n"
          ]
        },
        {
          "metadata": {
            "tags": null
          },
          "name": "stderr",
          "output_type": "stream",
          "text": [
            "/usr/local/lib/python3.10/dist-packages/gym/wrappers/monitoring/video_recorder.py:78: DeprecationWarning: \u001b[33mWARN: Recording ability for environment ALE/Breakout-v5 initialized with `render_mode=None` is marked as deprecated and will be removed in the future.\u001b[0m\n",
            "  logger.deprecation(\n",
            "/usr/local/lib/python3.10/dist-packages/gym/core.py:43: DeprecationWarning: \u001b[33mWARN: The argument mode in render method is deprecated; use render_mode during environment initialization instead.\n",
            "See here for more information: https://www.gymlibrary.ml/content/api/\u001b[0m\n",
            "  deprecation(\n",
            "/usr/local/lib/python3.10/dist-packages/gym/wrappers/monitoring/video_recorder.py:78: DeprecationWarning: \u001b[33mWARN: Recording ability for environment ALE/Breakout-v5 initialized with `render_mode=None` is marked as deprecated and will be removed in the future.\u001b[0m\n",
            "  logger.deprecation(\n",
            "/usr/local/lib/python3.10/dist-packages/gym/core.py:43: DeprecationWarning: \u001b[33mWARN: The argument mode in render method is deprecated; use render_mode during environment initialization instead.\n",
            "See here for more information: https://www.gymlibrary.ml/content/api/\u001b[0m\n",
            "  deprecation(\n",
            "/usr/local/lib/python3.10/dist-packages/gym/core.py:43: DeprecationWarning: \u001b[33mWARN: The argument mode in render method is deprecated; use render_mode during environment initialization instead.\n",
            "See here for more information: https://www.gymlibrary.ml/content/api/\u001b[0m\n",
            "  deprecation(\n"
          ]
        },
        {
          "metadata": {
            "tags": null
          },
          "name": "stdout",
          "output_type": "stream",
          "text": [
            " 58336/100000: episode: 109, duration: 134.525s, episode steps: 609, steps per second:   5, episode reward: 14.000, mean reward:  0.023 [ 0.000,  1.000], mean action: 1.824 [0.000, 3.000],  loss: 0.003704, mae: 0.603887, mean_q: 0.835871, mean_eps: 0.141969\n"
          ]
        },
        {
          "metadata": {
            "tags": null
          },
          "name": "stderr",
          "output_type": "stream",
          "text": [
            "/usr/local/lib/python3.10/dist-packages/gym/wrappers/monitoring/video_recorder.py:78: DeprecationWarning: \u001b[33mWARN: Recording ability for environment ALE/Breakout-v5 initialized with `render_mode=None` is marked as deprecated and will be removed in the future.\u001b[0m\n",
            "  logger.deprecation(\n",
            "/usr/local/lib/python3.10/dist-packages/gym/core.py:43: DeprecationWarning: \u001b[33mWARN: The argument mode in render method is deprecated; use render_mode during environment initialization instead.\n",
            "See here for more information: https://www.gymlibrary.ml/content/api/\u001b[0m\n",
            "  deprecation(\n",
            "/usr/local/lib/python3.10/dist-packages/gym/wrappers/monitoring/video_recorder.py:78: DeprecationWarning: \u001b[33mWARN: Recording ability for environment ALE/Breakout-v5 initialized with `render_mode=None` is marked as deprecated and will be removed in the future.\u001b[0m\n",
            "  logger.deprecation(\n",
            "/usr/local/lib/python3.10/dist-packages/gym/core.py:43: DeprecationWarning: \u001b[33mWARN: The argument mode in render method is deprecated; use render_mode during environment initialization instead.\n",
            "See here for more information: https://www.gymlibrary.ml/content/api/\u001b[0m\n",
            "  deprecation(\n",
            "/usr/local/lib/python3.10/dist-packages/gym/core.py:43: DeprecationWarning: \u001b[33mWARN: The argument mode in render method is deprecated; use render_mode during environment initialization instead.\n",
            "See here for more information: https://www.gymlibrary.ml/content/api/\u001b[0m\n",
            "  deprecation(\n"
          ]
        },
        {
          "metadata": {
            "tags": null
          },
          "name": "stdout",
          "output_type": "stream",
          "text": [
            " 59016/100000: episode: 110, duration: 151.803s, episode steps: 680, steps per second:   4, episode reward: 16.000, mean reward:  0.024 [ 0.000,  1.000], mean action: 1.787 [0.000, 3.000],  loss: 0.003794, mae: 0.606760, mean_q: 0.838974, mean_eps: 0.141325\n"
          ]
        },
        {
          "metadata": {
            "tags": null
          },
          "name": "stderr",
          "output_type": "stream",
          "text": [
            "/usr/local/lib/python3.10/dist-packages/gym/wrappers/monitoring/video_recorder.py:78: DeprecationWarning: \u001b[33mWARN: Recording ability for environment ALE/Breakout-v5 initialized with `render_mode=None` is marked as deprecated and will be removed in the future.\u001b[0m\n",
            "  logger.deprecation(\n",
            "/usr/local/lib/python3.10/dist-packages/gym/core.py:43: DeprecationWarning: \u001b[33mWARN: The argument mode in render method is deprecated; use render_mode during environment initialization instead.\n",
            "See here for more information: https://www.gymlibrary.ml/content/api/\u001b[0m\n",
            "  deprecation(\n",
            "/usr/local/lib/python3.10/dist-packages/gym/wrappers/monitoring/video_recorder.py:78: DeprecationWarning: \u001b[33mWARN: Recording ability for environment ALE/Breakout-v5 initialized with `render_mode=None` is marked as deprecated and will be removed in the future.\u001b[0m\n",
            "  logger.deprecation(\n",
            "/usr/local/lib/python3.10/dist-packages/gym/core.py:43: DeprecationWarning: \u001b[33mWARN: The argument mode in render method is deprecated; use render_mode during environment initialization instead.\n",
            "See here for more information: https://www.gymlibrary.ml/content/api/\u001b[0m\n",
            "  deprecation(\n",
            "/usr/local/lib/python3.10/dist-packages/gym/core.py:43: DeprecationWarning: \u001b[33mWARN: The argument mode in render method is deprecated; use render_mode during environment initialization instead.\n",
            "See here for more information: https://www.gymlibrary.ml/content/api/\u001b[0m\n",
            "  deprecation(\n"
          ]
        },
        {
          "metadata": {
            "tags": null
          },
          "name": "stdout",
          "output_type": "stream",
          "text": [
            " 59624/100000: episode: 111, duration: 135.200s, episode steps: 608, steps per second:   4, episode reward: 14.000, mean reward:  0.023 [ 0.000,  1.000], mean action: 1.794 [0.000, 3.000],  loss: 0.003812, mae: 0.606516, mean_q: 0.839502, mean_eps: 0.140681\n"
          ]
        },
        {
          "metadata": {
            "tags": null
          },
          "name": "stderr",
          "output_type": "stream",
          "text": [
            "/usr/local/lib/python3.10/dist-packages/gym/wrappers/monitoring/video_recorder.py:78: DeprecationWarning: \u001b[33mWARN: Recording ability for environment ALE/Breakout-v5 initialized with `render_mode=None` is marked as deprecated and will be removed in the future.\u001b[0m\n",
            "  logger.deprecation(\n",
            "/usr/local/lib/python3.10/dist-packages/gym/core.py:43: DeprecationWarning: \u001b[33mWARN: The argument mode in render method is deprecated; use render_mode during environment initialization instead.\n",
            "See here for more information: https://www.gymlibrary.ml/content/api/\u001b[0m\n",
            "  deprecation(\n",
            "/usr/local/lib/python3.10/dist-packages/gym/wrappers/monitoring/video_recorder.py:78: DeprecationWarning: \u001b[33mWARN: Recording ability for environment ALE/Breakout-v5 initialized with `render_mode=None` is marked as deprecated and will be removed in the future.\u001b[0m\n",
            "  logger.deprecation(\n",
            "/usr/local/lib/python3.10/dist-packages/gym/core.py:43: DeprecationWarning: \u001b[33mWARN: The argument mode in render method is deprecated; use render_mode during environment initialization instead.\n",
            "See here for more information: https://www.gymlibrary.ml/content/api/\u001b[0m\n",
            "  deprecation(\n",
            "/usr/local/lib/python3.10/dist-packages/gym/core.py:43: DeprecationWarning: \u001b[33mWARN: The argument mode in render method is deprecated; use render_mode during environment initialization instead.\n",
            "See here for more information: https://www.gymlibrary.ml/content/api/\u001b[0m\n",
            "  deprecation(\n"
          ]
        },
        {
          "metadata": {
            "tags": null
          },
          "name": "stdout",
          "output_type": "stream",
          "text": [
            " 59981/100000: episode: 112, duration: 79.401s, episode steps: 357, steps per second:   4, episode reward:  5.000, mean reward:  0.014 [ 0.000,  1.000], mean action: 1.630 [0.000, 3.000],  loss: 0.003557, mae: 0.602083, mean_q: 0.833895, mean_eps: 0.140198\n"
          ]
        },
        {
          "metadata": {
            "tags": null
          },
          "name": "stderr",
          "output_type": "stream",
          "text": [
            "/usr/local/lib/python3.10/dist-packages/gym/wrappers/monitoring/video_recorder.py:78: DeprecationWarning: \u001b[33mWARN: Recording ability for environment ALE/Breakout-v5 initialized with `render_mode=None` is marked as deprecated and will be removed in the future.\u001b[0m\n",
            "  logger.deprecation(\n",
            "/usr/local/lib/python3.10/dist-packages/gym/core.py:43: DeprecationWarning: \u001b[33mWARN: The argument mode in render method is deprecated; use render_mode during environment initialization instead.\n",
            "See here for more information: https://www.gymlibrary.ml/content/api/\u001b[0m\n",
            "  deprecation(\n",
            "/usr/local/lib/python3.10/dist-packages/gym/wrappers/monitoring/video_recorder.py:78: DeprecationWarning: \u001b[33mWARN: Recording ability for environment ALE/Breakout-v5 initialized with `render_mode=None` is marked as deprecated and will be removed in the future.\u001b[0m\n",
            "  logger.deprecation(\n",
            "/usr/local/lib/python3.10/dist-packages/gym/core.py:43: DeprecationWarning: \u001b[33mWARN: The argument mode in render method is deprecated; use render_mode during environment initialization instead.\n",
            "See here for more information: https://www.gymlibrary.ml/content/api/\u001b[0m\n",
            "  deprecation(\n",
            "/usr/local/lib/python3.10/dist-packages/gym/core.py:43: DeprecationWarning: \u001b[33mWARN: The argument mode in render method is deprecated; use render_mode during environment initialization instead.\n",
            "See here for more information: https://www.gymlibrary.ml/content/api/\u001b[0m\n",
            "  deprecation(\n"
          ]
        },
        {
          "metadata": {
            "tags": null
          },
          "name": "stdout",
          "output_type": "stream",
          "text": [
            " 60521/100000: episode: 113, duration: 121.526s, episode steps: 540, steps per second:   4, episode reward: 11.000, mean reward:  0.020 [ 0.000,  1.000], mean action: 1.554 [0.000, 3.000],  loss: 0.004484, mae: 0.635779, mean_q: 0.871780, mean_eps: 0.139749\n"
          ]
        },
        {
          "metadata": {
            "tags": null
          },
          "name": "stderr",
          "output_type": "stream",
          "text": [
            "/usr/local/lib/python3.10/dist-packages/gym/wrappers/monitoring/video_recorder.py:78: DeprecationWarning: \u001b[33mWARN: Recording ability for environment ALE/Breakout-v5 initialized with `render_mode=None` is marked as deprecated and will be removed in the future.\u001b[0m\n",
            "  logger.deprecation(\n",
            "/usr/local/lib/python3.10/dist-packages/gym/core.py:43: DeprecationWarning: \u001b[33mWARN: The argument mode in render method is deprecated; use render_mode during environment initialization instead.\n",
            "See here for more information: https://www.gymlibrary.ml/content/api/\u001b[0m\n",
            "  deprecation(\n",
            "/usr/local/lib/python3.10/dist-packages/gym/wrappers/monitoring/video_recorder.py:78: DeprecationWarning: \u001b[33mWARN: Recording ability for environment ALE/Breakout-v5 initialized with `render_mode=None` is marked as deprecated and will be removed in the future.\u001b[0m\n",
            "  logger.deprecation(\n",
            "/usr/local/lib/python3.10/dist-packages/gym/core.py:43: DeprecationWarning: \u001b[33mWARN: The argument mode in render method is deprecated; use render_mode during environment initialization instead.\n",
            "See here for more information: https://www.gymlibrary.ml/content/api/\u001b[0m\n",
            "  deprecation(\n",
            "/usr/local/lib/python3.10/dist-packages/gym/core.py:43: DeprecationWarning: \u001b[33mWARN: The argument mode in render method is deprecated; use render_mode during environment initialization instead.\n",
            "See here for more information: https://www.gymlibrary.ml/content/api/\u001b[0m\n",
            "  deprecation(\n"
          ]
        },
        {
          "metadata": {
            "tags": null
          },
          "name": "stdout",
          "output_type": "stream",
          "text": [
            " 61249/100000: episode: 114, duration: 163.865s, episode steps: 728, steps per second:   4, episode reward: 17.000, mean reward:  0.023 [ 0.000,  1.000], mean action: 1.867 [0.000, 3.000],  loss: 0.003510, mae: 0.632872, mean_q: 0.866530, mean_eps: 0.139116\n"
          ]
        },
        {
          "metadata": {
            "tags": null
          },
          "name": "stderr",
          "output_type": "stream",
          "text": [
            "/usr/local/lib/python3.10/dist-packages/gym/wrappers/monitoring/video_recorder.py:78: DeprecationWarning: \u001b[33mWARN: Recording ability for environment ALE/Breakout-v5 initialized with `render_mode=None` is marked as deprecated and will be removed in the future.\u001b[0m\n",
            "  logger.deprecation(\n",
            "/usr/local/lib/python3.10/dist-packages/gym/core.py:43: DeprecationWarning: \u001b[33mWARN: The argument mode in render method is deprecated; use render_mode during environment initialization instead.\n",
            "See here for more information: https://www.gymlibrary.ml/content/api/\u001b[0m\n",
            "  deprecation(\n",
            "/usr/local/lib/python3.10/dist-packages/gym/wrappers/monitoring/video_recorder.py:78: DeprecationWarning: \u001b[33mWARN: Recording ability for environment ALE/Breakout-v5 initialized with `render_mode=None` is marked as deprecated and will be removed in the future.\u001b[0m\n",
            "  logger.deprecation(\n",
            "/usr/local/lib/python3.10/dist-packages/gym/core.py:43: DeprecationWarning: \u001b[33mWARN: The argument mode in render method is deprecated; use render_mode during environment initialization instead.\n",
            "See here for more information: https://www.gymlibrary.ml/content/api/\u001b[0m\n",
            "  deprecation(\n",
            "/usr/local/lib/python3.10/dist-packages/gym/core.py:43: DeprecationWarning: \u001b[33mWARN: The argument mode in render method is deprecated; use render_mode during environment initialization instead.\n",
            "See here for more information: https://www.gymlibrary.ml/content/api/\u001b[0m\n",
            "  deprecation(\n"
          ]
        },
        {
          "metadata": {
            "tags": null
          },
          "name": "stdout",
          "output_type": "stream",
          "text": [
            " 61929/100000: episode: 115, duration: 152.551s, episode steps: 680, steps per second:   4, episode reward: 15.000, mean reward:  0.022 [ 0.000,  1.000], mean action: 2.006 [0.000, 3.000],  loss: 0.003873, mae: 0.636528, mean_q: 0.870131, mean_eps: 0.138412\n"
          ]
        },
        {
          "metadata": {
            "tags": null
          },
          "name": "stderr",
          "output_type": "stream",
          "text": [
            "/usr/local/lib/python3.10/dist-packages/gym/wrappers/monitoring/video_recorder.py:78: DeprecationWarning: \u001b[33mWARN: Recording ability for environment ALE/Breakout-v5 initialized with `render_mode=None` is marked as deprecated and will be removed in the future.\u001b[0m\n",
            "  logger.deprecation(\n",
            "/usr/local/lib/python3.10/dist-packages/gym/core.py:43: DeprecationWarning: \u001b[33mWARN: The argument mode in render method is deprecated; use render_mode during environment initialization instead.\n",
            "See here for more information: https://www.gymlibrary.ml/content/api/\u001b[0m\n",
            "  deprecation(\n",
            "/usr/local/lib/python3.10/dist-packages/gym/wrappers/monitoring/video_recorder.py:78: DeprecationWarning: \u001b[33mWARN: Recording ability for environment ALE/Breakout-v5 initialized with `render_mode=None` is marked as deprecated and will be removed in the future.\u001b[0m\n",
            "  logger.deprecation(\n",
            "/usr/local/lib/python3.10/dist-packages/gym/core.py:43: DeprecationWarning: \u001b[33mWARN: The argument mode in render method is deprecated; use render_mode during environment initialization instead.\n",
            "See here for more information: https://www.gymlibrary.ml/content/api/\u001b[0m\n",
            "  deprecation(\n",
            "/usr/local/lib/python3.10/dist-packages/gym/core.py:43: DeprecationWarning: \u001b[33mWARN: The argument mode in render method is deprecated; use render_mode during environment initialization instead.\n",
            "See here for more information: https://www.gymlibrary.ml/content/api/\u001b[0m\n",
            "  deprecation(\n"
          ]
        },
        {
          "metadata": {
            "tags": null
          },
          "name": "stdout",
          "output_type": "stream",
          "text": [
            " 62459/100000: episode: 116, duration: 119.277s, episode steps: 530, steps per second:   4, episode reward: 11.000, mean reward:  0.021 [ 0.000,  1.000], mean action: 1.889 [0.000, 3.000],  loss: 0.003835, mae: 0.634815, mean_q: 0.867919, mean_eps: 0.137807\n"
          ]
        },
        {
          "metadata": {
            "tags": null
          },
          "name": "stderr",
          "output_type": "stream",
          "text": [
            "/usr/local/lib/python3.10/dist-packages/gym/wrappers/monitoring/video_recorder.py:78: DeprecationWarning: \u001b[33mWARN: Recording ability for environment ALE/Breakout-v5 initialized with `render_mode=None` is marked as deprecated and will be removed in the future.\u001b[0m\n",
            "  logger.deprecation(\n",
            "/usr/local/lib/python3.10/dist-packages/gym/core.py:43: DeprecationWarning: \u001b[33mWARN: The argument mode in render method is deprecated; use render_mode during environment initialization instead.\n",
            "See here for more information: https://www.gymlibrary.ml/content/api/\u001b[0m\n",
            "  deprecation(\n",
            "/usr/local/lib/python3.10/dist-packages/gym/wrappers/monitoring/video_recorder.py:78: DeprecationWarning: \u001b[33mWARN: Recording ability for environment ALE/Breakout-v5 initialized with `render_mode=None` is marked as deprecated and will be removed in the future.\u001b[0m\n",
            "  logger.deprecation(\n",
            "/usr/local/lib/python3.10/dist-packages/gym/core.py:43: DeprecationWarning: \u001b[33mWARN: The argument mode in render method is deprecated; use render_mode during environment initialization instead.\n",
            "See here for more information: https://www.gymlibrary.ml/content/api/\u001b[0m\n",
            "  deprecation(\n",
            "/usr/local/lib/python3.10/dist-packages/gym/core.py:43: DeprecationWarning: \u001b[33mWARN: The argument mode in render method is deprecated; use render_mode during environment initialization instead.\n",
            "See here for more information: https://www.gymlibrary.ml/content/api/\u001b[0m\n",
            "  deprecation(\n"
          ]
        },
        {
          "metadata": {
            "tags": null
          },
          "name": "stdout",
          "output_type": "stream",
          "text": [
            " 63014/100000: episode: 117, duration: 126.149s, episode steps: 555, steps per second:   4, episode reward: 11.000, mean reward:  0.020 [ 0.000,  1.000], mean action: 1.535 [0.000, 3.000],  loss: 0.003419, mae: 0.632811, mean_q: 0.866214, mean_eps: 0.137264\n"
          ]
        },
        {
          "metadata": {
            "tags": null
          },
          "name": "stderr",
          "output_type": "stream",
          "text": [
            "/usr/local/lib/python3.10/dist-packages/gym/wrappers/monitoring/video_recorder.py:78: DeprecationWarning: \u001b[33mWARN: Recording ability for environment ALE/Breakout-v5 initialized with `render_mode=None` is marked as deprecated and will be removed in the future.\u001b[0m\n",
            "  logger.deprecation(\n",
            "/usr/local/lib/python3.10/dist-packages/gym/core.py:43: DeprecationWarning: \u001b[33mWARN: The argument mode in render method is deprecated; use render_mode during environment initialization instead.\n",
            "See here for more information: https://www.gymlibrary.ml/content/api/\u001b[0m\n",
            "  deprecation(\n",
            "/usr/local/lib/python3.10/dist-packages/gym/wrappers/monitoring/video_recorder.py:78: DeprecationWarning: \u001b[33mWARN: Recording ability for environment ALE/Breakout-v5 initialized with `render_mode=None` is marked as deprecated and will be removed in the future.\u001b[0m\n",
            "  logger.deprecation(\n",
            "/usr/local/lib/python3.10/dist-packages/gym/core.py:43: DeprecationWarning: \u001b[33mWARN: The argument mode in render method is deprecated; use render_mode during environment initialization instead.\n",
            "See here for more information: https://www.gymlibrary.ml/content/api/\u001b[0m\n",
            "  deprecation(\n",
            "/usr/local/lib/python3.10/dist-packages/gym/core.py:43: DeprecationWarning: \u001b[33mWARN: The argument mode in render method is deprecated; use render_mode during environment initialization instead.\n",
            "See here for more information: https://www.gymlibrary.ml/content/api/\u001b[0m\n",
            "  deprecation(\n"
          ]
        },
        {
          "metadata": {
            "tags": null
          },
          "name": "stdout",
          "output_type": "stream",
          "text": [
            " 63794/100000: episode: 118, duration: 176.991s, episode steps: 780, steps per second:   4, episode reward: 15.000, mean reward:  0.019 [ 0.000,  1.000], mean action: 1.812 [0.000, 3.000],  loss: 0.003578, mae: 0.633519, mean_q: 0.866667, mean_eps: 0.136597\n"
          ]
        },
        {
          "metadata": {
            "tags": null
          },
          "name": "stderr",
          "output_type": "stream",
          "text": [
            "/usr/local/lib/python3.10/dist-packages/gym/wrappers/monitoring/video_recorder.py:78: DeprecationWarning: \u001b[33mWARN: Recording ability for environment ALE/Breakout-v5 initialized with `render_mode=None` is marked as deprecated and will be removed in the future.\u001b[0m\n",
            "  logger.deprecation(\n",
            "/usr/local/lib/python3.10/dist-packages/gym/core.py:43: DeprecationWarning: \u001b[33mWARN: The argument mode in render method is deprecated; use render_mode during environment initialization instead.\n",
            "See here for more information: https://www.gymlibrary.ml/content/api/\u001b[0m\n",
            "  deprecation(\n",
            "/usr/local/lib/python3.10/dist-packages/gym/wrappers/monitoring/video_recorder.py:78: DeprecationWarning: \u001b[33mWARN: Recording ability for environment ALE/Breakout-v5 initialized with `render_mode=None` is marked as deprecated and will be removed in the future.\u001b[0m\n",
            "  logger.deprecation(\n",
            "/usr/local/lib/python3.10/dist-packages/gym/core.py:43: DeprecationWarning: \u001b[33mWARN: The argument mode in render method is deprecated; use render_mode during environment initialization instead.\n",
            "See here for more information: https://www.gymlibrary.ml/content/api/\u001b[0m\n",
            "  deprecation(\n",
            "/usr/local/lib/python3.10/dist-packages/gym/core.py:43: DeprecationWarning: \u001b[33mWARN: The argument mode in render method is deprecated; use render_mode during environment initialization instead.\n",
            "See here for more information: https://www.gymlibrary.ml/content/api/\u001b[0m\n",
            "  deprecation(\n"
          ]
        },
        {
          "metadata": {
            "tags": null
          },
          "name": "stdout",
          "output_type": "stream",
          "text": [
            " 64302/100000: episode: 119, duration: 115.760s, episode steps: 508, steps per second:   4, episode reward: 10.000, mean reward:  0.020 [ 0.000,  1.000], mean action: 1.648 [0.000, 3.000],  loss: 0.003524, mae: 0.632538, mean_q: 0.865550, mean_eps: 0.135953\n"
          ]
        },
        {
          "metadata": {
            "tags": null
          },
          "name": "stderr",
          "output_type": "stream",
          "text": [
            "/usr/local/lib/python3.10/dist-packages/gym/wrappers/monitoring/video_recorder.py:78: DeprecationWarning: \u001b[33mWARN: Recording ability for environment ALE/Breakout-v5 initialized with `render_mode=None` is marked as deprecated and will be removed in the future.\u001b[0m\n",
            "  logger.deprecation(\n",
            "/usr/local/lib/python3.10/dist-packages/gym/core.py:43: DeprecationWarning: \u001b[33mWARN: The argument mode in render method is deprecated; use render_mode during environment initialization instead.\n",
            "See here for more information: https://www.gymlibrary.ml/content/api/\u001b[0m\n",
            "  deprecation(\n",
            "/usr/local/lib/python3.10/dist-packages/gym/wrappers/monitoring/video_recorder.py:78: DeprecationWarning: \u001b[33mWARN: Recording ability for environment ALE/Breakout-v5 initialized with `render_mode=None` is marked as deprecated and will be removed in the future.\u001b[0m\n",
            "  logger.deprecation(\n",
            "/usr/local/lib/python3.10/dist-packages/gym/core.py:43: DeprecationWarning: \u001b[33mWARN: The argument mode in render method is deprecated; use render_mode during environment initialization instead.\n",
            "See here for more information: https://www.gymlibrary.ml/content/api/\u001b[0m\n",
            "  deprecation(\n",
            "/usr/local/lib/python3.10/dist-packages/gym/core.py:43: DeprecationWarning: \u001b[33mWARN: The argument mode in render method is deprecated; use render_mode during environment initialization instead.\n",
            "See here for more information: https://www.gymlibrary.ml/content/api/\u001b[0m\n",
            "  deprecation(\n"
          ]
        },
        {
          "metadata": {
            "tags": null
          },
          "name": "stdout",
          "output_type": "stream",
          "text": [
            " 64934/100000: episode: 120, duration: 143.518s, episode steps: 632, steps per second:   4, episode reward: 15.000, mean reward:  0.024 [ 0.000,  1.000], mean action: 1.948 [0.000, 3.000],  loss: 0.003438, mae: 0.633404, mean_q: 0.867875, mean_eps: 0.135383\n"
          ]
        },
        {
          "metadata": {
            "tags": null
          },
          "name": "stderr",
          "output_type": "stream",
          "text": [
            "/usr/local/lib/python3.10/dist-packages/gym/wrappers/monitoring/video_recorder.py:78: DeprecationWarning: \u001b[33mWARN: Recording ability for environment ALE/Breakout-v5 initialized with `render_mode=None` is marked as deprecated and will be removed in the future.\u001b[0m\n",
            "  logger.deprecation(\n",
            "/usr/local/lib/python3.10/dist-packages/gym/core.py:43: DeprecationWarning: \u001b[33mWARN: The argument mode in render method is deprecated; use render_mode during environment initialization instead.\n",
            "See here for more information: https://www.gymlibrary.ml/content/api/\u001b[0m\n",
            "  deprecation(\n",
            "/usr/local/lib/python3.10/dist-packages/gym/wrappers/monitoring/video_recorder.py:78: DeprecationWarning: \u001b[33mWARN: Recording ability for environment ALE/Breakout-v5 initialized with `render_mode=None` is marked as deprecated and will be removed in the future.\u001b[0m\n",
            "  logger.deprecation(\n",
            "/usr/local/lib/python3.10/dist-packages/gym/core.py:43: DeprecationWarning: \u001b[33mWARN: The argument mode in render method is deprecated; use render_mode during environment initialization instead.\n",
            "See here for more information: https://www.gymlibrary.ml/content/api/\u001b[0m\n",
            "  deprecation(\n",
            "/usr/local/lib/python3.10/dist-packages/gym/core.py:43: DeprecationWarning: \u001b[33mWARN: The argument mode in render method is deprecated; use render_mode during environment initialization instead.\n",
            "See here for more information: https://www.gymlibrary.ml/content/api/\u001b[0m\n",
            "  deprecation(\n"
          ]
        },
        {
          "metadata": {
            "tags": null
          },
          "name": "stdout",
          "output_type": "stream",
          "text": [
            " 65672/100000: episode: 121, duration: 168.210s, episode steps: 738, steps per second:   4, episode reward: 18.000, mean reward:  0.024 [ 0.000,  1.000], mean action: 1.875 [0.000, 3.000],  loss: 0.003375, mae: 0.634806, mean_q: 0.868747, mean_eps: 0.134698\n"
          ]
        },
        {
          "metadata": {
            "tags": null
          },
          "name": "stderr",
          "output_type": "stream",
          "text": [
            "/usr/local/lib/python3.10/dist-packages/gym/wrappers/monitoring/video_recorder.py:78: DeprecationWarning: \u001b[33mWARN: Recording ability for environment ALE/Breakout-v5 initialized with `render_mode=None` is marked as deprecated and will be removed in the future.\u001b[0m\n",
            "  logger.deprecation(\n",
            "/usr/local/lib/python3.10/dist-packages/gym/core.py:43: DeprecationWarning: \u001b[33mWARN: The argument mode in render method is deprecated; use render_mode during environment initialization instead.\n",
            "See here for more information: https://www.gymlibrary.ml/content/api/\u001b[0m\n",
            "  deprecation(\n",
            "/usr/local/lib/python3.10/dist-packages/gym/wrappers/monitoring/video_recorder.py:78: DeprecationWarning: \u001b[33mWARN: Recording ability for environment ALE/Breakout-v5 initialized with `render_mode=None` is marked as deprecated and will be removed in the future.\u001b[0m\n",
            "  logger.deprecation(\n",
            "/usr/local/lib/python3.10/dist-packages/gym/core.py:43: DeprecationWarning: \u001b[33mWARN: The argument mode in render method is deprecated; use render_mode during environment initialization instead.\n",
            "See here for more information: https://www.gymlibrary.ml/content/api/\u001b[0m\n",
            "  deprecation(\n",
            "/usr/local/lib/python3.10/dist-packages/gym/core.py:43: DeprecationWarning: \u001b[33mWARN: The argument mode in render method is deprecated; use render_mode during environment initialization instead.\n",
            "See here for more information: https://www.gymlibrary.ml/content/api/\u001b[0m\n",
            "  deprecation(\n"
          ]
        },
        {
          "metadata": {
            "tags": null
          },
          "name": "stdout",
          "output_type": "stream",
          "text": [
            " 66145/100000: episode: 122, duration: 107.330s, episode steps: 473, steps per second:   4, episode reward:  9.000, mean reward:  0.019 [ 0.000,  1.000], mean action: 1.727 [0.000, 3.000],  loss: 0.003374, mae: 0.635783, mean_q: 0.871289, mean_eps: 0.134092\n"
          ]
        },
        {
          "metadata": {
            "tags": null
          },
          "name": "stderr",
          "output_type": "stream",
          "text": [
            "/usr/local/lib/python3.10/dist-packages/gym/wrappers/monitoring/video_recorder.py:78: DeprecationWarning: \u001b[33mWARN: Recording ability for environment ALE/Breakout-v5 initialized with `render_mode=None` is marked as deprecated and will be removed in the future.\u001b[0m\n",
            "  logger.deprecation(\n",
            "/usr/local/lib/python3.10/dist-packages/gym/core.py:43: DeprecationWarning: \u001b[33mWARN: The argument mode in render method is deprecated; use render_mode during environment initialization instead.\n",
            "See here for more information: https://www.gymlibrary.ml/content/api/\u001b[0m\n",
            "  deprecation(\n",
            "/usr/local/lib/python3.10/dist-packages/gym/wrappers/monitoring/video_recorder.py:78: DeprecationWarning: \u001b[33mWARN: Recording ability for environment ALE/Breakout-v5 initialized with `render_mode=None` is marked as deprecated and will be removed in the future.\u001b[0m\n",
            "  logger.deprecation(\n",
            "/usr/local/lib/python3.10/dist-packages/gym/core.py:43: DeprecationWarning: \u001b[33mWARN: The argument mode in render method is deprecated; use render_mode during environment initialization instead.\n",
            "See here for more information: https://www.gymlibrary.ml/content/api/\u001b[0m\n",
            "  deprecation(\n",
            "/usr/local/lib/python3.10/dist-packages/gym/core.py:43: DeprecationWarning: \u001b[33mWARN: The argument mode in render method is deprecated; use render_mode during environment initialization instead.\n",
            "See here for more information: https://www.gymlibrary.ml/content/api/\u001b[0m\n",
            "  deprecation(\n"
          ]
        },
        {
          "metadata": {
            "tags": null
          },
          "name": "stdout",
          "output_type": "stream",
          "text": [
            " 66780/100000: episode: 123, duration: 142.313s, episode steps: 635, steps per second:   4, episode reward: 14.000, mean reward:  0.022 [ 0.000,  1.000], mean action: 1.696 [0.000, 3.000],  loss: 0.003220, mae: 0.635717, mean_q: 0.869955, mean_eps: 0.133538\n"
          ]
        },
        {
          "metadata": {
            "tags": null
          },
          "name": "stderr",
          "output_type": "stream",
          "text": [
            "/usr/local/lib/python3.10/dist-packages/gym/wrappers/monitoring/video_recorder.py:78: DeprecationWarning: \u001b[33mWARN: Recording ability for environment ALE/Breakout-v5 initialized with `render_mode=None` is marked as deprecated and will be removed in the future.\u001b[0m\n",
            "  logger.deprecation(\n",
            "/usr/local/lib/python3.10/dist-packages/gym/core.py:43: DeprecationWarning: \u001b[33mWARN: The argument mode in render method is deprecated; use render_mode during environment initialization instead.\n",
            "See here for more information: https://www.gymlibrary.ml/content/api/\u001b[0m\n",
            "  deprecation(\n",
            "/usr/local/lib/python3.10/dist-packages/gym/wrappers/monitoring/video_recorder.py:78: DeprecationWarning: \u001b[33mWARN: Recording ability for environment ALE/Breakout-v5 initialized with `render_mode=None` is marked as deprecated and will be removed in the future.\u001b[0m\n",
            "  logger.deprecation(\n",
            "/usr/local/lib/python3.10/dist-packages/gym/core.py:43: DeprecationWarning: \u001b[33mWARN: The argument mode in render method is deprecated; use render_mode during environment initialization instead.\n",
            "See here for more information: https://www.gymlibrary.ml/content/api/\u001b[0m\n",
            "  deprecation(\n",
            "/usr/local/lib/python3.10/dist-packages/gym/core.py:43: DeprecationWarning: \u001b[33mWARN: The argument mode in render method is deprecated; use render_mode during environment initialization instead.\n",
            "See here for more information: https://www.gymlibrary.ml/content/api/\u001b[0m\n",
            "  deprecation(\n"
          ]
        },
        {
          "metadata": {
            "tags": null
          },
          "name": "stdout",
          "output_type": "stream",
          "text": [
            " 67215/100000: episode: 124, duration: 98.202s, episode steps: 435, steps per second:   4, episode reward:  8.000, mean reward:  0.018 [ 0.000,  1.000], mean action: 1.754 [0.000, 3.000],  loss: 0.003244, mae: 0.636356, mean_q: 0.871381, mean_eps: 0.133003\n"
          ]
        },
        {
          "metadata": {
            "tags": null
          },
          "name": "stderr",
          "output_type": "stream",
          "text": [
            "/usr/local/lib/python3.10/dist-packages/gym/wrappers/monitoring/video_recorder.py:78: DeprecationWarning: \u001b[33mWARN: Recording ability for environment ALE/Breakout-v5 initialized with `render_mode=None` is marked as deprecated and will be removed in the future.\u001b[0m\n",
            "  logger.deprecation(\n",
            "/usr/local/lib/python3.10/dist-packages/gym/core.py:43: DeprecationWarning: \u001b[33mWARN: The argument mode in render method is deprecated; use render_mode during environment initialization instead.\n",
            "See here for more information: https://www.gymlibrary.ml/content/api/\u001b[0m\n",
            "  deprecation(\n",
            "/usr/local/lib/python3.10/dist-packages/gym/wrappers/monitoring/video_recorder.py:78: DeprecationWarning: \u001b[33mWARN: Recording ability for environment ALE/Breakout-v5 initialized with `render_mode=None` is marked as deprecated and will be removed in the future.\u001b[0m\n",
            "  logger.deprecation(\n",
            "/usr/local/lib/python3.10/dist-packages/gym/core.py:43: DeprecationWarning: \u001b[33mWARN: The argument mode in render method is deprecated; use render_mode during environment initialization instead.\n",
            "See here for more information: https://www.gymlibrary.ml/content/api/\u001b[0m\n",
            "  deprecation(\n",
            "/usr/local/lib/python3.10/dist-packages/gym/core.py:43: DeprecationWarning: \u001b[33mWARN: The argument mode in render method is deprecated; use render_mode during environment initialization instead.\n",
            "See here for more information: https://www.gymlibrary.ml/content/api/\u001b[0m\n",
            "  deprecation(\n"
          ]
        },
        {
          "metadata": {
            "tags": null
          },
          "name": "stdout",
          "output_type": "stream",
          "text": [
            " 67763/100000: episode: 125, duration: 122.737s, episode steps: 548, steps per second:   4, episode reward: 12.000, mean reward:  0.022 [ 0.000,  1.000], mean action: 1.821 [0.000, 3.000],  loss: 0.003345, mae: 0.634682, mean_q: 0.868602, mean_eps: 0.132512\n"
          ]
        },
        {
          "metadata": {
            "tags": null
          },
          "name": "stderr",
          "output_type": "stream",
          "text": [
            "/usr/local/lib/python3.10/dist-packages/gym/wrappers/monitoring/video_recorder.py:78: DeprecationWarning: \u001b[33mWARN: Recording ability for environment ALE/Breakout-v5 initialized with `render_mode=None` is marked as deprecated and will be removed in the future.\u001b[0m\n",
            "  logger.deprecation(\n",
            "/usr/local/lib/python3.10/dist-packages/gym/core.py:43: DeprecationWarning: \u001b[33mWARN: The argument mode in render method is deprecated; use render_mode during environment initialization instead.\n",
            "See here for more information: https://www.gymlibrary.ml/content/api/\u001b[0m\n",
            "  deprecation(\n",
            "/usr/local/lib/python3.10/dist-packages/gym/wrappers/monitoring/video_recorder.py:78: DeprecationWarning: \u001b[33mWARN: Recording ability for environment ALE/Breakout-v5 initialized with `render_mode=None` is marked as deprecated and will be removed in the future.\u001b[0m\n",
            "  logger.deprecation(\n",
            "/usr/local/lib/python3.10/dist-packages/gym/core.py:43: DeprecationWarning: \u001b[33mWARN: The argument mode in render method is deprecated; use render_mode during environment initialization instead.\n",
            "See here for more information: https://www.gymlibrary.ml/content/api/\u001b[0m\n",
            "  deprecation(\n",
            "/usr/local/lib/python3.10/dist-packages/gym/core.py:43: DeprecationWarning: \u001b[33mWARN: The argument mode in render method is deprecated; use render_mode during environment initialization instead.\n",
            "See here for more information: https://www.gymlibrary.ml/content/api/\u001b[0m\n",
            "  deprecation(\n"
          ]
        },
        {
          "metadata": {
            "tags": null
          },
          "name": "stdout",
          "output_type": "stream",
          "text": [
            " 68348/100000: episode: 126, duration: 130.958s, episode steps: 585, steps per second:   4, episode reward: 12.000, mean reward:  0.021 [ 0.000,  1.000], mean action: 1.771 [0.000, 3.000],  loss: 0.003432, mae: 0.633609, mean_q: 0.868071, mean_eps: 0.131945\n"
          ]
        },
        {
          "metadata": {
            "tags": null
          },
          "name": "stderr",
          "output_type": "stream",
          "text": [
            "/usr/local/lib/python3.10/dist-packages/gym/wrappers/monitoring/video_recorder.py:78: DeprecationWarning: \u001b[33mWARN: Recording ability for environment ALE/Breakout-v5 initialized with `render_mode=None` is marked as deprecated and will be removed in the future.\u001b[0m\n",
            "  logger.deprecation(\n",
            "/usr/local/lib/python3.10/dist-packages/gym/core.py:43: DeprecationWarning: \u001b[33mWARN: The argument mode in render method is deprecated; use render_mode during environment initialization instead.\n",
            "See here for more information: https://www.gymlibrary.ml/content/api/\u001b[0m\n",
            "  deprecation(\n",
            "/usr/local/lib/python3.10/dist-packages/gym/wrappers/monitoring/video_recorder.py:78: DeprecationWarning: \u001b[33mWARN: Recording ability for environment ALE/Breakout-v5 initialized with `render_mode=None` is marked as deprecated and will be removed in the future.\u001b[0m\n",
            "  logger.deprecation(\n",
            "/usr/local/lib/python3.10/dist-packages/gym/core.py:43: DeprecationWarning: \u001b[33mWARN: The argument mode in render method is deprecated; use render_mode during environment initialization instead.\n",
            "See here for more information: https://www.gymlibrary.ml/content/api/\u001b[0m\n",
            "  deprecation(\n",
            "/usr/local/lib/python3.10/dist-packages/gym/core.py:43: DeprecationWarning: \u001b[33mWARN: The argument mode in render method is deprecated; use render_mode during environment initialization instead.\n",
            "See here for more information: https://www.gymlibrary.ml/content/api/\u001b[0m\n",
            "  deprecation(\n"
          ]
        },
        {
          "metadata": {
            "tags": null
          },
          "name": "stdout",
          "output_type": "stream",
          "text": [
            " 69071/100000: episode: 127, duration: 162.618s, episode steps: 723, steps per second:   4, episode reward: 14.000, mean reward:  0.019 [ 0.000,  1.000], mean action: 1.860 [0.000, 3.000],  loss: 0.003233, mae: 0.634627, mean_q: 0.869280, mean_eps: 0.131291\n"
          ]
        },
        {
          "metadata": {
            "tags": null
          },
          "name": "stderr",
          "output_type": "stream",
          "text": [
            "/usr/local/lib/python3.10/dist-packages/gym/wrappers/monitoring/video_recorder.py:78: DeprecationWarning: \u001b[33mWARN: Recording ability for environment ALE/Breakout-v5 initialized with `render_mode=None` is marked as deprecated and will be removed in the future.\u001b[0m\n",
            "  logger.deprecation(\n",
            "/usr/local/lib/python3.10/dist-packages/gym/core.py:43: DeprecationWarning: \u001b[33mWARN: The argument mode in render method is deprecated; use render_mode during environment initialization instead.\n",
            "See here for more information: https://www.gymlibrary.ml/content/api/\u001b[0m\n",
            "  deprecation(\n",
            "/usr/local/lib/python3.10/dist-packages/gym/wrappers/monitoring/video_recorder.py:78: DeprecationWarning: \u001b[33mWARN: Recording ability for environment ALE/Breakout-v5 initialized with `render_mode=None` is marked as deprecated and will be removed in the future.\u001b[0m\n",
            "  logger.deprecation(\n",
            "/usr/local/lib/python3.10/dist-packages/gym/core.py:43: DeprecationWarning: \u001b[33mWARN: The argument mode in render method is deprecated; use render_mode during environment initialization instead.\n",
            "See here for more information: https://www.gymlibrary.ml/content/api/\u001b[0m\n",
            "  deprecation(\n",
            "/usr/local/lib/python3.10/dist-packages/gym/core.py:43: DeprecationWarning: \u001b[33mWARN: The argument mode in render method is deprecated; use render_mode during environment initialization instead.\n",
            "See here for more information: https://www.gymlibrary.ml/content/api/\u001b[0m\n",
            "  deprecation(\n"
          ]
        }
      ]
    },
    {
      "cell_type": "code",
      "source": [
        "new_weights_file = '/content/drive/MyDrive/dqn/BetaDDQN/dqn_new_weights.h5'\n",
        "dqn.save_weights(new_weights_file, overwrite=True)"
      ],
      "metadata": {
        "id": "NHH_O8Vx56tu"
      },
      "execution_count": null,
      "outputs": []
    },
    {
      "cell_type": "markdown",
      "source": [
        "### Play Videos"
      ],
      "metadata": {
        "id": "R-xeYKR6gpq9"
      }
    },
    {
      "cell_type": "code",
      "source": [
        "from IPython.display import HTML\n",
        "from base64 import b64encode\n",
        "\n",
        "def play_video(video_path):\n",
        "    \"\"\"\n",
        "    workaround to display a video in colab\n",
        "\n",
        "    Args:\n",
        "        video_path: Path to the video file.\n",
        "    \"\"\"\n",
        "    mp4 = open(video_path,'rb').read()\n",
        "    data_url = \"data:video/mp4;base64,\" + b64encode(mp4).decode()\n",
        "    return HTML(\"\"\"\n",
        "    <video width=400 controls>\n",
        "        <source src=\"%s\" type=\"video/mp4\">\n",
        "    </video>\n",
        "    \"\"\" % data_url)\n",
        "\n",
        "video_path = '/content/drive/MyDrive/dqn/BetaDDQN/training_videos/rl-video-episode-0.mp4'\n",
        "play_video(video_path)"
      ],
      "metadata": {
        "id": "XKxKEI9b6WhG"
      },
      "execution_count": null,
      "outputs": []
    },
    {
      "cell_type": "code",
      "source": [
        "import os\n",
        "from IPython.display import HTML, display\n",
        "from base64 import b64encode\n",
        "\n",
        "def play_videos_in_sequence(folder_path, speed=1.0):\n",
        "    \"\"\"\n",
        "    play videos in sequence from a specified folder in google drive\n",
        "\n",
        "    Args:\n",
        "        folder_path: Path to the folder containing video files.\n",
        "        speed: Playback speed (1.0 is normal speed, >1.0 is faster, <1.0 is slower).\n",
        "    \"\"\"\n",
        "    # list all video files in the folder\n",
        "    video_files = sorted([file for file in os.listdir(folder_path) if file.endswith('.mp4')])\n",
        "\n",
        "    # display each video\n",
        "    for video_file in video_files:\n",
        "        video_path = os.path.join(folder_path, video_file)\n",
        "        mp4 = open(video_path, 'rb').read()\n",
        "        data_url = \"data:video/mp4;base64,\" + b64encode(mp4).decode()\n",
        "        html = HTML(\"\"\"\n",
        "        <video width=400 controls autoplay loop>\n",
        "            <source src=\"%s\" type=\"video/mp4\">\n",
        "        </video>\n",
        "        \"\"\" % data_url)\n",
        "        display(html)\n",
        "\n",
        "video_folder = '/content/drive/MyDrive/dqn/BetaDDQN/training_videos'\n",
        "play_videos_in_sequence(video_folder, speed=1.5)  # Adjust speed as needed"
      ],
      "metadata": {
        "id": "2ssz_5w06vdO"
      },
      "execution_count": null,
      "outputs": []
    }
  ],
  "metadata": {
    "colab": {
      "provenance": [],
      "collapsed_sections": [
        "EbN-81kC1_4q"
      ],
      "mount_file_id": "1EYZ6RNQNtp7zIgLA1WVuUBg59PtXDv1P",
      "authorship_tag": "ABX9TyOS+vp6uwEQtA9qL0FmsLAN",
      "include_colab_link": true
    },
    "kernelspec": {
      "display_name": "Python 3",
      "name": "python3"
    },
    "language_info": {
      "name": "python"
    }
  },
  "nbformat": 4,
  "nbformat_minor": 0
}