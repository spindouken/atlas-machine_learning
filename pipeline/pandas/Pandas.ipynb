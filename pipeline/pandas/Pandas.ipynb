{
  "nbformat": 4,
  "nbformat_minor": 0,
  "metadata": {
    "colab": {
      "provenance": [],
      "mount_file_id": "1UpOimpGZucVbOalvBgwByG8o1wBoG7s5",
      "authorship_tag": "ABX9TyMeih6RmfIJDTFRZHYfXd/b",
      "include_colab_link": true
    },
    "kernelspec": {
      "name": "python3",
      "display_name": "Python 3"
    },
    "language_info": {
      "name": "python"
    }
  },
  "cells": [
    {
      "cell_type": "markdown",
      "metadata": {
        "id": "view-in-github",
        "colab_type": "text"
      },
      "source": [
        "<a href=\"https://colab.research.google.com/github/spindouken/atlas-machine_learning/blob/main/pipeline/pandas/Pandas.ipynb\" target=\"_parent\"><img src=\"https://colab.research.google.com/assets/colab-badge.svg\" alt=\"Open In Colab\"/></a>"
      ]
    },
    {
      "cell_type": "code",
      "source": [
        "import pandas as pd\n",
        "import numpy as np"
      ],
      "metadata": {
        "id": "mAk-rE2l_29g"
      },
      "execution_count": 1,
      "outputs": []
    },
    {
      "cell_type": "markdown",
      "source": [
        "**0. From Numpy**<br>\n",
        "Write a function def from_numpy(array): that creates a pd.DataFrame from a np.ndarray:<br>\n",
        "\n",
        "array is the np.ndarray from which you should create the pd.DataFrame<br>\n",
        "The columns of the pd.DataFrame should be labeled in alphabetical order and capitalized.<br> There will not be more than 26 columns.<br>\n",
        "Returns: the newly created pd.DataFrame\n",
        "```\n",
        "$ ./0-main.py\n",
        "          A         B         C         D         E         F         G         H\n",
        "0  1.764052  0.400157  0.978738  2.240893  1.867558 -0.977278  0.950088 -0.151357\n",
        "1 -0.103219  0.410599  0.144044  1.454274  0.761038  0.121675  0.443863  0.333674\n",
        "2  1.494079 -0.205158  0.313068 -0.854096 -2.552990  0.653619  0.864436 -0.742165\n",
        "3  2.269755 -1.454366  0.045759 -0.187184  1.532779  1.469359  0.154947  0.378163\n",
        "4 -0.887786 -1.980796 -0.347912  0.156349  1.230291  1.202380 -0.387327 -0.302303\n",
        "          A         B         C\n",
        "0 -1.048553 -1.420018 -1.706270\n",
        "1  1.950775 -0.509652 -0.438074\n",
        "2 -1.252795  0.777490 -1.613898\n",
        "3 -0.212740 -0.895467  0.386902\n",
        "4 -0.510805 -1.180632 -0.028182\n",
        "5  0.428332  0.066517  0.302472\n",
        "6 -0.634322 -0.362741 -0.672460\n",
        "7 -0.359553 -0.813146 -1.726283\n",
        "8  0.177426 -0.401781 -1.630198\n",
        "$\n",
        "```"
      ],
      "metadata": {
        "id": "VCeMx3Al8C0s"
      }
    },
    {
      "cell_type": "code",
      "execution_count": 2,
      "metadata": {
        "id": "pCSiSn9w7-5L"
      },
      "outputs": [],
      "source": [
        "def from_numpy(array):\n",
        "    \"\"\"\n",
        "    creates a pd.DataFrame from a np.ndarray:\n",
        "\n",
        "    array is the np.ndarray from which you should create the pd.DataFrame\n",
        "    The columns of the pd.DataFrame should be labeled in alphabetical order and capitalized.\n",
        "    There will not be more than 26 columns.\n",
        "    Returns: the newly created pd.DataFrame\n",
        "    \"\"\"\n",
        "    # check if array is a numpy array\n",
        "    if not isinstance(array, np.ndarray):\n",
        "        raise ValueError(\"must be a numpny array\")\n",
        "\n",
        "    # ensure column count is not more than 26\n",
        "    if array.shape[1] > 26:\n",
        "        raise ValueError(\"number of columns over 26\")\n",
        "\n",
        "    # create dataframe with columns in alphabetical order and capitalized\n",
        "    columns = [chr(ord('A') + i) for i in range(array.shape[1])]\n",
        "    df = pd.DataFrame(array, columns=columns)\n",
        "\n",
        "    return df"
      ]
    },
    {
      "cell_type": "code",
      "source": [
        "np.random.seed(0)\n",
        "A = np.random.randn(5, 8)\n",
        "print(from_numpy(A))\n",
        "B = np.random.randn(9, 3)\n",
        "print(from_numpy(B))"
      ],
      "metadata": {
        "colab": {
          "base_uri": "https://localhost:8080/"
        },
        "id": "Z73QURLn8Hj7",
        "outputId": "862b0fad-7182-4d6f-f417-2394ab4878db"
      },
      "execution_count": 3,
      "outputs": [
        {
          "output_type": "stream",
          "name": "stdout",
          "text": [
            "          A         B         C         D         E         F         G  \\\n",
            "0  1.764052  0.400157  0.978738  2.240893  1.867558 -0.977278  0.950088   \n",
            "1 -0.103219  0.410599  0.144044  1.454274  0.761038  0.121675  0.443863   \n",
            "2  1.494079 -0.205158  0.313068 -0.854096 -2.552990  0.653619  0.864436   \n",
            "3  2.269755 -1.454366  0.045759 -0.187184  1.532779  1.469359  0.154947   \n",
            "4 -0.887786 -1.980796 -0.347912  0.156349  1.230291  1.202380 -0.387327   \n",
            "\n",
            "          H  \n",
            "0 -0.151357  \n",
            "1  0.333674  \n",
            "2 -0.742165  \n",
            "3  0.378163  \n",
            "4 -0.302303  \n",
            "          A         B         C\n",
            "0 -1.048553 -1.420018 -1.706270\n",
            "1  1.950775 -0.509652 -0.438074\n",
            "2 -1.252795  0.777490 -1.613898\n",
            "3 -0.212740 -0.895467  0.386902\n",
            "4 -0.510805 -1.180632 -0.028182\n",
            "5  0.428332  0.066517  0.302472\n",
            "6 -0.634322 -0.362741 -0.672460\n",
            "7 -0.359553 -0.813146 -1.726283\n",
            "8  0.177426 -0.401781 -1.630198\n"
          ]
        }
      ]
    },
    {
      "cell_type": "markdown",
      "source": [
        "**1. From Dictionary**<br>\n",
        "Write a python script that created a pd.DataFrame from a dictionary:<br>\n",
        "\n",
        "The first column should be labeled First and have the values 0.0, 0.5, 1.0, and 1.5<br>\n",
        "The second column should be labeled Second and have the values one, two, three, four<br>\n",
        "The rows should be labeled A, B, C, and D, respectively<br>\n",
        "The pd.DataFrame should be saved into the variable df<br>\n",
        "```\n",
        "$ ./1-main.py\n",
        "   First Second\n",
        "A    0.0    one\n",
        "B    0.5    two\n",
        "C    1.0  three\n",
        "D    1.5   four\n",
        "$\n",
        "Repo:\n",
        "\n",
        "GitHub repository: atlas-machine_learning\n",
        "Directory: pipeline/pandas\n",
        "File: 1-from_dictionary.py\n",
        "```"
      ],
      "metadata": {
        "id": "lt3RKrcs8ZsE"
      }
    },
    {
      "cell_type": "code",
      "source": [
        "dictionary = {\n",
        "    'First': [0.0, 0.5, 1.0, 1.5],\n",
        "    'Second': ['one', 'two', 'three', 'four']\n",
        "}\n",
        "\n",
        "# create a dataframe from the dictionary and set row labels\n",
        "df = pd.DataFrame(dictionary, index=['A', 'B', 'C', 'D'])"
      ],
      "metadata": {
        "id": "24YxdQc98ejv"
      },
      "execution_count": 4,
      "outputs": []
    },
    {
      "cell_type": "code",
      "source": [
        "print(df)"
      ],
      "metadata": {
        "colab": {
          "base_uri": "https://localhost:8080/"
        },
        "id": "dlkB3yE88ewg",
        "outputId": "ecc3c709-2495-4366-b913-a977b30de2c4"
      },
      "execution_count": 5,
      "outputs": [
        {
          "output_type": "stream",
          "name": "stdout",
          "text": [
            "   First Second\n",
            "A    0.0    one\n",
            "B    0.5    two\n",
            "C    1.0  three\n",
            "D    1.5   four\n"
          ]
        }
      ]
    },
    {
      "cell_type": "markdown",
      "source": [
        "**2. From File**<br>\n",
        "Write a function def from_file(filename, delimiter): that loads data from a file as a pd.DataFrame:\n",
        "\n",
        "filename is the file to load from\n",
        "delimiter is the column separator\n",
        "Returns: the loaded pd.DataFrame\n",
        "```\n",
        "$ ./2-main.py\n",
        "    Timestamp   Open   High    Low  Close  Volume_(BTC)  Volume_(Currency)  Weighted_Price\n",
        "0  1417411980  300.0  300.0  300.0  300.0          0.01                3.0           300.0\n",
        "1  1417412040    NaN    NaN    NaN    NaN           NaN                NaN             NaN\n",
        "2  1417412100    NaN    NaN    NaN    NaN           NaN                NaN             NaN\n",
        "3  1417412160    NaN    NaN    NaN    NaN           NaN                NaN             NaN\n",
        "4  1417412220    NaN    NaN    NaN    NaN           NaN                NaN             NaN\n",
        "          Timestamp     Open     High      Low    Close  Volume_(BTC)  Volume_(Currency)  Weighted_Price\n",
        "4363452  1587513360  6847.97  6856.35  6847.97  6856.35      0.125174         858.128697     6855.498790\n",
        "4363453  1587513420  6850.23  6856.13  6850.23  6850.89      1.224777        8396.781459     6855.763449\n",
        "4363454  1587513480  6846.50  6857.45  6846.02  6857.45      7.089168       48533.089069     6846.090966\n",
        "4363455  1587513540  6854.18  6854.98  6854.18  6854.98      0.012231          83.831604     6854.195090\n",
        "4363456  1587513600  6850.60  6850.60  6850.60  6850.60      0.014436          98.896906     6850.600000\n",
        "$\n",
        "```"
      ],
      "metadata": {
        "id": "oXix5-Lz8iX4"
      }
    },
    {
      "cell_type": "code",
      "source": [
        "def from_file(filename, delimiter):\n",
        "    \"\"\"\n",
        "    loads data from a file as a pd.DataFrame:\n",
        "\n",
        "    filename is the file to load from\n",
        "    delimiter is the column separator\n",
        "    Returns: the loaded pd.DataFrame\n",
        "    \"\"\"\n",
        "    return pd.read_csv(filename, delimiter=delimiter)"
      ],
      "metadata": {
        "id": "uq73D_Zh8iuC"
      },
      "execution_count": 6,
      "outputs": []
    },
    {
      "cell_type": "code",
      "source": [
        "df1 = from_file('/content/drive/MyDrive/TSF_BTC/coinbaseUSD_1-min_data_2014-12-01_to_2019-01-09.csv', ',')\n",
        "print(df1.head())\n",
        "df2 = from_file('/content/drive/MyDrive/TSF_BTC/bitstampUSD_1-min_data_2012-01-01_to_2020-04-22.csv', ',')\n",
        "print(df2.tail())"
      ],
      "metadata": {
        "colab": {
          "base_uri": "https://localhost:8080/"
        },
        "id": "MEMGlL5M8jiv",
        "outputId": "592727df-fa0b-471f-aab1-65545c543ec7"
      },
      "execution_count": 7,
      "outputs": [
        {
          "output_type": "stream",
          "name": "stdout",
          "text": [
            "    Timestamp   Open   High    Low  Close  Volume_(BTC)  Volume_(Currency)  \\\n",
            "0  1417411980  300.0  300.0  300.0  300.0          0.01                3.0   \n",
            "1  1417412040    NaN    NaN    NaN    NaN           NaN                NaN   \n",
            "2  1417412100    NaN    NaN    NaN    NaN           NaN                NaN   \n",
            "3  1417412160    NaN    NaN    NaN    NaN           NaN                NaN   \n",
            "4  1417412220    NaN    NaN    NaN    NaN           NaN                NaN   \n",
            "\n",
            "   Weighted_Price  \n",
            "0           300.0  \n",
            "1             NaN  \n",
            "2             NaN  \n",
            "3             NaN  \n",
            "4             NaN  \n",
            "          Timestamp     Open     High      Low    Close  Volume_(BTC)  \\\n",
            "4363452  1587513360  6847.97  6856.35  6847.97  6856.35      0.125174   \n",
            "4363453  1587513420  6850.23  6856.13  6850.23  6850.89      1.224777   \n",
            "4363454  1587513480  6846.50  6857.45  6846.02  6857.45      7.089168   \n",
            "4363455  1587513540  6854.18  6854.98  6854.18  6854.98      0.012231   \n",
            "4363456  1587513600  6850.60  6850.60  6850.60  6850.60      0.014436   \n",
            "\n",
            "         Volume_(Currency)  Weighted_Price  \n",
            "4363452         858.128697     6855.498790  \n",
            "4363453        8396.781459     6855.763449  \n",
            "4363454       48533.089069     6846.090966  \n",
            "4363455          83.831604     6854.195090  \n",
            "4363456          98.896906     6850.600000  \n"
          ]
        }
      ]
    },
    {
      "cell_type": "markdown",
      "source": [
        "**3. Rename**<br>\n",
        "Complete the script below to perform the following:\n",
        "\n",
        "Rename the column Timestamp to Datetime<br>\n",
        "Convert the timestamp values to datatime values<br>\n",
        "Display only the Datetime and Close columns<br>\n",
        "```\n",
        "$ ./3-rename.py\n",
        "                   Datetime    Close\n",
        "2099755 2019-01-07 22:02:00  4006.01\n",
        "2099756 2019-01-07 22:03:00  4006.01\n",
        "2099757 2019-01-07 22:04:00  4006.01\n",
        "2099758 2019-01-07 22:05:00  4005.50\n",
        "2099759 2019-01-07 22:06:00  4005.99\n",
        "$\n",
        "```"
      ],
      "metadata": {
        "id": "B35DL3GE8r99"
      }
    },
    {
      "cell_type": "code",
      "source": [
        "df = from_file('/content/drive/MyDrive/TSF_BTC/coinbaseUSD_1-min_data_2014-12-01_to_2019-01-09.csv', ',')\n",
        "\n",
        "# read CSV and create the dataframe\n",
        "df = from_file('/content/drive/MyDrive/TSF_BTC/coinbaseUSD_1-min_data_2014-12-01_to_2019-01-09.csv', ',')\n",
        "\n",
        "# rename column 'Timestamp' to 'Datetime'\n",
        "df.rename(columns={'Timestamp': 'Datetime'}, inplace=True)\n",
        "\n",
        "# convert the timestamp values to datetime values\n",
        "df['Datetime'] = pd.to_datetime(df['Datetime'], unit='s')\n",
        "\n",
        "# display only the datetime and close columns\n",
        "df = df[['Datetime', 'Close']]\n",
        "\n",
        "print(df.tail())"
      ],
      "metadata": {
        "colab": {
          "base_uri": "https://localhost:8080/"
        },
        "id": "SfTaYo7O843S",
        "outputId": "b6590f94-2e5c-4a6d-c402-5de8770447f7"
      },
      "execution_count": 8,
      "outputs": [
        {
          "output_type": "stream",
          "name": "stdout",
          "text": [
            "                   Datetime    Close\n",
            "2099755 2019-01-07 22:02:00  4006.01\n",
            "2099756 2019-01-07 22:03:00  4006.01\n",
            "2099757 2019-01-07 22:04:00  4006.01\n",
            "2099758 2019-01-07 22:05:00  4005.50\n",
            "2099759 2019-01-07 22:06:00  4005.99\n"
          ]
        }
      ]
    },
    {
      "cell_type": "markdown",
      "source": [
        "**4. To Numpy**<br>\n",
        "Complete the following script to take the last 10 rows of the columns High and Close and convert them into a numpy.ndarray:\n",
        "\n",
        "```\n",
        "$ cat 4-array.py\n",
        "#!/usr/bin/env python3\n",
        "\n",
        "import pandas as pd\n",
        "from_file = __import__('2-from_file').from_file\n",
        "\n",
        "df = from_file('coinbaseUSD_1-min_data_2014-12-01_to_2019-01-09.csv', ',')\n",
        "\n",
        "A = # YOUR CODE HERE\n",
        "\n",
        "print(A)\n",
        "$ ./4-array.py\n",
        "[[4009.54 4007.01]\n",
        " [4007.01 4003.49]\n",
        " [4007.29 4006.57]\n",
        " [4006.57 4006.56]\n",
        " [4006.57 4006.01]\n",
        " [4006.57 4006.01]\n",
        " [4006.57 4006.01]\n",
        " [4006.01 4006.01]\n",
        " [4006.01 4005.5 ]\n",
        " [4006.01 4005.99]]\n",
        "$\n",
        "```"
      ],
      "metadata": {
        "id": "rv1C_Lp687Xf"
      }
    },
    {
      "cell_type": "code",
      "source": [
        "df = from_file('/content/drive/MyDrive/TSF_BTC/coinbaseUSD_1-min_data_2014-12-01_to_2019-01-09.csv', ',')\n",
        "\n",
        "# take the last 10 rows of the columns high and close\n",
        "last_10_rows = df[['High', 'Close']].tail(10)\n",
        "\n",
        "# convert into a numpy array\n",
        "A = last_10_rows.to_numpy()\n",
        "\n",
        "print(A)"
      ],
      "metadata": {
        "colab": {
          "base_uri": "https://localhost:8080/"
        },
        "id": "-qmKB7jU9BnM",
        "outputId": "53944dfb-a1f0-4d04-ccac-f6eb901cf20e"
      },
      "execution_count": 9,
      "outputs": [
        {
          "output_type": "stream",
          "name": "stdout",
          "text": [
            "[[4009.54 4007.01]\n",
            " [4007.01 4003.49]\n",
            " [4007.29 4006.57]\n",
            " [4006.57 4006.56]\n",
            " [4006.57 4006.01]\n",
            " [4006.57 4006.01]\n",
            " [4006.57 4006.01]\n",
            " [4006.01 4006.01]\n",
            " [4006.01 4005.5 ]\n",
            " [4006.01 4005.99]]\n"
          ]
        }
      ]
    },
    {
      "cell_type": "markdown",
      "source": [
        "**5. Slice**<br>\n",
        "Complete the following script to slice the pd.DataFrame along the columns High, Low, Close, and Volume_BTC, taking every 60th row:\n",
        "```\n",
        "$ ./5-slice.py\n",
        "\n",
        "1.   List item\n",
        "2.   List item\n",
        "\n",
        "\n",
        "            High      Low    Close  Volume_(BTC)\n",
        "2099460  4020.08  4020.07  4020.08      4.704989\n",
        "2099520  4020.94  4020.93  4020.94      2.111411\n",
        "2099580  4020.00  4019.01  4020.00      4.637035\n",
        "2099640  4017.00  4016.99  4017.00      2.362372\n",
        "2099700  4014.78  4013.50  4014.72      1.291557\n",
        "$\n",
        "```"
      ],
      "metadata": {
        "id": "MgJecXbO9Ik0"
      }
    },
    {
      "cell_type": "code",
      "source": [
        "df = from_file('/content/drive/MyDrive/TSF_BTC/coinbaseUSD_1-min_data_2014-12-01_to_2019-01-09.csv', ',')\n",
        "\n",
        "\n",
        "# slice the pandas dataframe along the columns High, Low, Close, and Volume_BTC\n",
        "#   and take every 60th row using iloc\n",
        "df = df[['High', 'Low', 'Close', 'Volume_(BTC)']].iloc[::60]\n",
        "\n",
        "print(df.tail())"
      ],
      "metadata": {
        "colab": {
          "base_uri": "https://localhost:8080/"
        },
        "id": "yyRpZFOL9MEf",
        "outputId": "7bb04eb8-c25e-4009-c5c6-54c26c1ea674"
      },
      "execution_count": 10,
      "outputs": [
        {
          "output_type": "stream",
          "name": "stdout",
          "text": [
            "            High      Low    Close  Volume_(BTC)\n",
            "2099460  4020.08  4020.07  4020.08      4.704989\n",
            "2099520  4020.94  4020.93  4020.94      2.111411\n",
            "2099580  4020.00  4019.01  4020.00      4.637035\n",
            "2099640  4017.00  4016.99  4017.00      2.362372\n",
            "2099700  4014.78  4013.50  4014.72      1.291557\n"
          ]
        }
      ]
    },
    {
      "cell_type": "markdown",
      "source": [
        "**6. Flip it and Switch it**<br>\n",
        "Complete the following script to alter the pd.DataFrame such that the rows and columns are transposed and the data is sorted in reverse chronological order:\n",
        "\n",
        "```\n",
        "\n",
        "> Indented block\n",
        "\n",
        "\n",
        "$ ./6-flip_switch.py\n",
        "                        2099759       2099758       2099757  ...       2             1             0      \n",
        "Timestamp          1.546899e+09  1.546899e+09  1.546899e+09  ...  1.417412e+09  1.417412e+09  1.417412e+09\n",
        "Open               4.005510e+03  4.006010e+03  4.006010e+03  ...           NaN           NaN  3.000000e+02\n",
        "High               4.006010e+03  4.006010e+03  4.006010e+03  ...           NaN           NaN  3.000000e+02\n",
        "Low                4.005510e+03  4.005500e+03  4.006000e+03  ...           NaN           NaN  3.000000e+02\n",
        "Close              4.005990e+03  4.005500e+03  4.006010e+03  ...           NaN           NaN  3.000000e+02\n",
        "Volume_(BTC)       1.752778e+00  2.699700e+00  1.192123e+00  ...           NaN           NaN  1.000000e-02\n",
        "Volume_(Currency)  7.021184e+03  1.081424e+04  4.775647e+03  ...           NaN           NaN  3.000000e+00\n",
        "Weighted_Price     4.005746e+03  4.005720e+03  4.006004e+03  ...           NaN           NaN  3.000000e+02\n",
        "\n",
        "[8 rows x 2099760 columns]\n",
        "$\n",
        "```"
      ],
      "metadata": {
        "id": "m8q43b8Q9Mtz"
      }
    },
    {
      "cell_type": "code",
      "source": [
        "df = from_file('/content/drive/MyDrive/TSF_BTC/coinbaseUSD_1-min_data_2014-12-01_to_2019-01-09.csv', ',')\n",
        "\n",
        "# use sort_values to sort by timestamp in reverse chronological order\n",
        "df = df.sort_values(by='Timestamp', ascending=False).transpose()\n",
        "\n",
        "print(df.tail(8))"
      ],
      "metadata": {
        "id": "7A-K8Gfa9Q1h",
        "colab": {
          "base_uri": "https://localhost:8080/"
        },
        "outputId": "4eaa4d8c-1f43-4943-83dc-4a4ee1bc06be"
      },
      "execution_count": 11,
      "outputs": [
        {
          "output_type": "stream",
          "name": "stdout",
          "text": [
            "                        2099759       2099758       2099757       2099756  \\\n",
            "Timestamp          1.546899e+09  1.546899e+09  1.546899e+09  1.546899e+09   \n",
            "Open               4.005510e+03  4.006010e+03  4.006010e+03  4.006010e+03   \n",
            "High               4.006010e+03  4.006010e+03  4.006010e+03  4.006570e+03   \n",
            "Low                4.005510e+03  4.005500e+03  4.006000e+03  4.006000e+03   \n",
            "Close              4.005990e+03  4.005500e+03  4.006010e+03  4.006010e+03   \n",
            "Volume_(BTC)       1.752778e+00  2.699700e+00  1.192123e+00  9.021637e-01   \n",
            "Volume_(Currency)  7.021184e+03  1.081424e+04  4.775647e+03  3.614083e+03   \n",
            "Weighted_Price     4.005746e+03  4.005720e+03  4.006004e+03  4.006017e+03   \n",
            "\n",
            "                        2099755       2099754       2099753       2099752  \\\n",
            "Timestamp          1.546899e+09  1.546898e+09  1.546898e+09  1.546898e+09   \n",
            "Open               4.006010e+03  4.006570e+03  4.006560e+03  4.003490e+03   \n",
            "High               4.006570e+03  4.006570e+03  4.006570e+03  4.007290e+03   \n",
            "Low                4.006000e+03  4.006000e+03  4.006560e+03  4.003490e+03   \n",
            "Close              4.006010e+03  4.006010e+03  4.006560e+03  4.006570e+03   \n",
            "Volume_(BTC)       3.382954e+00  6.951222e+00  8.475772e+00  1.183828e+01   \n",
            "Volume_(Currency)  1.355343e+04  2.784951e+04  3.395870e+04  4.741754e+04   \n",
            "Weighted_Price     4.006390e+03  4.006419e+03  4.006561e+03  4.005441e+03   \n",
            "\n",
            "                        2099751       2099750  ...       9        \\\n",
            "Timestamp          1.546898e+09  1.546898e+09  ...  1.417413e+09   \n",
            "Open               4.007000e+03  4.009540e+03  ...           NaN   \n",
            "High               4.007010e+03  4.009540e+03  ...           NaN   \n",
            "Low                4.000240e+03  4.007000e+03  ...           NaN   \n",
            "Close              4.003490e+03  4.007010e+03  ...           NaN   \n",
            "Volume_(BTC)       9.452163e+00  4.540920e+00  ...           NaN   \n",
            "Volume_(Currency)  3.784576e+04  1.819998e+04  ...           NaN   \n",
            "Weighted_Price     4.003925e+03  4.007993e+03  ...           NaN   \n",
            "\n",
            "                        8             7             6             5        \\\n",
            "Timestamp          1.417412e+09  1.417412e+09  1.417412e+09  1.417412e+09   \n",
            "Open                        NaN  3.000000e+02           NaN           NaN   \n",
            "High                        NaN  3.000000e+02           NaN           NaN   \n",
            "Low                         NaN  3.000000e+02           NaN           NaN   \n",
            "Close                       NaN  3.000000e+02           NaN           NaN   \n",
            "Volume_(BTC)                NaN  1.000000e-02           NaN           NaN   \n",
            "Volume_(Currency)           NaN  3.000000e+00           NaN           NaN   \n",
            "Weighted_Price              NaN  3.000000e+02           NaN           NaN   \n",
            "\n",
            "                        4             3             2             1        \\\n",
            "Timestamp          1.417412e+09  1.417412e+09  1.417412e+09  1.417412e+09   \n",
            "Open                        NaN           NaN           NaN           NaN   \n",
            "High                        NaN           NaN           NaN           NaN   \n",
            "Low                         NaN           NaN           NaN           NaN   \n",
            "Close                       NaN           NaN           NaN           NaN   \n",
            "Volume_(BTC)                NaN           NaN           NaN           NaN   \n",
            "Volume_(Currency)           NaN           NaN           NaN           NaN   \n",
            "Weighted_Price              NaN           NaN           NaN           NaN   \n",
            "\n",
            "                        0        \n",
            "Timestamp          1.417412e+09  \n",
            "Open               3.000000e+02  \n",
            "High               3.000000e+02  \n",
            "Low                3.000000e+02  \n",
            "Close              3.000000e+02  \n",
            "Volume_(BTC)       1.000000e-02  \n",
            "Volume_(Currency)  3.000000e+00  \n",
            "Weighted_Price     3.000000e+02  \n",
            "\n",
            "[8 rows x 2099760 columns]\n"
          ]
        }
      ]
    },
    {
      "cell_type": "markdown",
      "source": [
        "**7. Sort** <br>\n",
        "Complete the following script to sort the pd.DataFrame by the High price in descending order:\n",
        "```\n",
        "$ ./7-high.py\n",
        "          Timestamp      Open      High       Low     Close  Volume_(BTC)  Volume_(Currency)  Weighted_Price\n",
        "1543350  1513514220  19891.99  19891.99  19891.98  19891.98      3.323210       66105.250870    19891.984712\n",
        "1543352  1513514340  19891.99  19891.99  19891.98  19891.98      9.836946      195676.363110    19891.983294\n",
        "1543351  1513514280  19891.99  19891.99  19891.98  19891.98      8.172155      162560.403740    19891.987528\n",
        "1543349  1513514160  19891.00  19891.99  19890.99  19891.99      1.336512       26584.930278    19891.272886\n",
        "1543353  1513514400  19891.99  19891.99  19876.22  19884.99     19.925151      396292.881750    19889.078007\n",
        "$\n",
        "```"
      ],
      "metadata": {
        "id": "nHDqEZ9-9R0i"
      }
    },
    {
      "cell_type": "code",
      "source": [
        "df = from_file('/content/drive/MyDrive/TSF_BTC/coinbaseUSD_1-min_data_2014-12-01_to_2019-01-09.csv', ',')\n",
        "\n",
        "# use pandas sort_values function to filter the dataframe\n",
        "#  for the High column and sort in descending order\n",
        "df = df.sort_values(by='High', ascending=False)\n",
        "\n",
        "print(df.head())"
      ],
      "metadata": {
        "id": "y1-0bCa59Vya",
        "colab": {
          "base_uri": "https://localhost:8080/"
        },
        "outputId": "59314bf5-ed29-4c38-f6ed-7fc220f8ccae"
      },
      "execution_count": 12,
      "outputs": [
        {
          "output_type": "stream",
          "name": "stdout",
          "text": [
            "          Timestamp      Open      High       Low     Close  Volume_(BTC)  \\\n",
            "1543350  1513514220  19891.99  19891.99  19891.98  19891.98      3.323210   \n",
            "1543352  1513514340  19891.99  19891.99  19891.98  19891.98      9.836946   \n",
            "1543351  1513514280  19891.99  19891.99  19891.98  19891.98      8.172155   \n",
            "1543349  1513514160  19891.00  19891.99  19890.99  19891.99      1.336512   \n",
            "1543353  1513514400  19891.99  19891.99  19876.22  19884.99     19.925151   \n",
            "\n",
            "         Volume_(Currency)  Weighted_Price  \n",
            "1543350       66105.250870    19891.984712  \n",
            "1543352      195676.363110    19891.983294  \n",
            "1543351      162560.403740    19891.987528  \n",
            "1543349       26584.930278    19891.272886  \n",
            "1543353      396292.881750    19889.078007  \n"
          ]
        }
      ]
    },
    {
      "cell_type": "markdown",
      "source": [
        "**8. Prune**<br>\n",
        "\n",
        "Complete the following script to remove the entries in the pd.DataFrame where Close is NaN:\n",
        "\n",
        "```\n",
        "$ ./8-prune.py\n",
        "       Timestamp   Open   High    Low  Close  Volume_(BTC)  Volume_(Currency)  Weighted_Price\n",
        "0     1417411980  300.0  300.0  300.0  300.0      0.010000            3.00000           300.0\n",
        "7     1417412400  300.0  300.0  300.0  300.0      0.010000            3.00000           300.0\n",
        "51    1417415040  370.0  370.0  370.0  370.0      0.010000            3.70000           370.0\n",
        "77    1417416600  370.0  370.0  370.0  370.0      0.026556            9.82555           370.0\n",
        "1436  1417498140  377.0  377.0  377.0  377.0      0.010000            3.77000           377.0\n",
        "$\n",
        "```"
      ],
      "metadata": {
        "id": "CFPmcDdk9Wr5"
      }
    },
    {
      "cell_type": "code",
      "source": [
        "df = from_file('/content/drive/MyDrive/TSF_BTC/coinbaseUSD_1-min_data_2014-12-01_to_2019-01-09.csv', ',')\n",
        "\n",
        "# use pandas dropna function to drop NaN values from Close column\n",
        "df = df.dropna(subset=['Close'])\n",
        "\n",
        "print(df.head())"
      ],
      "metadata": {
        "id": "Bwx8m2-i99-w",
        "colab": {
          "base_uri": "https://localhost:8080/"
        },
        "outputId": "17ac9c88-417b-4bff-fa05-8f31ed440c70"
      },
      "execution_count": 13,
      "outputs": [
        {
          "output_type": "stream",
          "name": "stdout",
          "text": [
            "       Timestamp   Open   High    Low  Close  Volume_(BTC)  Volume_(Currency)  \\\n",
            "0     1417411980  300.0  300.0  300.0  300.0      0.010000            3.00000   \n",
            "7     1417412400  300.0  300.0  300.0  300.0      0.010000            3.00000   \n",
            "51    1417415040  370.0  370.0  370.0  370.0      0.010000            3.70000   \n",
            "77    1417416600  370.0  370.0  370.0  370.0      0.026556            9.82555   \n",
            "1436  1417498140  377.0  377.0  377.0  377.0      0.010000            3.77000   \n",
            "\n",
            "      Weighted_Price  \n",
            "0              300.0  \n",
            "7              300.0  \n",
            "51             370.0  \n",
            "77             370.0  \n",
            "1436           377.0  \n"
          ]
        }
      ]
    },
    {
      "cell_type": "markdown",
      "source": [
        "**9. Fill**<br>\n",
        "Complete the following script to fill in the missing data points in the pd.DataFrame:<br>\n",
        "\n",
        "The column Weighted_Price should be removed<br>\n",
        "missing values in Close should be set to the previous row value<br>\n",
        "missing values in High, Low, Open should be set to the same row’s Close value<br>\n",
        "missing values in Volume_(BTC) and Volume_(Currency) should be set to 0<br>\n",
        "```\n",
        "$ ./9-fill.py\n",
        "      Timestamp   Open   High    Low  Close  Volume_(BTC)  Volume_(Currency)\n",
        "0  1.417412e+09  300.0  300.0  300.0  300.0          0.01                3.0\n",
        "1  1.417412e+09  300.0  300.0  300.0  300.0          0.00                0.0\n",
        "2  1.417412e+09  300.0  300.0  300.0  300.0          0.00                0.0\n",
        "3  1.417412e+09  300.0  300.0  300.0  300.0          0.00                0.0\n",
        "4  1.417412e+09  300.0  300.0  300.0  300.0          0.00                0.0\n",
        "            Timestamp     Open     High      Low    Close  Volume_(BTC)  Volume_(Currency)\n",
        "2099755  1.546899e+09  4006.01  4006.57  4006.00  4006.01      3.382954       13553.433078\n",
        "2099756  1.546899e+09  4006.01  4006.57  4006.00  4006.01      0.902164        3614.083169\n",
        "2099757  1.546899e+09  4006.01  4006.01  4006.00  4006.01      1.192123        4775.647308\n",
        "2099758  1.546899e+09  4006.01  4006.01  4005.50  4005.50      2.699700       10814.241898\n",
        "2099759  1.546899e+09  4005.51  4006.01  4005.51  4005.99      1.752778        7021.183546\n",
        "$\n",
        "```"
      ],
      "metadata": {
        "id": "aYpWm_OF9-mY"
      }
    },
    {
      "cell_type": "code",
      "source": [
        "df = from_file('/content/drive/MyDrive/TSF_BTC/coinbaseUSD_1-min_data_2014-12-01_to_2019-01-09.csv', ',')\n",
        "\n",
        "# remove Weighted_Price column\n",
        "df = df.drop(columns=['Weighted_Price'])\n",
        "\n",
        "# fill missing values in Close values with the previous row value using forward fill (ffill)\n",
        "df['Close'] = df['Close'].fillna(method='ffill')\n",
        "\n",
        "# fill missing values in High, Low, Open with the same row's Close value\n",
        "for column in ['High', 'Low', 'Open']:\n",
        "    df[column] = df[column].fillna(df['Close'])\n",
        "\n",
        "# set missing values in Volume_(BTC) and Volume_(Currency) columns with 0\n",
        "df['Volume_(BTC)'] = df['Volume_(BTC)'].fillna(0)\n",
        "df['Volume_(Currency)'] = df['Volume_(Currency)'].fillna(0)\n",
        "\n",
        "print(df.head())\n",
        "print(df.tail())"
      ],
      "metadata": {
        "id": "zRW6daJ3-E9Z",
        "colab": {
          "base_uri": "https://localhost:8080/"
        },
        "outputId": "9a717ab6-24bf-44dd-ccc9-7571af356fd4"
      },
      "execution_count": 14,
      "outputs": [
        {
          "output_type": "stream",
          "name": "stdout",
          "text": [
            "    Timestamp   Open   High    Low  Close  Volume_(BTC)  Volume_(Currency)\n",
            "0  1417411980  300.0  300.0  300.0  300.0          0.01                3.0\n",
            "1  1417412040  300.0  300.0  300.0  300.0          0.00                0.0\n",
            "2  1417412100  300.0  300.0  300.0  300.0          0.00                0.0\n",
            "3  1417412160  300.0  300.0  300.0  300.0          0.00                0.0\n",
            "4  1417412220  300.0  300.0  300.0  300.0          0.00                0.0\n",
            "          Timestamp     Open     High      Low    Close  Volume_(BTC)  \\\n",
            "2099755  1546898520  4006.01  4006.57  4006.00  4006.01      3.382954   \n",
            "2099756  1546898580  4006.01  4006.57  4006.00  4006.01      0.902164   \n",
            "2099757  1546898640  4006.01  4006.01  4006.00  4006.01      1.192123   \n",
            "2099758  1546898700  4006.01  4006.01  4005.50  4005.50      2.699700   \n",
            "2099759  1546898760  4005.51  4006.01  4005.51  4005.99      1.752778   \n",
            "\n",
            "         Volume_(Currency)  \n",
            "2099755       13553.433078  \n",
            "2099756        3614.083168  \n",
            "2099757        4775.647308  \n",
            "2099758       10814.241898  \n",
            "2099759        7021.183546  \n"
          ]
        }
      ]
    },
    {
      "cell_type": "markdown",
      "source": [
        "**10. Indexing**<br>\n",
        "Complete the following script to index the pd.DataFrame on the Timestamp column:\n",
        "\n",
        "```\n",
        "$ ./10-index.py\n",
        "               Open     High      Low    Close  Volume_(BTC)  Volume_(Currency)  Weighted_Price\n",
        "Timestamp                                                                                      \n",
        "1546898520  4006.01  4006.57  4006.00  4006.01      3.382954       13553.433078     4006.390309\n",
        "1546898580  4006.01  4006.57  4006.00  4006.01      0.902164        3614.083169     4006.017233\n",
        "1546898640  4006.01  4006.01  4006.00  4006.01      1.192123        4775.647308     4006.003635\n",
        "1546898700  4006.01  4006.01  4005.50  4005.50      2.699700       10814.241898     4005.719991\n",
        "1546898760  4005.51  4006.01  4005.51  4005.99      1.752778        7021.183546     4005.745614\n",
        "$\n",
        "```"
      ],
      "metadata": {
        "id": "RPV9PlNl-F2d"
      }
    },
    {
      "cell_type": "code",
      "source": [
        "df = from_file('/content/drive/MyDrive/TSF_BTC/coinbaseUSD_1-min_data_2014-12-01_to_2019-01-09.csv', ',')\n",
        "\n",
        "# setting the timestamp column as the index of the dataframe\n",
        "#   using Pandas' set_index function\n",
        "df = df.set_index('Timestamp')\n",
        "\n",
        "print(df.tail())"
      ],
      "metadata": {
        "id": "LM91HZVl-GIw",
        "colab": {
          "base_uri": "https://localhost:8080/"
        },
        "outputId": "a84b6df3-80c3-4793-c317-172ed505a304"
      },
      "execution_count": 15,
      "outputs": [
        {
          "output_type": "stream",
          "name": "stdout",
          "text": [
            "               Open     High      Low    Close  Volume_(BTC)  \\\n",
            "Timestamp                                                      \n",
            "1546898520  4006.01  4006.57  4006.00  4006.01      3.382954   \n",
            "1546898580  4006.01  4006.57  4006.00  4006.01      0.902164   \n",
            "1546898640  4006.01  4006.01  4006.00  4006.01      1.192123   \n",
            "1546898700  4006.01  4006.01  4005.50  4005.50      2.699700   \n",
            "1546898760  4005.51  4006.01  4005.51  4005.99      1.752778   \n",
            "\n",
            "            Volume_(Currency)  Weighted_Price  \n",
            "Timestamp                                      \n",
            "1546898520       13553.433078     4006.390309  \n",
            "1546898580        3614.083168     4006.017232  \n",
            "1546898640        4775.647308     4006.003635  \n",
            "1546898700       10814.241898     4005.719991  \n",
            "1546898760        7021.183546     4005.745614  \n"
          ]
        }
      ]
    },
    {
      "cell_type": "markdown",
      "source": [
        "**11. Concat**<br>\n",
        "Complete the following script to index the pd.DataFrames on the Timestamp columns and concatenate them:<br>\n",
        "\n",
        "Concatenate the start of the bitstamp table onto the top of the coinbase table<br>\n",
        "Include all timestamps from bitstamp up to and including timestamp 1417411920<br>\n",
        "Add keys to the data labeled bitstamp and coinbase respectively<br>\n",
        "```\n",
        "$ ./11-concat.py\n",
        "                        Open     High      Low    Close  Volume_(BTC)  Volume_(Currency)  Weighted_Price\n",
        "         Timestamp                                                                                      \n",
        "bitstamp 1325317920     4.39     4.39     4.39     4.39      0.455581           2.000000        4.390000\n",
        "         1325317980      NaN      NaN      NaN      NaN           NaN                NaN             NaN\n",
        "         1325318040      NaN      NaN      NaN      NaN           NaN                NaN             NaN\n",
        "         1325318100      NaN      NaN      NaN      NaN           NaN                NaN             NaN\n",
        "         1325318160      NaN      NaN      NaN      NaN           NaN                NaN             NaN\n",
        "         1325318220      NaN      NaN      NaN      NaN           NaN                NaN             NaN\n",
        "         1325318280      NaN      NaN      NaN      NaN           NaN                NaN             NaN\n",
        "         1325318340      NaN      NaN      NaN      NaN           NaN                NaN             NaN\n",
        "         1325318400      NaN      NaN      NaN      NaN           NaN                NaN             NaN\n",
        "         1325318460      NaN      NaN      NaN      NaN           NaN                NaN             NaN\n",
        "         1325318520      NaN      NaN      NaN      NaN           NaN                NaN             NaN\n",
        "         1325318580      NaN      NaN      NaN      NaN           NaN                NaN             NaN\n",
        "         1325318640      NaN      NaN      NaN      NaN           NaN                NaN             NaN\n",
        "         1325318700      NaN      NaN      NaN      NaN           NaN                NaN             NaN\n",
        "         1325318760      NaN      NaN      NaN      NaN           NaN                NaN             NaN\n",
        "         1325318820      NaN      NaN      NaN      NaN           NaN                NaN             NaN\n",
        "         1325318880      NaN      NaN      NaN      NaN           NaN                NaN             NaN\n",
        "         1325318940      NaN      NaN      NaN      NaN           NaN                NaN             NaN\n",
        "         1325319000      NaN      NaN      NaN      NaN           NaN                NaN             NaN\n",
        "         1325319060      NaN      NaN      NaN      NaN           NaN                NaN             NaN\n",
        "         1325319120      NaN      NaN      NaN      NaN           NaN                NaN             NaN\n",
        "         1325319180      NaN      NaN      NaN      NaN           NaN                NaN             NaN\n",
        "         1325319240      NaN      NaN      NaN      NaN           NaN                NaN             NaN\n",
        "         1325319300      NaN      NaN      NaN      NaN           NaN                NaN             NaN\n",
        "         1325319360      NaN      NaN      NaN      NaN           NaN                NaN             NaN\n",
        "         1325319420      NaN      NaN      NaN      NaN           NaN                NaN             NaN\n",
        "         1325319480      NaN      NaN      NaN      NaN           NaN                NaN             NaN\n",
        "         1325319540      NaN      NaN      NaN      NaN           NaN                NaN             NaN\n",
        "         1325319600      NaN      NaN      NaN      NaN           NaN                NaN             NaN\n",
        "         1325319660      NaN      NaN      NaN      NaN           NaN                NaN             NaN\n",
        "...                      ...      ...      ...      ...           ...                ...             ...\n",
        "coinbase 1546897020  4011.51  4011.51  4011.50  4011.51      4.800442       19257.017170     4011.508983\n",
        "         1546897080  4011.51  4011.51  4011.50  4011.50      2.564290       10286.657789     4011.503219\n",
        "         1546897140  4011.51  4013.45  4011.50  4013.45     12.323814       49446.144604     4012.243570\n",
        "         1546897200  4013.45  4015.00  4013.44  4015.00     13.981753       56123.805701     4014.075072\n",
        "         1546897260  4015.00  4016.50  4015.00  4015.80      3.749535       15057.021696     4015.703679\n",
        "         1546897320  4015.80  4015.80  4015.79  4015.79      1.856575        7455.632556     4015.799068\n",
        "         1546897380  4015.80  4015.80  4015.79  4015.79      3.935866       15805.631118     4015.794631\n",
        "         1546897440  4015.80  4015.80  4013.18  4014.64     14.744987       59208.462922     4015.497845\n",
        "         1546897500  4014.65  4018.30  4014.64  4018.05     10.469356       42054.587908     4016.922240\n",
        "         1546897560  4018.02  4018.11  4014.70  4014.87      4.673189       18768.274910     4016.160149\n",
        "         1546897620  4014.90  4015.89  4014.90  4015.74      4.222425       16956.060548     4015.716607\n",
        "         1546897680  4015.74  4015.74  4014.64  4014.64      8.378448       33644.339692     4015.581163\n",
        "         1546897740  4014.65  4014.65  4014.64  4014.65      1.846774        7414.138808     4014.643943\n",
        "         1546897800  4014.65  4014.65  4010.96  4012.40      7.349811       29490.133335     4012.366127\n",
        "         1546897860  4012.40  4012.40  4010.04  4010.13      4.909604       19694.778769     4011.479901\n",
        "         1546897920  4011.38  4012.40  4010.44  4010.72      4.804125       19272.037632     4011.560673\n",
        "         1546897980  4010.73  4010.74  4010.00  4010.74     13.043658       52313.110686     4010.616565\n",
        "         1546898040  4010.72  4011.00  4009.95  4010.75      5.149147       20650.628292     4010.495240\n",
        "         1546898100  4010.71  4011.22  4009.67  4010.29      5.688910       22814.904034     4010.417799\n",
        "         1546898160  4010.81  4010.81  4009.54  4009.54      1.307076        5241.132727     4009.813694\n",
        "         1546898220  4009.54  4009.54  4007.00  4007.01      4.540920       18199.978249     4007.993430\n",
        "         1546898280  4007.00  4007.01  4000.24  4003.49      9.452163       37845.755391     4003.925395\n",
        "         1546898340  4003.49  4007.29  4003.49  4006.57     11.838284       47417.543200     4005.440599\n",
        "         1546898400  4006.56  4006.57  4006.56  4006.56      8.475772       33958.700070     4006.561247\n",
        "         1546898460  4006.57  4006.57  4006.00  4006.01      6.951222       27849.509219     4006.419421\n",
        "         1546898520  4006.01  4006.57  4006.00  4006.01      3.382954       13553.433078     4006.390309\n",
        "         1546898580  4006.01  4006.57  4006.00  4006.01      0.902164        3614.083169     4006.017233\n",
        "         1546898640  4006.01  4006.01  4006.00  4006.01      1.192123        4775.647308     4006.003635\n",
        "         1546898700  4006.01  4006.01  4005.50  4005.50      2.699700       10814.241898     4005.719991\n",
        "         1546898760  4005.51  4006.01  4005.51  4005.99      1.752778        7021.183546     4005.745614\n",
        "$\n",
        "```"
      ],
      "metadata": {
        "id": "AJsJ9w2a-P2U"
      }
    },
    {
      "cell_type": "code",
      "source": [
        "df1 = from_file('/content/drive/MyDrive/TSF_BTC/coinbaseUSD_1-min_data_2014-12-01_to_2019-01-09.csv', ',')\n",
        "df2 = from_file('/content/drive/MyDrive/TSF_BTC/bitstampUSD_1-min_data_2012-01-01_to_2020-04-22.csv', ',')\n",
        "\n",
        "df1.set_index('Timestamp', inplace=True)\n",
        "df2.set_index('Timestamp', inplace=True)\n",
        "\n",
        "df2 = df2[df2.index <= 1417411920]\n",
        "\n",
        "# concatenate the dataframes and include keys\n",
        "df = pd.concat([df2, df1], keys=['bitstamp', 'coinbase'])\n",
        "\n",
        "print(df)"
      ],
      "metadata": {
        "colab": {
          "base_uri": "https://localhost:8080/"
        },
        "id": "M8RNRNYSzG1V",
        "outputId": "20c32942-1406-482e-ea87-f15ff30872af"
      },
      "execution_count": 16,
      "outputs": [
        {
          "output_type": "stream",
          "name": "stdout",
          "text": [
            "                        Open     High      Low    Close  Volume_(BTC)  \\\n",
            "         Timestamp                                                      \n",
            "bitstamp 1325317920     4.39     4.39     4.39     4.39      0.455581   \n",
            "         1325317980      NaN      NaN      NaN      NaN           NaN   \n",
            "         1325318040      NaN      NaN      NaN      NaN           NaN   \n",
            "         1325318100      NaN      NaN      NaN      NaN           NaN   \n",
            "         1325318160      NaN      NaN      NaN      NaN           NaN   \n",
            "...                      ...      ...      ...      ...           ...   \n",
            "coinbase 1546898520  4006.01  4006.57  4006.00  4006.01      3.382954   \n",
            "         1546898580  4006.01  4006.57  4006.00  4006.01      0.902164   \n",
            "         1546898640  4006.01  4006.01  4006.00  4006.01      1.192123   \n",
            "         1546898700  4006.01  4006.01  4005.50  4005.50      2.699700   \n",
            "         1546898760  4005.51  4006.01  4005.51  4005.99      1.752778   \n",
            "\n",
            "                     Volume_(Currency)  Weighted_Price  \n",
            "         Timestamp                                      \n",
            "bitstamp 1325317920           2.000000        4.390000  \n",
            "         1325317980                NaN             NaN  \n",
            "         1325318040                NaN             NaN  \n",
            "         1325318100                NaN             NaN  \n",
            "         1325318160                NaN             NaN  \n",
            "...                                ...             ...  \n",
            "coinbase 1546898520       13553.433078     4006.390309  \n",
            "         1546898580        3614.083168     4006.017232  \n",
            "         1546898640        4775.647308     4006.003635  \n",
            "         1546898700       10814.241898     4005.719991  \n",
            "         1546898760        7021.183546     4005.745614  \n",
            "\n",
            "[3634661 rows x 7 columns]\n"
          ]
        }
      ]
    },
    {
      "cell_type": "markdown",
      "source": [
        "**12. Hierarchy**<br>\n",
        "Based on 11-concat.py, rearrange the MultiIndex levels such that timestamp is the first level:<br>\n",
        "\n",
        "Concatenate th bitstamp and coinbase tables from timestamps 1417411980 to 1417417980, inclusive<br>\n",
        "Add keys to the data labeled bitstamp and coinbase respectively<br>\n",
        "Display the rows in chronological order<br>\n",
        "```\n",
        "$ ./12-hierarchy.py\n",
        "                       Open    High     Low   Close  Volume_(BTC)  Volume_(Currency)  Weighted_Price\n",
        "Timestamp                                                                                           \n",
        "1417411980 bitstamp  379.99  380.00  379.99  380.00      3.901265        1482.461708      379.995162\n",
        "           coinbase  300.00  300.00  300.00  300.00      0.010000           3.000000      300.000000\n",
        "1417412040 bitstamp  380.00  380.00  380.00  380.00     35.249895       13394.959997      380.000000\n",
        "           coinbase     NaN     NaN     NaN     NaN           NaN                NaN             NaN\n",
        "1417412100 bitstamp  380.00  380.00  380.00  380.00      3.712000        1410.560000      380.000000\n",
        "           coinbase     NaN     NaN     NaN     NaN           NaN                NaN             NaN\n",
        "1417412160 bitstamp  379.93  380.00  379.93  380.00     13.451000        5111.297890      379.993896\n",
        "           coinbase     NaN     NaN     NaN     NaN           NaN                NaN             NaN\n",
        "1417412220 bitstamp  380.00  380.00  380.00  380.00      1.693000         643.340000      380.000000\n",
        "           coinbase     NaN     NaN     NaN     NaN           NaN                NaN             NaN\n",
        "1417412280 bitstamp  380.00  380.00  379.99  379.99      1.771000         672.978100      379.998927\n",
        "           coinbase     NaN     NaN     NaN     NaN           NaN                NaN             NaN\n",
        "1417412340 bitstamp  379.93  379.93  379.93  379.93      0.034500          13.107585      379.930000\n",
        "           coinbase     NaN     NaN     NaN     NaN           NaN                NaN             NaN\n",
        "1417412400 bitstamp  379.94  380.15  379.94  380.15     14.967000        5688.020008      380.037416\n",
        "           coinbase  300.00  300.00  300.00  300.00      0.010000           3.000000      300.000000\n",
        "1417412460 bitstamp  379.94  380.15  379.94  380.15      2.433510         924.686531      379.980576\n",
        "           coinbase     NaN     NaN     NaN     NaN           NaN                NaN             NaN\n",
        "1417412520 bitstamp  380.15  380.15  380.15  380.15      0.120000          45.618000      380.150000\n",
        "           coinbase     NaN     NaN     NaN     NaN           NaN                NaN             NaN\n",
        "1417412580 bitstamp  379.98  379.98  379.92  379.92      4.394971        1669.801477      379.934562\n",
        "           coinbase     NaN     NaN     NaN     NaN           NaN                NaN             NaN\n",
        "1417412640 bitstamp     NaN     NaN     NaN     NaN           NaN                NaN             NaN\n",
        "           coinbase     NaN     NaN     NaN     NaN           NaN                NaN             NaN\n",
        "1417412700 bitstamp  379.92  379.92  379.92  379.92      0.014704           5.586477      379.920000\n",
        "           coinbase     NaN     NaN     NaN     NaN           NaN                NaN             NaN\n",
        "1417412760 bitstamp  379.90  379.90  379.24  379.24      2.947739        1119.550546      379.799751\n",
        "           coinbase     NaN     NaN     NaN     NaN           NaN                NaN             NaN\n",
        "1417412820 bitstamp  379.24  379.24  379.24  379.24      2.623738         995.026236      379.240000\n",
        "           coinbase     NaN     NaN     NaN     NaN           NaN                NaN             NaN\n",
        "...                     ...     ...     ...     ...           ...                ...             ...\n",
        "1417417140 bitstamp  380.69  380.70  378.98  380.70      3.693000        1403.340503      380.000136\n",
        "           coinbase     NaN     NaN     NaN     NaN           NaN                NaN             NaN\n",
        "1417417200 bitstamp  380.70  380.70  379.00  380.70      2.159118         820.275987      379.912464\n",
        "           coinbase     NaN     NaN     NaN     NaN           NaN                NaN             NaN\n",
        "1417417260 bitstamp  380.70  380.70  380.70  380.70      1.693000         644.525100      380.700000\n",
        "           coinbase     NaN     NaN     NaN     NaN           NaN                NaN             NaN\n",
        "1417417320 bitstamp  380.69  380.69  380.67  380.67      0.791000         301.119990      380.682668\n",
        "           coinbase     NaN     NaN     NaN     NaN           NaN                NaN             NaN\n",
        "1417417380 bitstamp  380.09  380.09  380.09  380.09      0.190000          72.217100      380.090000\n",
        "           coinbase     NaN     NaN     NaN     NaN           NaN                NaN             NaN\n",
        "1417417440 bitstamp  380.09  380.10  380.09  380.10      1.340000         509.324500      380.092910\n",
        "           coinbase     NaN     NaN     NaN     NaN           NaN                NaN             NaN\n",
        "1417417500 bitstamp  380.10  380.10  379.03  380.10      1.102000         418.763200      380.002904\n",
        "           coinbase     NaN     NaN     NaN     NaN           NaN                NaN             NaN\n",
        "1417417560 bitstamp  380.10  380.10  380.10  380.10      0.501000         190.430100      380.100000\n",
        "           coinbase     NaN     NaN     NaN     NaN           NaN                NaN             NaN\n",
        "1417417620 bitstamp     NaN     NaN     NaN     NaN           NaN                NaN             NaN\n",
        "           coinbase     NaN     NaN     NaN     NaN           NaN                NaN             NaN\n",
        "1417417680 bitstamp  380.08  380.08  380.08  380.08      1.120305         425.805600      380.080000\n",
        "           coinbase     NaN     NaN     NaN     NaN           NaN                NaN             NaN\n",
        "1417417740 bitstamp  379.03  380.06  378.61  380.06      3.237000        1226.650026      378.946564\n",
        "           coinbase     NaN     NaN     NaN     NaN           NaN                NaN             NaN\n",
        "1417417800 bitstamp  380.07  380.10  378.02  380.08     17.092000        6471.461319      378.625165\n",
        "           coinbase     NaN     NaN     NaN     NaN           NaN                NaN             NaN\n",
        "1417417860 bitstamp  378.75  380.09  378.04  380.09      7.523000        2847.248452      378.472478\n",
        "           coinbase     NaN     NaN     NaN     NaN           NaN                NaN             NaN\n",
        "1417417920 bitstamp  380.09  380.10  380.09  380.10      1.503000         571.285290      380.096667\n",
        "           coinbase     NaN     NaN     NaN     NaN           NaN                NaN             NaN\n",
        "1417417980 bitstamp  380.10  380.10  378.85  378.85     26.599796       10079.364182      378.926376\n",
        "           coinbase     NaN     NaN     NaN     NaN           NaN                NaN             NaN\n",
        "\n",
        "[202 rows x 7 columns]\n",
        "$\n",
        "```"
      ],
      "metadata": {
        "id": "SkFKqtY0-Wjh"
      }
    },
    {
      "cell_type": "code",
      "source": [
        "df1 = from_file('/content/drive/MyDrive/TSF_BTC/coinbaseUSD_1-min_data_2014-12-01_to_2019-01-09.csv', ',')\n",
        "df2 = from_file('/content/drive/MyDrive/TSF_BTC/bitstampUSD_1-min_data_2012-01-01_to_2020-04-22.csv', ',')\n",
        "\n",
        "# index dataframes on the Timestamp columns\n",
        "df1.set_index('Timestamp', inplace=True)\n",
        "df2.set_index('Timestamp', inplace=True)\n",
        "\n",
        "# concatenate bitstamp and coinbase tables from\n",
        "#   timestamps 1417411980 to 1417417980\n",
        "df1 = df1.loc[1417411980:1417417980]\n",
        "df2 = df2.loc[1417411980:1417417980]\n",
        "\n",
        "# add keys to the data labeled bitstamp and coinbase\n",
        "df = pd.concat([df2, df1], keys=['bitstamp', 'coinbase'])\n",
        "\n",
        "df = df.swaplevel()\n",
        "\n",
        "# sort in chronological order\n",
        "df.sort_index(inplace=True)\n",
        "\n",
        "print(df)"
      ],
      "metadata": {
        "id": "v_3OP4_I-dhj",
        "colab": {
          "base_uri": "https://localhost:8080/"
        },
        "outputId": "cef23302-71a4-43e0-9739-e545b20431e0"
      },
      "execution_count": 17,
      "outputs": [
        {
          "output_type": "stream",
          "name": "stdout",
          "text": [
            "                       Open   High     Low   Close  Volume_(BTC)  \\\n",
            "Timestamp                                                          \n",
            "1417411980 bitstamp  379.99  380.0  379.99  380.00      3.901265   \n",
            "           coinbase  300.00  300.0  300.00  300.00      0.010000   \n",
            "1417412040 bitstamp  380.00  380.0  380.00  380.00     35.249895   \n",
            "           coinbase     NaN    NaN     NaN     NaN           NaN   \n",
            "1417412100 bitstamp  380.00  380.0  380.00  380.00      3.712000   \n",
            "...                     ...    ...     ...     ...           ...   \n",
            "1417417860 coinbase     NaN    NaN     NaN     NaN           NaN   \n",
            "1417417920 bitstamp  380.09  380.1  380.09  380.10      1.503000   \n",
            "           coinbase     NaN    NaN     NaN     NaN           NaN   \n",
            "1417417980 bitstamp  380.10  380.1  378.85  378.85     26.599796   \n",
            "           coinbase     NaN    NaN     NaN     NaN           NaN   \n",
            "\n",
            "                     Volume_(Currency)  Weighted_Price  \n",
            "Timestamp                                               \n",
            "1417411980 bitstamp        1482.461708      379.995162  \n",
            "           coinbase           3.000000      300.000000  \n",
            "1417412040 bitstamp       13394.959997      380.000000  \n",
            "           coinbase                NaN             NaN  \n",
            "1417412100 bitstamp        1410.560000      380.000000  \n",
            "...                                ...             ...  \n",
            "1417417860 coinbase                NaN             NaN  \n",
            "1417417920 bitstamp         571.285290      380.096667  \n",
            "           coinbase                NaN             NaN  \n",
            "1417417980 bitstamp       10079.364182      378.926376  \n",
            "           coinbase                NaN             NaN  \n",
            "\n",
            "[202 rows x 7 columns]\n"
          ]
        }
      ]
    },
    {
      "cell_type": "markdown",
      "source": [
        "**13. Analyze**<br>\n",
        "Complete the following script to calculate descriptive statistics for all columns in pd.DataFrame except Timestamp:<br>\n",
        "```\n",
        "$ ./13-analyze.py\n",
        "               Open          High           Low         Close  Volume_(BTC)  Volume_(Currency)  Weighted_Price\n",
        "count  1.990691e+06  1.990691e+06  1.990691e+06  1.990691e+06  1.990691e+06       1.990691e+06    1.990691e+06\n",
        "mean   3.246403e+03  3.247829e+03  3.244856e+03  3.246403e+03  7.849139e+00       3.600157e+04    3.246341e+03\n",
        "std    3.799154e+03  3.801394e+03  3.796761e+03  3.799150e+03  1.873222e+01       1.401879e+05    3.799078e+03\n",
        "min    6.000000e-02  6.000000e-02  6.000000e-02  6.000000e-02  1.000000e-08       2.641700e-06    6.000000e-02\n",
        "25%    4.195800e+02  4.196400e+02  4.195000e+02  4.195700e+02  9.024000e-01       6.440031e+02    4.195645e+02\n",
        "50%    1.014580e+03  1.014890e+03  1.014150e+03  1.014530e+03  2.692900e+00       3.695642e+03    1.014512e+03\n",
        "75%    6.322630e+03  6.324010e+03  6.321090e+03  6.322670e+03  7.600965e+00       1.972392e+04    6.322550e+03\n",
        "max    1.989199e+04  1.989199e+04  1.989198e+04  1.989199e+04  1.563267e+03       1.997076e+07    1.989199e+04\n",
        "$\n",
        "```"
      ],
      "metadata": {
        "id": "ZrdUdS2--fXX"
      }
    },
    {
      "cell_type": "code",
      "source": [
        "df = from_file('/content/drive/MyDrive/TSF_BTC/coinbaseUSD_1-min_data_2014-12-01_to_2019-01-09.csv', ',')\n",
        "\n",
        "# calculate descriptive statistics for all columns except Timestamp\n",
        "stats = df.drop(columns=['Timestamp']).describe()\n",
        "\n",
        "print(stats)"
      ],
      "metadata": {
        "id": "zzQ6kw5b-jUn",
        "colab": {
          "base_uri": "https://localhost:8080/"
        },
        "outputId": "a41b1bec-2f43-4611-d0a2-fff5d5b727f8"
      },
      "execution_count": null,
      "outputs": [
        {
          "output_type": "stream",
          "name": "stdout",
          "text": [
            "               Open          High           Low         Close  Volume_(BTC)  \\\n",
            "count  1.990691e+06  1.990691e+06  1.990691e+06  1.990691e+06  1.990691e+06   \n",
            "mean   3.246403e+03  3.247829e+03  3.244856e+03  3.246403e+03  7.849139e+00   \n",
            "std    3.799154e+03  3.801394e+03  3.796761e+03  3.799150e+03  1.873222e+01   \n",
            "min    6.000000e-02  6.000000e-02  6.000000e-02  6.000000e-02  1.000000e-08   \n",
            "25%    4.195800e+02  4.196400e+02  4.195000e+02  4.195700e+02  9.024000e-01   \n",
            "50%    1.014580e+03  1.014890e+03  1.014150e+03  1.014530e+03  2.692900e+00   \n",
            "75%    6.322630e+03  6.324010e+03  6.321090e+03  6.322670e+03  7.600965e+00   \n",
            "max    1.989199e+04  1.989199e+04  1.989198e+04  1.989199e+04  1.563267e+03   \n",
            "\n",
            "       Volume_(Currency)  Weighted_Price  \n",
            "count       1.990691e+06    1.990691e+06  \n",
            "mean        3.600157e+04    3.246341e+03  \n",
            "std         1.401879e+05    3.799078e+03  \n",
            "min         2.641700e-06    6.000000e-02  \n",
            "25%         6.440031e+02    4.195645e+02  \n",
            "50%         3.695642e+03    1.014512e+03  \n",
            "75%         1.972392e+04    6.322550e+03  \n",
            "max         1.997076e+07    1.989199e+04  \n"
          ]
        }
      ]
    },
    {
      "cell_type": "markdown",
      "source": [
        "**14. Visualize**\n",
        "Complete the following script to visualize the pd.DataFrame:<br>\n",
        "\n",
        "The column Weighted_Price should be removed<br>\n",
        "Rename the column Timestamp to Date<br>\n",
        "Convert the timestamp values to date values<br>\n",
        "Index the data frame on Date<br>\n",
        "Missing values in Close should be set to the previous row value<br>\n",
        "Missing values in High, Low, Open should be set to the same row’s Close value<br>\n",
        "Missing values in Volume_(BTC) and Volume_(Currency) should be set to 0<br>\n",
        "Plot the data from 2017 and beyond at daily intervals and group the values of the same day such that:<br>\n",
        "\n",
        "High: max<br>\n",
        "Low: min<br>\n",
        "Open: mean<br>\n",
        "Close: mean<br>\n",
        "Volume(BTC): sum<br>\n",
        "Volume(Currency): sum<br>"
      ],
      "metadata": {
        "id": "b3Ju-H-q-jiD"
      }
    },
    {
      "cell_type": "code",
      "source": [
        "import pandas as pd\n",
        "import matplotlib.pyplot as plt\n",
        "import matplotlib.ticker as ticker\n",
        "\n",
        "df2 = pd.read_csv('/content/drive/MyDrive/TSF_BTC/coinbaseUSD_1-min_data_2014-12-01_to_2019-01-09.csv', ',')\n",
        "\n",
        "df2 = df2[df2['Timestamp'] > 1483250400][::1440].drop(columns=\"Weighted_Price\").rename(columns={\"Timestamp\": \"Date\"})\n",
        "df2['Date'] = pd.to_datetime(df2['Date'], unit='s').dt.date\n",
        "df2 = df2.set_index(\"Date\").fillna(method=\"ffill\").fillna(value={\"High\": df2['Close'], \"Low\": df2['Close'], \"Open\": df2['Close'], \"Volume_(Currency)\": 0, \"Volume_(BTC)\": 0})\n",
        "\n",
        "dataPlot = df2.plot()\n",
        "\n",
        "# set y-axis to NOT display in scientific notation\n",
        "dataPlot.yaxis.set_major_formatter(ticker.StrMethodFormatter('{x:,.0f}'))\n",
        "\n",
        "# set y-axis ticks to increment by #\n",
        "dataPlot.yaxis.set_major_locator(ticker.MultipleLocator(500000))\n",
        "\n",
        "plt.show()"
      ],
      "metadata": {
        "colab": {
          "base_uri": "https://localhost:8080/",
          "height": 484
        },
        "id": "z0Y_HNl2Ina3",
        "outputId": "efb3d0c2-b39b-4883-feda-e1de79fdf907"
      },
      "execution_count": 31,
      "outputs": [
        {
          "output_type": "stream",
          "name": "stderr",
          "text": [
            "<ipython-input-31-f4ae07154234>:5: FutureWarning: In a future version of pandas all arguments of read_csv except for the argument 'filepath_or_buffer' will be keyword-only.\n",
            "  df2 = pd.read_csv('/content/drive/MyDrive/TSF_BTC/coinbaseUSD_1-min_data_2014-12-01_to_2019-01-09.csv', ',')\n"
          ]
        },
        {
          "output_type": "display_data",
          "data": {
            "text/plain": [
              "<Figure size 640x480 with 1 Axes>"
            ],
            "image/png": "[encoded data removed]"
          },
          "metadata": {}
        }
      ]
    }
  ]
}